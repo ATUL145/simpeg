{
 "metadata": {
  "name": "InterpolationMatrix"
 },
 "nbformat": 3,
 "nbformat_minor": 0,
 "worksheets": [
  {
   "cells": [
    {
     "cell_type": "code",
     "collapsed": false,
     "input": [
      "import numpy as np\n",
      "import scipy.sparse as sp\n",
      "from SimPEG.utils import spzeros, mkvc"
     ],
     "language": "python",
     "metadata": {},
     "outputs": [],
     "prompt_number": 1
    },
    {
     "cell_type": "code",
     "collapsed": false,
     "input": [
      "#x = unique(mesh.gridEx[:,0])\n",
      "#y = unique(mesh.gridEx[:,1])\n",
      "#z = unique(mesh.gridEx[:,2])\n",
      "x = np.linspace(-1000,1000,5)\n",
      "y = np.linspace(-1000,1000,5)\n",
      "z = np.linspace(-1000,1000,5)"
     ],
     "language": "python",
     "metadata": {},
     "outputs": [],
     "prompt_number": 2
    },
    {
     "cell_type": "code",
     "collapsed": false,
     "input": [
      "xr1 = np.linspace(-500,500,5)\n",
      "yr1 = np.linspace(-500,500,5)\n",
      "zr1 = 0"
     ],
     "language": "python",
     "metadata": {},
     "outputs": [],
     "prompt_number": 3
    },
    {
     "cell_type": "code",
     "collapsed": false,
     "input": [
      "xr, yr = meshgrid(xr1, yr1, indexing='ij')\n",
      "zr = np.ones((xr.shape[0],xr.shape[1]))*zr1"
     ],
     "language": "python",
     "metadata": {},
     "outputs": [],
     "prompt_number": 4
    },
    {
     "cell_type": "code",
     "collapsed": false,
     "input": [
      "xr = mkvc(xr)\n",
      "yr = mkvc(yr)\n",
      "zr = mkvc(zr)"
     ],
     "language": "python",
     "metadata": {},
     "outputs": [],
     "prompt_number": 5
    },
    {
     "cell_type": "code",
     "collapsed": false,
     "input": [
      "nx = max(x.shape)\n",
      "ny = max(y.shape)\n",
      "nz = max(z.shape)\n",
      "npts = max(xr.shape)\n",
      "\n",
      "Q = np.zeros((npts, nx*ny*nz))\n",
      "\n",
      "for i in range(npts):\n",
      "\t# in x-direction   \n",
      "    im = np.argmin(abs(x-xr[i]))\n",
      "    if  xr[i] - x[im] >= 0:  # Point on the left\n",
      "        ind_x1 = im\n",
      "        ind_x2 = im+1\n",
      "    elif  xr[i] - x[im] < 0:  # Point on the right\n",
      "        ind_x1 = im-1\n",
      "        ind_x2 = im        \n",
      "    dx1 = xr[i] - x[ind_x1]\n",
      "    dx2 = x[ind_x2] - xr[i]\n",
      "    # in y-direction\n",
      "    im = np.argmin(abs(y-yr[i]))\n",
      "    if  yr[i] - y[im] >= 0:  # Point on the left\n",
      "        ind_y1 = im\n",
      "        ind_y2 = im+1\n",
      "    elif  yr[i] - y[im] < 0:  # Point on the right\n",
      "        ind_y1 = im-1\n",
      "        ind_y2 = im        \n",
      "    dy1 = yr[i] - y[ind_y1]\n",
      "    dy2 = y[ind_y2] - yr[i]    \n",
      "    # in z-direction\n",
      "    im = np.argmin(abs(z-zr[i]))\n",
      "    if  zr[i] - z[im] >= 0:  # Point on the left\n",
      "        ind_z1 = im\n",
      "        ind_z2 = im+1\n",
      "    elif  zr[i] - z[im] < 0:  # Point on the right\n",
      "        ind_z1 = im-1\n",
      "        ind_z2 = im        \n",
      "    dz1 = zr[i] - z[ind_z1]\n",
      "    dz2 = z[ind_z2] - zr[i]    \n",
      "    dv = (x[ind_x2] - x[ind_x1]) * (y[ind_y2] - y[ind_y1]) *(z[ind_z2] - z[ind_z1])\n",
      "\n",
      "    Dx =  x[ind_x2] - x[ind_x1]\n",
      "    Dy =  y[ind_y2] - y[ind_y1]\n",
      "    Dz =  z[ind_z2] - z[ind_z1]\n",
      "\n",
      "    # Get the row in the matrix\n",
      "\n",
      "    v = np.zeros((nx,ny,nz));\n",
      "    \n",
      "    v[ ind_x1,  ind_y1,  ind_z1] = (1-dx1/Dx)*(1-dy1/Dy)*(1-dz1/Dz);\n",
      "    v[ ind_x1,  ind_y2,  ind_z1] = (1-dx1/Dx)*(1-dy2/Dy)*(1-dz1/Dz);\n",
      "    v[ ind_x2,  ind_y1,  ind_z1] = (1-dx2/Dx)*(1-dy1/Dy)*(1-dz1/Dz);\n",
      "    v[ ind_x2,  ind_y2,  ind_z1] = (1-dx2/Dx)*(1-dy2/Dy)*(1-dz1/Dz);\n",
      "    v[ ind_x1,  ind_y1,  ind_z2] = (1-dx1/Dx)*(1-dy1/Dy)*(1-dz2/Dz);\n",
      "    v[ ind_x1,  ind_y2,  ind_z2] = (1-dx1/Dx)*(1-dy2/Dy)*(1-dz2/Dz);\n",
      "    v[ ind_x2,  ind_y1,  ind_z2] = (1-dx2/Dx)*(1-dy1/Dy)*(1-dz2/Dz);\n",
      "    v[ ind_x2,  ind_y2,  ind_z2] = (1-dx2/Dx)*(1-dy2/Dy)*(1-dz2/Dz);\n",
      "    \n",
      "    \n",
      "    Q[i,:] = mkvc(v)\n",
      "Q = sp.csr_matrix(Q)"
     ],
     "language": "python",
     "metadata": {},
     "outputs": [],
     "prompt_number": 6
    },
    {
     "cell_type": "code",
     "collapsed": false,
     "input": [
      "import scipy.io\n",
      "\n",
      "# import file into a dictionary\n",
      "f = scipy.io.loadmat('q.mat')\n",
      " \n",
      "# read in the structure\n",
      "Qmat= f['q']\n",
      "Qmat = Qmat.todense()\n",
      "Q = Q.todense()"
     ],
     "language": "python",
     "metadata": {},
     "outputs": [],
     "prompt_number": 7
    },
    {
     "cell_type": "code",
     "collapsed": false,
     "input": [
      "norm(Q-Qmat)"
     ],
     "language": "python",
     "metadata": {},
     "outputs": [
      {
       "output_type": "pyout",
       "prompt_number": 13,
       "text": [
        "0.0"
       ]
      }
     ],
     "prompt_number": 13
    },
    {
     "cell_type": "code",
     "collapsed": false,
     "input": [
      "plt.subplot(131)\n",
      "spy(Q)\n",
      "plt.subplot(132)\n",
      "spy(Qmat)\n",
      "plt.subplot(133)\n",
      "spy(Qmat-Q)"
     ],
     "language": "python",
     "metadata": {},
     "outputs": [
      {
       "output_type": "pyout",
       "prompt_number": 15,
       "text": [
        "<matplotlib.image.AxesImage at 0x8469588>"
       ]
      },
      {
       "output_type": "display_data",
       "png": "[encoded data removed]",
       "text": [
        "<matplotlib.figure.Figure at 0x84d4cc0>"
       ]
      }
     ],
     "prompt_number": 15
    },
    {
     "cell_type": "code",
     "collapsed": false,
     "input": [
      "a = np.random.rand(5)\n",
      "ind = np.logical_and(a>0.1,a<0.5)\n",
      "print ind"
     ],
     "language": "python",
     "metadata": {},
     "outputs": [
      {
       "output_type": "stream",
       "stream": "stdout",
       "text": [
        "[False False False False False]\n"
       ]
      }
     ],
     "prompt_number": 10
    },
    {
     "cell_type": "code",
     "collapsed": false,
     "input": [
      "def interpmat(x,y,z,xr,yr,zr):\n",
      "\n",
      "    \"\"\" Local nterpolation computed for each receiver point in turn \"\"\"\n",
      "\n",
      "    nx = max(x.shape)\n",
      "    ny = max(y.shape)\n",
      "    nz = max(z.shape)\n",
      "    npts = max(xr.shape)\n",
      "\n",
      "    Q = np.zeros((npts, nx*ny*nz))\n",
      "\n",
      "    for i in range(npts):\n",
      "    \t# in x-direction   \n",
      "        im = np.argmin(abs(x-xr[i]))\n",
      "        if  xr[i] - x[im] >= 0:  # Point on the left\n",
      "            ind_x1 = im\n",
      "            ind_x2 = im+1\n",
      "        elif  xr[i] - x[im] < 0:  # Point on the right\n",
      "            ind_x1 = im-1\n",
      "            ind_x2 = im        \n",
      "        dx1 = xr[i] - x[ind_x1]\n",
      "        dx2 = x[ind_x2] - xr[i]\n",
      "        # in y-direction\n",
      "        im = np.argmin(abs(y-yr[i]))\n",
      "        if  yr[i] - y[im] >= 0:  # Point on the left\n",
      "            ind_y1 = im\n",
      "            ind_y2 = im+1\n",
      "        elif  yr[i] - y[im] < 0:  # Point on the right\n",
      "            ind_y1 = im-1\n",
      "            ind_y2 = im        \n",
      "        dy1 = yr[i] - y[ind_y1]\n",
      "        dy2 = y[ind_y2] - yr[i]    \n",
      "        # in z-direction\n",
      "        im = np.argmin(abs(z-zr[i]))\n",
      "        if  zr[i] - z[im] >= 0:  # Point on the left\n",
      "            ind_z1 = im\n",
      "            ind_z2 = im+1\n",
      "        elif  zr[i] - z[im] < 0:  # Point on the right\n",
      "            ind_z1 = im-1\n",
      "            ind_z2 = im        \n",
      "        dz1 = zr[i] - z[ind_z1]\n",
      "        dz2 = z[ind_z2] - zr[i]    \n",
      "        dv = (x[ind_x2] - x[ind_x1]) * (y[ind_y2] - y[ind_y1]) *(z[ind_z2] - z[ind_z1])\n",
      "\n",
      "        Dx =  x[ind_x2] - x[ind_x1]\n",
      "        Dy =  y[ind_y2] - y[ind_y1]\n",
      "        Dz =  z[ind_z2] - z[ind_z1]\n",
      "\n",
      "        # Get the row in the matrix\n",
      "\n",
      "        v = np.zeros((nx,ny,nz));\n",
      "        \n",
      "        v[ ind_x1,  ind_y1,  ind_z1] = (1-dx1/Dx)*(1-dy1/Dy)*(1-dz1/Dz);\n",
      "        v[ ind_x1,  ind_y2,  ind_z1] = (1-dx1/Dx)*(1-dy2/Dy)*(1-dz1/Dz);\n",
      "        v[ ind_x2,  ind_y1,  ind_z1] = (1-dx2/Dx)*(1-dy1/Dy)*(1-dz1/Dz);\n",
      "        v[ ind_x2,  ind_y2,  ind_z1] = (1-dx2/Dx)*(1-dy2/Dy)*(1-dz1/Dz);\n",
      "        v[ ind_x1,  ind_y1,  ind_z2] = (1-dx1/Dx)*(1-dy1/Dy)*(1-dz2/Dz);\n",
      "        v[ ind_x1,  ind_y2,  ind_z2] = (1-dx1/Dx)*(1-dy2/Dy)*(1-dz2/Dz);\n",
      "        v[ ind_x2,  ind_y1,  ind_z2] = (1-dx2/Dx)*(1-dy1/Dy)*(1-dz2/Dz);\n",
      "        v[ ind_x2,  ind_y2,  ind_z2] = (1-dx2/Dx)*(1-dy2/Dy)*(1-dz2/Dz);\n",
      "        \n",
      "        \n",
      "        Q[i,:] = mkvc(v)\n",
      "    Q = sp.csr_matrix(Q)\n",
      "    return Q"
     ],
     "language": "python",
     "metadata": {},
     "outputs": [],
     "prompt_number": 16
    },
    {
     "cell_type": "code",
     "collapsed": false,
     "input": [
      "Q = interpmat(x,y,z,xr,yr,zr)"
     ],
     "language": "python",
     "metadata": {},
     "outputs": [],
     "prompt_number": 17
    },
    {
     "cell_type": "code",
     "collapsed": false,
     "input": [
      "Q = Q.todense()\n",
      "norm(Q-Qmat)"
     ],
     "language": "python",
     "metadata": {},
     "outputs": [
      {
       "output_type": "pyout",
       "prompt_number": 18,
       "text": [
        "0.0"
       ]
      }
     ],
     "prompt_number": 18
    },
    {
     "cell_type": "code",
     "collapsed": false,
     "input": [
      "plt.subplot(131)\n",
      "plt.plot(mkvc(Qmat))\n",
      "plt.subplot(132)\n",
      "plt.plot(mkvc(Q))\n",
      "plt.subplot(133)\n",
      "plt.plot(mkvc(Qmat-Q))"
     ],
     "language": "python",
     "metadata": {},
     "outputs": [
      {
       "output_type": "pyout",
       "prompt_number": 29,
       "text": [
        "[<matplotlib.lines.Line2D at 0xcfc4ef0>]"
       ]
      },
      {
       "output_type": "display_data",
       "png": "[encoded data removed]",
       "text": [
        "<matplotlib.figure.Figure at 0xca3aac8>"
       ]
      }
     ],
     "prompt_number": 29
    },
    {
     "cell_type": "code",
     "collapsed": false,
     "input": [],
     "language": "python",
     "metadata": {},
     "outputs": [],
     "prompt_number": 16
    },
    {
     "cell_type": "code",
     "collapsed": false,
     "input": [],
     "language": "python",
     "metadata": {},
     "outputs": []
    }
   ],
   "metadata": {}
  }
 ]
}