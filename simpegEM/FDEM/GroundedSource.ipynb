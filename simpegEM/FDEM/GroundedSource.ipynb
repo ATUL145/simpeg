{
 "metadata": {
  "name": "GroundedSource"
 },
 "nbformat": 3,
 "nbformat_minor": 0,
 "worksheets": [
  {
   "cells": [
    {
     "cell_type": "code",
     "collapsed": false,
     "input": [
      "import numpy as np\n",
      "import matplotlib.pyplot as plt\n",
      "from SimPEG import TensorMesh"
     ],
     "language": "python",
     "metadata": {},
     "outputs": [],
     "prompt_number": 18
    },
    {
     "cell_type": "code",
     "collapsed": false,
     "input": [
      "pad = 1\n",
      "padfactor = 1.5\n",
      "cs = 100\n",
      "xpad = cs*(np.ones(pad)*padfactor)**np.arange(pad)\n",
      "ypad = cs*(np.ones(pad)*padfactor)**np.arange(pad)\n",
      "zpad = cs*(np.ones(pad)*padfactor)**np.arange(pad)\n",
      "\n",
      "core = 10\n",
      "xcore = cs*np.ones(core)\n",
      "ycore = cs*np.ones(core)\n",
      "zcore = cs*np.ones(core)\n",
      "\n",
      "hx = np.r_[xpad[::-1],xcore, cs, xcore,xpad]\n",
      "hy = np.r_[ypad[::-1],ycore, cs, ycore, ypad]\n",
      "hz = np.r_[zpad[::-1],zcore,zcore, zpad]\n",
      "x0 = np.array([-np.sum(hx)/2, -np.sum(hy)/2, -np.sum(hz)/2], )\n",
      "mesh = TensorMesh([hx, hy, hz],x0)"
     ],
     "language": "python",
     "metadata": {},
     "outputs": [],
     "prompt_number": 19
    },
    {
     "cell_type": "code",
     "collapsed": false,
     "input": [
      "print mesh"
     ],
     "language": "python",
     "metadata": {},
     "outputs": [
      {
       "output_type": "stream",
       "stream": "stdout",
       "text": [
        "  ---- 3-D TensorMesh ----  \n",
        "   x0: -1150.00\n",
        "   y0: -1150.00\n",
        "   z0: -1100.00\n",
        "  nCx: 23\n",
        "  nCy: 23\n",
        "  nCz: 22\n",
        "   hx: 23*100.00\n",
        "   hy: 23*100.00\n",
        "   hz: 22*100.00\n"
       ]
      }
     ],
     "prompt_number": 20
    },
    {
     "cell_type": "code",
     "collapsed": false,
     "input": [
      "pts = np.array([[950, 50,  0], \n",
      "                [950, 950, 0],\n",
      "                [-950, 950,0],\n",
      "                [-950, 50, 0]])\n",
      "pts = np.array([[950, 50, -500], \n",
      "                [950, 50, +500]])\n",
      "pts = np.array([[950, 50,  -200],\n",
      "\t\t\t\t[950, 50,  0], \n",
      "                [950, 950, 0],\n",
      "                [-950, 950,0],\n",
      "                [-950, 50, 0],\n",
      "                [-950, 50,  -200]])\n"
     ],
     "language": "python",
     "metadata": {},
     "outputs": [],
     "prompt_number": 21
    },
    {
     "cell_type": "code",
     "collapsed": false,
     "input": [
      "print mesh.vectorCCx\n",
      "print mesh.vectorCCy\n",
      "print mesh.vectorCCz\n"
     ],
     "language": "python",
     "metadata": {},
     "outputs": [
      {
       "output_type": "stream",
       "stream": "stdout",
       "text": [
        "[-1100. -1000.  -900.  -800.  -700.  -600.  -500.  -400.  -300.  -200.\n",
        "  -100.     0.   100.   200.   300.   400.   500.   600.   700.   800.\n",
        "   900.  1000.  1100.]\n",
        "[-1100. -1000.  -900.  -800.  -700.  -600.  -500.  -400.  -300.  -200.\n",
        "  -100.     0.   100.   200.   300.   400.   500.   600.   700.   800.\n",
        "   900.  1000.  1100.]\n",
        "[-1050.  -950.  -850.  -750.  -650.  -550.  -450.  -350.  -250.  -150.\n",
        "   -50.    50.   150.   250.   350.   450.   550.   650.   750.   850.\n",
        "   950.  1050.]\n"
       ]
      }
     ],
     "prompt_number": 22
    },
    {
     "cell_type": "code",
     "collapsed": false,
     "input": [],
     "language": "python",
     "metadata": {},
     "outputs": [],
     "prompt_number": 22
    },
    {
     "cell_type": "code",
     "collapsed": false,
     "input": [
      "def ismember(a, b):\n",
      "    tf = np.array([i in b for i in a])\n",
      "    return tf"
     ],
     "language": "python",
     "metadata": {},
     "outputs": [],
     "prompt_number": 23
    },
    {
     "cell_type": "code",
     "collapsed": false,
     "input": [
      "#def edgeModel = path2edgeModel\n",
      "edm_x = np.zeros(np.prod(mesh.nEx))\n",
      "edm_y = np.zeros(np.prod(mesh.nEy))\n",
      "edm_z = np.zeros(np.prod(mesh.nEz))\n",
      "\n",
      "for ii in range (pts.shape[0]-1):\n",
      "    pt1 = pts[ii,:]\n",
      "    pt2 = pts[ii+1,:]\n",
      "    delta = pt2 - pt1\n",
      "    deltaDim = np.argwhere(delta)\n",
      "    #assert(np.size(deltaDim)==1), \"Path must be orthoginal to mesh\"\n",
      "    if deltaDim == 0:\n",
      "        xLoc = mesh.vectorCCx[(min(pt1[0],pt2[0]) < mesh.vectorCCx ) & (mesh.vectorCCx < max(pt1[0],pt2[0]))]\n",
      "        yLoc = pts[ii,1]\n",
      "        zLoc = pts[ii,2]\n",
      "        delDir = np.sign(pt2[0]-pt1[0])\n",
      "        xyz = np.c_[xLoc, np.ones(np.size(xLoc))*yLoc, np.ones(np.size(xLoc))*zLoc]\n",
      "        edgeInd=ismember(map(tuple,mesh.gridEx),map(tuple,xyz))\n",
      "        edm_x[edgeInd] = delDir\n",
      "        print '>> x-direction', ii\n",
      "        print mesh.gridEx[edgeInd]\n",
      "    if deltaDim == 1:    \n",
      "        xLoc = pts[ii,0]\n",
      "        yLoc = mesh.vectorCCy[(min(pt1[1],pt2[1]) < mesh.vectorCCy ) & (mesh.vectorCCy < max(pt1[1],pt2[1]))]\n",
      "        zLoc = pts[ii,2]\n",
      "        delDir = np.sign(pt2[1]-pt1[1])\n",
      "        xyz = np.c_[np.ones(np.size(yLoc))*xLoc, yLoc, np.ones(np.size(yLoc))*zLoc]\n",
      "        edgeInd=ismember(map(tuple,mesh.gridEy),map(tuple,xyz))\n",
      "        edm_y[edgeInd] = delDir\n",
      "        print '>> y-direction', ii\n",
      "        print mesh.gridEy[edgeInd]\n",
      "    if deltaDim == 2:    \n",
      "        xLoc = pts[ii,0]\n",
      "        yLoc = pts[ii,1]\n",
      "        zLoc = mesh.vectorCCz[(min(pt1[2],pt2[2]) < mesh.vectorCCz ) & (mesh.vectorCCz < max(pt1[2],pt2[2]))]\n",
      "        delDir = np.sign(pt2[2]-pt1[2])\n",
      "        xyz = np.c_[np.ones(np.size(zLoc))*xLoc, np.ones(np.size(zLoc))*yLoc, zLoc]\n",
      "        edgeInd=ismember(map(tuple,mesh.gridEz),map(tuple,xyz))\n",
      "        edm_z[edgeInd] = delDir\n",
      "        print '>> z-direction', ii\n",
      "        print mesh.gridEz[edgeInd]\n",
      "            \n",
      "    edgeModel = np.r_[edm_x, edm_y, edm_z]"
     ],
     "language": "python",
     "metadata": {},
     "outputs": [
      {
       "output_type": "stream",
       "stream": "stdout",
       "text": [
        ">> z-direction 0\n",
        "[[ 950.   50. -150.]\n",
        " [ 950.   50.  -50.]]\n",
        ">> y-direction 1\n",
        "[[ 950.  100.    0.]\n",
        " [ 950.  200.    0.]\n",
        " [ 950.  300.    0.]\n",
        " [ 950.  400.    0.]\n",
        " [ 950.  500.    0.]\n",
        " [ 950.  600.    0.]\n",
        " [ 950.  700.    0.]\n",
        " [ 950.  800.    0.]\n",
        " [ 950.  900.    0.]]\n",
        ">> x-direction"
       ]
      },
      {
       "output_type": "stream",
       "stream": "stdout",
       "text": [
        " 2\n",
        "[[-900.  950.    0.]\n",
        " [-800.  950.    0.]\n",
        " [-700.  950.    0.]\n",
        " [-600.  950.    0.]\n",
        " [-500.  950.    0.]\n",
        " [-400.  950.    0.]\n",
        " [-300.  950.    0.]\n",
        " [-200.  950.    0.]\n",
        " [-100.  950.    0.]\n",
        " [   0.  950.    0.]\n",
        " [ 100.  950.    0.]\n",
        " [ 200.  950.    0.]\n",
        " [ 300.  950.    0.]\n",
        " [ 400.  950.    0.]\n",
        " [ 500.  950.    0.]\n",
        " [ 600.  950.    0.]\n",
        " [ 700.  950.    0.]\n",
        " [ 800.  950.    0.]\n",
        " [ 900.  950.    0.]]\n",
        ">> y-direction"
       ]
      },
      {
       "output_type": "stream",
       "stream": "stdout",
       "text": [
        " 3\n",
        "[[-950.  100.    0.]\n",
        " [-950.  200.    0.]\n",
        " [-950.  300.    0.]\n",
        " [-950.  400.    0.]\n",
        " [-950.  500.    0.]\n",
        " [-950.  600.    0.]\n",
        " [-950.  700.    0.]\n",
        " [-950.  800.    0.]\n",
        " [-950.  900.    0.]]\n",
        ">> z-direction 4\n",
        "[[-950.   50. -150.]\n",
        " [-950.   50.  -50.]]\n"
       ]
      }
     ],
     "prompt_number": 24
    },
    {
     "cell_type": "code",
     "collapsed": false,
     "input": [
      "print xyz\n",
      "print mesh.vectorNx\n",
      "print mesh.vectorNy\n",
      "print mesh.vectorNz"
     ],
     "language": "python",
     "metadata": {},
     "outputs": [
      {
       "output_type": "stream",
       "stream": "stdout",
       "text": [
        "[[-950.   50. -150.]\n",
        " [-950.   50.  -50.]]\n",
        "[-1150. -1050.  -950.  -850.  -750.  -650.  -550.  -450.  -350.  -250.\n",
        "  -150.   -50.    50.   150.   250.   350.   450.   550.   650.   750.\n",
        "   850.   950.  1050.  1150.]\n",
        "[-1150. -1050.  -950.  -850.  -750.  -650.  -550.  -450.  -350.  -250.\n",
        "  -150.   -50.    50.   150.   250.   350.   450.   550.   650.   750.\n",
        "   850.   950.  1050.  1150.]\n",
        "[-1100. -1000.  -900.  -800.  -700.  -600.  -500.  -400.  -300.  -200.\n",
        "  -100.     0.   100.   200.   300.   400.   500.   600.   700.   800.\n",
        "   900.  1000.  1100.]\n"
       ]
      }
     ],
     "prompt_number": 25
    },
    {
     "cell_type": "code",
     "collapsed": false,
     "input": [
      "mesh.plotImage(edm_x, imageType='Ex')"
     ],
     "language": "python",
     "metadata": {},
     "outputs": [
      {
       "output_type": "pyout",
       "prompt_number": 26,
       "text": [
        "<matplotlib.collections.QuadMesh at 0xaad7588>"
       ]
      },
      {
       "output_type": "display_data",
       "png": "[encoded data removed]",
       "text": [
        "<matplotlib.figure.Figure at 0xaac2748>"
       ]
      }
     ],
     "prompt_number": 26
    },
    {
     "cell_type": "code",
     "collapsed": false,
     "input": [
      "mesh.plotImage(edm_y, imageType='Ey')"
     ],
     "language": "python",
     "metadata": {},
     "outputs": [
      {
       "output_type": "pyout",
       "prompt_number": 27,
       "text": [
        "<matplotlib.collections.QuadMesh at 0xafdf9e8>"
       ]
      },
      {
       "output_type": "display_data",
       "png": "[encoded data removed]",
       "text": [
        "<matplotlib.figure.Figure at 0xaac32e8>"
       ]
      }
     ],
     "prompt_number": 27
    },
    {
     "cell_type": "code",
     "collapsed": false,
     "input": [
      "mesh.plotImage(edm_z, imageType='Ez')"
     ],
     "language": "python",
     "metadata": {},
     "outputs": [
      {
       "output_type": "pyout",
       "prompt_number": 28,
       "text": [
        "<matplotlib.collections.QuadMesh at 0xad95e48>"
       ]
      },
      {
       "output_type": "display_data",
       "png": "[encoded data removed]",
       "text": [
        "<matplotlib.figure.Figure at 0x796c630>"
       ]
      }
     ],
     "prompt_number": 28
    },
    {
     "cell_type": "code",
     "collapsed": false,
     "input": [
      "subplot(131)\n",
      "plot(edm_x)\n",
      "subplot(132)\n",
      "plot(edm_y)\n",
      "subplot(133)\n",
      "plot(edm_z)"
     ],
     "language": "python",
     "metadata": {},
     "outputs": [
      {
       "output_type": "pyout",
       "prompt_number": 29,
       "text": [
        "[<matplotlib.lines.Line2D at 0xb903588>]"
       ]
      },
      {
       "output_type": "display_data",
       "png": "[encoded data removed]",
       "text": [
        "<matplotlib.figure.Figure at 0xad85438>"
       ]
      }
     ],
     "prompt_number": 29
    },
    {
     "cell_type": "code",
     "collapsed": false,
     "input": [
      "A = np.array([2,5,2,6,3,6,2,2,5])\n",
      "B = np.array([3,4,4,3,6])\n",
      "\n",
      "def ismember(a, b):\n",
      "    tf = np.array([i in b for i in a])\n",
      "    return tf\n",
      "\n",
      "temp=ismember(map(tuple,mesh.gridEx),map(tuple,xyz))\n"
     ],
     "language": "python",
     "metadata": {},
     "outputs": [],
     "prompt_number": 13
    },
    {
     "cell_type": "code",
     "collapsed": false,
     "input": [
      "print [i in ['x', 'y', 'z'] for i in ['y','w']]"
     ],
     "language": "python",
     "metadata": {},
     "outputs": [
      {
       "output_type": "stream",
       "stream": "stdout",
       "text": [
        "[True, False]\n"
       ]
      }
     ],
     "prompt_number": 14
    },
    {
     "cell_type": "code",
     "collapsed": false,
     "input": [],
     "language": "python",
     "metadata": {},
     "outputs": [],
     "prompt_number": 14
    },
    {
     "cell_type": "code",
     "collapsed": false,
     "input": [
      "def path2edgeModel(mesh, pts):\n",
      "    edm_x = np.zeros(np.prod(mesh.nEx))\n",
      "    edm_y = np.zeros(np.prod(mesh.nEy))\n",
      "    edm_z = np.zeros(np.prod(mesh.nEz))\n",
      "    \n",
      "    for ii in range (pts.shape[0]-1):\n",
      "        pt1 = pts[ii,:]\n",
      "        pt2 = pts[ii+1,:]\n",
      "        delta = pt2 - pt1\n",
      "        deltaDim = np.argwhere(delta)\n",
      "        #assert(np.size(deltaDim)==1), \"Path must be orthoginal to mesh\"\n",
      "        if deltaDim == 0:\n",
      "            xLoc = mesh.vectorCCx[(min(pt1[0],pt2[0]) < mesh.vectorCCx ) & (mesh.vectorCCx < max(pt1[0],pt2[0]))]\n",
      "            yLoc = pts[ii,1]\n",
      "            zLoc = pts[ii,2]\n",
      "            delDir = np.sign(pt2[0]-pt1[0])\n",
      "            xyz = np.c_[xLoc, np.ones(np.size(xLoc))*yLoc, np.ones(np.size(xLoc))*zLoc]\n",
      "            edgeInd=ismember(map(tuple,mesh.gridEx),map(tuple,xyz))\n",
      "            edm_x[edgeInd] = delDir\n",
      "            print '>> x-direction', ii\n",
      "            print mesh.gridEx[edgeInd]\n",
      "        if deltaDim == 1:    \n",
      "            xLoc = pts[ii,0]\n",
      "            yLoc = mesh.vectorCCy[(min(pt1[1],pt2[1]) < mesh.vectorCCy ) & (mesh.vectorCCy < max(pt1[1],pt2[1]))]\n",
      "            zLoc = pts[ii,2]\n",
      "            delDir = np.sign(pt2[1]-pt1[1])\n",
      "            xyz = np.c_[np.ones(np.size(yLoc))*xLoc, yLoc, np.ones(np.size(yLoc))*zLoc]\n",
      "            edgeInd=ismember(map(tuple,mesh.gridEy),map(tuple,xyz))\n",
      "            edm_y[edgeInd] = delDir\n",
      "            print '>> y-direction', ii\n",
      "            print mesh.gridEy[edgeInd]\n",
      "        if deltaDim == 2:    \n",
      "            xLoc = pts[ii,0]\n",
      "            yLoc = pts[ii,1]\n",
      "            zLoc = mesh.vectorCCz[(min(pt1[2],pt2[2]) < mesh.vectorCCz ) & (mesh.vectorCCz < max(pt1[2],pt2[2]))]\n",
      "            delDir = np.sign(pt2[2]-pt1[2])\n",
      "            xyz = np.c_[np.ones(np.size(zLoc))*xLoc, np.ones(np.size(zLoc))*yLoc, zLoc]\n",
      "            edgeInd=ismember(map(tuple,mesh.gridEz),map(tuple,xyz))\n",
      "            edm_z[edgeInd] = delDir\n",
      "            print '>> z-direction', ii\n",
      "            print mesh.gridEz[edgeInd]\n",
      "    \n",
      "            \n",
      "        edgeModel = np.r_[edm_x, edm_y, edm_z]"
     ],
     "language": "python",
     "metadata": {},
     "outputs": [],
     "prompt_number": 15
    },
    {
     "cell_type": "code",
     "collapsed": false,
     "input": [
      "Js = path2edgeModel(mesh, pts)"
     ],
     "language": "python",
     "metadata": {},
     "outputs": [
      {
       "output_type": "stream",
       "stream": "stdout",
       "text": [
        ">> z-direction 0\n",
        "[[ 950.   50. -150.]\n",
        " [ 950.   50.  -50.]]\n",
        ">> y-direction"
       ]
      },
      {
       "output_type": "stream",
       "stream": "stdout",
       "text": [
        " 1\n",
        "[[ 950.  100.    0.]\n",
        " [ 950.  200.    0.]\n",
        " [ 950.  300.    0.]\n",
        " [ 950.  400.    0.]\n",
        " [ 950.  500.    0.]\n",
        " [ 950.  600.    0.]\n",
        " [ 950.  700.    0.]\n",
        " [ 950.  800.    0.]\n",
        " [ 950.  900.    0.]]\n",
        ">> x-direction"
       ]
      },
      {
       "output_type": "stream",
       "stream": "stdout",
       "text": [
        " 2\n",
        "[[-900.  950.    0.]\n",
        " [-800.  950.    0.]\n",
        " [-700.  950.    0.]\n",
        " [-600.  950.    0.]\n",
        " [-500.  950.    0.]\n",
        " [-400.  950.    0.]\n",
        " [-300.  950.    0.]\n",
        " [-200.  950.    0.]\n",
        " [-100.  950.    0.]\n",
        " [   0.  950.    0.]\n",
        " [ 100.  950.    0.]\n",
        " [ 200.  950.    0.]\n",
        " [ 300.  950.    0.]\n",
        " [ 400.  950.    0.]\n",
        " [ 500.  950.    0.]\n",
        " [ 600.  950.    0.]\n",
        " [ 700.  950.    0.]\n",
        " [ 800.  950.    0.]\n",
        " [ 900.  950.    0.]]\n",
        ">> y-direction"
       ]
      },
      {
       "output_type": "stream",
       "stream": "stdout",
       "text": [
        " 3\n",
        "[[-950.  100.    0.]\n",
        " [-950.  200.    0.]\n",
        " [-950.  300.    0.]\n",
        " [-950.  400.    0.]\n",
        " [-950.  500.    0.]\n",
        " [-950.  600.    0.]\n",
        " [-950.  700.    0.]\n",
        " [-950.  800.    0.]\n",
        " [-950.  900.    0.]]\n",
        ">> z-direction"
       ]
      },
      {
       "output_type": "stream",
       "stream": "stdout",
       "text": [
        " 4\n",
        "[[-950.   50. -150.]\n",
        " [-950.   50.  -50.]]\n"
       ]
      }
     ],
     "prompt_number": 16
    },
    {
     "cell_type": "code",
     "collapsed": false,
     "input": [
      "print pts"
     ],
     "language": "python",
     "metadata": {},
     "outputs": [
      {
       "output_type": "stream",
       "stream": "stdout",
       "text": [
        "[[ 950   50 -200]\n",
        " [ 950   50    0]\n",
        " [ 950  950    0]\n",
        " [-950  950    0]\n",
        " [-950   50    0]\n",
        " [-950   50 -200]]\n"
       ]
      }
     ],
     "prompt_number": 30
    },
    {
     "cell_type": "code",
     "collapsed": false,
     "input": [],
     "language": "python",
     "metadata": {},
     "outputs": [],
     "prompt_number": 30
    },
    {
     "cell_type": "code",
     "collapsed": false,
     "input": [],
     "language": "python",
     "metadata": {},
     "outputs": [],
     "prompt_number": 17
    },
    {
     "cell_type": "code",
     "collapsed": false,
     "input": [],
     "language": "python",
     "metadata": {},
     "outputs": [],
     "prompt_number": 17
    },
    {
     "cell_type": "code",
     "collapsed": false,
     "input": [],
     "language": "python",
     "metadata": {},
     "outputs": [],
     "prompt_number": 17
    },
    {
     "cell_type": "code",
     "collapsed": false,
     "input": [],
     "language": "python",
     "metadata": {},
     "outputs": [],
     "prompt_number": 17
    },
    {
     "cell_type": "code",
     "collapsed": false,
     "input": [],
     "language": "python",
     "metadata": {},
     "outputs": [],
     "prompt_number": 17
    },
    {
     "cell_type": "code",
     "collapsed": false,
     "input": [],
     "language": "python",
     "metadata": {},
     "outputs": [],
     "prompt_number": 17
    },
    {
     "cell_type": "code",
     "collapsed": false,
     "input": [],
     "language": "python",
     "metadata": {},
     "outputs": [],
     "prompt_number": 17
    },
    {
     "cell_type": "code",
     "collapsed": false,
     "input": [],
     "language": "python",
     "metadata": {},
     "outputs": [],
     "prompt_number": 17
    },
    {
     "cell_type": "code",
     "collapsed": false,
     "input": [],
     "language": "python",
     "metadata": {},
     "outputs": [],
     "prompt_number": 17
    },
    {
     "cell_type": "code",
     "collapsed": false,
     "input": [],
     "language": "python",
     "metadata": {},
     "outputs": [],
     "prompt_number": 17
    }
   ],
   "metadata": {}
  }
 ]
}