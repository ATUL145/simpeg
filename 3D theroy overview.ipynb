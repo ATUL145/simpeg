{
 "metadata": {
  "name": "",
  "signature": "sha256:74c8f271a46170528d2e89be943c0f766fa137ce8e32b8bc8ad86623db691b9d"
 },
 "nbformat": 3,
 "nbformat_minor": 0,
 "worksheets": [
  {
   "cells": [
    {
     "cell_type": "markdown",
     "metadata": {},
     "source": [
      "The Maxwell's equations are\n",
      "\n",
      "\\begin{align}\n",
      "\\frac{\\partial \\vec{B}}{\\partial t} &= - \\nabla \\times \\vec{E}            \\hspace{2cm} \\text{Faraday equations}\\\\\n",
      "\\frac{\\partial \\vec{D}}{\\partial t} &= - \\nabla \\times \\vec{H} - \\vec{J} - \\vec{s} \\hspace{2cm} \\text{Ampere's law.}\n",
      "\\end{align}\n",
      "\n",
      "where $\\vec{E}$ is the electric field, $\\vec{H}$ is the magnetic field, $\\vec{J}$ is the electric flux, $\\vec{D}$ is the displacement flux, $\\vec{B}$ is the magnetic flux and $\\vec{s}$ is the source."
     ]
    },
    {
     "cell_type": "markdown",
     "metadata": {},
     "source": [
      "The constitutive realtations between the fields and flux are as follows.\n",
      "\n",
      "\\begin{align}\n",
      "\\vec{J} &= \\sigma \\vec{E}\\\\\n",
      "\\vec{B} &= \\mu \\vec{H}\\\\\n",
      "\\vec{D} &= \\epsilon \\vec{E}\n",
      "\\end{align}"
     ]
    },
    {
     "cell_type": "markdown",
     "metadata": {},
     "source": [
      "Using the contitutive relations, the Maxwell's equations can written in terms of the electric field and the magnetic flux \n",
      "\\begin{align}\n",
      "\\mu \\frac{\\partial \\vec{B}}{\\partial t} &= - \\nabla \\times \\vec{E}  \\\\\n",
      "\\epsilon \\frac{\\partial \\vec{E}}{\\partial t} &= -  \\nabla \\times \\frac{1}{\\mu} \\vec{B} - \\sigma \\vec{E} - \\vec{s} \n",
      "\\end{align}\n",
      "\n",
      "Futher by droping the $\\epsilon$ term and using a $e^{-i\\omega t}$ Fourier time relation, Maxwell's equations can be written in the frequency domain as\n",
      "\n",
      "\\begin{align}\n",
      "-i \\omega \\mu  \\hat{\\vec{B}} &= - \\nabla \\times \\hat{\\vec{E}}  \\\\\n",
      "- \\vec{s} &= -  \\nabla \\times \\frac{1}{\\mu} \\hat{\\vec{B}} - \\sigma \\hat{\\vec{E}}\n",
      "\\end{align}\n",
      "\n"
     ]
    },
    {
     "cell_type": "markdown",
     "metadata": {},
     "source": [
      "\n",
      "\n",
      "The weak form is \n",
      "\\begin{align}\n",
      "-i \\omega \\mu (\\hat{\\vec{B}},\\hat{\\vec{F}}) + (\\nabla \\times \\hat{\\vec{E}},\\hat{\\vec{F}}) &= 0 \\\\\n",
      "(\\nabla \\times \\mu^{-1} \\hat{\\vec{B}},\\hat{\\vec{W}}) + (\\sigma \\hat{\\vec{E}},\\hat{\\vec{W}}) &= (\\hat{\\vec{s}},\\hat{\\vec{W}})\n",
      "\\end{align}\n",
      "\n",
      "\n",
      "$ (\\mu^{-1} B, \\nabla \\times W) + (\\sigma E, W) = (\\mu^{-1}B W )|_0^{end} $\n",
      "\n",
      "$ (i \\omega B,F) + (\\nabla \\times E , f) = 0 $"
     ]
    },
    {
     "cell_type": "code",
     "collapsed": false,
     "input": [],
     "language": "python",
     "metadata": {},
     "outputs": []
    },
    {
     "cell_type": "code",
     "collapsed": false,
     "input": [],
     "language": "python",
     "metadata": {},
     "outputs": []
    }
   ],
   "metadata": {}
  }
 ]
}