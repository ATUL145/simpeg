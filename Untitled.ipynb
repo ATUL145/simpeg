{
 "cells": [
  {
   "cell_type": "code",
   "execution_count": 1,
   "metadata": {
    "collapsed": true
   },
   "outputs": [],
   "source": [
    "from SimPEG import *\n",
    "from SimPEG.EM import FDEM\n",
    "from pymatsolver import PardisoSolver\n",
    "import matplotlib.pyplot as plt\n",
    "%matplotlib inline"
   ]
  },
  {
   "cell_type": "code",
   "execution_count": 2,
   "metadata": {
    "collapsed": false
   },
   "outputs": [
    {
     "name": "stdout",
     "output_type": "stream",
     "text": [
      "500.0\n"
     ]
    }
   ],
   "source": [
    "freq = 1\n",
    "print(500/np.sqrt(freq))"
   ]
  },
  {
   "cell_type": "code",
   "execution_count": 3,
   "metadata": {
    "collapsed": false
   },
   "outputs": [],
   "source": [
    "cs = 20\n",
    "nc = 10\n",
    "npad = 10\n",
    "pf = 1.3 \n",
    "\n",
    "mesh = Mesh.CylMesh([[(cs, nc), (cs, npad, pf)], 1, [(cs, npad, -pf),(cs, nc), (cs, npad, pf)]], x0='00C')"
   ]
  },
  {
   "cell_type": "code",
   "execution_count": 4,
   "metadata": {
    "collapsed": false
   },
   "outputs": [
    {
     "data": {
      "image/png": "[encoded data removed]",
      "text/plain": [
       "<matplotlib.figure.Figure at 0x7fc87970d350>"
      ]
     },
     "metadata": {},
     "output_type": "display_data"
    }
   ],
   "source": [
    "mesh.plotGrid()"
   ]
  },
  {
   "cell_type": "code",
   "execution_count": 5,
   "metadata": {
    "collapsed": true
   },
   "outputs": [],
   "source": [
    "sigmaMap = Maps.ExpMap(mesh) * Maps.SurjectVertical1D(mesh)"
   ]
  },
  {
   "cell_type": "code",
   "execution_count": 6,
   "metadata": {
    "collapsed": false
   },
   "outputs": [],
   "source": [
    "m = np.ones(mesh.vnC[2])\n",
    "\n",
    "ind = (mesh.vectorCCz < -100.) & (mesh.vectorCCz > -200)\n",
    "m[ind] = 10.\n",
    "\n",
    "m = np.log(m)"
   ]
  },
  {
   "cell_type": "code",
   "execution_count": 7,
   "metadata": {
    "collapsed": false
   },
   "outputs": [
    {
     "data": {
      "text/plain": [
       "<matplotlib.colorbar.Colorbar at 0x7fc87694f6d0>"
      ]
     },
     "execution_count": 7,
     "metadata": {},
     "output_type": "execute_result"
    },
    {
     "data": {
      "image/png": "[encoded data removed]",
      "text/plain": [
       "<matplotlib.figure.Figure at 0x7fc876c8f790>"
      ]
     },
     "metadata": {},
     "output_type": "display_data"
    }
   ],
   "source": [
    "plt.colorbar(mesh.plotImage(sigmaMap * m , pcolorOpts={'cmap': plt.get_cmap('viridis')})[0])"
   ]
  },
  {
   "cell_type": "code",
   "execution_count": 8,
   "metadata": {
    "collapsed": false
   },
   "outputs": [],
   "source": [
    "prb = FDEM.Problem3D_b(mesh, sigmaMap=sigmaMap)"
   ]
  },
  {
   "cell_type": "code",
   "execution_count": 32,
   "metadata": {
    "collapsed": false
   },
   "outputs": [],
   "source": [
    "rxlocs = Utils.ndgrid([mesh.vectorCCx, np.r_[0], np.r_[200., -200.]])\n",
    "rxList = [FDEM.Rx.Point_bSecondary(orientation='z', component='real', locs=rxlocs), \n",
    "          FDEM.Rx.Point_bSecondary(orientation='z', component='imag', locs=rxlocs)]"
   ]
  },
  {
   "cell_type": "code",
   "execution_count": 33,
   "metadata": {
    "collapsed": false
   },
   "outputs": [],
   "source": [
    "src = FDEM.Src.MagDipole(freq=freq, loc=np.r_[0., 0., 0.], rxList=rxList)"
   ]
  },
  {
   "cell_type": "code",
   "execution_count": 34,
   "metadata": {
    "collapsed": true
   },
   "outputs": [],
   "source": [
    "survey = FDEM.Survey([src])"
   ]
  },
  {
   "cell_type": "code",
   "execution_count": 35,
   "metadata": {
    "collapsed": true
   },
   "outputs": [],
   "source": [
    "prb.pair(survey)"
   ]
  },
  {
   "cell_type": "code",
   "execution_count": 36,
   "metadata": {
    "collapsed": false
   },
   "outputs": [],
   "source": [
    "dobs = survey.makeSyntheticData(m, force=True)"
   ]
  },
  {
   "cell_type": "code",
   "execution_count": 37,
   "metadata": {
    "collapsed": false
   },
   "outputs": [],
   "source": [
    "reg = Regularization.Tikhonov(Mesh.TensorMesh([mesh.hz], x0='C'), mref=m[0]*np.ones_like(m))\n",
    "reg.alpha_s = 0.5\n",
    "reg.alpha_x = 1."
   ]
  },
  {
   "cell_type": "code",
   "execution_count": 38,
   "metadata": {
    "collapsed": true
   },
   "outputs": [],
   "source": [
    "dmis = DataMisfit.l2_DataMisfit(survey)"
   ]
  },
  {
   "cell_type": "code",
   "execution_count": 39,
   "metadata": {
    "collapsed": true
   },
   "outputs": [],
   "source": [
    "opt = Optimization.InexactGaussNewton()"
   ]
  },
  {
   "cell_type": "code",
   "execution_count": 40,
   "metadata": {
    "collapsed": false
   },
   "outputs": [],
   "source": [
    "invprob = InvProblem.BaseInvProblem(dmisfit=dmis, reg=reg, opt=opt)"
   ]
  },
  {
   "cell_type": "code",
   "execution_count": 41,
   "metadata": {
    "collapsed": true
   },
   "outputs": [],
   "source": [
    "beta0 = Directives.BetaEstimate_ByEig()\n",
    "beta = Directives.BetaSchedule()\n",
    "phidstar = Directives.TargetMisfit()"
   ]
  },
  {
   "cell_type": "code",
   "execution_count": 42,
   "metadata": {
    "collapsed": false
   },
   "outputs": [],
   "source": [
    "inv = Inversion.BaseInversion(invprob, directiveList=[beta0, beta, phidstar])"
   ]
  },
  {
   "cell_type": "code",
   "execution_count": 43,
   "metadata": {
    "collapsed": false
   },
   "outputs": [
    {
     "name": "stdout",
     "output_type": "stream",
     "text": [
      "SimPEG.InvProblem is setting bfgsH0 to the inverse of the eval2Deriv.\n",
      "                    ***Done using same Solver and solverOpts as the problem***\n",
      "SimPEG.DataMisfit.l2_DataMisfit assigning default eps of 1e-5 * ||dobs||\n",
      "curModel has any nan: 0\n",
      "============================ Inexact Gauss Newton ============================\n",
      "  #     beta     phi_d     phi_m       f      |proj(x-g)-x|  LS    Comment   \n",
      "-----------------------------------------------------------------------------\n",
      "x0 has any nan: 0\n",
      "   0  2.25e+03  3.90e+04  0.00e+00  3.90e+04    2.09e+03      0              \n",
      "   1  2.25e+03  3.89e+04  1.08e-02  3.89e+04    3.70e+01      0              \n",
      "   2  2.25e+03  3.89e+04  1.12e-02  3.89e+04    2.03e+00      0   Skip BFGS  \n",
      "   3  2.81e+02  3.89e+04  1.13e-02  3.89e+04    1.84e+03      0   Skip BFGS  \n",
      "   4  2.81e+02  3.86e+04  6.57e-01  3.87e+04    2.61e+02      0              \n",
      "   5  2.81e+02  3.85e+04  8.28e-01  3.87e+04    1.16e+02      0   Skip BFGS  \n",
      "   6  3.51e+01  3.85e+04  8.86e-01  3.85e+04    1.96e+03      0   Skip BFGS  \n",
      "   7  3.51e+01  3.54e+04  3.64e+01  3.67e+04    1.79e+03      0              \n",
      "   8  3.51e+01  2.96e+04  6.30e+01  3.18e+04    6.52e+03      0              \n",
      "   9  4.39e+00  9.23e+03  1.08e+02  9.71e+03    1.15e+04      1              \n",
      "  10  4.39e+00  4.31e+03  1.84e+02  5.12e+03    1.50e+04      1              \n",
      "  11  4.39e+00  3.56e+03  1.93e+02  4.40e+03    1.40e+04      2              \n",
      "  12  5.48e-01  3.36e+03  2.15e+02  3.48e+03    1.59e+04      1   Skip BFGS  \n",
      "  13  5.48e-01  9.09e+02  1.99e+02  1.02e+03    2.71e+03      0              \n",
      "  14  5.48e-01  6.04e+02  2.25e+02  7.28e+02    4.83e+03      1              \n",
      "  15  6.85e-02  4.69e+02  2.31e+02  4.85e+02    4.74e+03      2   Skip BFGS  \n",
      "  16  6.85e-02  4.26e+02  2.42e+02  4.42e+02    5.97e+03      1   Skip BFGS  \n",
      "  17  6.85e-02  9.23e+01  2.37e+02  1.09e+02    3.14e+02      0              \n",
      "  18  8.57e-03  8.55e+01  2.38e+02  8.75e+01    1.26e+03      2   Skip BFGS  \n",
      "  19  8.57e-03  5.21e+01  2.55e+02  5.43e+01    5.35e+02      0              \n",
      "  20  8.57e-03  4.88e+01  2.55e+02  5.10e+01    4.53e+01      0   Skip BFGS  \n",
      "------------------------- STOP! -------------------------\n",
      "1 : |fc-fOld| = 3.2707e+00 <= tolF*(1+|f0|) = 3.8952e+03\n",
      "1 : |xc-x_last| = 3.4190e-02 <= tolX*(1+|x0|) = 1.0000e-01\n",
      "0 : |proj(x-g)-x|    = 4.5311e+01 <= tolG          = 1.0000e-01\n",
      "0 : |proj(x-g)-x|    = 4.5311e+01 <= 1e3*eps       = 1.0000e-02\n",
      "1 : maxIter   =      20    <= iter          =     20\n",
      "------------------------- DONE! -------------------------\n"
     ]
    }
   ],
   "source": [
    "mopt = inv.run(reg.mref)"
   ]
  },
  {
   "cell_type": "code",
   "execution_count": 45,
   "metadata": {
    "collapsed": false
   },
   "outputs": [
    {
     "data": {
      "text/plain": [
       "<matplotlib.colorbar.Colorbar at 0x7fc8766957d0>"
      ]
     },
     "execution_count": 45,
     "metadata": {},
     "output_type": "execute_result"
    },
    {
     "data": {
      "image/png": "[encoded data removed]",
      "text/plain": [
       "<matplotlib.figure.Figure at 0x7fc876838e10>"
      ]
     },
     "metadata": {},
     "output_type": "display_data"
    }
   ],
   "source": [
    "plt.colorbar(mesh.plotImage(sigmaMap*mopt, pcolorOpts={'cmap': plt.get_cmap('viridis')})[0])"
   ]
  },
  {
   "cell_type": "code",
   "execution_count": null,
   "metadata": {
    "collapsed": true
   },
   "outputs": [],
   "source": []
  }
 ],
 "metadata": {
  "kernelspec": {
   "display_name": "Python 2",
   "language": "python",
   "name": "python2"
  },
  "language_info": {
   "codemirror_mode": {
    "name": "ipython",
    "version": 2
   },
   "file_extension": ".py",
   "mimetype": "text/x-python",
   "name": "python",
   "nbconvert_exporter": "python",
   "pygments_lexer": "ipython2",
   "version": "2.7.12"
  }
 },
 "nbformat": 4,
 "nbformat_minor": 0
}
