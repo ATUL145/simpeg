{
 "cells": [
  {
   "cell_type": "code",
   "execution_count": 7,
   "metadata": {
    "collapsed": false
   },
   "outputs": [
    {
     "name": "stdout",
     "output_type": "stream",
     "text": [
      "Populating the interactive namespace from numpy and matplotlib\n",
      "Testing various componemts of the analytic harmonic electric dipole against a numerical solution on a cylindrical mesh\n",
      " comp,       fields obj,       manual,       fields - manual,       (fields - manual)/manual\n",
      "  E_x: 3.95648139543e-07 2.6355108803e-07 1.32102146212e-07 0.501239236762\n",
      "\n",
      " comp,       fields obj,       manual,       fields - manual,       (fields - manual)/manual\n",
      "  B_theta: 1.41758683016e-11 9.43866212262e-12 4.73772034803e-12 0.501948293782\n",
      "\n",
      " comp,       anayltic,       numeric,       num - ana,       (num - ana)/ana\n",
      "  E_x: 2.61961397615e-07 2.6355108803e-07 2.13770593666e-09 0.00816038529387\n",
      "  E_y: 0.0 0.0 0.0\n",
      "  E_z: 3.42014156382e-07 3.43346089763e-07 2.60249101794e-09 0.00760930788793\n",
      "\n",
      "  J_x: 2.61961397615e-07 2.6355108803e-07 2.13770593666e-09 0.00816038529387\n",
      "  J_y: 0.0 0.0 0.0\n",
      "  J_z: 3.42014156382e-07 3.43346089763e-07 2.60249101794e-09 0.00760930788793\n",
      "\n",
      "  H_x: 0.0 0.0 0.0\n",
      "  H_y: 1.5017235185e-05 7.51104866495e-06 7.50631823994e-06 0.499846885759\n",
      "  H_z: 0.0 0.0 0.0\n",
      "\n",
      "  B_x: 0.0 0.0 0.0\n",
      "  B_y: 1.88712142938e-11 9.43866212262e-12 9.43271769524e-12 0.499846885759\n",
      "  B_z: 0.0 0.0 0.0\n",
      "True\n",
      "True\n",
      "True\n",
      "True\n",
      "True\n",
      "True\n",
      "True\n",
      "False\n",
      "True\n",
      "True\n",
      "False\n",
      "True\n"
     ]
    }
   ],
   "source": [
    "import unittest\n",
    "from SimPEG import EM, Mesh, Utils, np, Maps, sp\n",
    "# import sys\n",
    "from scipy.constants import mu_0\n",
    "%pylab inline\n",
    "import matplotlib.pyplot as plt\n",
    "\n",
    "tol_EBdipole = 1e-2\n",
    "\n",
    "\n",
    "# Define model parameters\n",
    "sigmaback = 1.\n",
    "kappa = 0.\n",
    "\n",
    "# Set source parameters\n",
    "freq = 1.\n",
    "src_loc = np.r_[0., 0., 0.]\n",
    "\n",
    "# Compute skin depth\n",
    "skdpth = 500. / np.sqrt(sigmaback * freq)\n",
    "\n",
    "# Create cylindrical mesh\n",
    "csx, ncx, npadx = 5, 50, 25\n",
    "csz, ncz, npadz = 5, 50, 25\n",
    "hx = Utils.meshTensor([(csx, ncx), (csx, npadx, 1.3)])\n",
    "hz = Utils.meshTensor([(csz, npadz, -1.3), (csz, ncz), (csz, npadz, 1.3)])\n",
    "mesh = Mesh.CylMesh([hx, 1, hz], [0., 0., -hz.sum()/2])\n",
    "\n",
    "\n",
    "# make sure mesh is big enough\n",
    "checkZ = mesh.hz.sum() > skdpth*2.\n",
    "checkX = mesh.hx.sum() > skdpth*2.\n",
    "# self.assertTrue(mesh.hz.sum() > skdpth*2.)\n",
    "# self.assertTrue(mesh.hx.sum() > skdpth*2.)\n",
    "\n",
    "# Create wholespace models\n",
    "SigmaBack = sigmaback*np.ones((mesh.nC))\n",
    "MuBack = (mu_0*(1 + kappa))*np.ones((mesh.nC))\n",
    "\n",
    "print('Testing various componemts of the analytic harmonic electric dipole against a numerical solution on a cylindrical mesh')\n",
    "\n",
    "# Define the source\n",
    "# Search over z-faces to find face nearest src_loc then add nFx to get to global face index [nFx][nFy = 0][nFz]\n",
    "s_ind = Utils.closestPoints(mesh, src_loc, 'Fz') + mesh.nFx\n",
    "de = np.zeros(mesh.nF, dtype=complex)\n",
    "de[s_ind] = 1./csz\n",
    "de_p = [EM.FDEM.Src.RawVec_e([], freq, de/mesh.area)]\n",
    "\n",
    "# Pair the problem and survey\n",
    "survey = EM.FDEM.Survey(de_p)\n",
    "\n",
    "mapping = [('sigma', Maps.IdentityMap(mesh)), ('mu', Maps.IdentityMap(mesh))]\n",
    "\n",
    "problem = EM.FDEM.Problem3D_h(mesh, mapping=mapping)\n",
    "\n",
    "# pair problem and survey\n",
    "problem.pair(survey)\n",
    "\n",
    "try:\n",
    "    from pymatsolver import MumpsSolver\n",
    "    problem.Solver = MumpsSolver\n",
    "except ImportError, e:\n",
    "    problem.Solver = SolverLU\n",
    "\n",
    "# solve\n",
    "numFields_ElecDipole = problem.fields(np.r_[SigmaBack, MuBack])\n",
    "\n",
    "rlim = [20., 500.]\n",
    "r = mesh.vectorCCx[np.argmin(np.abs(mesh.vectorCCx-rlim[0])):np.argmin(np.abs(mesh.vectorCCx-rlim[1]))]\n",
    "z = 100.\n",
    "\n",
    "# where we choose to measure\n",
    "XYZ = Utils.ndgrid(r, np.r_[0.], np.r_[z])\n",
    "\n",
    "Pf = mesh.getInterpolationMat(XYZ, 'CC')\n",
    "Zero = sp.csr_matrix(Pf.shape)\n",
    "Pfx, Pfz = sp.hstack([Pf, Zero]), sp.hstack([Zero, Pf])\n",
    "\n",
    "# J lives on faces\n",
    "j_num = numFields_ElecDipole[de_p, 'j']\n",
    "Rho = Utils.sdiag(1./SigmaBack)\n",
    "Rho = sp.block_diag([Rho, Rho])\n",
    "e_numTest = Rho*mesh.aveF2CCV*j_num\n",
    "j_num = mesh.aveF2CCV*j_num\n",
    "\n",
    "# E lives on cell centres\n",
    "e_num = numFields_ElecDipole[de_p, 'e']\n",
    "\n",
    "# H lives on edges\n",
    "h_num = numFields_ElecDipole[de_p, 'h']\n",
    "h_num = mesh.aveE2CCV*h_num\n",
    "# B lives on cell centers\n",
    "b_num = numFields_ElecDipole[de_p, 'b']\n",
    "Mu = Utils.sdiag(MuBack)\n",
    "b_numTest = Mu*h_num\n",
    "\n",
    "# Interpolate numeric fields and fluxes to cell cetres for easy comparison with analytics\n",
    "ex_num, ez_num = Pfx*e_num, Pfz*e_num\n",
    "ey_num = np.zeros_like(ex_num)\n",
    "ex_numTest, ez_numTest = Pfx*e_numTest, Pfz*e_numTest\n",
    "ey_numTest = np.zeros_like(ex_numTest)\n",
    "\n",
    "# Check E values computed from fields object\n",
    "print ' comp,       fields obj,       manual,       fields - manual,       (fields - manual)/manual'\n",
    "print '  E_x:', np.linalg.norm(ex_num), np.linalg.norm(ex_numTest), np.linalg.norm(ex_num-ex_numTest), np.linalg.norm(ex_num-ex_numTest)/np.linalg.norm(ex_numTest) \n",
    "print ''\n",
    "\n",
    "jx_num, jz_num = Pfx*j_num, Pfz*j_num\n",
    "jy_num = np.zeros_like(jx_num)\n",
    "\n",
    "# Since we are evaluating along the plane y=0 the b_theta == b_y in cartesian coordiantes\n",
    "btheta_num = Pf*b_num\n",
    "bx_num = np.zeros_like(btheta_num)\n",
    "bz_num = np.zeros_like(btheta_num)\n",
    "\n",
    "btheta_numTest = Pf*b_numTest\n",
    "bx_numTest = np.zeros_like(btheta_numTest)\n",
    "bz_numTest = np.zeros_like(btheta_numTest)\n",
    "\n",
    "# Check E values computed from fields object\n",
    "print ' comp,       fields obj,       manual,       fields - manual,       (fields - manual)/manual'\n",
    "print '  B_theta:', np.linalg.norm(btheta_num), np.linalg.norm(btheta_numTest), np.linalg.norm(btheta_num - btheta_numTest), np.linalg.norm(btheta_num-btheta_numTest)/np.linalg.norm(btheta_numTest) \n",
    "print ''\n",
    "\n",
    "htheta_num = Pf*h_num\n",
    "hx_num = np.zeros_like(htheta_num)\n",
    "hz_num = np.zeros_like(htheta_num)\n",
    "\n",
    "# get analytic solution\n",
    "# E_from_ElectricDipoleWholeSpace\n",
    "# J_from_ElectricDipoleWholeSpace\n",
    "# H_from_ElectricDipoleWholeSpace\n",
    "# B_from_ElectricDipoleWholeSpace\n",
    "# A_from_ElectricDipoleWholeSpace\n",
    "\n",
    "exa, eya, eza = EM.Analytics.FDEMDipolarfields.E_from_ElectricDipoleWholeSpace(XYZ, src_loc, sigmaback, Utils.mkvc(np.array(freq)),orientation='Z',kappa= kappa)\n",
    "exa, eya, eza = Utils.mkvc(exa,2), Utils.mkvc(eya,2), Utils.mkvc(eza,2)\n",
    "\n",
    "jxa, jya, jza = EM.Analytics.FDEMDipolarfields.J_from_ElectricDipoleWholeSpace(XYZ, src_loc, sigmaback, Utils.mkvc(np.array(freq)),orientation='Z',kappa= kappa)\n",
    "jxa, jya, jza = Utils.mkvc(jxa,2), Utils.mkvc(jya,2), Utils.mkvc(jza,2)\n",
    "\n",
    "bxa, bya, bza = EM.Analytics.FDEMDipolarfields.B_from_ElectricDipoleWholeSpace(XYZ, src_loc, sigmaback, Utils.mkvc(np.array(freq)),orientation='Z',kappa= kappa)\n",
    "bxa, bya, bza = Utils.mkvc(bxa,2), Utils.mkvc(bya,2), Utils.mkvc(bza,2)\n",
    "\n",
    "hxa, hya, hza = EM.Analytics.FDEMDipolarfields.H_from_ElectricDipoleWholeSpace(XYZ, src_loc, sigmaback, Utils.mkvc(np.array(freq)),orientation='Z',kappa= kappa)\n",
    "hxa, hya, hza = Utils.mkvc(hxa,2), Utils.mkvc(hya,2), Utils.mkvc(hza,2)\n",
    "\n",
    "print ' comp,       anayltic,       numeric,       num - ana,       (num - ana)/ana'\n",
    "print '  E_x:', np.linalg.norm(exa), np.linalg.norm(ex_numTest), np.linalg.norm(exa-ex_numTest), np.linalg.norm(exa-ex_numTest)/np.linalg.norm(exa)\n",
    "print '  E_y:', np.linalg.norm(eya), np.linalg.norm(ey_numTest), np.linalg.norm(eya-ey_numTest)\n",
    "print '  E_z:', np.linalg.norm(eza), np.linalg.norm(ez_numTest), np.linalg.norm(eza-ez_numTest), np.linalg.norm(eza-ez_numTest)/np.linalg.norm(eza)\n",
    "print ''\n",
    "print '  J_x:', np.linalg.norm(jxa), np.linalg.norm(jx_num), np.linalg.norm(jxa-jx_num), np.linalg.norm(jxa-jx_num)/np.linalg.norm(jxa)\n",
    "print '  J_y:', np.linalg.norm(jya), np.linalg.norm(jy_num), np.linalg.norm(jya-jy_num)\n",
    "print '  J_z:', np.linalg.norm(jza), np.linalg.norm(jz_num), np.linalg.norm(jza-jz_num), np.linalg.norm(jza-jz_num)/np.linalg.norm(jza)\n",
    "print ''\n",
    "print '  H_x:', np.linalg.norm(hxa), np.linalg.norm(hx_num), np.linalg.norm(hxa-hx_num)\n",
    "print '  H_y:', np.linalg.norm(hya), np.linalg.norm(htheta_num), np.linalg.norm(hya-htheta_num), np.linalg.norm(hya-htheta_num)/np.linalg.norm(hya)\n",
    "print '  H_z:', np.linalg.norm(hza), np.linalg.norm(hz_num), np.linalg.norm(hza-hz_num)\n",
    "print ''\n",
    "print '  B_x:', np.linalg.norm(bxa), np.linalg.norm(bx_num), np.linalg.norm(bxa-bx_num)\n",
    "print '  B_y:', np.linalg.norm(bya), np.linalg.norm(btheta_numTest), np.linalg.norm(bya-btheta_numTest), np.linalg.norm(bya-btheta_numTest)/np.linalg.norm(bya)\n",
    "print '  B_z:', np.linalg.norm(bza), np.linalg.norm(bz_num), np.linalg.norm(bza-bz_num)\n",
    "\n",
    "\n",
    "checkEx = np.linalg.norm(exa-ex_numTest)/np.linalg.norm(exa) < tol_EBdipole\n",
    "print checkEx\n",
    "checkEy = np.linalg.norm(eya-ey_numTest) < tol_EBdipole\n",
    "print checkEy\n",
    "checkEz = np.linalg.norm(eza-ez_numTest)/np.linalg.norm(eza) < tol_EBdipole\n",
    "print checkEz\n",
    "\n",
    "checkJx = np.linalg.norm(jxa-jx_num)/np.linalg.norm(jxa) < tol_EBdipole\n",
    "print checkJx\n",
    "checkJy = np.linalg.norm(jya-jy_num) < tol_EBdipole\n",
    "print checkJy\n",
    "checkJz = np.linalg.norm(jza-jz_num)/np.linalg.norm(jza) < tol_EBdipole\n",
    "print checkJz\n",
    "\n",
    "checkHx = np.linalg.norm(hxa-hx_num) < tol_EBdipole\n",
    "print checkHx\n",
    "checkHy = np.linalg.norm(hya-htheta_num)/np.linalg.norm(hya) < tol_EBdipole\n",
    "print checkHy\n",
    "checkHz = np.linalg.norm(hza-hz_num) < tol_EBdipole\n",
    "print checkHz\n",
    "\n",
    "checkBx = np.linalg.norm(bxa-bx_num) < tol_EBdipole\n",
    "print checkBx\n",
    "checkBy = np.linalg.norm(bya-btheta_num)/np.linalg.norm(bya) < tol_EBdipole\n",
    "print checkBy\n",
    "checkBz = np.linalg.norm(bza-bz_num) < tol_EBdipole\n",
    "print checkBz"
   ]
  },
  {
   "cell_type": "code",
   "execution_count": 2,
   "metadata": {
    "collapsed": false
   },
   "outputs": [
    {
     "name": "stdout",
     "output_type": "stream",
     "text": [
      "500.0\n"
     ]
    }
   ],
   "source": [
    "print skdpth"
   ]
  },
  {
   "cell_type": "code",
   "execution_count": 3,
   "metadata": {
    "collapsed": false
   },
   "outputs": [
    {
     "data": {
      "image/png": "[encoded data removed]",
      "text/plain": [
       "<matplotlib.figure.Figure at 0x1062404d0>"
      ]
     },
     "metadata": {},
     "output_type": "display_data"
    }
   ],
   "source": [
    "mesh.plotGrid()"
   ]
  },
  {
   "cell_type": "code",
   "execution_count": 4,
   "metadata": {
    "collapsed": false
   },
   "outputs": [
    {
     "data": {
      "image/png": "[encoded data removed]",
      "text/plain": [
       "<matplotlib.figure.Figure at 0x1155a9ad0>"
      ]
     },
     "metadata": {},
     "output_type": "display_data"
    }
   ],
   "source": [
    "# Plot E\n",
    "import matplotlib.pyplot as plt\n",
    "\n",
    "plt.subplot(221)\n",
    "plt.plot(r, ex_numTest.real,'o',r,exa.real,linewidth=2)\n",
    "plt.grid(which='both')\n",
    "plt.title('E_x Real')\n",
    "plt.xlabel('r (m)')\n",
    "\n",
    "plt.subplot(222)\n",
    "plt.plot(r,ex_numTest.imag,'o',r,exa.imag,linewidth=2)\n",
    "plt.grid(which='both')\n",
    "plt.title('E_x Imag')\n",
    "plt.legend(['Num','Ana'],bbox_to_anchor=(1.5,0.5))\n",
    "plt.xlabel('r (m)')\n",
    "\n",
    "plt.subplot(223)\n",
    "plt.plot(r, ez_numTest.real,'o',r,eza.real,linewidth=2)\n",
    "plt.grid(which='both')\n",
    "plt.title('E_z Real')\n",
    "plt.xlabel('r (m)')\n",
    "\n",
    "plt.subplot(224)\n",
    "plt.plot(r,ez_numTest.imag,'o',r,eza.imag,linewidth=2)\n",
    "plt.grid(which='both')\n",
    "plt.title('E_z Imag')\n",
    "plt.legend(['Num','Ana'],bbox_to_anchor=(1.5,0.5))\n",
    "plt.xlabel('r (m)')\n",
    "\n",
    "plt.tight_layout()\n",
    "# # plt.show()"
   ]
  },
  {
   "cell_type": "code",
   "execution_count": 6,
   "metadata": {
    "collapsed": false
   },
   "outputs": [
    {
     "ename": "NameError",
     "evalue": "name 'htheta_numTest' is not defined",
     "output_type": "error",
     "traceback": [
      "\u001b[0;31m---------------------------------------------------------------------------\u001b[0m",
      "\u001b[0;31mNameError\u001b[0m                                 Traceback (most recent call last)",
      "\u001b[0;32m<ipython-input-6-837e00760848>\u001b[0m in \u001b[0;36m<module>\u001b[0;34m()\u001b[0m\n\u001b[1;32m      1\u001b[0m \u001b[0;31m# Plot H\u001b[0m\u001b[0;34m\u001b[0m\u001b[0;34m\u001b[0m\u001b[0m\n\u001b[1;32m      2\u001b[0m \u001b[0mplt\u001b[0m\u001b[0;34m.\u001b[0m\u001b[0msubplot\u001b[0m\u001b[0;34m(\u001b[0m\u001b[0;36m211\u001b[0m\u001b[0;34m)\u001b[0m\u001b[0;34m\u001b[0m\u001b[0m\n\u001b[0;32m----> 3\u001b[0;31m \u001b[0mplt\u001b[0m\u001b[0;34m.\u001b[0m\u001b[0mplot\u001b[0m\u001b[0;34m(\u001b[0m\u001b[0mr\u001b[0m\u001b[0;34m,\u001b[0m\u001b[0mhtheta_numTest\u001b[0m\u001b[0;34m.\u001b[0m\u001b[0mreal\u001b[0m\u001b[0;34m,\u001b[0m\u001b[0;34m'o'\u001b[0m\u001b[0;34m,\u001b[0m\u001b[0mr\u001b[0m\u001b[0;34m,\u001b[0m\u001b[0mhya\u001b[0m\u001b[0;34m.\u001b[0m\u001b[0mreal\u001b[0m\u001b[0;34m,\u001b[0m\u001b[0mlinewidth\u001b[0m\u001b[0;34m=\u001b[0m\u001b[0;36m2\u001b[0m\u001b[0;34m)\u001b[0m\u001b[0;34m\u001b[0m\u001b[0m\n\u001b[0m\u001b[1;32m      4\u001b[0m \u001b[0mplt\u001b[0m\u001b[0;34m.\u001b[0m\u001b[0mgrid\u001b[0m\u001b[0;34m(\u001b[0m\u001b[0mwhich\u001b[0m\u001b[0;34m=\u001b[0m\u001b[0;34m'both'\u001b[0m\u001b[0;34m)\u001b[0m\u001b[0;34m\u001b[0m\u001b[0m\n\u001b[1;32m      5\u001b[0m \u001b[0mplt\u001b[0m\u001b[0;34m.\u001b[0m\u001b[0mtitle\u001b[0m\u001b[0;34m(\u001b[0m\u001b[0;34m'H_y Real'\u001b[0m\u001b[0;34m)\u001b[0m\u001b[0;34m\u001b[0m\u001b[0m\n",
      "\u001b[0;31mNameError\u001b[0m: name 'htheta_numTest' is not defined"
     ]
    },
    {
     "data": {
      "image/png": "[encoded data removed]",
      "text/plain": [
       "<matplotlib.figure.Figure at 0x115e9ebd0>"
      ]
     },
     "metadata": {},
     "output_type": "display_data"
    }
   ],
   "source": [
    "# Plot H\n",
    "plt.subplot(211)\n",
    "plt.plot(r,htheta_numTest.real,'o',r,hya.real,linewidth=2)\n",
    "plt.grid(which='both')\n",
    "plt.title('H_y Real')\n",
    "plt.xlabel('r (m)')\n",
    "\n",
    "plt.subplot(212)\n",
    "plt.plot(r,htheta_numTest.imag,'o',r,hya.imag,linewidth=2)\n",
    "plt.grid(which='both')\n",
    "plt.title('H_y Imag')\n",
    "plt.legend(['Num','Ana'],bbox_to_anchor=(1.5,0.5))\n",
    "plt.xlabel('r (m)')\n",
    "\n",
    "plt.tight_layout()\n",
    "# plt.show()"
   ]
  },
  {
   "cell_type": "code",
   "execution_count": null,
   "metadata": {
    "collapsed": false
   },
   "outputs": [],
   "source": []
  },
  {
   "cell_type": "code",
   "execution_count": 6,
   "metadata": {
    "collapsed": false
   },
   "outputs": [
    {
     "name": "stdout",
     "output_type": "stream",
     "text": [
      "{'b': ['hSolution', 'CCV', '_b'], 'hSecondary': ['hSolution', 'E', '_hSecondary'], 'jPrimary': ['hSolution', 'F', '_jPrimary'], 'h': ['hSolution', 'E', '_h'], 'hPrimary': ['hSolution', 'E', '_hPrimary'], 'j': ['hSolution', 'F', '_j'], 'jSecondary': ['hSolution', 'F', '_jSecondary'], 'e': ['hSolution', 'CCV', '_e']}\n"
     ]
    }
   ],
   "source": [
    "print numFields_ElecDipole.aliasFields"
   ]
  },
  {
   "cell_type": "code",
   "execution_count": 13,
   "metadata": {
    "collapsed": true
   },
   "outputs": [],
   "source": [
    "mesh.getInterpolationMat?"
   ]
  },
  {
   "cell_type": "code",
   "execution_count": 28,
   "metadata": {
    "collapsed": true
   },
   "outputs": [],
   "source": [
    "EM.FDEM.Problem3D_h?"
   ]
  },
  {
   "cell_type": "code",
   "execution_count": null,
   "metadata": {
    "collapsed": true
   },
   "outputs": [],
   "source": []
  }
 ],
 "metadata": {
  "kernelspec": {
   "display_name": "Python 2",
   "language": "python",
   "name": "python2"
  },
  "language_info": {
   "codemirror_mode": {
    "name": "ipython",
    "version": 2
   },
   "file_extension": ".py",
   "mimetype": "text/x-python",
   "name": "python",
   "nbconvert_exporter": "python",
   "pygments_lexer": "ipython2",
   "version": "2.7.12"
  }
 },
 "nbformat": 4,
 "nbformat_minor": 0
}
