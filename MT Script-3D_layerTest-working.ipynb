{
 "metadata": {
  "name": "",
  "signature": "sha256:7b047ea0d01a07946777c0203bdee5b1513cf1b7fad4ebbb2354487852002c17"
 },
 "nbformat": 3,
 "nbformat_minor": 0,
 "worksheets": [
  {
   "cells": [
    {
     "cell_type": "code",
     "collapsed": false,
     "input": [
      "import SimPEG as simpeg\n",
      "from scipy.constants import mu_0\n",
      "def omega(freq):\n",
      "    \"\"\"Change frequency to angular frequency, omega\"\"\"\n",
      "    return 2.*np.pi*freq"
     ],
     "language": "python",
     "metadata": {},
     "outputs": [
      {
       "output_type": "stream",
       "stream": "stdout",
       "text": [
        "Efficiency Warning: Interpolation will be slow, use setup.py!\n",
        "\n",
        "            python setup.py build_ext --inplace\n",
        "    \n"
       ]
      }
     ],
     "prompt_number": 1
    },
    {
     "cell_type": "code",
     "collapsed": false,
     "input": [
      "%pylab inline"
     ],
     "language": "python",
     "metadata": {},
     "outputs": [
      {
       "output_type": "stream",
       "stream": "stdout",
       "text": [
        "Populating the interactive namespace from numpy and matplotlib\n"
       ]
      }
     ],
     "prompt_number": 2
    },
    {
     "cell_type": "code",
     "collapsed": false,
     "input": [
      "np.sum(100*np.cumprod(np.ones(5)*1.6))\n",
      "\n",
      "   "
     ],
     "language": "python",
     "metadata": {},
     "outputs": [
      {
       "metadata": {},
       "output_type": "pyout",
       "prompt_number": 3,
       "text": [
        "2529.536000000001"
       ]
      }
     ],
     "prompt_number": 3
    },
    {
     "cell_type": "code",
     "collapsed": false,
     "input": [
      "# M = Mesh.TensorMesh([[(100.,32)],[(100.,34)],[(100.,18)]], x0='CCC')\n",
      "M = simpeg.Mesh.TensorMesh([[(100,5,-1.5),(100.,5),(100,5,1.5)],[(100,5,-1.5),(100.,5),(100,5,1.5)],[(100,5,-1.5),(100.,10),(100,5,1.5)]], x0=['C','C','C'])"
     ],
     "language": "python",
     "metadata": {},
     "outputs": [],
     "prompt_number": 4
    },
    {
     "cell_type": "code",
     "collapsed": false,
     "input": [
      "print M.vectorNz"
     ],
     "language": "python",
     "metadata": {},
     "outputs": [
      {
       "output_type": "stream",
       "stream": "stdout",
       "text": [
        "[-2478.125 -1718.75  -1212.5    -875.     -650.     -500.     -400.     -300.\n",
        "  -200.     -100.        0.      100.      200.      300.      400.      500.\n",
        "   650.      875.     1212.5    1718.75   2478.125]\n"
       ]
      }
     ],
     "prompt_number": 5
    },
    {
     "cell_type": "code",
     "collapsed": false,
     "input": [
      "# Setup the model\n",
      "conds = [1,1e-2]\n",
      "elev = 300\n",
      "sig = simpeg.Utils.ModelBuilder.defineBlock(M.gridCC,[-10000,-10000,-200],[10000,10000,0],conds)\n",
      "sig[M.gridCC[:,2]>elev] = 1e-8\n",
      "sig[M.gridCC[:,2]<-600] = 1e-1\n",
      "sigBG = np.zeros(M.nC) + conds[0]\n",
      "sigBG[M.gridCC[:,2]>0] = 1e-8\n",
      "colorbar(M.plotImage(log10(sig)))"
     ],
     "language": "python",
     "metadata": {},
     "outputs": [
      {
       "metadata": {},
       "output_type": "pyout",
       "prompt_number": 35,
       "text": [
        "<matplotlib.colorbar.Colorbar instance at 0x7f4226103c68>"
       ]
      },
      {
       "metadata": {},
       "output_type": "display_data",
       "png": "[encoded data removed]",
       "text": [
        "<matplotlib.figure.Figure at 0x7f4221670e90>"
       ]
      }
     ],
     "prompt_number": 35
    },
    {
     "cell_type": "code",
     "collapsed": false,
     "input": [
      "# Get the mass matrix \n",
      "# The model\n",
      "Msig = M.getEdgeInnerProduct(sig)\n",
      "MsigBG = M.getEdgeInnerProduct(sigBG)\n",
      "Mmu = M.getFaceInnerProduct(mu_0, invProp=True)"
     ],
     "language": "python",
     "metadata": {},
     "outputs": [],
     "prompt_number": 7
    },
    {
     "cell_type": "code",
     "collapsed": false,
     "input": [
      "freq = 1e1\n",
      "C = M.edgeCurl\n",
      "A = C.T*Mmu*C - 1j*omega(freq)*Msig\n",
      "ABG = C.T*Mmu*C - 1j*omega(freq)*MsigBG"
     ],
     "language": "python",
     "metadata": {},
     "outputs": [],
     "prompt_number": 8
    },
    {
     "cell_type": "code",
     "collapsed": false,
     "input": [
      "%%time\n",
      "# Solve the systems for each polarization\n",
      "Ainv = simpeg.SolverLU(A)"
     ],
     "language": "python",
     "metadata": {},
     "outputs": [
      {
       "output_type": "stream",
       "stream": "stdout",
       "text": [
        "CPU times: user 15.9 s, sys: 271 ms, total: 16.1 s\n",
        "Wall time: 16.6 s\n"
       ]
      }
     ],
     "prompt_number": 9
    },
    {
     "cell_type": "code",
     "collapsed": false,
     "input": [
      "# Need to solve x and y polarizations of the source.\n",
      "from simpegMT.Utils import get1DEfields\n",
      "# Get a 1d solution for a halfspace background\n",
      "mesh1d = simpeg.Mesh.TensorMesh([M.hz],np.array([M.x0[2]]))\n",
      "e0_1d = get1DEfields(mesh1d,M.r(sigBG,'CC','CC','M')[0,0,:],freq,sourceAmp=1).conj()\n",
      "# Setup x (east) polarization (_x)\n",
      "ex_x = np.zeros(M.vnEx,dtype=complex)\n",
      "ey_x = np.zeros((M.nEy,1),dtype=complex)\n",
      "ez_x = np.zeros((M.nEz,1),dtype=complex)\n",
      "# Assign the source to ex_x\n",
      "for i in arange(M.vnEx[0]):\n",
      "    for j in arange(M.vnEx[1]):\n",
      "        ex_x[i,j,:] = -e0_1d\n",
      "eBG_x = np.vstack((simpeg.Utils.mkvc(ex_x,2),ey_x,ez_x))\n",
      "rhs_x = -ABG.dot(eBG_x)"
     ],
     "language": "python",
     "metadata": {},
     "outputs": [],
     "prompt_number": 10
    },
    {
     "cell_type": "code",
     "collapsed": false,
     "input": [
      "# Setup y (north) polarization (_y)\n",
      "ex_y = np.zeros(M.nEx, dtype='complex128')\n",
      "ey_y = np.zeros((M.vnEy), dtype='complex128')\n",
      "ez_y = np.zeros(M.nEz, dtype='complex128')\n",
      "# Assign the source to ey_y\n",
      "for i in arange(M.vnEy[0]):\n",
      "    for j in arange(M.vnEy[1]):\n",
      "        ey_y[i,j,:] = e0_1d  \n",
      "        \n",
      "eBG_y = np.r_[ex_y,simpeg.Utils.mkvc(ey_y),ez_y]\n",
      "rhs_y = -ABG.dot(eBG_y)"
     ],
     "language": "python",
     "metadata": {},
     "outputs": [],
     "prompt_number": 12
    },
    {
     "cell_type": "markdown",
     "metadata": {},
     "source": [
      "We are using splu in scipy package. This is bit slow, but on the cluster you can use mumps, which might a lot faster. We can think about having better iterative solver. "
     ]
    },
    {
     "cell_type": "code",
     "collapsed": false,
     "input": [
      "%%time\n",
      "e_x = Ainv*rhs_x\n",
      "e_y = Ainv*rhs_y"
     ],
     "language": "python",
     "metadata": {},
     "outputs": [
      {
       "output_type": "stream",
       "stream": "stdout",
       "text": [
        "CPU times: user 194 ms, sys: 1 ms, total: 195 ms\n",
        "Wall time: 431 ms\n"
       ]
      }
     ],
     "prompt_number": 13
    },
    {
     "cell_type": "markdown",
     "metadata": {},
     "source": [
      "I want to visualize electrical field, which is a vector, so I average them on to cell center. Also I want to see current density ($\\vec{j} = \\sigma \\vec{e}$)."
     ]
    },
    {
     "cell_type": "code",
     "collapsed": false,
     "input": [
      "Meinv = M.getEdgeInnerProduct(np.ones_like(sig), invMat=True)"
     ],
     "language": "python",
     "metadata": {},
     "outputs": [],
     "prompt_number": 14
    },
    {
     "cell_type": "code",
     "collapsed": false,
     "input": [
      "j_x = Meinv*Msig*e_x\n",
      "j_y = Meinv*Msig*e_x"
     ],
     "language": "python",
     "metadata": {},
     "outputs": [],
     "prompt_number": 15
    },
    {
     "cell_type": "code",
     "collapsed": false,
     "input": [
      "e_x_CC = M.aveE2CCV*e_x\n",
      "e_y_CC = M.aveE2CCV*e_y\n",
      "j_x_CC = M.aveE2CCV*j_x\n",
      "j_y_CC = M.aveE2CCV*j_y\n",
      "# j_x_CC = Utils.sdiag(np.r_[sig, sig, sig])*e_x_CC"
     ],
     "language": "python",
     "metadata": {},
     "outputs": [],
     "prompt_number": 16
    },
    {
     "cell_type": "markdown",
     "metadata": {},
     "source": [
      "Then use \"plotSlice\" function, to visualize 2D sections"
     ]
    },
    {
     "cell_type": "code",
     "collapsed": false,
     "input": [
      "fig, ax = plt.subplots(1,2, figsize = (12, 5))\n",
      "dat0 = M.plotSlice(abs(e_x_CC), vType='CCv', view='vec', streamOpts={'color': 'k'}, normal='Y', ax = ax[0])\n",
      "cb0 = plt.colorbar(dat0[0], ax = ax[0])\n",
      "dat1 = M.plotSlice(abs(j_x_CC), vType='CCv', view='vec', streamOpts={'color': 'k'}, normal='Y', ax = ax[1])\n",
      "cb1 = plt.colorbar(dat1[0], ax = ax[1])"
     ],
     "language": "python",
     "metadata": {},
     "outputs": [
      {
       "metadata": {},
       "output_type": "display_data",
       "png": "[encoded data removed]",
       "text": [
        "<matplotlib.figure.Figure at 0x7f4224fcd610>"
       ]
      }
     ],
     "prompt_number": 18
    },
    {
     "cell_type": "markdown",
     "metadata": {},
     "source": [
      "Is it reasonable?: Based on that you put resistive target that makes sense to me; current does not want to flow on resistive target so they just do roundabout:). And see air interface. It is continuous on current but not on electric field, which looks reasonable. "
     ]
    },
    {
     "cell_type": "code",
     "collapsed": false,
     "input": [
      "# Calculate the data\n",
      "rx_x, rx_y = np.meshgrid(np.arange(-500,501,50),np.arange(-500,501,50))\n",
      "rx_loc = np.hstack((simpeg.Utils.mkvc(rx_x,2),simpeg.Utils.mkvc(rx_y,2),elev+np.zeros((np.prod(rx_x.shape),1))))\n",
      "# Get the projection matrices\n",
      "Qex = M.getInterpolationMat(rx_loc,'Ex')\n",
      "Qey = M.getInterpolationMat(rx_loc,'Ey')\n",
      "Qez = M.getInterpolationMat(rx_loc,'Ez')\n",
      "Qfx = M.getInterpolationMat(rx_loc,'Fx')\n",
      "Qfy = M.getInterpolationMat(rx_loc,'Fy')\n",
      "Qfz = M.getInterpolationMat(rx_loc,'Fz')"
     ],
     "language": "python",
     "metadata": {},
     "outputs": [],
     "prompt_number": 36
    },
    {
     "cell_type": "code",
     "collapsed": false,
     "input": [
      "e_x_loc = np.hstack([simpeg.Utils.mkvc(Qex*e_x,2),simpeg.Utils.mkvc(Qey*e_x,2),simpeg.Utils.mkvc(Qez*e_x,2)])\n",
      "e_y_loc = np.hstack([simpeg.Utils.mkvc(Qex*e_y,2),simpeg.Utils.mkvc(Qey*e_y,2),simpeg.Utils.mkvc(Qez*e_y,2)])\n",
      "Ciw = -C/(1j*omega(freq)*mu_0)\n",
      "h_x_loc = np.hstack([simpeg.Utils.mkvc(Qfx*Ciw*e_x,2),simpeg.Utils.mkvc(Qfy*Ciw*e_x,2),simpeg.Utils.mkvc(Qfz*Ciw*e_x,2)])\n",
      "h_y_loc = np.hstack([simpeg.Utils.mkvc(Qfx*Ciw*e_y,2),simpeg.Utils.mkvc(Qfy*Ciw*e_y,2),simpeg.Utils.mkvc(Qfz*Ciw*e_y,2)])"
     ],
     "language": "python",
     "metadata": {},
     "outputs": [],
     "prompt_number": 37
    },
    {
     "cell_type": "code",
     "collapsed": false,
     "input": [
      "# Make a combined matrix\n",
      "dt = np.dtype([('ex1',complex),('ey1',complex),('ez1',complex),('hx1',complex),('hy1',complex),('hz1',complex),('ex2',complex),('ey2',complex),('ez2',complex),('hx2',complex),('hy2',complex),('hz2',complex)])\n",
      "combMat = np.empty((len(e_x_loc)),dtype=dt)\n",
      "combMat['ex1'] = e_x_loc[:,0]\n",
      "combMat['ey1'] = e_x_loc[:,1]\n",
      "combMat['ez1'] = e_x_loc[:,2]\n",
      "combMat['ex2'] = e_y_loc[:,0]\n",
      "combMat['ey2'] = e_y_loc[:,1]\n",
      "combMat['ez2'] = e_y_loc[:,2]\n",
      "combMat['hx1'] = h_x_loc[:,0]\n",
      "combMat['hy1'] = h_x_loc[:,1]\n",
      "combMat['hz1'] = h_x_loc[:,2]\n",
      "combMat['hx2'] = h_y_loc[:,0]\n",
      "combMat['hy2'] = h_y_loc[:,1]\n",
      "combMat['hz2'] = h_y_loc[:,2]\n"
     ],
     "language": "python",
     "metadata": {},
     "outputs": [],
     "prompt_number": 38
    },
    {
     "cell_type": "code",
     "collapsed": false,
     "input": [
      "def calculateImpedance(fieldsData):\n",
      "    ''' \n",
      "    Function that calculates MT impedance data from a rec array with E and H field data from both polarizations\n",
      "    '''\n",
      "    zxx = (fieldsData['ex1']*fieldsData['hy2'] - fieldsData['ex2']*fieldsData['hy1'])/(fieldsData['hx1']*fieldsData['hy2'] - fieldsData['hx2']*fieldsData['hy1'])\n",
      "    zxy = (-fieldsData['ex1']*fieldsData['hx2'] + fieldsData['ex2']*fieldsData['hx1'])/(fieldsData['hx1']*fieldsData['hy2'] - fieldsData['hx2']*fieldsData['hy1'])\n",
      "    zyx = (fieldsData['ey1']*fieldsData['hy2'] - fieldsData['ey2']*fieldsData['hy1'])/(fieldsData['hx1']*fieldsData['hy2'] - fieldsData['hx2']*fieldsData['hy1'])\n",
      "    zyy = (-fieldsData['ey1']*fieldsData['hx2'] + fieldsData['ey2']*fieldsData['hx1'])/(fieldsData['hx1']*fieldsData['hy2'] - fieldsData['hx2']*fieldsData['hy1'])\n",
      "    return zxx, zxy, zyx, zyy\n",
      "\n",
      "zxx, zxy, zyx, zyy = calculateImpedance(combMat)"
     ],
     "language": "python",
     "metadata": {},
     "outputs": [],
     "prompt_number": 39
    },
    {
     "cell_type": "code",
     "collapsed": false,
     "input": [],
     "language": "python",
     "metadata": {},
     "outputs": [
      {
       "metadata": {},
       "output_type": "pyout",
       "prompt_number": 40,
       "text": [
        "array([-0.00673364-0.02865302j, -0.00673364-0.02865302j,\n",
        "       -0.00673364-0.02865302j, -0.00673364-0.02865302j,\n",
        "       -0.00673364-0.02865302j, -0.00673364-0.02865302j,\n",
        "       -0.00673364-0.02865302j, -0.00673364-0.02865302j,\n",
        "       -0.00673364-0.02865302j, -0.00673364-0.02865302j,\n",
        "       -0.00673364-0.02865302j, -0.00673364-0.02865302j,\n",
        "       -0.00673364-0.02865302j, -0.00673364-0.02865302j,\n",
        "       -0.00673364-0.02865302j, -0.00673364-0.02865302j,\n",
        "       -0.00673364-0.02865302j, -0.00673364-0.02865302j,\n",
        "       -0.00673364-0.02865302j, -0.00673364-0.02865302j,\n",
        "       -0.00673364-0.02865302j, -0.00673374-0.02865389j,\n",
        "       -0.00673374-0.02865389j, -0.00673374-0.02865389j,\n",
        "       -0.00673374-0.02865389j, -0.00673374-0.02865389j,\n",
        "       -0.00673374-0.02865389j, -0.00673374-0.02865389j,\n",
        "       -0.00673374-0.02865389j, -0.00673374-0.02865389j,\n",
        "       -0.00673374-0.02865389j, -0.00673374-0.02865389j,\n",
        "       -0.00673374-0.02865389j, -0.00673374-0.02865389j,\n",
        "       -0.00673374-0.02865389j, -0.00673374-0.02865389j,\n",
        "       -0.00673374-0.02865389j, -0.00673374-0.02865389j,\n",
        "       -0.00673374-0.02865389j, -0.00673374-0.02865389j,\n",
        "       -0.00673374-0.02865389j, -0.00673374-0.02865389j,\n",
        "       -0.00673385-0.02865476j, -0.00673385-0.02865476j,\n",
        "       -0.00673385-0.02865476j, -0.00673385-0.02865476j,\n",
        "       -0.00673385-0.02865476j, -0.00673385-0.02865476j,\n",
        "       -0.00673385-0.02865476j, -0.00673385-0.02865476j,\n",
        "       -0.00673385-0.02865476j, -0.00673385-0.02865476j,\n",
        "       -0.00673385-0.02865476j, -0.00673385-0.02865476j,\n",
        "       -0.00673385-0.02865476j, -0.00673385-0.02865476j,\n",
        "       -0.00673385-0.02865476j, -0.00673385-0.02865476j,\n",
        "       -0.00673385-0.02865476j, -0.00673385-0.02865476j,\n",
        "       -0.00673385-0.02865476j, -0.00673385-0.02865476j,\n",
        "       -0.00673385-0.02865476j, -0.00673396-0.02865562j,\n",
        "       -0.00673396-0.02865562j, -0.00673396-0.02865562j,\n",
        "       -0.00673396-0.02865562j, -0.00673396-0.02865562j,\n",
        "       -0.00673396-0.02865562j, -0.00673396-0.02865562j,\n",
        "       -0.00673396-0.02865562j, -0.00673396-0.02865562j,\n",
        "       -0.00673396-0.02865562j, -0.00673396-0.02865562j,\n",
        "       -0.00673396-0.02865562j, -0.00673396-0.02865562j,\n",
        "       -0.00673396-0.02865562j, -0.00673396-0.02865562j,\n",
        "       -0.00673396-0.02865562j, -0.00673396-0.02865562j,\n",
        "       -0.00673396-0.02865562j, -0.00673396-0.02865562j,\n",
        "       -0.00673396-0.02865562j, -0.00673396-0.02865562j,\n",
        "       -0.00673401-0.02865616j, -0.00673401-0.02865616j,\n",
        "       -0.00673401-0.02865616j, -0.00673401-0.02865616j,\n",
        "       -0.00673401-0.02865616j, -0.00673401-0.02865616j,\n",
        "       -0.00673401-0.02865616j, -0.00673401-0.02865616j,\n",
        "       -0.00673401-0.02865616j, -0.00673401-0.02865616j,\n",
        "       -0.00673401-0.02865616j, -0.00673401-0.02865616j,\n",
        "       -0.00673401-0.02865616j, -0.00673401-0.02865616j,\n",
        "       -0.00673401-0.02865616j, -0.00673401-0.02865616j,\n",
        "       -0.00673401-0.02865616j, -0.00673401-0.02865616j,\n",
        "       -0.00673401-0.02865616j, -0.00673401-0.02865616j,\n",
        "       -0.00673401-0.02865616j, -0.00673399-0.02865637j,\n",
        "       -0.00673399-0.02865637j, -0.00673399-0.02865637j,\n",
        "       -0.00673399-0.02865637j, -0.00673399-0.02865637j,\n",
        "       -0.00673399-0.02865637j, -0.00673399-0.02865637j,\n",
        "       -0.00673399-0.02865637j, -0.00673399-0.02865637j,\n",
        "       -0.00673399-0.02865637j, -0.00673399-0.02865637j,\n",
        "       -0.00673399-0.02865637j, -0.00673399-0.02865637j,\n",
        "       -0.00673399-0.02865637j, -0.00673399-0.02865637j,\n",
        "       -0.00673399-0.02865637j, -0.00673399-0.02865637j,\n",
        "       -0.00673399-0.02865637j, -0.00673399-0.02865637j,\n",
        "       -0.00673399-0.02865637j, -0.00673399-0.02865637j,\n",
        "       -0.00673398-0.02865658j, -0.00673398-0.02865658j,\n",
        "       -0.00673398-0.02865658j, -0.00673398-0.02865658j,\n",
        "       -0.00673398-0.02865658j, -0.00673398-0.02865658j,\n",
        "       -0.00673398-0.02865658j, -0.00673398-0.02865658j,\n",
        "       -0.00673398-0.02865658j, -0.00673398-0.02865658j,\n",
        "       -0.00673398-0.02865658j, -0.00673398-0.02865658j,\n",
        "       -0.00673398-0.02865658j, -0.00673398-0.02865658j,\n",
        "       -0.00673398-0.02865658j, -0.00673398-0.02865658j,\n",
        "       -0.00673398-0.02865658j, -0.00673398-0.02865658j,\n",
        "       -0.00673398-0.02865658j, -0.00673398-0.02865658j,\n",
        "       -0.00673398-0.02865658j, -0.00673395-0.02865663j,\n",
        "       -0.00673395-0.02865663j, -0.00673395-0.02865663j,\n",
        "       -0.00673395-0.02865663j, -0.00673395-0.02865663j,\n",
        "       -0.00673395-0.02865663j, -0.00673395-0.02865663j,\n",
        "       -0.00673395-0.02865663j, -0.00673395-0.02865663j,\n",
        "       -0.00673395-0.02865663j, -0.00673395-0.02865663j,\n",
        "       -0.00673395-0.02865663j, -0.00673395-0.02865663j,\n",
        "       -0.00673395-0.02865663j, -0.00673395-0.02865663j,\n",
        "       -0.00673395-0.02865663j, -0.00673395-0.02865663j,\n",
        "       -0.00673395-0.02865663j, -0.00673395-0.02865663j,\n",
        "       -0.00673395-0.02865663j, -0.00673395-0.02865663j,\n",
        "       -0.00673393-0.02865668j, -0.00673393-0.02865668j,\n",
        "       -0.00673393-0.02865668j, -0.00673393-0.02865668j,\n",
        "       -0.00673393-0.02865668j, -0.00673393-0.02865668j,\n",
        "       -0.00673393-0.02865668j, -0.00673393-0.02865668j,\n",
        "       -0.00673393-0.02865668j, -0.00673393-0.02865668j,\n",
        "       -0.00673393-0.02865668j, -0.00673393-0.02865668j,\n",
        "       -0.00673393-0.02865668j, -0.00673393-0.02865668j,\n",
        "       -0.00673393-0.02865668j, -0.00673393-0.02865668j,\n",
        "       -0.00673393-0.02865668j, -0.00673393-0.02865668j,\n",
        "       -0.00673393-0.02865668j, -0.00673393-0.02865668j,\n",
        "       -0.00673393-0.02865668j, -0.00673391-0.02865669j,\n",
        "       -0.00673391-0.02865669j, -0.00673391-0.02865669j,\n",
        "       -0.00673391-0.02865669j, -0.00673391-0.02865669j,\n",
        "       -0.00673391-0.02865669j, -0.00673391-0.02865669j,\n",
        "       -0.00673391-0.02865669j, -0.00673391-0.02865669j,\n",
        "       -0.00673391-0.02865669j, -0.00673391-0.02865669j,\n",
        "       -0.00673391-0.02865669j, -0.00673391-0.02865669j,\n",
        "       -0.00673391-0.02865669j, -0.00673391-0.02865669j,\n",
        "       -0.00673391-0.02865669j, -0.00673391-0.02865669j,\n",
        "       -0.00673391-0.02865669j, -0.00673391-0.02865669j,\n",
        "       -0.00673391-0.02865669j, -0.00673391-0.02865669j,\n",
        "       -0.00673390-0.0286567j , -0.00673390-0.0286567j ,\n",
        "       -0.00673390-0.0286567j , -0.00673390-0.0286567j ,\n",
        "       -0.00673390-0.0286567j , -0.00673390-0.0286567j ,\n",
        "       -0.00673390-0.0286567j , -0.00673390-0.0286567j ,\n",
        "       -0.00673390-0.0286567j , -0.00673390-0.0286567j ,\n",
        "       -0.00673390-0.0286567j , -0.00673390-0.0286567j ,\n",
        "       -0.00673390-0.0286567j , -0.00673390-0.0286567j ,\n",
        "       -0.00673390-0.0286567j , -0.00673390-0.0286567j ,\n",
        "       -0.00673390-0.0286567j , -0.00673390-0.0286567j ,\n",
        "       -0.00673390-0.0286567j , -0.00673390-0.0286567j ,\n",
        "       -0.00673390-0.0286567j , -0.00673391-0.02865669j,\n",
        "       -0.00673391-0.02865669j, -0.00673391-0.02865669j,\n",
        "       -0.00673391-0.02865669j, -0.00673391-0.02865669j,\n",
        "       -0.00673391-0.02865669j, -0.00673391-0.02865669j,\n",
        "       -0.00673391-0.02865669j, -0.00673391-0.02865669j,\n",
        "       -0.00673391-0.02865669j, -0.00673391-0.02865669j,\n",
        "       -0.00673391-0.02865669j, -0.00673391-0.02865669j,\n",
        "       -0.00673391-0.02865669j, -0.00673391-0.02865669j,\n",
        "       -0.00673391-0.02865669j, -0.00673391-0.02865669j,\n",
        "       -0.00673391-0.02865669j, -0.00673391-0.02865669j,\n",
        "       -0.00673391-0.02865669j, -0.00673391-0.02865669j,\n",
        "       -0.00673393-0.02865668j, -0.00673393-0.02865668j,\n",
        "       -0.00673393-0.02865668j, -0.00673393-0.02865668j,\n",
        "       -0.00673393-0.02865668j, -0.00673393-0.02865668j,\n",
        "       -0.00673393-0.02865668j, -0.00673393-0.02865668j,\n",
        "       -0.00673393-0.02865668j, -0.00673393-0.02865668j,\n",
        "       -0.00673393-0.02865668j, -0.00673393-0.02865668j,\n",
        "       -0.00673393-0.02865668j, -0.00673393-0.02865668j,\n",
        "       -0.00673393-0.02865668j, -0.00673393-0.02865668j,\n",
        "       -0.00673393-0.02865668j, -0.00673393-0.02865668j,\n",
        "       -0.00673393-0.02865668j, -0.00673393-0.02865668j,\n",
        "       -0.00673393-0.02865668j, -0.00673395-0.02865663j,\n",
        "       -0.00673395-0.02865663j, -0.00673395-0.02865663j,\n",
        "       -0.00673395-0.02865663j, -0.00673395-0.02865663j,\n",
        "       -0.00673395-0.02865663j, -0.00673395-0.02865663j,\n",
        "       -0.00673395-0.02865663j, -0.00673395-0.02865663j,\n",
        "       -0.00673395-0.02865663j, -0.00673395-0.02865663j,\n",
        "       -0.00673395-0.02865663j, -0.00673395-0.02865663j,\n",
        "       -0.00673395-0.02865663j, -0.00673395-0.02865663j,\n",
        "       -0.00673395-0.02865663j, -0.00673395-0.02865663j,\n",
        "       -0.00673395-0.02865663j, -0.00673395-0.02865663j,\n",
        "       -0.00673395-0.02865663j, -0.00673395-0.02865663j,\n",
        "       -0.00673398-0.02865658j, -0.00673398-0.02865658j,\n",
        "       -0.00673398-0.02865658j, -0.00673398-0.02865658j,\n",
        "       -0.00673398-0.02865658j, -0.00673398-0.02865658j,\n",
        "       -0.00673398-0.02865658j, -0.00673398-0.02865658j,\n",
        "       -0.00673398-0.02865658j, -0.00673398-0.02865658j,\n",
        "       -0.00673398-0.02865658j, -0.00673398-0.02865658j,\n",
        "       -0.00673398-0.02865658j, -0.00673398-0.02865658j,\n",
        "       -0.00673398-0.02865658j, -0.00673398-0.02865658j,\n",
        "       -0.00673398-0.02865658j, -0.00673398-0.02865658j,\n",
        "       -0.00673398-0.02865658j, -0.00673398-0.02865658j,\n",
        "       -0.00673398-0.02865658j, -0.00673399-0.02865637j,\n",
        "       -0.00673399-0.02865637j, -0.00673399-0.02865637j,\n",
        "       -0.00673399-0.02865637j, -0.00673399-0.02865637j,\n",
        "       -0.00673399-0.02865637j, -0.00673399-0.02865637j,\n",
        "       -0.00673399-0.02865637j, -0.00673399-0.02865637j,\n",
        "       -0.00673399-0.02865637j, -0.00673399-0.02865637j,\n",
        "       -0.00673399-0.02865637j, -0.00673399-0.02865637j,\n",
        "       -0.00673399-0.02865637j, -0.00673399-0.02865637j,\n",
        "       -0.00673399-0.02865637j, -0.00673399-0.02865637j,\n",
        "       -0.00673399-0.02865637j, -0.00673399-0.02865637j,\n",
        "       -0.00673399-0.02865637j, -0.00673399-0.02865637j,\n",
        "       -0.00673401-0.02865616j, -0.00673401-0.02865616j,\n",
        "       -0.00673401-0.02865616j, -0.00673401-0.02865616j,\n",
        "       -0.00673401-0.02865616j, -0.00673401-0.02865616j,\n",
        "       -0.00673401-0.02865616j, -0.00673401-0.02865616j,\n",
        "       -0.00673401-0.02865616j, -0.00673401-0.02865616j,\n",
        "       -0.00673401-0.02865616j, -0.00673401-0.02865616j,\n",
        "       -0.00673401-0.02865616j, -0.00673401-0.02865616j,\n",
        "       -0.00673401-0.02865616j, -0.00673401-0.02865616j,\n",
        "       -0.00673401-0.02865616j, -0.00673401-0.02865616j,\n",
        "       -0.00673401-0.02865616j, -0.00673401-0.02865616j,\n",
        "       -0.00673401-0.02865616j, -0.00673396-0.02865562j,\n",
        "       -0.00673396-0.02865562j, -0.00673396-0.02865562j,\n",
        "       -0.00673396-0.02865562j, -0.00673396-0.02865562j,\n",
        "       -0.00673396-0.02865562j, -0.00673396-0.02865562j,\n",
        "       -0.00673396-0.02865562j, -0.00673396-0.02865562j,\n",
        "       -0.00673396-0.02865562j, -0.00673396-0.02865562j,\n",
        "       -0.00673396-0.02865562j, -0.00673396-0.02865562j,\n",
        "       -0.00673396-0.02865562j, -0.00673396-0.02865562j,\n",
        "       -0.00673396-0.02865562j, -0.00673396-0.02865562j,\n",
        "       -0.00673396-0.02865562j, -0.00673396-0.02865562j,\n",
        "       -0.00673396-0.02865562j, -0.00673396-0.02865562j,\n",
        "       -0.00673385-0.02865476j, -0.00673385-0.02865476j,\n",
        "       -0.00673385-0.02865476j, -0.00673385-0.02865476j,\n",
        "       -0.00673385-0.02865476j, -0.00673385-0.02865476j,\n",
        "       -0.00673385-0.02865476j, -0.00673385-0.02865476j,\n",
        "       -0.00673385-0.02865476j, -0.00673385-0.02865476j,\n",
        "       -0.00673385-0.02865476j, -0.00673385-0.02865476j,\n",
        "       -0.00673385-0.02865476j, -0.00673385-0.02865476j,\n",
        "       -0.00673385-0.02865476j, -0.00673385-0.02865476j,\n",
        "       -0.00673385-0.02865476j, -0.00673385-0.02865476j,\n",
        "       -0.00673385-0.02865476j, -0.00673385-0.02865476j,\n",
        "       -0.00673385-0.02865476j, -0.00673374-0.02865389j,\n",
        "       -0.00673374-0.02865389j, -0.00673374-0.02865389j,\n",
        "       -0.00673374-0.02865389j, -0.00673374-0.02865389j,\n",
        "       -0.00673374-0.02865389j, -0.00673374-0.02865389j,\n",
        "       -0.00673374-0.02865389j, -0.00673374-0.02865389j,\n",
        "       -0.00673374-0.02865389j, -0.00673374-0.02865389j,\n",
        "       -0.00673374-0.02865389j, -0.00673374-0.02865389j,\n",
        "       -0.00673374-0.02865389j, -0.00673374-0.02865389j,\n",
        "       -0.00673374-0.02865389j, -0.00673374-0.02865389j,\n",
        "       -0.00673374-0.02865389j, -0.00673374-0.02865389j,\n",
        "       -0.00673374-0.02865389j, -0.00673374-0.02865389j,\n",
        "       -0.00673364-0.02865302j, -0.00673364-0.02865302j,\n",
        "       -0.00673364-0.02865302j, -0.00673364-0.02865302j,\n",
        "       -0.00673364-0.02865302j, -0.00673364-0.02865302j,\n",
        "       -0.00673364-0.02865302j, -0.00673364-0.02865302j,\n",
        "       -0.00673364-0.02865302j, -0.00673364-0.02865302j,\n",
        "       -0.00673364-0.02865302j, -0.00673364-0.02865302j,\n",
        "       -0.00673364-0.02865302j, -0.00673364-0.02865302j,\n",
        "       -0.00673364-0.02865302j, -0.00673364-0.02865302j,\n",
        "       -0.00673364-0.02865302j, -0.00673364-0.02865302j,\n",
        "       -0.00673364-0.02865302j, -0.00673364-0.02865302j,\n",
        "       -0.00673364-0.02865302j])"
       ]
      }
     ],
     "prompt_number": 40
    },
    {
     "cell_type": "code",
     "collapsed": false,
     "input": [
      "ind = np.where(np.sum(np.power(rx_loc - np.array([0,0,elev]),2),axis=1)< 5)\n",
      "def appResPhs(freq,z):\n",
      "    app_res = ((1./(8e-7*np.pi**2))/freq)*np.abs(z)**2\n",
      "    app_phs = np.arctan2(z.imag,z.real)*(180/np.pi)\n",
      "    return app_res, app_phs\n",
      "print appResPhs(freq,zxy[ind])"
     ],
     "language": "python",
     "metadata": {},
     "outputs": [
      {
       "output_type": "stream",
       "stream": "stdout",
       "text": [
        "(array([ 10.97500457]), array([-103.22375266]))\n"
       ]
      }
     ],
     "prompt_number": 43
    },
    {
     "cell_type": "code",
     "collapsed": false,
     "input": [
      "e0_1d\n",
      "h0_1dC = -(mesh1d.nodalGrad*e0_1d)/(1j*omega(freq)*mu_0)\n",
      "h0_1d = mesh1d.getInterpolationMat(mesh1d.vectorNx,'CC')*h0_1dC\n",
      "\n",
      "print e0_1d, h0_1d, appResPhs(freq,e0_1d/h0_1d)"
     ],
     "language": "python",
     "metadata": {},
     "outputs": [
      {
       "output_type": "stream",
       "stream": "stdout",
       "text": [
        "[ -6.20279168e-09 -4.39881198e-09j  -3.59098481e-07 -1.31996127e-07j\n",
        "   2.74444236e-06 -9.30035530e-06j   1.09368959e-04 +1.54406904e-05j\n",
        "   1.03302758e-04 +5.78395328e-04j  -1.18516132e-03 +1.18309882e-03j\n",
        "  -3.21180911e-03 +4.16527153e-04j  -5.56733355e-03 -2.88598734e-03j\n",
        "  -5.64417373e-03 -1.05842922e-02j   2.63600826e-03 -2.27390580e-02j\n",
        "   2.88702308e-02 -3.28125152e-02j   6.80583153e-02 -3.14884619e-02j\n",
        "   1.07246400e-01 -3.01644081e-02j   1.46434485e-01 -2.88403534e-02j\n",
        "   1.85622570e-01 -2.75162976e-02j   2.24810656e-01 -2.61922403e-02j\n",
        "   2.83592784e-01 -2.42061510e-02j   3.71765978e-01 -2.12270077e-02j\n",
        "   5.04025769e-01 -1.67582648e-02j   7.02415460e-01 -1.00550655e-02j\n",
        "   1.00000000e+00 -0.00000000e+00j] [  2.12811704e-06 -5.88572986e-06j   1.38473321e-04 +4.42315497e-05j\n",
        "  -4.65316847e-04 +2.43179550e-03j  -1.93844533e-02 +1.39561396e-03j\n",
        "  -4.33100215e-02 -6.54109382e-02j   3.78293705e-02 -1.97523000e-01j\n",
        "   2.57677892e-01 -2.77504299e-01j   6.96635025e-01 -1.54031289e-01j\n",
        "   1.25721039e+00 +5.19482689e-01j   1.40761866e+00 +2.18565020e+00j\n",
        "   5.54062471e-01 +4.14291599e+00j  -1.67693342e-01 +4.96322889e+00j\n",
        "  -1.67693429e-01 +4.96322893e+00j  -1.67693556e-01 +4.96322895e+00j\n",
        "  -1.67693722e-01 +4.96322898e+00j  -1.67693927e-01 +4.96322901e+00j\n",
        "  -1.67694309e-01 +4.96322905e+00j  -1.67695046e-01 +4.96322910e+00j\n",
        "  -1.67696524e-01 +4.96322916e+00j  -1.67699578e-01 +4.96322923e+00j\n",
        "  -1.67702245e-01 +4.96322927e+00j] (array([  1.86964165e-02,   8.77304283e-02,   1.94267016e-01,\n",
        "         4.09088305e-01,   7.10419412e-01,   8.78131542e-01,\n",
        "         9.26369448e-01,   9.78429149e-01,   9.84798832e-01,\n",
        "         9.81985367e-01,   1.38473542e+00,   2.88794941e+00,\n",
        "         6.37406946e+00,   1.14393261e+01,   1.80837193e+01,\n",
        "         2.63072489e+01,   4.16034243e+01,   7.12096690e+01,\n",
        "         1.30608494e+02,   2.53433007e+02,   5.13553916e+02]), array([ -74.53559993, -177.53243593, -174.39163289, -167.84610729,\n",
        "       -156.61696865, -145.79203492, -140.26761361, -140.13080193,\n",
        "       -140.51973521, -140.6048989 , -131.03954507, -116.7636348 ,\n",
        "       -107.64443593, -103.07696138, -100.36712929,  -98.5805876 ,\n",
        "        -96.8138101 ,  -95.20305726,  -93.83947719,  -92.75532863,\n",
        "        -91.93522727]))\n"
       ]
      }
     ],
     "prompt_number": 42
    },
    {
     "cell_type": "code",
     "collapsed": false,
     "input": [
      "import simpegMT as simpegmt\n",
      "sig1D = M.r(sig,'CC','CC','M')[0,0,:]\n",
      "anaEd, anaEu, anaHd, anaHu = simpegmt.Utils.MT1Danalytic.getEHfields(mesh1d,sig1D,freq,mesh1d.vectorNx)\n",
      "anaEtemp = anaEd+anaEu\n",
      "anaHtemp = anaHd+anaHu\n",
      "# Scale the solution\n",
      "anaE = (anaEtemp/anaEtemp[-1])#.conj()\n",
      "anaH = (anaHtemp/anaEtemp[-1])#.conj()"
     ],
     "language": "python",
     "metadata": {},
     "outputs": [],
     "prompt_number": 32
    },
    {
     "cell_type": "code",
     "collapsed": false,
     "input": [
      "anaZ = anaE/anaH\n",
      "print anaZ, appResPhs(freq,anaZ)"
     ],
     "language": "python",
     "metadata": {},
     "outputs": [
      {
       "output_type": "stream",
       "stream": "stdout",
       "text": [
        "[ 0.01986918+0.01986918j  0.01986918+0.01986918j  0.01986918+0.01986918j\n",
        "  0.01986918+0.01986918j  0.01986918+0.01986918j  0.02022782+0.03020735j\n",
        "  0.02093098+0.03672601j  0.02206142+0.04291033j  0.02364531+0.04871254j\n",
        "  0.00963058+0.00415596j  0.00619719+0.00527786j  0.00624787+0.01305949j\n",
        "  0.00649834+0.02074006j  0.00705940+0.02830392j  0.00705940+0.0361996j\n",
        "  0.00705940+0.04409528j  0.00705940+0.05593881j  0.00705941+0.07370409j\n",
        "  0.00705944+0.10035202j  0.00705951+0.14032392j  0.00705974+0.20028176j] (array([  10.        ,   10.        ,   10.        ,   10.        ,\n",
        "         10.        ,   16.73887525,   22.63143218,   29.48449815,\n",
        "         37.13437077,    1.39342121,    0.83920449,    2.65444118,\n",
        "          5.98274409,   10.77736658,   17.22771793,   25.25720583,\n",
        "         40.26231869,   69.43197022,  128.1759076 ,  250.01810043,\n",
        "        508.66554665]), array([ 44.99999984,  44.99999984,  44.99999984,  44.99999984,\n",
        "        44.99999984,  56.19244978,  60.32020862,  62.79101927,\n",
        "        64.10783458,  23.34204936,  40.41952465,  64.43279136,\n",
        "        72.60301804,  75.99535101,  78.96506301,  80.90445816,\n",
        "        82.80736989,  84.52887198,  85.97605635,  87.11995179,  87.98121528]))\n"
       ]
      }
     ],
     "prompt_number": 33
    },
    {
     "cell_type": "code",
     "collapsed": false,
     "input": [],
     "language": "python",
     "metadata": {},
     "outputs": []
    }
   ],
   "metadata": {}
  }
 ]
}