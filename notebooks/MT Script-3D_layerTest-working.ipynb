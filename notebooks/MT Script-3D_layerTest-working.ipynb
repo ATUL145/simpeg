{
 "cells": [
  {
   "cell_type": "code",
   "execution_count": 1,
   "metadata": {
    "collapsed": false
   },
   "outputs": [],
   "source": [
    "import SimPEG as simpeg\n",
    "from scipy.constants import mu_0\n",
    "def omega(freq):\n",
    "    \"\"\"Change frequency to angular frequency, omega\"\"\"\n",
    "    return 2.*np.pi*freq"
   ]
  },
  {
   "cell_type": "code",
   "execution_count": 2,
   "metadata": {
    "collapsed": false
   },
   "outputs": [
    {
     "name": "stdout",
     "output_type": "stream",
     "text": [
      "Populating the interactive namespace from numpy and matplotlib\n"
     ]
    }
   ],
   "source": [
    "%pylab inline"
   ]
  },
  {
   "cell_type": "code",
   "execution_count": 3,
   "metadata": {
    "collapsed": false
   },
   "outputs": [
    {
     "data": {
      "text/plain": [
       "2529.536000000001"
      ]
     },
     "execution_count": 3,
     "metadata": {},
     "output_type": "execute_result"
    }
   ],
   "source": [
    "np.sum(100*np.cumprod(np.ones(5)*1.6))\n",
    "\n",
    "   "
   ]
  },
  {
   "cell_type": "code",
   "execution_count": 4,
   "metadata": {
    "collapsed": false
   },
   "outputs": [],
   "source": [
    "# M = Mesh.TensorMesh([[(100.,32)],[(100.,34)],[(100.,18)]], x0='CCC')\n",
    "M = simpeg.Mesh.TensorMesh([[(100,5,-1.5),(100.,5),(100,5,1.5)],[(100,5,-1.5),(100.,5),(100,5,1.5)],[(100,5,-1.5),(100.,10),(100,5,1.5)]], x0=['C','C','C'])"
   ]
  },
  {
   "cell_type": "code",
   "execution_count": 5,
   "metadata": {
    "collapsed": false
   },
   "outputs": [
    {
     "name": "stdout",
     "output_type": "stream",
     "text": [
      "[-2478.125 -1718.75  -1212.5    -875.     -650.     -500.     -400.     -300.\n",
      "  -200.     -100.        0.      100.      200.      300.      400.      500.\n",
      "   650.      875.     1212.5    1718.75   2478.125]\n"
     ]
    }
   ],
   "source": [
    "print M.vectorNz"
   ]
  },
  {
   "cell_type": "code",
   "execution_count": 6,
   "metadata": {
    "collapsed": false
   },
   "outputs": [
    {
     "data": {
      "text/plain": [
       "<matplotlib.colorbar.Colorbar instance at 0x7fcef35a7d40>"
      ]
     },
     "execution_count": 6,
     "metadata": {},
     "output_type": "execute_result"
    },
    {
     "data": {
      "image/png": "[encoded data removed]",
      "text/plain": [
       "<matplotlib.figure.Figure at 0x7fcee87a3d10>"
      ]
     },
     "metadata": {},
     "output_type": "display_data"
    }
   ],
   "source": [
    "# Setup the model\n",
    "conds = [1,1e-2]\n",
    "elev = 300\n",
    "sig = simpeg.Utils.ModelBuilder.defineBlock(M.gridCC,[-100000,-100000,-200],[100000,100000,0],conds)\n",
    "sig[M.gridCC[:,2]>elev] = 1e-8\n",
    "sig[M.gridCC[:,2]<-500] = 1e-1\n",
    "sig[M.gridCC[:,2]<-900] = 1e-2\n",
    "# sigBG = np.zeros(M.nC) + conds[0]\n",
    "# sigBG[M.gridCC[:,2]>0] = 1e-8\n",
    "sigBG = sig\n",
    "colorbar(M.plotImage(log10(sig)))"
   ]
  },
  {
   "cell_type": "code",
   "execution_count": 7,
   "metadata": {
    "collapsed": false
   },
   "outputs": [],
   "source": [
    "# Get the mass matrix \n",
    "# The model\n",
    "Msig = M.getEdgeInnerProduct(sig)\n",
    "MsigBG = M.getEdgeInnerProduct(sigBG)\n",
    "Mmu = M.getFaceInnerProduct(mu_0, invProp=True)"
   ]
  },
  {
   "cell_type": "code",
   "execution_count": 8,
   "metadata": {
    "collapsed": false
   },
   "outputs": [],
   "source": [
    "freq = 0.0001\n",
    "C = M.edgeCurl\n",
    "A = C.T*Mmu*C - 1j*omega(freq)*Msig\n",
    "ARH = -(C.T*Mmu*C - 1j*omega(freq)*MsigBG)"
   ]
  },
  {
   "cell_type": "code",
   "execution_count": 9,
   "metadata": {
    "collapsed": false
   },
   "outputs": [
    {
     "name": "stdout",
     "output_type": "stream",
     "text": [
      "CPU times: user 7.68 s, sys: 27.9 ms, total: 7.7 s\n",
      "Wall time: 7.7 s\n"
     ]
    }
   ],
   "source": [
    "%%time\n",
    "# Solve the systems for each polarization\n",
    "Ainv = simpeg.SolverLU(A)"
   ]
  },
  {
   "cell_type": "code",
   "execution_count": 10,
   "metadata": {
    "collapsed": false
   },
   "outputs": [],
   "source": [
    "# Need to solve x and y polarizations of the source.\n",
    "from simpegMT.Utils import get1DEfields\n",
    "# Get a 1d solution for a halfspace background\n",
    "mesh1d = simpeg.Mesh.TensorMesh([M.hz],np.array([M.x0[2]]))\n",
    "e0_1d = get1DEfields(mesh1d,M.r(sigBG,'CC','CC','M')[0,0,:],freq,sourceAmp=None).conj()\n",
    "# Setup the primary field (p) for the x (east) polarization (_px)\n",
    "ex_px = np.zeros((M.vnEx),dtype=complex)\n",
    "ey_px = np.zeros(M.nEy,dtype=complex)\n",
    "ez_px = np.zeros(M.nEz,dtype=complex)\n",
    "# Assign the source to ex_x\n",
    "for i in arange(M.vnEx[0]):\n",
    "    for j in arange(M.vnEx[1]):\n",
    "        ex_px[i,j,:] = -e0_1d\n",
    "ep_px = np.r_[simpeg.Utils.mkvc(ex_px),ey_px,ez_px]\n",
    "rhs_px = ARH.dot(ep_px)"
   ]
  },
  {
   "cell_type": "code",
   "execution_count": 11,
   "metadata": {
    "collapsed": false
   },
   "outputs": [],
   "source": [
    "# Setup y (north) polarization (_y)\n",
    "ex_py = np.zeros(M.nEx, dtype='complex128')\n",
    "ey_py = np.zeros((M.vnEy), dtype='complex128')\n",
    "ez_py = np.zeros(M.nEz, dtype='complex128')\n",
    "# Assign the source to ey_y\n",
    "for i in arange(M.vnEy[0]):\n",
    "    for j in arange(M.vnEy[1]):\n",
    "        ey_py[i,j,:] = e0_1d  \n",
    "        \n",
    "ep_py = np.r_[ex_py,simpeg.Utils.mkvc(ey_py),ez_py]\n",
    "rhs_py = ARH.dot(ep_py)"
   ]
  },
  {
   "cell_type": "markdown",
   "metadata": {},
   "source": [
    "We are using splu in scipy package. This is bit slow, but on the cluster you can use mumps, which might a lot faster. We can think about having better iterative solver. "
   ]
  },
  {
   "cell_type": "code",
   "execution_count": 12,
   "metadata": {
    "collapsed": false
   },
   "outputs": [
    {
     "name": "stdout",
     "output_type": "stream",
     "text": [
      "CPU times: user 100 ms, sys: 0 ns, total: 100 ms\n",
      "Wall time: 99.4 ms\n"
     ]
    }
   ],
   "source": [
    "%%time\n",
    "es_px = Ainv*rhs_px\n",
    "es_py = Ainv*rhs_py"
   ]
  },
  {
   "cell_type": "code",
   "execution_count": 13,
   "metadata": {
    "collapsed": true
   },
   "outputs": [],
   "source": [
    "# Need to sum the ep and es to get the total field.\n",
    "e_x = es_px #+ ep_px\n",
    "e_y = es_py #+ ep_py"
   ]
  },
  {
   "cell_type": "markdown",
   "metadata": {},
   "source": [
    "I want to visualize electrical field, which is a vector, so I average them on to cell center. Also I want to see current density ($\\vec{j} = \\sigma \\vec{e}$)."
   ]
  },
  {
   "cell_type": "code",
   "execution_count": 14,
   "metadata": {
    "collapsed": false
   },
   "outputs": [],
   "source": [
    "Meinv = M.getEdgeInnerProduct(np.ones_like(sig), invMat=True)"
   ]
  },
  {
   "cell_type": "code",
   "execution_count": 15,
   "metadata": {
    "collapsed": false
   },
   "outputs": [],
   "source": [
    "j_x = Meinv*Msig*e_x\n",
    "j_y = Meinv*Msig*e_x"
   ]
  },
  {
   "cell_type": "code",
   "execution_count": 16,
   "metadata": {
    "collapsed": false
   },
   "outputs": [
    {
     "data": {
      "text/plain": [
       "(15200,)"
      ]
     },
     "execution_count": 16,
     "metadata": {},
     "output_type": "execute_result"
    }
   ],
   "source": [
    "e_x.shape"
   ]
  },
  {
   "cell_type": "code",
   "execution_count": 17,
   "metadata": {
    "collapsed": false
   },
   "outputs": [],
   "source": [
    "e_x_CC = M.aveE2CCV*e_x\n",
    "e_y_CC = M.aveE2CCV*e_y\n",
    "j_x_CC = M.aveE2CCV*j_x\n",
    "j_y_CC = M.aveE2CCV*j_y\n",
    "# j_x_CC = Utils.sdiag(np.r_[sig, sig, sig])*e_x_CC"
   ]
  },
  {
   "cell_type": "markdown",
   "metadata": {},
   "source": [
    "Then use \"plotSlice\" function, to visualize 2D sections"
   ]
  },
  {
   "cell_type": "code",
   "execution_count": 18,
   "metadata": {
    "collapsed": false,
    "scrolled": true
   },
   "outputs": [
    {
     "data": {
      "image/png": "[encoded data removed]",
      "text/plain": [
       "<matplotlib.figure.Figure at 0x7fcee86ce690>"
      ]
     },
     "metadata": {},
     "output_type": "display_data"
    }
   ],
   "source": [
    "fig, ax = plt.subplots(1,2, figsize = (12, 5))\n",
    "dat0 = M.plotSlice(abs(e_x_CC), vType='CCv', view='vec', streamOpts={'color': 'k'}, normal='Y', ax = ax[0])\n",
    "cb0 = plt.colorbar(dat0[0], ax = ax[0])\n",
    "dat1 = M.plotSlice(abs(j_x_CC), vType='CCv', view='vec', streamOpts={'color': 'k'}, normal='Y', ax = ax[1])\n",
    "cb1 = plt.colorbar(dat1[0], ax = ax[1])"
   ]
  },
  {
   "cell_type": "markdown",
   "metadata": {},
   "source": [
    "Is it reasonable?: Based on that you put resistive target that makes sense to me; current does not want to flow on resistive target so they just do roundabout:). And see air interface. It is continuous on current but not on electric field, which looks reasonable. "
   ]
  },
  {
   "cell_type": "code",
   "execution_count": 19,
   "metadata": {
    "collapsed": false
   },
   "outputs": [],
   "source": [
    "# Calculate the data\n",
    "rx_x, rx_y = np.meshgrid(np.arange(-500,501,50),np.arange(-500,501,50))\n",
    "rx_loc = np.hstack((simpeg.Utils.mkvc(rx_x,2),simpeg.Utils.mkvc(rx_y,2),elev+np.zeros((np.prod(rx_x.shape),1))))\n",
    "# Get the projection matrices\n",
    "Qex = M.getInterpolationMat(rx_loc,'Ex')\n",
    "Qey = M.getInterpolationMat(rx_loc,'Ey')\n",
    "Qez = M.getInterpolationMat(rx_loc,'Ez')\n",
    "Qfx = M.getInterpolationMat(rx_loc,'Fx')\n",
    "Qfy = M.getInterpolationMat(rx_loc,'Fy')\n",
    "Qfz = M.getInterpolationMat(rx_loc,'Fz')"
   ]
  },
  {
   "cell_type": "code",
   "execution_count": 20,
   "metadata": {
    "collapsed": false
   },
   "outputs": [],
   "source": [
    "e_x_loc = np.hstack([simpeg.Utils.mkvc(Qex*e_x,2),simpeg.Utils.mkvc(Qey*e_x,2),simpeg.Utils.mkvc(Qez*e_x,2)])\n",
    "e_y_loc = np.hstack([simpeg.Utils.mkvc(Qex*e_y,2),simpeg.Utils.mkvc(Qey*e_y,2),simpeg.Utils.mkvc(Qez*e_y,2)])\n",
    "Ciw = -C/(1j*omega(freq)*mu_0)\n",
    "h_x_loc = np.hstack([simpeg.Utils.mkvc(Qfx*Ciw*e_x,2),simpeg.Utils.mkvc(Qfy*Ciw*e_x,2),simpeg.Utils.mkvc(Qfz*Ciw*e_x,2)])\n",
    "h_y_loc = np.hstack([simpeg.Utils.mkvc(Qfx*Ciw*e_y,2),simpeg.Utils.mkvc(Qfy*Ciw*e_y,2),simpeg.Utils.mkvc(Qfz*Ciw*e_y,2)])"
   ]
  },
  {
   "cell_type": "code",
   "execution_count": 21,
   "metadata": {
    "collapsed": false
   },
   "outputs": [],
   "source": [
    "# Make a combined matrix\n",
    "dt = np.dtype([('ex1',complex),('ey1',complex),('ez1',complex),('hx1',complex),('hy1',complex),('hz1',complex),('ex2',complex),('ey2',complex),('ez2',complex),('hx2',complex),('hy2',complex),('hz2',complex)])\n",
    "combMat = np.empty((len(e_x_loc)),dtype=dt)\n",
    "combMat['ex1'] = e_x_loc[:,0]\n",
    "combMat['ey1'] = e_x_loc[:,1]\n",
    "combMat['ez1'] = e_x_loc[:,2]\n",
    "combMat['ex2'] = e_y_loc[:,0]\n",
    "combMat['ey2'] = e_y_loc[:,1]\n",
    "combMat['ez2'] = e_y_loc[:,2]\n",
    "combMat['hx1'] = h_x_loc[:,0]\n",
    "combMat['hy1'] = h_x_loc[:,1]\n",
    "combMat['hz1'] = h_x_loc[:,2]\n",
    "combMat['hx2'] = h_y_loc[:,0]\n",
    "combMat['hy2'] = h_y_loc[:,1]\n",
    "combMat['hz2'] = h_y_loc[:,2]\n"
   ]
  },
  {
   "cell_type": "code",
   "execution_count": 22,
   "metadata": {
    "collapsed": false
   },
   "outputs": [],
   "source": [
    "def calculateImpedance(fieldsData):\n",
    "    ''' \n",
    "    Function that calculates MT impedance data from a rec array with E and H field data from both polarizations\n",
    "    '''\n",
    "    zxx = (fieldsData['ex1']*fieldsData['hy2'] - fieldsData['ex2']*fieldsData['hy1'])/(fieldsData['hx1']*fieldsData['hy2'] - fieldsData['hx2']*fieldsData['hy1'])\n",
    "    zxy = (-fieldsData['ex1']*fieldsData['hx2'] + fieldsData['ex2']*fieldsData['hx1'])/(fieldsData['hx1']*fieldsData['hy2'] - fieldsData['hx2']*fieldsData['hy1'])\n",
    "    zyx = (fieldsData['ey1']*fieldsData['hy2'] - fieldsData['ey2']*fieldsData['hy1'])/(fieldsData['hx1']*fieldsData['hy2'] - fieldsData['hx2']*fieldsData['hy1'])\n",
    "    zyy = (-fieldsData['ey1']*fieldsData['hx2'] + fieldsData['ey2']*fieldsData['hx1'])/(fieldsData['hx1']*fieldsData['hy2'] - fieldsData['hx2']*fieldsData['hy1'])\n",
    "    return zxx, zxy, zyx, zyy\n",
    "\n",
    "zxx, zxy, zyx, zyy = calculateImpedance(combMat)"
   ]
  },
  {
   "cell_type": "code",
   "execution_count": null,
   "metadata": {
    "collapsed": false
   },
   "outputs": [],
   "source": []
  },
  {
   "cell_type": "code",
   "execution_count": 23,
   "metadata": {
    "collapsed": false
   },
   "outputs": [
    {
     "name": "stdout",
     "output_type": "stream",
     "text": [
      "(array([ 91.22293905]), array([ 42.49194681]))\n",
      "(array([ 91.22293906]), array([-137.50805341]))\n"
     ]
    }
   ],
   "source": [
    "ind = np.where(np.sum(np.power(rx_loc - np.array([0,0,elev]),2),axis=1)< 5)\n",
    "def appResPhs(freq,z):\n",
    "    app_res = ((1./(8e-7*np.pi**2))/freq)*np.abs(z)**2\n",
    "    app_phs = np.arctan2(z.imag,z.real)*(180/np.pi)\n",
    "    return app_res, app_phs\n",
    "print appResPhs(freq,zyx[ind])\n",
    "print appResPhs(freq,zxy[ind])"
   ]
  },
  {
   "cell_type": "code",
   "execution_count": 24,
   "metadata": {
    "collapsed": false
   },
   "outputs": [
    {
     "name": "stdout",
     "output_type": "stream",
     "text": [
      "[ 1.00551946-0.00563967j] [ 2776.87342066+2515.31936068j]\n",
      "(array([ 91.22293906]), array([ 41.84924238]))\n"
     ]
    }
   ],
   "source": [
    "e0_1d = e0_1d.conj()\n",
    "Qex = mesh1d.getInterpolationMat(np.array([elev]),'Ex')\n",
    "Qfx = mesh1d.getInterpolationMat(np.array([elev]),'Fx')\n",
    "h0_1dC = -(mesh1d.nodalGrad*e0_1d)/(1j*omega(freq)*mu_0)\n",
    "h0_1d = mesh1d.getInterpolationMat(mesh1d.vectorNx,'Ex')*h0_1dC\n",
    "indSur = np.where(mesh1d.vectorNx==elev)\n",
    "\n",
    "print (Qfx*e0_1d),(Qex*h0_1dC)#e0_1d, h0_1d\n",
    "print appResPhs(freq,(Qfx*e0_1d)/(Qex*h0_1dC).conj())"
   ]
  },
  {
   "cell_type": "code",
   "execution_count": 25,
   "metadata": {
    "collapsed": false
   },
   "outputs": [],
   "source": [
    "import simpegMT as simpegmt\n",
    "sig1D = M.r(sig,'CC','CC','M')[0,0,:]\n",
    "anaEd, anaEu, anaHd, anaHu = simpegmt.Utils.MT1Danalytic.getEHfields(mesh1d,sig1D,freq,mesh1d.vectorNx)\n",
    "anaEtemp = anaEd+anaEu\n",
    "anaHtemp = anaHd+anaHu\n",
    "# Scale the solution\n",
    "anaE = (anaEtemp/anaEtemp[-1])#.conj()\n",
    "anaH = (anaHtemp/anaEtemp[-1])#.conj()"
   ]
  },
  {
   "cell_type": "code",
   "execution_count": 26,
   "metadata": {
    "collapsed": false
   },
   "outputs": [
    {
     "name": "stdout",
     "output_type": "stream",
     "text": [
      "[ 0.00019869+0.00019869j  0.00019869+0.00019869j  0.00019869+0.00019869j\n",
      "  0.00019869+0.00019869j  0.00019868+0.0001971j   0.00019867+0.00019605j\n",
      "  0.00019867+0.00019605j  0.00019867+0.00019605j  0.00019867+0.00019605j\n",
      "  0.00019842+0.00018849j  0.00019791+0.00018125j  0.00019791+0.00018125j\n",
      "  0.00019790+0.00018126j  0.00019789+0.00018127j  0.00019789+0.00018135j\n",
      "  0.00019789+0.00018143j  0.00019789+0.00018154j  0.00019789+0.00018172j\n",
      "  0.00019789+0.00018199j  0.00019789+0.00018239j  0.00019789+0.00018299j]\n",
      "(array([ 91.21391269]), array([ 42.48936455]))\n",
      "(array([ 91.21391269]), array([-137.51063545]))\n"
     ]
    }
   ],
   "source": [
    "anaZ = anaE/anaH\n",
    "indSur = np.where(mesh1d.vectorNx==elev)\n",
    "print anaZ\n",
    "print appResPhs(freq,anaZ[indSur])\n",
    "print appResPhs(freq,-anaZ[indSur])"
   ]
  },
  {
   "cell_type": "code",
   "execution_count": 27,
   "metadata": {
    "collapsed": false
   },
   "outputs": [
    {
     "data": {
      "text/plain": [
       "array([-2478.125, -1718.75 , -1212.5  ,  -875.   ,  -650.   ,  -500.   ,\n",
       "        -400.   ,  -300.   ,  -200.   ,  -100.   ,     0.   ,   100.   ,\n",
       "         200.   ,   300.   ,   400.   ,   500.   ,   650.   ,   875.   ,\n",
       "        1212.5  ,  1718.75 ,  2478.125])"
      ]
     },
     "execution_count": 27,
     "metadata": {},
     "output_type": "execute_result"
    }
   ],
   "source": [
    "mesh1d.vectorNx"
   ]
  },
  {
   "cell_type": "code",
   "execution_count": null,
   "metadata": {
    "collapsed": true
   },
   "outputs": [],
   "source": []
  },
  {
   "cell_type": "code",
   "execution_count": null,
   "metadata": {
    "collapsed": true
   },
   "outputs": [],
   "source": []
  }
 ],
 "metadata": {
  "kernelspec": {
   "display_name": "Python 2",
   "language": "python",
   "name": "python2"
  },
  "language_info": {
   "codemirror_mode": {
    "name": "ipython",
    "version": 2
   },
   "file_extension": ".py",
   "mimetype": "text/x-python",
   "name": "python",
   "nbconvert_exporter": "python",
   "pygments_lexer": "ipython2",
   "version": "2.7.9"
  }
 },
 "nbformat": 4,
 "nbformat_minor": 0
}
