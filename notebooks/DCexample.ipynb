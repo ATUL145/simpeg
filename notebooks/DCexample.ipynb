{
 "metadata": {
  "name": ""
 },
 "nbformat": 3,
 "nbformat_minor": 0,
 "worksheets": [
  {
   "cells": [
    {
     "cell_type": "code",
     "collapsed": false,
     "input": [
      "from SimPEG import *\n",
      "import simpegDC as DC\n",
      "%pylab inline"
     ],
     "language": "python",
     "metadata": {},
     "outputs": [
      {
       "output_type": "stream",
       "stream": "stdout",
       "text": [
        "Populating the interactive namespace from numpy and matplotlib\n"
       ]
      }
     ],
     "prompt_number": 1
    },
    {
     "cell_type": "code",
     "collapsed": false,
     "input": [
      "cs = 25.\n",
      "hx = [(cs,7, -1.3),(cs,21),(cs,7, 1.3)]\n",
      "hy = [(cs,7, -1.3),(cs,21),(cs,7, 1.3)]\n",
      "hz = [(cs,7, -1.3),(cs,20)]"
     ],
     "language": "python",
     "metadata": {},
     "outputs": [],
     "prompt_number": 30
    },
    {
     "cell_type": "code",
     "collapsed": false,
     "input": [
      "mesh = Mesh.TensorMesh([hx, hy, hz], 'CCN')"
     ],
     "language": "python",
     "metadata": {},
     "outputs": [],
     "prompt_number": 31
    },
    {
     "cell_type": "code",
     "collapsed": false,
     "input": [
      "sighalf = 1e-2\n",
      "sigma = np.ones(mesh.nC)*sighalf"
     ],
     "language": "python",
     "metadata": {},
     "outputs": [],
     "prompt_number": 32
    },
    {
     "cell_type": "code",
     "collapsed": false,
     "input": [
      "xtemp = np.linspace(-150, 150, 21)\n",
      "ytemp = np.linspace(-150, 150, 21)\n",
      "xyz_rxP = Utils.ndgrid(xtemp-10., ytemp, np.r_[0.])\n",
      "xyz_rxN = Utils.ndgrid(xtemp+10., ytemp, np.r_[0.])\n",
      "xyz_rxM = Utils.ndgrid(xtemp, ytemp, np.r_[0.])"
     ],
     "language": "python",
     "metadata": {},
     "outputs": [],
     "prompt_number": 45
    },
    {
     "cell_type": "code",
     "collapsed": false,
     "input": [
      "fig, ax = plt.subplots(1,1, figsize = (5,5))\n",
      "mesh.plotSlice(sigma, grid=True, ax = ax)\n",
      "ax.plot(xyz_rxP[:,0],xyz_rxP[:,1], 'w.')\n",
      "ax.plot(xyz_rxN[:,0],xyz_rxN[:,1], 'r.', ms = 3)"
     ],
     "language": "python",
     "metadata": {},
     "outputs": [
      {
       "metadata": {},
       "output_type": "pyout",
       "prompt_number": 46,
       "text": [
        "[<matplotlib.lines.Line2D at 0xca18f60>]"
       ]
      },
      {
       "metadata": {},
       "output_type": "display_data",
       "png": "[encoded data removed]",
       "text": [
        "<matplotlib.figure.Figure at 0xca186d8>"
       ]
      }
     ],
     "prompt_number": 46
    },
    {
     "cell_type": "code",
     "collapsed": false,
     "input": [
      "rx = DC.DipoleRx(xyz_rxP, xyz_rxN)\n",
      "tx = DC.DipoleTx([-200, 0, -12.5],[+200, 0, -12.5], [rx])"
     ],
     "language": "python",
     "metadata": {},
     "outputs": [],
     "prompt_number": 47
    },
    {
     "cell_type": "code",
     "collapsed": false,
     "input": [
      "survey = DC.SurveyDC([tx])\n",
      "problem = DC.ProblemDC(mesh)\n",
      "problem.pair(survey)"
     ],
     "language": "python",
     "metadata": {},
     "outputs": [],
     "prompt_number": 48
    },
    {
     "cell_type": "code",
     "collapsed": false,
     "input": [
      "data = survey.dpred(sigma)"
     ],
     "language": "python",
     "metadata": {},
     "outputs": [],
     "prompt_number": 49
    },
    {
     "cell_type": "code",
     "collapsed": false,
     "input": [
      "a = np.random.randn(3)"
     ],
     "language": "python",
     "metadata": {},
     "outputs": [],
     "prompt_number": 50
    },
    {
     "cell_type": "code",
     "collapsed": false,
     "input": [
      "print (a.reshape([1,-1])).repeat(3, axis = 0)\n",
      "print (a.reshape([1,-1])).repeat(3, axis = 0).sum(axis=1)"
     ],
     "language": "python",
     "metadata": {},
     "outputs": [
      {
       "output_type": "stream",
       "stream": "stdout",
       "text": [
        "[[ 0.46013066  1.09015012  1.85863975]\n",
        " [ 0.46013066  1.09015012  1.85863975]\n",
        " [ 0.46013066  1.09015012  1.85863975]]\n",
        "[ 3.40892053  3.40892053  3.40892053]\n"
       ]
      }
     ],
     "prompt_number": 51
    },
    {
     "cell_type": "code",
     "collapsed": false,
     "input": [
      "def DChalf(txlocP, txlocN, rxloc, sigma, I=1.):\n",
      "    rp = (txlocP.reshape([1,-1])).repeat(rxloc.shape[0], axis = 0)\n",
      "    rn = (txlocN.reshape([1,-1])).repeat(rxloc.shape[0], axis = 0)\n",
      "    rP = np.sqrt(((rxloc-rp)**2).sum(axis=1))\n",
      "    rN = np.sqrt(((rxloc-rn)**2).sum(axis=1))\n",
      "    return I/(sigma*2.*np.pi)*(1/rP-1/rN)"
     ],
     "language": "python",
     "metadata": {},
     "outputs": [],
     "prompt_number": 52
    },
    {
     "cell_type": "code",
     "collapsed": false,
     "input": [
      "data_analP = DChalf(np.r_[-200, 0, 0.],np.r_[+200, 0, 0.], xyz_rxP, sighalf)\n",
      "data_analN = DChalf(np.r_[-200, 0, 0.],np.r_[+200, 0, 0.], xyz_rxN, sighalf)\n",
      "data_anal = data_analP-data_analN"
     ],
     "language": "python",
     "metadata": {},
     "outputs": [],
     "prompt_number": 53
    },
    {
     "cell_type": "code",
     "collapsed": false,
     "input": [
      "Data_anal = data_anal.reshape((21, 21), order = 'F')\n",
      "Data = data.reshape((21, 21), order = 'F')\n",
      "X = xyz_rxM[:,0].reshape((21, 21), order = 'F')\n",
      "Y = xyz_rxM[:,1].reshape((21, 21), order = 'F')"
     ],
     "language": "python",
     "metadata": {},
     "outputs": [],
     "prompt_number": 54
    },
    {
     "cell_type": "code",
     "collapsed": false,
     "input": [
      "fig, ax = plt.subplots(1,2, figsize = (12, 5))\n",
      "vmin = np.r_[data, data_anal].min()\n",
      "vmax = np.r_[data, data_anal].max()\n",
      "dat0 = ax[0].contourf(X, Y, Data, 60, vmin = vmin, vmax = vmax)\n",
      "dat1 = ax[1].contourf(X, Y, Data_anal, 60, vmin = vmin, vmax = vmax)\n",
      "cb0 = plt.colorbar(dat1, orientation = 'horizontal', ax = ax[0])\n",
      "cb1 = plt.colorbar(dat1, orientation = 'horizontal', ax = ax[1])"
     ],
     "language": "python",
     "metadata": {},
     "outputs": [
      {
       "metadata": {},
       "output_type": "display_data",
       "png": "[encoded data removed]",
       "text": [
        "<matplotlib.figure.Figure at 0xc854160>"
       ]
      }
     ],
     "prompt_number": 55
    }
   ],
   "metadata": {}
  }
 ]
}