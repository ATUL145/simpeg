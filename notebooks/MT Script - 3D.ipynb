{
 "metadata": {
  "name": "",
  "signature": "sha256:5ff50687aa6b5eff8d9f077fee29dfb14e6eaa12563cbe8511b1dddc2ba76e23"
 },
 "nbformat": 3,
 "nbformat_minor": 0,
 "worksheets": [
  {
   "cells": [
    {
     "cell_type": "code",
     "collapsed": false,
     "input": [
      "from SimPEG import *\n",
      "from scipy.constants import mu_0\n",
      "\n",
      "\n",
      "def omega(freq):\n",
      "    \"\"\"Change frequency to angular frequency, omega\"\"\"\n",
      "    return 2.*np.pi*freq"
     ],
     "language": "python",
     "metadata": {},
     "outputs": [],
     "prompt_number": 1
    },
    {
     "cell_type": "code",
     "collapsed": false,
     "input": [
      "M = Mesh.TensorMesh([[(100.,32)],[(100.,34)],[(100.,18)]], x0='CCC')"
     ],
     "language": "python",
     "metadata": {},
     "outputs": [],
     "prompt_number": 2
    },
    {
     "cell_type": "code",
     "collapsed": false,
     "input": [
      "print M"
     ],
     "language": "python",
     "metadata": {},
     "outputs": [
      {
       "output_type": "stream",
       "stream": "stdout",
       "text": [
        "  ---- 3-D TensorMesh ----  \n",
        "   x0: -1600.00\n",
        "   y0: -1700.00\n",
        "   z0: -900.00\n",
        "  nCx: 32\n",
        "  nCy: 34\n",
        "  nCz: 18\n",
        "   hx: 32*100.00\n",
        "   hy: 34*100.00\n",
        "   hz: 18*100.00\n"
       ]
      }
     ],
     "prompt_number": 3
    },
    {
     "cell_type": "code",
     "collapsed": false,
     "input": [
      "# Setup the model\n",
      "conds = [1e-2,1]\n",
      "sig = Utils.ModelBuilder.defineBlock(M.gridCC,[0,0,-300],[500,500,-100],conds)\n",
      "sig[M.gridCC[:,2]>0] = 1e-8\n",
      "sigBG = np.zeros(M.nC) + conds[0]\n",
      "sigBG[M.gridCC[:,2]>0] = 1e-8\n",
      "colorbar(M.plotImage(log10(sig)))"
     ],
     "language": "python",
     "metadata": {},
     "outputs": [
      {
       "metadata": {},
       "output_type": "pyout",
       "prompt_number": 4,
       "text": [
        "<matplotlib.colorbar.Colorbar instance at 0x7f55faf27290>"
       ]
      },
      {
       "metadata": {},
       "output_type": "display_data",
       "png": "[encoded data removed]",
       "text": [
        "<matplotlib.figure.Figure at 0x7f55de17de90>"
       ]
      }
     ],
     "prompt_number": 4
    },
    {
     "cell_type": "code",
     "collapsed": false,
     "input": [
      "# Get the mass matrix \n",
      "# The model\n",
      "Msig = M.getEdgeInnerProduct(sig)\n",
      "MsigBG = M.getEdgeInnerProduct(sigBG)\n",
      "\n",
      "Mmu = M.getFaceInnerProduct(mu_0, invProp=True)"
     ],
     "language": "python",
     "metadata": {},
     "outputs": [],
     "prompt_number": 5
    },
    {
     "cell_type": "code",
     "collapsed": false,
     "input": [
      "freq = 1e1\n",
      "C = M.edgeCurl\n",
      "A = C.T*Mmu*C - 1j*omega(freq)*Msig\n",
      "ABG = C.T*Mmu*C - 1j*omega(freq)*MsigBG"
     ],
     "language": "python",
     "metadata": {},
     "outputs": [],
     "prompt_number": 6
    },
    {
     "cell_type": "code",
     "collapsed": false,
     "input": [
      "# Need to solve x and y polarizations of the source.\n",
      "from simpegMT.Utils import get1DEfields\n",
      "# Get a 1d solution for a halfspace background\n",
      "mesh1d = simpeg.Mesh.TensorMesh([M.hz],np.array([M.x0[2]]))\n",
      "e0_1d = get1DEfields(mesh1d,M.r(sigBG,'CC','CC','M')[0,0,:],freq)\n",
      "# Setup x (east) polarization (_x)\n",
      "ex_x = np.zeros(M.vnEx,dtype=complex)\n",
      "ey_x = np.zeros((M.nEy,1),dtype=complex)\n",
      "ez_x = np.zeros((M.nEz,1),dtype=complex)\n",
      "# Assign the source to ex_x\n",
      "for i in arange(M.vnEx[0]):\n",
      "    for j in arange(M.vnEx[2]):\n",
      "        ex_x[i,j,:] = e0_1d\n",
      "eBG_x = np.vstack((simpeg.Utils.mkvc(M.r(ex_x,'Ex','Ex','V'),2),ey_x,ez_x))\n",
      "rhs_x = ABG.dot(eBG_x)"
     ],
     "language": "python",
     "metadata": {},
     "outputs": [],
     "prompt_number": 50
    },
    {
     "cell_type": "code",
     "collapsed": false,
     "input": [
      "# Setup y (north) polarization (_y)\n",
      "ex_y = np.zeros((M.vnEx,1))\n",
      "ey_y = np.zeros(M.vnEy)\n",
      "ez_y = np.zeros((M.vnEz,1))\n",
      "# Assign the source to ex_x\n",
      "for i in arange(M.vnEy[0]):\n",
      "    for j in arange(M.vnEy[2]):\n",
      "        ey_y[i,j,:] = e0_1d\n",
      "eBG_y = np.vstack((ex_y,simpeg.Utils.mkvc(M.r(ey_y,'Ey','Ey','V'),2),ez_y))\n",
      "rhs_y = ABG.dot(eBG_y)"
     ],
     "language": "python",
     "metadata": {},
     "outputs": [],
     "prompt_number": 12
    },
    {
     "cell_type": "code",
     "collapsed": false,
     "input": [
      "# Solve the systems for each polarization\n",
      "Ainv = simpeg.SolverCG(A)\n",
      "e_x = Ainv*rhs_x\n",
      "\n",
      "e_y = Ainv*rhs_x"
     ],
     "language": "python",
     "metadata": {},
     "outputs": []
    },
    {
     "cell_type": "code",
     "collapsed": false,
     "input": [],
     "language": "python",
     "metadata": {},
     "outputs": [],
     "prompt_number": 28
    },
    {
     "cell_type": "code",
     "collapsed": false,
     "input": [
      "\n"
     ],
     "language": "python",
     "metadata": {},
     "outputs": [
      {
       "ename": "NameError",
       "evalue": "name 'e0_1d' is not defined",
       "output_type": "pyerr",
       "traceback": [
        "\u001b[1;31m---------------------------------------------------------------------------\u001b[0m\n\u001b[1;31mNameError\u001b[0m                                 Traceback (most recent call last)",
        "\u001b[1;32m<ipython-input-36-4c5017fec386>\u001b[0m in \u001b[0;36m<module>\u001b[1;34m()\u001b[0m\n\u001b[0;32m      5\u001b[0m \u001b[1;32mfor\u001b[0m \u001b[0mi\u001b[0m \u001b[1;32min\u001b[0m \u001b[0marange\u001b[0m\u001b[1;33m(\u001b[0m\u001b[0mM\u001b[0m\u001b[1;33m.\u001b[0m\u001b[0mvnEx\u001b[0m\u001b[1;33m[\u001b[0m\u001b[1;36m0\u001b[0m\u001b[1;33m]\u001b[0m\u001b[1;33m)\u001b[0m\u001b[1;33m:\u001b[0m\u001b[1;33m\u001b[0m\u001b[0m\n\u001b[0;32m      6\u001b[0m     \u001b[1;32mfor\u001b[0m \u001b[0mj\u001b[0m \u001b[1;32min\u001b[0m \u001b[0marange\u001b[0m\u001b[1;33m(\u001b[0m\u001b[0mM\u001b[0m\u001b[1;33m.\u001b[0m\u001b[0mvnEx\u001b[0m\u001b[1;33m[\u001b[0m\u001b[1;36m2\u001b[0m\u001b[1;33m]\u001b[0m\u001b[1;33m)\u001b[0m\u001b[1;33m:\u001b[0m\u001b[1;33m\u001b[0m\u001b[0m\n\u001b[1;32m----> 7\u001b[1;33m         \u001b[0mex_x\u001b[0m\u001b[1;33m[\u001b[0m\u001b[0mi\u001b[0m\u001b[1;33m,\u001b[0m\u001b[0mj\u001b[0m\u001b[1;33m,\u001b[0m\u001b[1;33m:\u001b[0m\u001b[1;33m]\u001b[0m \u001b[1;33m=\u001b[0m \u001b[0me0_1d\u001b[0m\u001b[1;33m\u001b[0m\u001b[0m\n\u001b[0m",
        "\u001b[1;31mNameError\u001b[0m: name 'e0_1d' is not defined"
       ]
      }
     ],
     "prompt_number": 36
    },
    {
     "cell_type": "code",
     "collapsed": false,
     "input": [
      "# Get a 1d solution for a halfspace background\n",
      "mesh1d = simpeg.Mesh.TensorMesh(M.hz,M.x0[2])\n",
      "e0_1d = get1DEfields(mesh1d,M.r(sigBG,'CC','CC','M')[0,0,:],freq)\n",
      "# Setup x (east) polarization (_x)\n",
      "ex_x = np.zeros(M.vnEx)\n",
      "ey_x = np.zeros(M.vnEy)\n",
      "ez_x = np.zeros(M.vnEz)\n",
      "# Assign the source to ex_x\n",
      "for i in arange(M.vnEx[0]):\n",
      "    for j in arange(M.vnEx[2]):\n",
      "        ex_x[i,j,:] = e0_1d\n",
      "eBG_x = np.vstack(M.r(ex_x,'Ex','Ex','V'),M.r(ex_y)"
     ],
     "language": "python",
     "metadata": {},
     "outputs": [
      {
       "ename": "SyntaxError",
       "evalue": "invalid syntax (<ipython-input-34-f14ef29654fd>, line 12)",
       "output_type": "pyerr",
       "traceback": [
        "\u001b[1;36m  File \u001b[1;32m\"<ipython-input-34-f14ef29654fd>\"\u001b[1;36m, line \u001b[1;32m12\u001b[0m\n\u001b[1;33m    eBG_x = np.vstack(M.r(ex_x,'Ex','Ex','V'),M.r(ex_y)\u001b[0m\n\u001b[1;37m                                                       ^\u001b[0m\n\u001b[1;31mSyntaxError\u001b[0m\u001b[1;31m:\u001b[0m invalid syntax\n"
       ]
      }
     ],
     "prompt_number": 34
    },
    {
     "cell_type": "code",
     "collapsed": false,
     "input": [],
     "language": "python",
     "metadata": {},
     "outputs": []
    }
   ],
   "metadata": {}
  }
 ]
}