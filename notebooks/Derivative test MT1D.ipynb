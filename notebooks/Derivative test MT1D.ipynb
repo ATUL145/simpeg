{
 "cells": [
  {
   "cell_type": "markdown",
   "metadata": {},
   "source": [
    "Testing derivaties for 1D MT problem.\n",
    "\n",
    "Especially the rx.projectFieldsDeriv"
   ]
  },
  {
   "cell_type": "code",
   "execution_count": 1,
   "metadata": {
    "collapsed": false
   },
   "outputs": [],
   "source": [
    "import SimPEG as simpeg\n",
    "import simpegEM as simpegem, simpegMT as simpegmt\n",
    "from SimPEG.Utils import meshTensor\n",
    "import numpy as np"
   ]
  },
  {
   "cell_type": "code",
   "execution_count": 2,
   "metadata": {
    "collapsed": false
   },
   "outputs": [
    {
     "data": {
      "text/plain": [
       "simpegMT.FieldsMT.FieldsMT_1D"
      ]
     },
     "execution_count": 2,
     "metadata": {},
     "output_type": "execute_result"
    }
   ],
   "source": [
    "simpegmt.FieldsMT.FieldsMT_1D"
   ]
  },
  {
   "cell_type": "code",
   "execution_count": 3,
   "metadata": {
    "collapsed": false
   },
   "outputs": [
    {
     "name": "stdout",
     "output_type": "stream",
     "text": [
      "Project at freq: 1.000e+02\n"
     ]
    }
   ],
   "source": [
    "# Setup the problem\n",
    "sigmaHalf = 1e-2\n",
    "# Frequency\n",
    "nFreq = 33\n",
    "# freqs = np.logspace(3,-3,nFreq)\n",
    "freqs = np.array([100])\n",
    "# Make the mesh\n",
    "ct = 5\n",
    "air = meshTensor([(ct,25,1.3)])\n",
    "# coreT0 = meshTensor([(ct,15,1.2)])\n",
    "# coreT1 = np.kron(meshTensor([(coreT0[-1],15,1.3)]),np.ones((7,)))\n",
    "core = np.concatenate( (  np.kron(meshTensor([(ct,15,-1.2)]),np.ones((10,))) , meshTensor([(ct,20)]) ) )\n",
    "bot = meshTensor([(core[0],10,-1.3)])\n",
    "x0 = -np.array([np.sum(np.concatenate((core,bot)))])\n",
    "# Change to use no air\n",
    "m1d = simpeg.Mesh.TensorMesh([np.concatenate((bot,core))], x0=x0)\n",
    "# Make the model\n",
    "sigma = np.zeros(m1d.nC) + sigmaHalf\n",
    "sigma[ m1d.gridCC > 0 ] = 1e-8\n",
    "\n",
    "rxList = []\n",
    "for rxType in ['z1dr','z1di']:\n",
    "    rxList.append(simpegmt.SurveyMT.RxMT(simpeg.mkvc(np.array([0.0]),2).T,rxType))\n",
    "# Source list\n",
    "srcList =[]\n",
    "tD = False\n",
    "if tD:\n",
    "    for freq in freqs:\n",
    "        srcList.append(simpegmt.SurveyMT.srcMT_polxy_1DhomotD(rxList,freq))\n",
    "else:\n",
    "    for freq in freqs:\n",
    "        srcList.append(simpegmt.SurveyMT.srcMT_polxy_1Dprimary(rxList,freq,sigma))\n",
    "# Make the survey\n",
    "survey = simpegmt.SurveyMT.SurveyMT(srcList)\n",
    "\n",
    "# Set the problem\n",
    "problem = simpegmt.ProblemMT1D.eForm_psField(m1d)\n",
    "problem.pair(survey)\n",
    "\n",
    "# Get the fields\n",
    "fields = problem.fields(sigma)\n",
    "\n",
    "# Project the data\n",
    "data = survey.projectFields(fields)\n"
   ]
  },
  {
   "cell_type": "code",
   "execution_count": null,
   "metadata": {
    "collapsed": false
   },
   "outputs": [],
   "source": []
  },
  {
   "cell_type": "markdown",
   "metadata": {},
   "source": [
    "We need calculate this derivative. \n",
    "\\begin{align}\n",
    "\\underbrace{\\frac{\\partial P(f(u(m)),m^{fix})}{\\partial f}}_{Rx}\n",
    "\\end{align}\n",
    "\n",
    "Use the rule\n",
    "\\begin{align}\n",
    "\\frac{d}{dx}\\left( \\frac{a(x)}{b(x)} \\right)  = \\frac{\\frac{d }{dx} a(x)  b(x) - a(x)\\frac{d }{dx} b(x)  }{ b(x)^2 }\n",
    "\\end{align}\n",
    "\n",
    "In the case of the 1D MT problem the data is calculated as \n",
    "\\begin{align}\n",
    "MT1Ddata = P(f(m)) &= \\frac{P_{ex} f_e(src,m)}{P_{bx} f_b(src,m) \\frac{1}{\\mu_0}} = \\frac{P_e u}{P_b f_b(u)} \\\\\n",
    "\\frac{\\partial P(f(m))}{\\partial u} v &=  \\frac{P_e}{P_b \\frac{1}{mu_0} f_b(u)}v - \\frac{P_e u}{\\left(P_b \\frac{1}{mu_0} f_b(u)\\right)^2} P_b \\frac{1}{mu_0} \\frac{d f_b}{du} v\n",
    "\\end{align}\n",
    "where u is the fields that we solve for. \n",
    "\\begin{align}\n",
    "\\frac{d f_b}{du} = - \\frac{1}{i \\omega} \\nabla \n",
    "\\end{align}\n",
    "\n"
   ]
  },
  {
   "cell_type": "code",
   "execution_count": 4,
   "metadata": {
    "collapsed": true
   },
   "outputs": [],
   "source": [
    "# Unused code &= \\frac{ P_{ex} P_{bx} \\frac{1}{\\mu_0} \\left( f_b(src,m) - f_e(src,m) \\right) } { \\left(P_{bx}f_b(src,m) \\frac{1}{\\mu_0} \\right)^2 }"
   ]
  },
  {
   "cell_type": "markdown",
   "metadata": {},
   "source": [
    "As matrices the formulas above can be written as\n",
    "\\begin{align}\n",
    "\\left[ \\frac{\\partial P(f(m))}{\\partial u} v \\right] = \\left[ diag \\left[ \\frac{1}{\\left(P_b \\frac{1}{mu_0} f_b(u)\\right)} \\right] [P_e v] , diag[P_e u] diag \\left[ \\frac{1}{\\left(P_b \\frac{1}{mu_0} f_b(u)\\right)} \\right]^T diag \\left[ \\frac{1}{\\left(P_b \\frac{1}{mu_0} f_b(u)\\right)} \\right] \\left[ P_b  \\frac{1}{mu_0} \\frac{d f_b}{du}(v)  \\right] \\right]\n",
    "\\end{align}\n",
    "\n"
   ]
  },
  {
   "cell_type": "markdown",
   "metadata": {},
   "source": [
    "The adjoint problem is done simliarly\n",
    "\\begin{align}\n",
    "\\left[ \\frac{\\partial P(f(m))}{\\partial u} v \\right]^T = [P_e]^T diag \\left[ \\frac{1}{\\left(P_b \\frac{1}{mu_0} f_b(u)\\right)} \\right]^T v - \\left[ P_b   \\frac{d f_b}{du} \\frac{1}{mu_0} \\right]^T diag \\left[ \\frac{1}{\\left(P_b \\frac{1}{mu_0} f_b(u)\\right)} \\right] diag \\left[ \\frac{1}{\\left(P_b \\frac{1}{mu_0} f_b(u)\\right)} \\right]^T diag \\left[ P_e u  \\right]^T v\n",
    "\\end{align}\n"
   ]
  },
  {
   "cell_type": "code",
   "execution_count": 5,
   "metadata": {
    "collapsed": true
   },
   "outputs": [],
   "source": [
    "# def projectFields(self, src, mesh, u):\n",
    "#         '''\n",
    "#         Project the fields and return the\n",
    "#         '''\n",
    "\n",
    "#         if self.projType is 'Z1D':\n",
    "#             Pex = mesh.getInterpolationMat(self.locs,'Fx')\n",
    "#             Pbx = mesh.getInterpolationMat(self.locs,'Ex')\n",
    "#             ex = Pex*mkvc(u[src,'e_1d'],2)\n",
    "#             bx = Pbx*mkvc(u[src,'b_1d'],2)/mu_0\n",
    "#             f_part_complex = ex/bx\n",
    "#         real_or_imag = self.projComp\n",
    "#         f_part = getattr(f_part_complex, real_or_imag)\n",
    "#         return f_part"
   ]
  },
  {
   "cell_type": "code",
   "execution_count": 6,
   "metadata": {
    "collapsed": false
   },
   "outputs": [],
   "source": [
    "# Initate things for the derivs Test\n",
    "src = survey.srcList[0]\n",
    "rx = src.rxList[0]\n",
    "v = np.random.randn(m1d.nN)\n",
    "v0 = np.random.randn(m1d.nF+m1d.nE)\n",
    "u0 = np.random.randn(m1d.nN)+np.random.randn(m1d.nN)*1j\n",
    "f0 = problem.fieldsPair(m1d,survey)\n",
    "f0[src,'e_1dSolution'] = u0\n",
    "# f0[src,'b_1d'] = -1/(1j*simpegem.Utils.EMUtils.omega(src.freq))*m1d.nodalGrad*u0"
   ]
  },
  {
   "cell_type": "raw",
   "metadata": {},
   "source": []
  },
  {
   "cell_type": "code",
   "execution_count": 7,
   "metadata": {
    "collapsed": false,
    "scrolled": true
   },
   "outputs": [
    {
     "name": "stdout",
     "output_type": "stream",
     "text": [
      "==================== checkDerivative ====================\n",
      "iter    h         |ft-f0|   |ft-f0-h*J0*dx|  Order\n",
      "---------------------------------------------------------\n",
      " 0   1.00e-01    9.779e-05     3.219e-06      nan\n",
      " 1   1.00e-02    1.007e-05     3.145e-08      2.010\n",
      " 2   1.00e-03    1.010e-06     3.137e-10      2.001\n",
      " 3   1.00e-04    1.010e-07     3.136e-12      2.000\n",
      " 4   1.00e-05    1.010e-08     3.136e-14      2.000\n",
      "========================= PASS! =========================\n",
      "Yay passed!\n",
      "\n"
     ]
    },
    {
     "data": {
      "text/plain": [
       "True"
      ]
     },
     "execution_count": 7,
     "metadata": {},
     "output_type": "execute_result"
    }
   ],
   "source": [
    "# Run a test\n",
    "def fun(u):\n",
    "    f = problem.fieldsPair(m1d,survey)\n",
    "    f[src,'e_1dSolution'] = u\n",
    "    return rx.projectFields(src,m1d,f), lambda t: rx.projectFieldsDeriv(src,m1d,f0,t)\n",
    "simpeg.Tests.checkDerivative(fun,u0,num=5,plotIt=False)"
   ]
  },
  {
   "cell_type": "code",
   "execution_count": 8,
   "metadata": {
    "collapsed": false
   },
   "outputs": [
    {
     "data": {
      "text/plain": [
       "array([ 0.00017028])"
      ]
     },
     "execution_count": 8,
     "metadata": {},
     "output_type": "execute_result"
    }
   ],
   "source": [
    "rx.projectFieldsDeriv(src,m1d,f0,u0)"
   ]
  },
  {
   "cell_type": "code",
   "execution_count": 9,
   "metadata": {
    "collapsed": false
   },
   "outputs": [
    {
     "data": {
      "text/plain": [
       "array([[ 0.0014539]])"
      ]
     },
     "execution_count": 9,
     "metadata": {},
     "output_type": "execute_result"
    }
   ],
   "source": [
    "rx.projectFields(src,m1d,f0)"
   ]
  },
  {
   "cell_type": "code",
   "execution_count": 10,
   "metadata": {
    "collapsed": false
   },
   "outputs": [],
   "source": [
    "# Test the Jvec derivative."
   ]
  },
  {
   "cell_type": "code",
   "execution_count": 11,
   "metadata": {
    "collapsed": false
   },
   "outputs": [
    {
     "name": "stdout",
     "output_type": "stream",
     "text": [
      "==================== checkDerivative ====================\n",
      "iter    h         |ft-f0|   |ft-f0-h*J0*dx|  Order\n",
      "---------------------------------------------------------\n",
      "Project at freq: 1.000e+02\n",
      "Project at freq: 1.000e+02\n",
      " 0   1.00e-01    8.466e-06     5.557e-08      nan\n",
      "Project at freq: 1.000e+02\n",
      " 1   1.00e-02    8.416e-07     5.519e-10      2.003\n",
      "Project at freq: 1.000e+02\n",
      " 2   1.00e-03    8.411e-08     5.515e-12      2.000\n",
      "========================= PASS! =========================\n",
      "Not just a pretty face Gudni\n",
      "\n"
     ]
    },
    {
     "data": {
      "text/plain": [
       "True"
      ]
     },
     "execution_count": 11,
     "metadata": {},
     "output_type": "execute_result"
    }
   ],
   "source": [
    "# print '%s formulation - %s' % (fdemType, comp)\n",
    "CONDUCTIVITY = 0.01\n",
    "m0 = np.log(np.ones(problem.mesh.nC)*CONDUCTIVITY)\n",
    "# mu = np.log(np.ones(problem.mesh.nC)*MU)\n",
    "\n",
    "if True:\n",
    "    m0  = m0 + np.random.randn(problem.mesh.nC)*CONDUCTIVITY*1e-1 \n",
    "#     mu = mu + np.random.randn(prb.mesh.nC)*MU*1e-1\n",
    "\n",
    "# prb.mu = mu\n",
    "# survey = prb.survey\n",
    "def fun(x):\n",
    "    \n",
    "    return survey.dpred(x), lambda x: problem.Jvec(m0, x)\n",
    "simpeg.Tests.checkDerivative(fun, m0, num=3, plotIt=False)"
   ]
  },
  {
   "cell_type": "code",
   "execution_count": 12,
   "metadata": {
    "collapsed": true
   },
   "outputs": [],
   "source": [
    "### Adjoint test"
   ]
  },
  {
   "cell_type": "markdown",
   "metadata": {},
   "source": [
    "We have \n",
    "\\begin{align}\n",
    "Jvec =&"
   ]
  },
  {
   "cell_type": "code",
   "execution_count": 13,
   "metadata": {
    "collapsed": false
   },
   "outputs": [],
   "source": [
    "TOL = 1e-4\n",
    "FLR = 1e-20\n",
    "\n",
    "def adjointTest(fdemType, comp):\n",
    "    print 'Adjoint %s formulation - %s' % (fdemType, comp)\n",
    "\n",
    "    m  = np.log(np.ones(problem.mesh.nC)*0.01)\n",
    "    if True:\n",
    "        m  = m + np.random.randn(problem.mesh.nC)*0.01*1e-1 \n",
    "\n",
    "    u = problem.fields(m)\n",
    "\n",
    "    v = np.random.rand(survey.nD)\n",
    "    # print prb.PropMap.PropModel.nP\n",
    "    w = np.random.rand(problem.mesh.nC)\n",
    "\n",
    "    vJw = v.dot(problem.Jvec(m, w, u))\n",
    "    wJtv = w.dot(problem.Jtvec(m, v, u))\n",
    "    tol = np.max([TOL*(10**int(np.log10(np.abs(vJw)))),FLR]) \n",
    "    print vJw, wJtv, vJw - wJtv, tol, np.abs(vJw - wJtv) < tol\n",
    "    return np.abs(vJw - wJtv) < tol"
   ]
  },
  {
   "cell_type": "code",
   "execution_count": 14,
   "metadata": {
    "collapsed": false
   },
   "outputs": [
    {
     "name": "stdout",
     "output_type": "stream",
     "text": [
      "Adjoint E formulation - e\n",
      "-4.65700174631e-05 3.27055690471e-05 -7.92755865102e-05 1e-08 False\n"
     ]
    },
    {
     "data": {
      "text/plain": [
       "False"
      ]
     },
     "execution_count": 14,
     "metadata": {},
     "output_type": "execute_result"
    }
   ],
   "source": [
    "adjointTest('E','e')"
   ]
  },
  {
   "cell_type": "code",
   "execution_count": 17,
   "metadata": {
    "collapsed": false,
    "scrolled": true
   },
   "outputs": [],
   "source": [
    "# %debug"
   ]
  },
  {
   "cell_type": "code",
   "execution_count": null,
   "metadata": {
    "collapsed": false
   },
   "outputs": [],
   "source": []
  },
  {
   "cell_type": "code",
   "execution_count": null,
   "metadata": {
    "collapsed": false
   },
   "outputs": [],
   "source": []
  },
  {
   "cell_type": "code",
   "execution_count": null,
   "metadata": {
    "collapsed": false
   },
   "outputs": [],
   "source": [
    "problem.mesh.getEdgeInnerProductDeriv(problem.curModel.sigma)(u0[1::])"
   ]
  },
  {
   "cell_type": "code",
   "execution_count": null,
   "metadata": {
    "collapsed": true
   },
   "outputs": [],
   "source": []
  }
 ],
 "metadata": {
  "kernelspec": {
   "display_name": "Python 2",
   "language": "python",
   "name": "python2"
  }
 },
 "nbformat": 4,
 "nbformat_minor": 0
}
