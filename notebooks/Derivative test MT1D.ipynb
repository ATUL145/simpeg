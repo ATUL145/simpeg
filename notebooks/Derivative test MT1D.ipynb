{
 "cells": [
  {
   "cell_type": "markdown",
   "metadata": {},
   "source": [
    "Testing derivaties for 1D MT problem.\n",
    "\n",
    "Especially the rx.projectFieldsDeriv"
   ]
  },
  {
   "cell_type": "code",
   "execution_count": 1,
   "metadata": {
    "collapsed": false
   },
   "outputs": [],
   "source": [
    "import SimPEG as simpeg\n",
    "import simpegEM as simpegem, simpegMT as simpegmt\n",
    "from SimPEG.Utils import meshTensor\n",
    "import numpy as np"
   ]
  },
  {
   "cell_type": "code",
   "execution_count": 2,
   "metadata": {
    "collapsed": false
   },
   "outputs": [
    {
     "data": {
      "text/plain": [
       "simpegMT.FieldsMT.FieldsMT_1D"
      ]
     },
     "execution_count": 2,
     "metadata": {},
     "output_type": "execute_result"
    }
   ],
   "source": [
    "simpegmt.FieldsMT.FieldsMT_1D"
   ]
  },
  {
   "cell_type": "code",
   "execution_count": 3,
   "metadata": {
    "collapsed": false
   },
   "outputs": [],
   "source": [
    "# Setup the problem\n",
    "sigmaHalf = 1e-2\n",
    "# Frequency\n",
    "nFreq = 33\n",
    "# freqs = np.logspace(3,-3,nFreq)\n",
    "freqs = np.array([100])\n",
    "# Make the mesh\n",
    "ct = 5\n",
    "air = meshTensor([(ct,25,1.3)])\n",
    "# coreT0 = meshTensor([(ct,15,1.2)])\n",
    "# coreT1 = np.kron(meshTensor([(coreT0[-1],15,1.3)]),np.ones((7,)))\n",
    "core = np.concatenate( (  np.kron(meshTensor([(ct,15,-1.2)]),np.ones((10,))) , meshTensor([(ct,20)]) ) )\n",
    "bot = meshTensor([(core[0],10,-1.3)])\n",
    "x0 = -np.array([np.sum(np.concatenate((core,bot)))])\n",
    "# Change to use no air\n",
    "m1d = simpeg.Mesh.TensorMesh([np.concatenate((bot,core))], x0=x0)\n",
    "# Make the model\n",
    "sigma = np.zeros(m1d.nC) + sigmaHalf\n",
    "sigma[ m1d.gridCC > 0 ] = 1e-8\n",
    "\n",
    "rxList = []\n",
    "for rxType in ['z1dr','z1di']:\n",
    "    rxList.append(simpegmt.SurveyMT.RxMT(simpeg.mkvc(np.array([0.0]),2).T,rxType))\n",
    "# Source list\n",
    "srcList =[]\n",
    "tD = False\n",
    "if tD:\n",
    "    for freq in freqs:\n",
    "        srcList.append(simpegmt.SurveyMT.srcMT_polxy_1DhomotD(rxList,freq))\n",
    "else:\n",
    "    for freq in freqs:\n",
    "        srcList.append(simpegmt.SurveyMT.srcMT_polxy_1Dprimary(rxList,freq))\n",
    "# Make the survey\n",
    "survey = simpegmt.SurveyMT.SurveyMT(srcList)\n",
    "\n",
    "# Set the problem\n",
    "problem = simpegmt.ProblemMT1D.eForm_psField(m1d)\n",
    "problem.sigmaPrimary = sigma\n",
    "problem.pair(survey)\n",
    "\n",
    "# Get the fields\n",
    "fields = problem.fields(sigma)\n",
    "\n",
    "# Project the data\n",
    "data = survey.projectFields(fields)\n"
   ]
  },
  {
   "cell_type": "code",
   "execution_count": 4,
   "metadata": {
    "collapsed": false
   },
   "outputs": [
    {
     "name": "stderr",
     "output_type": "stream",
     "text": [
      "ERROR: No traceback has been produced, nothing to debug.\n"
     ]
    }
   ],
   "source": [
    "%debug\n"
   ]
  },
  {
   "cell_type": "markdown",
   "metadata": {},
   "source": [
    "We need calculate this derivative. \n",
    "\\begin{align}\n",
    "\\underbrace{\\frac{\\partial P(f(u(m)),m^{fix})}{\\partial f}}_{Rx}\n",
    "\\end{align}\n",
    "\n",
    "Use the rule\n",
    "\\begin{align}\n",
    "\\frac{d}{dx}\\left( \\frac{a(x)}{b(x)} \\right)  = \\frac{\\frac{d }{dx} a(x)  b(x) - a(x)\\frac{d }{dx} b(x)  }{ b(x)^2 }\n",
    "\\end{align}\n",
    "\n",
    "In the case of the 1D MT problem the data is calculated as \n",
    "\\begin{align}\n",
    "MT1Ddata = P(f(m)) &= \\frac{P_{ex} f_e(src,m)}{P_{bx} f_b(src,m) \\frac{1}{\\mu_0}} = \\frac{P_e u}{P_b f_b(u)} \\\\\n",
    "\\frac{\\partial P(f(m))}{\\partial u} v &=  \\frac{P_e}{P_b \\frac{1}{mu_0} f_b(u)}v - \\frac{P_e u}{\\left(P_b \\frac{1}{mu_0} f_b(u)\\right)^2} P_b \\frac{1}{mu_0} \\frac{d f_b}{du} v\n",
    "\\end{align}\n",
    "where u is the fields that we solve for. \n",
    "\\begin{align}\n",
    "\\frac{d f_b}{du} = - \\frac{1}{i \\omega} \\nabla \n",
    "\\end{align}\n",
    "\n"
   ]
  },
  {
   "cell_type": "code",
   "execution_count": 5,
   "metadata": {
    "collapsed": true
   },
   "outputs": [],
   "source": [
    "# Unused code &= \\frac{ P_{ex} P_{bx} \\frac{1}{\\mu_0} \\left( f_b(src,m) - f_e(src,m) \\right) } { \\left(P_{bx}f_b(src,m) \\frac{1}{\\mu_0} \\right)^2 }"
   ]
  },
  {
   "cell_type": "markdown",
   "metadata": {},
   "source": [
    "As matrices the formulas above can be written as\n",
    "\\begin{align}\n",
    "\\left[ \\frac{\\partial P(f(m))}{\\partial u} v \\right] = \\left[ diag \\left[ \\frac{1}{\\left(P_b \\frac{1}{mu_0} f_b(u)\\right)} \\right] [P_e v] , diag[P_e u] diag \\left[ \\frac{1}{\\left(P_b \\frac{1}{mu_0} f_b(u)\\right)} \\right]^T diag \\left[ \\frac{1}{\\left(P_b \\frac{1}{mu_0} f_b(u)\\right)} \\right] \\left[ P_b  \\frac{1}{mu_0} \\frac{d f_b}{du}(v)  \\right] \\right]\n",
    "\\end{align}\n",
    "\n"
   ]
  },
  {
   "cell_type": "markdown",
   "metadata": {},
   "source": [
    "The adjoint problem is done simliarly\n",
    "\\begin{align}\n",
    "\\left[ \\frac{\\partial P(f(m))}{\\partial u} v \\right]^T = [P_e]^T diag \\left[ \\frac{1}{\\left(P_b \\frac{1}{mu_0} f_b(u)\\right)} \\right]^T v - \\left[ P_b   \\frac{d f_b}{du} \\frac{1}{mu_0} \\right]^T diag \\left[ \\frac{1}{\\left(P_b \\frac{1}{mu_0} f_b(u)\\right)} \\right] diag \\left[ \\frac{1}{\\left(P_b \\frac{1}{mu_0} f_b(u)\\right)} \\right]^T diag \\left[ P_e u  \\right]^T v\n",
    "\\end{align}\n"
   ]
  },
  {
   "cell_type": "code",
   "execution_count": 6,
   "metadata": {
    "collapsed": true
   },
   "outputs": [],
   "source": [
    "# def projectFields(self, src, mesh, u):\n",
    "#         '''\n",
    "#         Project the fields and return the\n",
    "#         '''\n",
    "\n",
    "#         if self.projType is 'Z1D':\n",
    "#             Pex = mesh.getInterpolationMat(self.locs,'Fx')\n",
    "#             Pbx = mesh.getInterpolationMat(self.locs,'Ex')\n",
    "#             ex = Pex*mkvc(u[src,'e_1d'],2)\n",
    "#             bx = Pbx*mkvc(u[src,'b_1d'],2)/mu_0\n",
    "#             f_part_complex = ex/bx\n",
    "#         real_or_imag = self.projComp\n",
    "#         f_part = getattr(f_part_complex, real_or_imag)\n",
    "#         return f_part"
   ]
  },
  {
   "cell_type": "code",
   "execution_count": 7,
   "metadata": {
    "collapsed": false
   },
   "outputs": [],
   "source": [
    "# Initate things for the derivs Test\n",
    "src = survey.srcList[0]\n",
    "rx = src.rxList[0]\n",
    "v = np.random.randn(m1d.nN)\n",
    "v0 = np.random.randn(m1d.nF+m1d.nE)\n",
    "u0 = np.random.randn(m1d.nN)+np.random.randn(m1d.nN)*1j\n",
    "f0 = problem.fieldsPair(m1d,survey)\n",
    "f0[src,'e_1dSolution'] = u0\n",
    "# f0[src,'b_1d'] = -1/(1j*simpegem.Utils.EMUtils.omega(src.freq))*m1d.nodalGrad*u0"
   ]
  },
  {
   "cell_type": "raw",
   "metadata": {},
   "source": []
  },
  {
   "cell_type": "code",
   "execution_count": 8,
   "metadata": {
    "collapsed": false,
    "scrolled": true
   },
   "outputs": [
    {
     "name": "stdout",
     "output_type": "stream",
     "text": [
      "==================== checkDerivative ====================\n",
      "iter    h         |ft-f0|   |ft-f0-h*J0*dx|  Order\n",
      "---------------------------------------------------------\n",
      " 0   1.00e-01    3.089e-04     2.730e-05      nan\n",
      " 1   1.00e-02    2.841e-05     2.582e-07      2.024\n",
      " 2   1.00e-03    2.818e-06     2.568e-09      2.002\n",
      " 3   1.00e-04    2.816e-07     2.567e-11      2.000\n",
      " 4   1.00e-05    2.816e-08     2.567e-13      2.000\n",
      "========================= PASS! =========================\n",
      "The test be workin!\n",
      "\n"
     ]
    },
    {
     "data": {
      "text/plain": [
       "True"
      ]
     },
     "execution_count": 8,
     "metadata": {},
     "output_type": "execute_result"
    }
   ],
   "source": [
    "# Run a test\n",
    "def fun(u):\n",
    "    f = problem.fieldsPair(m1d,survey)\n",
    "    f[src,'e_1dSolution'] = u\n",
    "    return rx.projectFields(src,m1d,f), lambda t: rx.projectFieldsDeriv(src,m1d,f0,t)\n",
    "simpeg.Tests.checkDerivative(fun,u0,num=5,plotIt=False)"
   ]
  },
  {
   "cell_type": "code",
   "execution_count": 9,
   "metadata": {
    "collapsed": false
   },
   "outputs": [
    {
     "data": {
      "text/plain": [
       "array([-0.00285083])"
      ]
     },
     "execution_count": 9,
     "metadata": {},
     "output_type": "execute_result"
    }
   ],
   "source": [
    "rx.projectFieldsDeriv(src,m1d,f0,u0)"
   ]
  },
  {
   "cell_type": "code",
   "execution_count": 10,
   "metadata": {
    "collapsed": false
   },
   "outputs": [
    {
     "data": {
      "text/plain": [
       "array([[-0.00130618]])"
      ]
     },
     "execution_count": 10,
     "metadata": {},
     "output_type": "execute_result"
    }
   ],
   "source": [
    "rx.projectFields(src,m1d,f0)"
   ]
  },
  {
   "cell_type": "code",
   "execution_count": 11,
   "metadata": {
    "collapsed": false
   },
   "outputs": [],
   "source": [
    "# Test the Jvec derivative."
   ]
  },
  {
   "cell_type": "code",
   "execution_count": 12,
   "metadata": {
    "collapsed": false
   },
   "outputs": [
    {
     "name": "stdout",
     "output_type": "stream",
     "text": [
      "==================== checkDerivative ====================\n",
      "iter    h         |ft-f0|   |ft-f0-h*J0*dx|  Order\n",
      "---------------------------------------------------------\n",
      " 0   1.00e-01    1.537e-05     1.005e-07      nan\n",
      " 1   1.00e-02    1.541e-06     1.008e-09      1.999\n",
      " 2   1.00e-03    1.541e-07     1.008e-11      2.000\n",
      " 3   1.00e-04    1.541e-08     1.008e-13      2.000\n",
      "========================= PASS! =========================\n",
      "The test be workin!\n",
      "\n"
     ]
    },
    {
     "data": {
      "text/plain": [
       "True"
      ]
     },
     "execution_count": 12,
     "metadata": {},
     "output_type": "execute_result"
    }
   ],
   "source": [
    "# print '%s formulation - %s' % (fdemType, comp)\n",
    "CONDUCTIVITY = 0.01\n",
    "m0 = np.log(np.ones(problem.mesh.nC)*CONDUCTIVITY)\n",
    "# mu = np.log(np.ones(problem.mesh.nC)*MU)\n",
    "\n",
    "if True:\n",
    "    m0  = m0 + np.random.randn(problem.mesh.nC)*CONDUCTIVITY*1e-1 \n",
    "#     mu = mu + np.random.randn(prb.mesh.nC)*MU*1e-1\n",
    "\n",
    "# prb.mu = mu\n",
    "# survey = prb.survey\n",
    "def fun(x):\n",
    "    \n",
    "    return survey.dpred(x), lambda x: problem.Jvec(m0, x)\n",
    "simpeg.Tests.checkDerivative(fun, m0, num=4, plotIt=False)"
   ]
  },
  {
   "cell_type": "code",
   "execution_count": 13,
   "metadata": {
    "collapsed": false
   },
   "outputs": [
    {
     "name": "stderr",
     "output_type": "stream",
     "text": [
      "ERROR: No traceback has been produced, nothing to debug.\n"
     ]
    }
   ],
   "source": [
    "%debug"
   ]
  },
  {
   "cell_type": "code",
   "execution_count": 14,
   "metadata": {
    "collapsed": true
   },
   "outputs": [],
   "source": [
    "### Adjoint test"
   ]
  },
  {
   "cell_type": "markdown",
   "metadata": {},
   "source": [
    "We have \n",
    "\\begin{align}\n",
    "Jvec =&"
   ]
  },
  {
   "cell_type": "code",
   "execution_count": 15,
   "metadata": {
    "collapsed": false
   },
   "outputs": [
    {
     "name": "stdout",
     "output_type": "stream",
     "text": [
      "Adjoint e formulation - projectFieldsDeriv\n",
      "0.000177264079929 0.000177264079929 3.52365706058e-19 1e-07 True\n"
     ]
    },
    {
     "data": {
      "text/plain": [
       "True"
      ]
     },
     "execution_count": 15,
     "metadata": {},
     "output_type": "execute_result"
    }
   ],
   "source": [
    "# Run a test\n",
    "TOL = 1e-4\n",
    "FLR = 1e-20\n",
    "\n",
    "def projectFieldsAdjointTest(fdemType, comp):\n",
    "    print 'Adjoint %s formulation - %s' % (fdemType, comp)\n",
    "\n",
    "    m  = np.log(np.ones(problem.mesh.nC)*0.01)\n",
    "    if True:\n",
    "        m  = m + np.random.randn(problem.mesh.nC)*0.01*1e-1 \n",
    "\n",
    "    u = problem.fields(m)\n",
    "    v = np.random.randn(1)#+np.random.randn(1)*1j\n",
    "    # print prb.PropMap.PropModel.nP\n",
    "    w = np.random.randn(m1d.nN)+np.random.randn(m1d.nN)*1j\n",
    "\n",
    "    vJw = v.dot(rx.projectFieldsDeriv(src,m1d,f0,w))\n",
    "    wJtv = w.dot(rx.projectFieldsDeriv(src,m1d,f0,v,adjoint=True)).real\n",
    "    tol = np.max([TOL*(10**int(np.log10(np.abs(vJw)))),FLR]) \n",
    "    print vJw, wJtv, vJw - wJtv, tol, np.abs(vJw - wJtv) < tol\n",
    "    return np.abs(vJw - wJtv) < tol\n",
    "projectFieldsAdjointTest('e','projectFieldsDeriv')"
   ]
  },
  {
   "cell_type": "code",
   "execution_count": 21,
   "metadata": {
    "collapsed": false
   },
   "outputs": [
    {
     "name": "stdout",
     "output_type": "stream",
     "text": [
      "Adjoint test e formulation - getADeriv_m\n"
     ]
    },
    {
     "ename": "KeyError",
     "evalue": "'Source does not have a uid: e_1dSolution'",
     "output_type": "error",
     "traceback": [
      "\u001b[1;31m---------------------------------------------------------------------------\u001b[0m",
      "\u001b[1;31mKeyError\u001b[0m                                  Traceback (most recent call last)",
      "\u001b[1;32m<ipython-input-21-4c7e7058b8e9>\u001b[0m in \u001b[0;36m<module>\u001b[1;34m()\u001b[0m\n\u001b[0;32m     20\u001b[0m     \u001b[1;32mprint\u001b[0m \u001b[0mvJw\u001b[0m\u001b[1;33m,\u001b[0m \u001b[0mwJtv\u001b[0m\u001b[1;33m,\u001b[0m \u001b[0mvJw\u001b[0m \u001b[1;33m-\u001b[0m \u001b[0mwJtv\u001b[0m\u001b[1;33m,\u001b[0m \u001b[0mtol\u001b[0m\u001b[1;33m,\u001b[0m \u001b[0mnp\u001b[0m\u001b[1;33m.\u001b[0m\u001b[0mabs\u001b[0m\u001b[1;33m(\u001b[0m\u001b[0mvJw\u001b[0m \u001b[1;33m-\u001b[0m \u001b[0mwJtv\u001b[0m\u001b[1;33m)\u001b[0m \u001b[1;33m<\u001b[0m \u001b[0mtol\u001b[0m\u001b[1;33m\u001b[0m\u001b[0m\n\u001b[0;32m     21\u001b[0m     \u001b[1;32mreturn\u001b[0m \u001b[0mnp\u001b[0m\u001b[1;33m.\u001b[0m\u001b[0mabs\u001b[0m\u001b[1;33m(\u001b[0m\u001b[0mvJw\u001b[0m \u001b[1;33m-\u001b[0m \u001b[0mwJtv\u001b[0m\u001b[1;33m)\u001b[0m \u001b[1;33m<\u001b[0m \u001b[0mtol\u001b[0m\u001b[1;33m\u001b[0m\u001b[0m\n\u001b[1;32m---> 22\u001b[1;33m \u001b[0mgetADeriv_mAdjointTest\u001b[0m\u001b[1;33m(\u001b[0m\u001b[1;33m)\u001b[0m\u001b[1;33m\u001b[0m\u001b[0m\n\u001b[0m",
      "\u001b[1;32m<ipython-input-21-4c7e7058b8e9>\u001b[0m in \u001b[0;36mgetADeriv_mAdjointTest\u001b[1;34m()\u001b[0m\n\u001b[0;32m     15\u001b[0m     \u001b[0mw\u001b[0m \u001b[1;33m=\u001b[0m \u001b[0mnp\u001b[0m\u001b[1;33m.\u001b[0m\u001b[0mrandom\u001b[0m\u001b[1;33m.\u001b[0m\u001b[0mrandn\u001b[0m\u001b[1;33m(\u001b[0m\u001b[0mm1d\u001b[0m\u001b[1;33m.\u001b[0m\u001b[0mnC\u001b[0m\u001b[1;33m)\u001b[0m\u001b[1;31m#+np.random.randn(m1d.nN)*1j\u001b[0m\u001b[1;33m\u001b[0m\u001b[0m\n\u001b[0;32m     16\u001b[0m \u001b[1;33m\u001b[0m\u001b[0m\n\u001b[1;32m---> 17\u001b[1;33m     \u001b[0mvJw\u001b[0m \u001b[1;33m=\u001b[0m \u001b[0mv\u001b[0m\u001b[1;33m.\u001b[0m\u001b[0mdot\u001b[0m\u001b[1;33m(\u001b[0m\u001b[0mproblem\u001b[0m\u001b[1;33m.\u001b[0m\u001b[0mgetADeriv_m\u001b[0m\u001b[1;33m(\u001b[0m\u001b[0mfreq\u001b[0m\u001b[1;33m,\u001b[0m\u001b[0mf0\u001b[0m\u001b[1;33m,\u001b[0m\u001b[0mw\u001b[0m\u001b[1;33m)\u001b[0m\u001b[1;33m)\u001b[0m\u001b[1;33m\u001b[0m\u001b[0m\n\u001b[0m\u001b[0;32m     18\u001b[0m     \u001b[0mwJtv\u001b[0m \u001b[1;33m=\u001b[0m \u001b[0mw\u001b[0m\u001b[1;33m.\u001b[0m\u001b[0mdot\u001b[0m\u001b[1;33m(\u001b[0m\u001b[0mproblem\u001b[0m\u001b[1;33m.\u001b[0m\u001b[0mgetADeriv_m\u001b[0m\u001b[1;33m(\u001b[0m\u001b[0mfreq\u001b[0m\u001b[1;33m,\u001b[0m\u001b[0mf0\u001b[0m\u001b[1;33m,\u001b[0m\u001b[0mv\u001b[0m\u001b[1;33m,\u001b[0m\u001b[0madjoint\u001b[0m\u001b[1;33m=\u001b[0m\u001b[0mTrue\u001b[0m\u001b[1;33m)\u001b[0m\u001b[1;33m)\u001b[0m\u001b[1;33m\u001b[0m\u001b[0m\n\u001b[0;32m     19\u001b[0m     \u001b[0mtol\u001b[0m \u001b[1;33m=\u001b[0m \u001b[0mnp\u001b[0m\u001b[1;33m.\u001b[0m\u001b[0mmax\u001b[0m\u001b[1;33m(\u001b[0m\u001b[1;33m[\u001b[0m\u001b[0mTOL\u001b[0m\u001b[1;33m*\u001b[0m\u001b[1;33m(\u001b[0m\u001b[1;36m10\u001b[0m\u001b[1;33m**\u001b[0m\u001b[0mint\u001b[0m\u001b[1;33m(\u001b[0m\u001b[0mnp\u001b[0m\u001b[1;33m.\u001b[0m\u001b[0mlog10\u001b[0m\u001b[1;33m(\u001b[0m\u001b[0mnp\u001b[0m\u001b[1;33m.\u001b[0m\u001b[0mabs\u001b[0m\u001b[1;33m(\u001b[0m\u001b[0mvJw\u001b[0m\u001b[1;33m)\u001b[0m\u001b[1;33m)\u001b[0m\u001b[1;33m)\u001b[0m\u001b[1;33m)\u001b[0m\u001b[1;33m,\u001b[0m\u001b[0mFLR\u001b[0m\u001b[1;33m]\u001b[0m\u001b[1;33m)\u001b[0m\u001b[1;33m\u001b[0m\u001b[0m\n",
      "\u001b[1;32m/media/gudni/ExtraDrive1/Codes/python/simpegmt/simpegMT/ProblemMT1D/Problems.py\u001b[0m in \u001b[0;36mgetADeriv_m\u001b[1;34m(self, freq, u, v, adjoint)\u001b[0m\n\u001b[0;32m     67\u001b[0m         \u001b[0mMeMui\u001b[0m \u001b[1;33m=\u001b[0m \u001b[0mself\u001b[0m\u001b[1;33m.\u001b[0m\u001b[0mmesh\u001b[0m\u001b[1;33m.\u001b[0m\u001b[0mgetEdgeInnerProduct\u001b[0m\u001b[1;33m(\u001b[0m\u001b[1;36m1.0\u001b[0m\u001b[1;33m/\u001b[0m\u001b[0mmu_0\u001b[0m\u001b[1;33m)\u001b[0m\u001b[1;33m\u001b[0m\u001b[0m\n\u001b[0;32m     68\u001b[0m         \u001b[1;31m#\u001b[0m\u001b[1;33m\u001b[0m\u001b[1;33m\u001b[0m\u001b[0m\n\u001b[1;32m---> 69\u001b[1;33m         \u001b[0mu_src\u001b[0m \u001b[1;33m=\u001b[0m \u001b[0mu\u001b[0m\u001b[1;33m[\u001b[0m\u001b[1;34m'e_1dSolution'\u001b[0m\u001b[1;33m]\u001b[0m\u001b[1;33m\u001b[0m\u001b[0m\n\u001b[0m\u001b[0;32m     70\u001b[0m         \u001b[0mdMf_dsig\u001b[0m \u001b[1;33m=\u001b[0m \u001b[0mself\u001b[0m\u001b[1;33m.\u001b[0m\u001b[0mmesh\u001b[0m\u001b[1;33m.\u001b[0m\u001b[0mgetFaceInnerProductDeriv\u001b[0m\u001b[1;33m(\u001b[0m\u001b[0mself\u001b[0m\u001b[1;33m.\u001b[0m\u001b[0mcurModel\u001b[0m\u001b[1;33m.\u001b[0m\u001b[0msigma\u001b[0m\u001b[1;33m)\u001b[0m\u001b[1;33m(\u001b[0m\u001b[0mu_src\u001b[0m\u001b[1;33m)\u001b[0m \u001b[1;33m*\u001b[0m \u001b[0mself\u001b[0m\u001b[1;33m.\u001b[0m\u001b[0mcurModel\u001b[0m\u001b[1;33m.\u001b[0m\u001b[0msigmaDeriv\u001b[0m\u001b[1;33m\u001b[0m\u001b[0m\n\u001b[0;32m     71\u001b[0m         \u001b[1;32mif\u001b[0m \u001b[0madjoint\u001b[0m\u001b[1;33m:\u001b[0m\u001b[1;33m\u001b[0m\u001b[0m\n",
      "\u001b[1;32m/media/gudni/ExtraDrive1/Codes/python/simpeg/SimPEG/Fields.pyc\u001b[0m in \u001b[0;36m__getitem__\u001b[1;34m(self, key)\u001b[0m\n\u001b[0;32m    150\u001b[0m \u001b[1;33m\u001b[0m\u001b[0m\n\u001b[0;32m    151\u001b[0m     \u001b[1;32mdef\u001b[0m \u001b[0m__getitem__\u001b[0m\u001b[1;33m(\u001b[0m\u001b[0mself\u001b[0m\u001b[1;33m,\u001b[0m \u001b[0mkey\u001b[0m\u001b[1;33m)\u001b[0m\u001b[1;33m:\u001b[0m\u001b[1;33m\u001b[0m\u001b[0m\n\u001b[1;32m--> 152\u001b[1;33m         \u001b[0mind\u001b[0m\u001b[1;33m,\u001b[0m \u001b[0mname\u001b[0m \u001b[1;33m=\u001b[0m \u001b[0mself\u001b[0m\u001b[1;33m.\u001b[0m\u001b[0m_indexAndNameFromKey\u001b[0m\u001b[1;33m(\u001b[0m\u001b[0mkey\u001b[0m\u001b[1;33m,\u001b[0m \u001b[1;34m'get'\u001b[0m\u001b[1;33m)\u001b[0m\u001b[1;33m\u001b[0m\u001b[0m\n\u001b[0m\u001b[0;32m    153\u001b[0m         \u001b[1;32mif\u001b[0m \u001b[0mname\u001b[0m \u001b[1;32mis\u001b[0m \u001b[0mNone\u001b[0m\u001b[1;33m:\u001b[0m\u001b[1;33m\u001b[0m\u001b[0m\n\u001b[0;32m    154\u001b[0m             \u001b[0mout\u001b[0m \u001b[1;33m=\u001b[0m \u001b[1;33m{\u001b[0m\u001b[1;33m}\u001b[0m\u001b[1;33m\u001b[0m\u001b[0m\n",
      "\u001b[1;32m/media/gudni/ExtraDrive1/Codes/python/simpeg/SimPEG/Fields.pyc\u001b[0m in \u001b[0;36m_indexAndNameFromKey\u001b[1;34m(self, key, accessType)\u001b[0m\n\u001b[0;32m    131\u001b[0m         \u001b[0msrcTestList\u001b[0m\u001b[1;33m,\u001b[0m \u001b[0mname\u001b[0m \u001b[1;33m=\u001b[0m \u001b[0mkey\u001b[0m\u001b[1;33m\u001b[0m\u001b[0m\n\u001b[0;32m    132\u001b[0m         \u001b[0mname\u001b[0m \u001b[1;33m=\u001b[0m \u001b[0mself\u001b[0m\u001b[1;33m.\u001b[0m\u001b[0m_nameIndex\u001b[0m\u001b[1;33m(\u001b[0m\u001b[0mname\u001b[0m\u001b[1;33m,\u001b[0m \u001b[0maccessType\u001b[0m\u001b[1;33m)\u001b[0m\u001b[1;33m\u001b[0m\u001b[0m\n\u001b[1;32m--> 133\u001b[1;33m         \u001b[0mind\u001b[0m \u001b[1;33m=\u001b[0m \u001b[0mself\u001b[0m\u001b[1;33m.\u001b[0m\u001b[0m_srcIndex\u001b[0m\u001b[1;33m(\u001b[0m\u001b[0msrcTestList\u001b[0m\u001b[1;33m)\u001b[0m\u001b[1;33m\u001b[0m\u001b[0m\n\u001b[0m\u001b[0;32m    134\u001b[0m         \u001b[1;32mreturn\u001b[0m \u001b[0mind\u001b[0m\u001b[1;33m,\u001b[0m \u001b[0mname\u001b[0m\u001b[1;33m\u001b[0m\u001b[0m\n\u001b[0;32m    135\u001b[0m \u001b[1;33m\u001b[0m\u001b[0m\n",
      "\u001b[1;32m/media/gudni/ExtraDrive1/Codes/python/simpeg/SimPEG/Fields.pyc\u001b[0m in \u001b[0;36m_srcIndex\u001b[1;34m(self, srcTestList)\u001b[0m\n\u001b[0;32m    100\u001b[0m             \u001b[0mind\u001b[0m \u001b[1;33m=\u001b[0m \u001b[0msrcTestList\u001b[0m\u001b[1;33m\u001b[0m\u001b[0m\n\u001b[0;32m    101\u001b[0m         \u001b[1;32melse\u001b[0m\u001b[1;33m:\u001b[0m\u001b[1;33m\u001b[0m\u001b[0m\n\u001b[1;32m--> 102\u001b[1;33m             \u001b[0mind\u001b[0m \u001b[1;33m=\u001b[0m \u001b[0mself\u001b[0m\u001b[1;33m.\u001b[0m\u001b[0msurvey\u001b[0m\u001b[1;33m.\u001b[0m\u001b[0mgetSourceIndex\u001b[0m\u001b[1;33m(\u001b[0m\u001b[0msrcTestList\u001b[0m\u001b[1;33m)\u001b[0m\u001b[1;33m\u001b[0m\u001b[0m\n\u001b[0m\u001b[0;32m    103\u001b[0m         \u001b[1;32mreturn\u001b[0m \u001b[0mind\u001b[0m\u001b[1;33m\u001b[0m\u001b[0m\n\u001b[0;32m    104\u001b[0m \u001b[1;33m\u001b[0m\u001b[0m\n",
      "\u001b[1;32m/media/gudni/ExtraDrive1/Codes/python/simpeg/SimPEG/Survey.pyc\u001b[0m in \u001b[0;36mgetSourceIndex\u001b[1;34m(self, sources)\u001b[0m\n\u001b[0;32m    339\u001b[0m         \u001b[1;32mfor\u001b[0m \u001b[0msrc\u001b[0m \u001b[1;32min\u001b[0m \u001b[0msources\u001b[0m\u001b[1;33m:\u001b[0m\u001b[1;33m\u001b[0m\u001b[0m\n\u001b[0;32m    340\u001b[0m             \u001b[1;32mif\u001b[0m \u001b[0mgetattr\u001b[0m\u001b[1;33m(\u001b[0m\u001b[0msrc\u001b[0m\u001b[1;33m,\u001b[0m\u001b[1;34m'uid'\u001b[0m\u001b[1;33m,\u001b[0m\u001b[0mNone\u001b[0m\u001b[1;33m)\u001b[0m \u001b[1;32mis\u001b[0m \u001b[0mNone\u001b[0m\u001b[1;33m:\u001b[0m\u001b[1;33m\u001b[0m\u001b[0m\n\u001b[1;32m--> 341\u001b[1;33m                 \u001b[1;32mraise\u001b[0m \u001b[0mKeyError\u001b[0m\u001b[1;33m(\u001b[0m\u001b[1;34m'Source does not have a uid: %s'\u001b[0m\u001b[1;33m%\u001b[0m\u001b[0mstr\u001b[0m\u001b[1;33m(\u001b[0m\u001b[0msrc\u001b[0m\u001b[1;33m)\u001b[0m\u001b[1;33m)\u001b[0m\u001b[1;33m\u001b[0m\u001b[0m\n\u001b[0m\u001b[0;32m    342\u001b[0m         \u001b[0minds\u001b[0m \u001b[1;33m=\u001b[0m \u001b[0mmap\u001b[0m\u001b[1;33m(\u001b[0m\u001b[1;32mlambda\u001b[0m \u001b[0msrc\u001b[0m\u001b[1;33m:\u001b[0m \u001b[0mself\u001b[0m\u001b[1;33m.\u001b[0m\u001b[0m_sourceOrder\u001b[0m\u001b[1;33m.\u001b[0m\u001b[0mget\u001b[0m\u001b[1;33m(\u001b[0m\u001b[0msrc\u001b[0m\u001b[1;33m.\u001b[0m\u001b[0muid\u001b[0m\u001b[1;33m,\u001b[0m \u001b[0mNone\u001b[0m\u001b[1;33m)\u001b[0m\u001b[1;33m,\u001b[0m \u001b[0msources\u001b[0m\u001b[1;33m)\u001b[0m\u001b[1;33m\u001b[0m\u001b[0m\n\u001b[0;32m    343\u001b[0m         \u001b[1;32mif\u001b[0m \u001b[0mNone\u001b[0m \u001b[1;32min\u001b[0m \u001b[0minds\u001b[0m\u001b[1;33m:\u001b[0m\u001b[1;33m\u001b[0m\u001b[0m\n",
      "\u001b[1;31mKeyError\u001b[0m: 'Source does not have a uid: e_1dSolution'"
     ]
    }
   ],
   "source": [
    "# Run a test\n",
    "TOL = 1e-4\n",
    "FLR = 1e-20\n",
    "\n",
    "def getADeriv_mAdjointTest():\n",
    "    print 'Adjoint test e formulation - getADeriv_m' \n",
    "\n",
    "    m  = np.log(np.ones(problem.mesh.nC)*0.01)\n",
    "    if True:\n",
    "        m  = m + np.random.randn(problem.mesh.nC)*0.01*1e-1 \n",
    "\n",
    "    u = problem.fields(m)\n",
    "    v = np.random.randn(m1d.nN)#+np.random.randn(1)*1j\n",
    "    # print prb.PropMap.PropModel.nP\n",
    "    w = np.random.randn(m1d.nC)#+np.random.randn(m1d.nN)*1j\n",
    "\n",
    "    vJw = v.dot(problem.getADeriv_m(freq,f0,w))\n",
    "    wJtv = w.dot(problem.getADeriv_m(freq,f0,v,adjoint=True))\n",
    "    tol = np.max([TOL*(10**int(np.log10(np.abs(vJw)))),FLR]) \n",
    "    print vJw, wJtv, vJw - wJtv, tol, np.abs(vJw - wJtv) < tol\n",
    "    return np.abs(vJw - wJtv) < tol\n",
    "getADeriv_mAdjointTest()"
   ]
  },
  {
   "cell_type": "code",
   "execution_count": 17,
   "metadata": {
    "collapsed": false
   },
   "outputs": [
    {
     "name": "stdout",
     "output_type": "stream",
     "text": [
      "> \u001b[1;32m/media/gudni/ExtraDrive1/Codes/python/simpegmt/simpegMT/ProblemMT1D/Problems.py\u001b[0m(69)\u001b[0;36mgetADeriv_m\u001b[1;34m()\u001b[0m\n",
      "\u001b[1;32m     68 \u001b[1;33m        \u001b[1;31m#\u001b[0m\u001b[1;33m\u001b[0m\u001b[1;33m\u001b[0m\u001b[0m\n",
      "\u001b[0m\u001b[1;32m---> 69 \u001b[1;33m        \u001b[0mu_src\u001b[0m \u001b[1;33m=\u001b[0m \u001b[0mu\u001b[0m\u001b[1;33m[\u001b[0m\u001b[1;34m'e_1dSolution'\u001b[0m\u001b[1;33m]\u001b[0m\u001b[1;33m\u001b[0m\u001b[0m\n",
      "\u001b[0m\u001b[1;32m     70 \u001b[1;33m        \u001b[0mdMf_dsig\u001b[0m \u001b[1;33m=\u001b[0m \u001b[0mself\u001b[0m\u001b[1;33m.\u001b[0m\u001b[0mmesh\u001b[0m\u001b[1;33m.\u001b[0m\u001b[0mgetFaceInnerProductDeriv\u001b[0m\u001b[1;33m(\u001b[0m\u001b[0mself\u001b[0m\u001b[1;33m.\u001b[0m\u001b[0mcurModel\u001b[0m\u001b[1;33m.\u001b[0m\u001b[0msigma\u001b[0m\u001b[1;33m)\u001b[0m\u001b[1;33m(\u001b[0m\u001b[0mu_src\u001b[0m\u001b[1;33m)\u001b[0m \u001b[1;33m*\u001b[0m \u001b[0mself\u001b[0m\u001b[1;33m.\u001b[0m\u001b[0mcurModel\u001b[0m\u001b[1;33m.\u001b[0m\u001b[0msigmaDeriv\u001b[0m\u001b[1;33m\u001b[0m\u001b[0m\n",
      "\u001b[0m\n",
      "ipdb> u\n",
      "> \u001b[1;32m<ipython-input-16-0d25a7e16094>\u001b[0m(17)\u001b[0;36mgetADeriv_mAdjointTest\u001b[1;34m()\u001b[0m\n",
      "\u001b[1;32m     16 \u001b[1;33m\u001b[1;33m\u001b[0m\u001b[0m\n",
      "\u001b[0m\u001b[1;32m---> 17 \u001b[1;33m    \u001b[0mvJw\u001b[0m \u001b[1;33m=\u001b[0m \u001b[0mv\u001b[0m\u001b[1;33m.\u001b[0m\u001b[0mdot\u001b[0m\u001b[1;33m(\u001b[0m\u001b[0mproblem\u001b[0m\u001b[1;33m.\u001b[0m\u001b[0mgetADeriv_m\u001b[0m\u001b[1;33m(\u001b[0m\u001b[0mfreq\u001b[0m\u001b[1;33m,\u001b[0m\u001b[0mu0\u001b[0m\u001b[1;33m,\u001b[0m\u001b[0mw\u001b[0m\u001b[1;33m)\u001b[0m\u001b[1;33m)\u001b[0m\u001b[1;33m\u001b[0m\u001b[0m\n",
      "\u001b[0m\u001b[1;32m     18 \u001b[1;33m    \u001b[0mwJtv\u001b[0m \u001b[1;33m=\u001b[0m \u001b[0mw\u001b[0m\u001b[1;33m.\u001b[0m\u001b[0mdot\u001b[0m\u001b[1;33m(\u001b[0m\u001b[0mproblem\u001b[0m\u001b[1;33m.\u001b[0m\u001b[0mgetADeriv_m\u001b[0m\u001b[1;33m(\u001b[0m\u001b[0mfreq\u001b[0m\u001b[1;33m,\u001b[0m\u001b[0mu0\u001b[0m\u001b[1;33m,\u001b[0m\u001b[0mv\u001b[0m\u001b[1;33m,\u001b[0m\u001b[0madjoint\u001b[0m\u001b[1;33m=\u001b[0m\u001b[0mTrue\u001b[0m\u001b[1;33m)\u001b[0m\u001b[1;33m)\u001b[0m\u001b[1;33m\u001b[0m\u001b[0m\n",
      "\u001b[0m\n",
      "ipdb> d\n",
      "> \u001b[1;32m/media/gudni/ExtraDrive1/Codes/python/simpegmt/simpegMT/ProblemMT1D/Problems.py\u001b[0m(69)\u001b[0;36mgetADeriv_m\u001b[1;34m()\u001b[0m\n",
      "\u001b[1;32m     68 \u001b[1;33m        \u001b[1;31m#\u001b[0m\u001b[1;33m\u001b[0m\u001b[1;33m\u001b[0m\u001b[0m\n",
      "\u001b[0m\u001b[1;32m---> 69 \u001b[1;33m        \u001b[0mu_src\u001b[0m \u001b[1;33m=\u001b[0m \u001b[0mu\u001b[0m\u001b[1;33m[\u001b[0m\u001b[1;34m'e_1dSolution'\u001b[0m\u001b[1;33m]\u001b[0m\u001b[1;33m\u001b[0m\u001b[0m\n",
      "\u001b[0m\u001b[1;32m     70 \u001b[1;33m        \u001b[0mdMf_dsig\u001b[0m \u001b[1;33m=\u001b[0m \u001b[0mself\u001b[0m\u001b[1;33m.\u001b[0m\u001b[0mmesh\u001b[0m\u001b[1;33m.\u001b[0m\u001b[0mgetFaceInnerProductDeriv\u001b[0m\u001b[1;33m(\u001b[0m\u001b[0mself\u001b[0m\u001b[1;33m.\u001b[0m\u001b[0mcurModel\u001b[0m\u001b[1;33m.\u001b[0m\u001b[0msigma\u001b[0m\u001b[1;33m)\u001b[0m\u001b[1;33m(\u001b[0m\u001b[0mu_src\u001b[0m\u001b[1;33m)\u001b[0m \u001b[1;33m*\u001b[0m \u001b[0mself\u001b[0m\u001b[1;33m.\u001b[0m\u001b[0mcurModel\u001b[0m\u001b[1;33m.\u001b[0m\u001b[0msigmaDeriv\u001b[0m\u001b[1;33m\u001b[0m\u001b[0m\n",
      "\u001b[0m\n",
      "ipdb> p u\n",
      "array([  7.09826705e-01 -3.42993400e-01j,\n",
      "         2.06495724e-02 -1.13236591e+00j,\n",
      "         7.19940065e-01 +6.18299116e-01j,\n",
      "        -3.76573540e-01 +9.09687373e-01j,\n",
      "        -5.96166731e-01 +2.23309643e-01j,\n",
      "         3.30533731e-01 +7.98068064e-01j,\n",
      "        -1.41356795e+00 -1.74137927e-01j,\n",
      "         1.51554175e+00 -2.16363375e-01j,\n",
      "         1.59469627e+00 -1.87971566e+00j,\n",
      "        -5.54637698e-01 -1.01936458e+00j,\n",
      "         1.01869865e+00 +8.33443055e-01j,\n",
      "        -4.92616671e-01 -1.97036224e+00j,\n",
      "         1.00389102e+00 -1.52567261e-01j,\n",
      "         7.90254779e-01 -5.68065046e-01j,\n",
      "         9.17329964e-01 -1.18879097e+00j,\n",
      "        -1.38317362e+00 -2.17789273e+00j,\n",
      "         2.58324368e-01 -1.51003598e+00j,\n",
      "        -2.04803634e+00 -1.44299943e-01j,\n",
      "         3.33011285e+00 +1.52905384e+00j,\n",
      "         2.91429972e-01 -1.91849967e+00j,\n",
      "        -1.10273784e+00 -8.65794290e-01j,\n",
      "        -2.80103156e-01 -1.42653192e+00j,\n",
      "        -9.81404885e-01 +9.06845144e-02j,\n",
      "         6.37579045e-01 +3.84148006e-01j,\n",
      "        -6.83597988e-01 +6.91187965e-01j,\n",
      "        -8.98575981e-01 +3.80347476e-02j,\n",
      "         1.02647319e+00 -1.13876879e-01j,\n",
      "         8.28006255e-01 -9.95903406e-01j,\n",
      "         3.53931083e-01 -2.80188697e-01j,\n",
      "        -1.09339690e+00 +1.43646692e+00j,\n",
      "         2.59276626e+00 +4.09662561e-01j,\n",
      "        -5.97873868e-01 -5.23852065e-01j,\n",
      "         8.87054287e-01 -1.69872744e+00j,\n",
      "         2.29767481e-01 -5.88143928e-01j,\n",
      "        -6.97610315e-01 +5.68810360e-01j,\n",
      "        -4.47049016e-01 +3.29354463e-01j,\n",
      "        -3.31498311e-01 -8.27120276e-01j,\n",
      "         1.57689998e-01 +6.68378872e-01j,\n",
      "         9.47018631e-02 +2.60180446e-01j,\n",
      "        -4.59177257e-01 -7.66896049e-01j,\n",
      "        -1.16791204e+00 +4.20585804e-01j,\n",
      "         2.72405147e-01 +3.48079787e-01j,\n",
      "        -2.45880514e-02 +1.90226778e-01j,\n",
      "        -7.03428363e-01 +1.20531568e+00j,\n",
      "         1.60362217e+00 +6.88472259e-01j,\n",
      "        -5.49144335e-01 +6.96208292e-01j,\n",
      "        -9.83200346e-01 -1.15726575e+00j,\n",
      "         1.22826524e+00 -8.58070855e-01j,\n",
      "        -5.99020439e-01 -2.19182124e+00j,\n",
      "        -5.69992871e-01 +1.68586900e+00j,\n",
      "         9.26752644e-01 +1.05767829e+00j,\n",
      "         8.64247444e-01 +1.51282356e-01j,\n",
      "        -6.24547862e-01 -1.54517937e+00j,\n",
      "        -1.72043526e+00 +1.91659834e+00j,\n",
      "        -1.84501951e+00 -2.40165623e-01j,\n",
      "         1.15210121e+00 -1.19627222e+00j,\n",
      "        -3.93036395e-01 -1.94918396e+00j,\n",
      "        -1.18266273e+00 -5.24652722e-01j,\n",
      "         2.67461628e-01 -8.07279138e-01j,\n",
      "        -1.56363641e+00 +1.59257615e-03j,\n",
      "        -3.17211883e-01 -3.23379690e+00j,\n",
      "        -1.08658939e-01 -8.66079039e-01j,\n",
      "        -9.30350013e-01 -1.22668219e+00j,\n",
      "        -1.07263137e+00 -5.56847000e-02j,\n",
      "         1.27878013e+00 -1.34173537e+00j,\n",
      "         7.91441492e-01 +6.42111414e-01j,\n",
      "        -2.60121575e+00 -1.08140886e+00j,\n",
      "        -1.15027808e+00 -4.47110142e-01j,\n",
      "        -5.69747800e-01 +2.34065916e-01j,\n",
      "         1.52155089e+00 -5.80340775e-01j,\n",
      "         2.50052750e-01 -6.58793179e-01j,\n",
      "         2.96944135e-01 +1.27455206e+00j,\n",
      "         9.18939766e-01 -4.58122761e-01j,\n",
      "         4.90015531e-01 -8.86288179e-01j,\n",
      "        -1.65155083e+00 -6.57733967e-01j,\n",
      "         9.72148169e-01 -1.19446820e+00j,\n",
      "         2.08365350e+00 -1.53585595e-01j,\n",
      "        -4.11101072e-01 +1.01418536e+00j,\n",
      "         9.72580562e-01 -2.20470840e-01j,\n",
      "         1.72922147e-01 -6.86360934e-01j,\n",
      "         3.80255034e-01 +1.96862619e-01j,\n",
      "        -1.53628572e+00 +5.31946011e-01j,\n",
      "        -4.65939167e-01 +9.11725611e-01j,\n",
      "        -1.06390365e+00 -3.07658816e-02j,\n",
      "        -2.40734296e+00 -7.60530882e-01j,\n",
      "         1.28242272e+00 +3.32085973e+00j,\n",
      "         3.17004751e+00 +1.62654811e+00j,\n",
      "        -8.49758476e-01 +9.86658359e-01j,\n",
      "         4.99578557e-01 +4.01392488e-01j,\n",
      "        -9.48695998e-01 +4.04322381e-01j,\n",
      "         1.75371116e-01 +7.85458813e-01j,\n",
      "         4.90232886e-01 -1.39280042e-01j,\n",
      "        -2.31430252e-01 -8.44065839e-01j,\n",
      "        -1.02319133e+00 +1.90560784e+00j,\n",
      "         1.08940667e+00 +1.63046186e+00j,\n",
      "        -4.34233324e-01 +2.90439312e-01j,\n",
      "         4.47622371e-01 +1.26507976e+00j,\n",
      "        -2.07317470e+00 -2.21558532e+00j,\n",
      "        -3.19553487e-01 -9.19210427e-01j,\n",
      "         6.09870390e-01 +3.05692898e-01j,\n",
      "         4.92081860e-01 -2.18326059e-01j,\n",
      "         1.48544627e+00 -2.02054490e-01j,\n",
      "        -1.59612367e-01 +7.90853777e-02j,\n",
      "         2.85854411e-01 +2.16567814e-01j,\n",
      "         5.28063071e-01 +2.08838949e+00j,\n",
      "         6.17580558e-01 +9.90748539e-01j,\n",
      "        -2.64539211e-01 +1.16598665e+00j,\n",
      "        -1.07357542e+00 -7.58002064e-01j,\n",
      "         6.13399713e-02 +2.52338250e+00j,\n",
      "        -4.84180135e-01 -1.45046020e+00j,\n",
      "        -6.57519374e-01 -1.52719059e+00j,\n",
      "        -1.54949084e-01 -7.64796563e-01j,\n",
      "        -2.01172915e-02 +1.07377565e+00j,\n",
      "         2.19840636e-01 +6.89622678e-01j,\n",
      "        -2.64578500e+00 +1.46933966e+00j,\n",
      "         1.22168696e+00 +2.33458454e-01j,\n",
      "         2.71303177e+00 +2.77858685e-01j,\n",
      "         4.39426665e-01 +1.79924695e-01j,\n",
      "        -1.73858667e+00 -3.03473636e-01j,\n",
      "         2.68736300e-01 +8.32359634e-01j,\n",
      "         2.57517784e+00 +1.88097576e-01j,\n",
      "         2.76775469e-01 -6.49891901e-01j,\n",
      "        -9.87790301e-01 +4.50328269e-01j,\n",
      "         9.19033669e-01 +1.01453748e+00j,\n",
      "        -1.35706747e+00 +5.90240590e-01j,\n",
      "         6.60118738e-01 +5.10361208e-01j,\n",
      "        -2.17652642e-01 -4.26632365e-01j,\n",
      "        -1.39163540e+00 +9.12739752e-01j,\n",
      "        -1.76241829e+00 -1.04835908e+00j,\n",
      "        -7.28279529e-01 +2.75961750e-01j,\n",
      "        -1.32043513e+00 -3.28790183e-01j,\n",
      "         5.88227093e-01 +9.41865970e-01j,\n",
      "         1.97695607e+00 +1.04535450e+00j,\n",
      "        -3.02599128e+00 +1.02031744e+00j,\n",
      "        -1.34308763e+00 -4.48222977e-01j,\n",
      "        -1.86687861e+00 +2.26767568e+00j,\n",
      "         5.61472023e-01 -5.28652462e-01j,\n",
      "        -5.26747946e-01 +2.75545054e-01j,\n",
      "         6.16116514e-01 +3.41765793e-01j,\n",
      "         1.38709750e+00 +5.87537003e-01j,\n",
      "        -2.27923203e-01 +7.19317677e-01j,\n",
      "        -8.66404713e-01 -1.80932081e-01j,\n",
      "        -4.58146668e-01 +1.75955171e+00j,\n",
      "        -5.12526647e-01 -1.91939928e-01j,\n",
      "        -6.26532699e-01 -5.71301355e-01j,\n",
      "        -3.35566040e-01 -5.06173544e-01j,\n",
      "        -3.86124497e-01 -8.00560567e-01j,\n",
      "         2.47252265e+00 +3.83928843e-01j,\n",
      "         3.35561169e-01 +1.19309445e+00j,\n",
      "        -6.19075444e-01 -1.19021628e+00j,\n",
      "        -1.17335297e+00 +5.80500783e-01j,\n",
      "        -2.35111248e-01 -1.59785495e+00j,\n",
      "        -1.24819583e-01 -8.05281256e-01j,\n",
      "        -9.18606131e-01 -1.25312332e-01j,\n",
      "         3.14400972e-01 +1.18650079e+00j,\n",
      "         6.50630049e-01 -6.99853497e-01j,\n",
      "         1.28269722e+00 -1.29832850e+00j,\n",
      "         2.07880202e-01 +2.56385692e-02j,\n",
      "        -1.45089461e+00 -9.35093103e-01j,\n",
      "         6.84146951e-01 +7.74422758e-01j,\n",
      "         9.45439196e-01 -3.50695577e-01j,\n",
      "         1.00057580e+00 -1.27412936e+00j,\n",
      "        -2.01665427e-01 +1.73591867e+00j,\n",
      "         1.76623768e+00 -1.42964638e+00j,\n",
      "         1.12282181e+00 +9.02767375e-01j,\n",
      "        -2.22663798e+00 +7.34672692e-02j,\n",
      "         8.26230180e-02 -7.46601441e-01j,\n",
      "        -4.92810641e-01 -5.49544995e-01j,\n",
      "         1.06703148e-01 +1.70461156e+00j,\n",
      "        -6.84949746e-01 -1.46950185e-01j,\n",
      "         1.47509281e+00 +8.77421590e-01j,\n",
      "        -9.83722735e-03 -6.30597166e-01j,\n",
      "         2.36006569e-03 +2.12883413e-01j,\n",
      "        -3.67899785e-01 -9.95508241e-02j,\n",
      "         1.26752410e+00 +2.49370098e-01j,\n",
      "        -1.19439605e+00 +2.94935402e-01j,\n",
      "        -2.28617888e+00 +5.70564449e-02j,\n",
      "         3.95617530e-02 -2.80995512e-01j,\n",
      "        -7.51027805e-01 -8.14567233e-01j,\n",
      "        -1.24160227e+00 -4.13553574e-01j,  -4.76626111e-01 +4.16480574e-01j])\n",
      "ipdb> u_src\n",
      "*** NameError: name 'u_src' is not defined\n",
      "ipdb> c\n"
     ]
    }
   ],
   "source": [
    "%debug"
   ]
  },
  {
   "cell_type": "code",
   "execution_count": 18,
   "metadata": {
    "collapsed": false
   },
   "outputs": [
    {
     "name": "stdout",
     "output_type": "stream",
     "text": [
      "Adjoint test e formulation - getRHSDeriv_m\n",
      "(-10077.7224119-28916.4723594j) (-10077.7224119-28916.4723594j) (1.81898940355e-12-3.63797880709e-12j) 1.0 True\n"
     ]
    },
    {
     "data": {
      "text/plain": [
       "True"
      ]
     },
     "execution_count": 18,
     "metadata": {},
     "output_type": "execute_result"
    }
   ],
   "source": [
    "# Run a test\n",
    "TOL = 1e-4\n",
    "FLR = 1e-20\n",
    "\n",
    "def getRHSDeriv_mAdjointTest():\n",
    "    print 'Adjoint test e formulation - getRHSDeriv_m'\n",
    "\n",
    "    m  = np.log(np.ones(problem.mesh.nC)*0.01)\n",
    "    if True:\n",
    "        m  = m + np.random.randn(problem.mesh.nC)*0.01*1e-1 \n",
    "\n",
    "    u = problem.fields(m)\n",
    "    v = np.random.randn(m1d.nN)#+np.random.randn(1)*1j\n",
    "    # print prb.PropMap.PropModel.nP\n",
    "    w = np.random.randn(m1d.nC)#+np.random.randn(m1d.nN)*1j\n",
    "\n",
    "    vJw = v.dot(problem.getRHSDeriv_m(freq,w))\n",
    "    wJtv = w.dot(problem.getRHSDeriv_m(freq,v,adjoint=True))\n",
    "    tol = np.max([TOL*(10**int(np.log10(np.abs(vJw)))),FLR]) \n",
    "    print vJw, wJtv, vJw - wJtv, tol, np.abs(vJw - wJtv) < tol\n",
    "    return np.abs(vJw - wJtv) < tol\n",
    "getRHSDeriv_mAdjointTest( )"
   ]
  },
  {
   "cell_type": "code",
   "execution_count": null,
   "metadata": {
    "collapsed": false
   },
   "outputs": [],
   "source": [
    "simpeg.mkvc(np.random.randn(survey.nD)+np.random.randn(survey.nD)*1j,2)\n",
    "\n",
    "print survey.nD"
   ]
  },
  {
   "cell_type": "code",
   "execution_count": 19,
   "metadata": {
    "collapsed": false
   },
   "outputs": [],
   "source": [
    "TOL = 1e-4\n",
    "FLR = 1e-20\n",
    "\n",
    "def JvecAdjointTest():\n",
    "    print 'Adjoint e formulation - Jvec' \n",
    "\n",
    "    m  = np.log(np.ones(problem.mesh.nC)*0.01)\n",
    "    if True:\n",
    "        m  = m + np.random.randn(problem.mesh.nC)*0.01*1e-1 \n",
    "\n",
    "    u = problem.fields(m)\n",
    "\n",
    "    v = np.random.rand(survey.nD)\n",
    "    # print prb.PropMap.PropModel.nP\n",
    "    w = np.random.rand(problem.mesh.nC)\n",
    "\n",
    "    vJw = v.dot(problem.Jvec(m, w, u))\n",
    "    wJtv = w.dot(problem.Jtvec(m, v, u))\n",
    "    tol = np.max([TOL*(10**int(np.log10(np.abs(vJw)))),FLR]) \n",
    "    print vJw, wJtv, vJw - wJtv, tol, np.abs(vJw - wJtv) < tol\n",
    "    return np.abs(vJw - wJtv) < tol"
   ]
  },
  {
   "cell_type": "code",
   "execution_count": 20,
   "metadata": {
    "collapsed": false
   },
   "outputs": [
    {
     "name": "stdout",
     "output_type": "stream",
     "text": [
      "Adjoint e formulation - Jvec\n",
      "1.09508355274e-05 1.09508355274e-05 -1.01643953671e-20 1e-08 True\n"
     ]
    },
    {
     "data": {
      "text/plain": [
       "True"
      ]
     },
     "execution_count": 20,
     "metadata": {},
     "output_type": "execute_result"
    }
   ],
   "source": [
    "JvecAdjointTest()"
   ]
  },
  {
   "cell_type": "code",
   "execution_count": null,
   "metadata": {
    "collapsed": true
   },
   "outputs": [],
   "source": []
  }
 ],
 "metadata": {
  "kernelspec": {
   "display_name": "Python 2",
   "language": "python",
   "name": "python2"
  }
 },
 "nbformat": 4,
 "nbformat_minor": 0
}
