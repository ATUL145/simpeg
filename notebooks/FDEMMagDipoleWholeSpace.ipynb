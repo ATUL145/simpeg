{
 "metadata": {
  "name": "",
  "signature": "sha256:a2d6fa439c36864d11c80c96e07b98e71c41e6b880458bf4617e66424cff72f4"
 },
 "nbformat": 3,
 "nbformat_minor": 0,
 "worksheets": [
  {
   "cells": [
    {
     "cell_type": "code",
     "collapsed": false,
     "input": [
      "from SimPEG import *\n",
      "import simpegEM as EM"
     ],
     "language": "python",
     "metadata": {},
     "outputs": [
      {
       "output_type": "stream",
       "stream": "stdout",
       "text": [
        "Efficiency Warning: Interpolation will be slow, use setup.py!\n",
        "\n",
        "            python setup.py build_ext --inplace\n",
        "    \n"
       ]
      }
     ],
     "prompt_number": 1
    },
    {
     "cell_type": "code",
     "collapsed": false,
     "input": [
      "cs    = 5\n",
      "ncore = 12\n",
      "pad   = 5\n",
      "padfactor = 1.3\n",
      "\n",
      "h = [(cs,pad,-padfactor),(cs,ncore),(cs,pad,padfactor)]\n",
      "mesh = Mesh.TensorMesh([h, h, h],'CCC')"
     ],
     "language": "python",
     "metadata": {},
     "outputs": [],
     "prompt_number": 4
    },
    {
     "cell_type": "code",
     "collapsed": false,
     "input": [
      "x = mesh.gridCC[:,0]\n",
      "y = mesh.gridCC[:,1]\n",
      "z = mesh.gridCC[:,2]\n",
      "sig0 = 1e-2 \n",
      "f    = 100 "
     ],
     "language": "python",
     "metadata": {},
     "outputs": [],
     "prompt_number": 5
    },
    {
     "cell_type": "code",
     "collapsed": false,
     "input": [
      "Bx,By,Bz = EM.Analytics.FEM.AnalyticMagDipoleWholeSpace(x,y,z,sig0,f)"
     ],
     "language": "python",
     "metadata": {},
     "outputs": []
    },
    {
     "cell_type": "code",
     "collapsed": false,
     "input": [
      "mesh.plotSlice(Bx.real,grid = True)\n",
      "mesh.plotSlice(Bx.imag,grid = True)\n",
      "mesh.plotSlice(By.real,grid = True)\n",
      "mesh.plotSlice(By.imag,grid = True)\n",
      "mesh.plotSlice(Bz.real,grid = True)\n",
      "mesh.plotSlice(Bz.imag,grid = True)"
     ],
     "language": "python",
     "metadata": {},
     "outputs": []
    },
    {
     "cell_type": "code",
     "collapsed": false,
     "input": [],
     "language": "python",
     "metadata": {},
     "outputs": [
      {
       "metadata": {},
       "output_type": "pyout",
       "prompt_number": 10,
       "text": [
        "array([  8.24267786e-15 -2.83223098e-15j,\n",
        "        -6.93872399e-16 -1.71019341e-15j,  -6.93872399e-16 -1.71019341e-15j])"
       ]
      }
     ],
     "prompt_number": 10
    },
    {
     "cell_type": "code",
     "collapsed": false,
     "input": [],
     "language": "python",
     "metadata": {},
     "outputs": []
    }
   ],
   "metadata": {}
  }
 ]
}