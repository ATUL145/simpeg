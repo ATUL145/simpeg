{
 "metadata": {
  "name": ""
 },
 "nbformat": 3,
 "nbformat_minor": 0,
 "worksheets": [
  {
   "cells": [
    {
     "cell_type": "code",
     "collapsed": false,
     "input": [
      "import numpy as np, vtk\n",
      "import SimPEG as simpeg"
     ],
     "language": "python",
     "metadata": {},
     "outputs": [],
     "prompt_number": 5
    },
    {
     "cell_type": "code",
     "collapsed": false,
     "input": [
      "#Make a mesh and model\n",
      "x0 = np.zeros(3)\n",
      "h1 = np.ones(20)*50\n",
      "h2 = np.ones(10)*100\n",
      "h3 = np.ones(5)*200\n",
      "\n",
      "mesh = simpeg.mesh.TensorMesh([h1,h2,h3],x0)\n"
     ],
     "language": "python",
     "metadata": {},
     "outputs": [],
     "prompt_number": 6
    },
    {
     "cell_type": "code",
     "collapsed": false,
     "input": [
      "# Make a models that correspond to the cells, faces and edges.\n",
      "models = {'cell':{'Test':np.arange(0,mesh.nC),'AllOnce':np.ones(mesh.nC)},'face':{'Test':np.arange(0,np.sum(mesh.nF)),'AllOnce':np.ones(np.sum(mesh.nF))},'edge':{'Test':np.arange(0,np.sum(mesh.nE)),'AllOnce':np.ones(np.sum(mesh.nE))}}\n",
      "# Make the vtk viewer object.\n",
      "vtkViewer = simpeg.visulize.vtk.vtkView(mesh,models)                            \n",
      "                                                            "
     ],
     "language": "python",
     "metadata": {},
     "outputs": [],
     "prompt_number": 7
    },
    {
     "cell_type": "code",
     "collapsed": false,
     "input": [
      "# Show the image \n",
      "vtkViewer.Show()\n"
     ],
     "language": "python",
     "metadata": {},
     "outputs": [],
     "prompt_number": "*"
    }
   ],
   "metadata": {}
  }
 ]
}