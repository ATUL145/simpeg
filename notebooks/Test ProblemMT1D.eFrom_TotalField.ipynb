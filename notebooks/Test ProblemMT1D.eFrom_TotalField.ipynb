{
 "cells": [
  {
   "cell_type": "code",
   "execution_count": 1,
   "metadata": {
    "collapsed": true
   },
   "outputs": [],
   "source": [
    "# Notebook to test 1D code"
   ]
  },
  {
   "cell_type": "code",
   "execution_count": 2,
   "metadata": {
    "collapsed": true
   },
   "outputs": [],
   "source": [
    "import SimPEG as simpeg\n",
    "import simpegMT as simpegmt"
   ]
  },
  {
   "cell_type": "code",
   "execution_count": 3,
   "metadata": {
    "collapsed": true
   },
   "outputs": [],
   "source": [
    "ct = 10\n",
    "m1d = simpeg.Mesh.TensorMesh([[(ct,20,-1.5),(ct,100),(ct,20,1.5)]], x0=['C'])\n",
    "sigma = np.zeros(m1d.nC) + 2e-3\n",
    "sigma[m1d.gridCC[:]>200] = 1e-8"
   ]
  },
  {
   "cell_type": "code",
   "execution_count": 4,
   "metadata": {
    "collapsed": false
   },
   "outputs": [],
   "source": [
    "# Make the rx and src\n",
    "freqs = np.logspace(3,-3,31)\n",
    "rxList = []\n",
    "for rxType in ['zxyr','zxyi']:\n",
    "    rxList.append(simpegmt.SurveyMT.RxMT(simpeg.mkvc(np.array([405]),2).T,rxType))\n",
    "# Source list\n",
    "srcList =[]\n",
    "for freq in freqs: \n",
    "    srcList.append(simpegmt.SurveyMT.srcMT(freq,rxList))  \n",
    "survey = simpegmt.SurveyMT.SurveyMT(srcList)\n",
    "problem = simpegmt.ProblemMT1D.eForm_TotalField(m1d)\n",
    "problem.pair(survey)"
   ]
  },
  {
   "cell_type": "code",
   "execution_count": 5,
   "metadata": {
    "collapsed": false,
    "scrolled": true
   },
   "outputs": [],
   "source": [
    "fields = problem.fields(sigma)"
   ]
  },
  {
   "cell_type": "code",
   "execution_count": 7,
   "metadata": {
    "collapsed": false
   },
   "outputs": [
    {
     "data": {
      "text/plain": [
       "array([[  1.52442595e-125 -7.20764170e-126j,\n",
       "          7.74672164e-101 +1.76864736e-100j,\n",
       "         -2.07557099e-080 -3.74608600e-081j, ...,\n",
       "          3.10393307e-001 -2.86962945e-001j,\n",
       "          4.10341179e-001 -2.87349774e-001j,\n",
       "          5.05105758e-001 -2.74745005e-001j],\n",
       "       [  8.67440346e-030 +6.35706181e-030j,\n",
       "         -1.53155881e-027 +3.75444030e-027j,\n",
       "         -1.08396611e-024 -4.98500246e-026j, ...,\n",
       "         -4.05147339e-001 +2.76576534e-001j,\n",
       "         -4.96380502e-001 +2.67133906e-001j,\n",
       "         -5.80363237e-001 +2.48768467e-001j],\n",
       "       [ -6.16527128e-026 +8.41573172e-026j,\n",
       "         -2.29821697e-023 -9.36787887e-024j,\n",
       "          1.90707675e-022 -4.18621866e-021j, ...,\n",
       "         -4.75055964e-001 +2.59780137e-001j,\n",
       "         -5.57847068e-001 +2.46025119e-001j,\n",
       "         -6.32948088e-001 +2.25820916e-001j],\n",
       "       ..., \n",
       "       [ -4.42815267e-001 +4.54129730e-002j,\n",
       "         -4.45450945e-001 +2.94352343e-002j,\n",
       "         -4.46746292e-001 +1.94083017e-002j, ...,\n",
       "         -7.96037136e-001 +1.08182287e-001j,\n",
       "         -8.29064328e-001 +1.00291076e-001j,\n",
       "         -8.58609530e-001 +9.06236881e-002j],\n",
       "       [ -6.64333571e-001 +4.65810415e-002j,\n",
       "         -6.66721482e-001 +2.99034482e-002j,\n",
       "         -6.67823222e-001 +1.93821193e-002j, ...,\n",
       "         -8.77622277e-001 +6.49094362e-002j,\n",
       "         -8.97438594e-001 +6.01746869e-002j,\n",
       "         -9.15165716e-001 +5.43742395e-002j],\n",
       "       [  1.00000000e+000 +0.00000000e+000j,\n",
       "          1.00000000e+000 +0.00000000e+000j,\n",
       "          1.00000000e+000 +0.00000000e+000j, ...,\n",
       "          1.00000000e+000 +0.00000000e+000j,\n",
       "          1.00000000e+000 +0.00000000e+000j,\n",
       "          1.00000000e+000 +0.00000000e+000j]])"
      ]
     },
     "execution_count": 7,
     "metadata": {},
     "output_type": "execute_result"
    }
   ],
   "source": [
    "fields[:,'e_1d']"
   ]
  },
  {
   "cell_type": "code",
   "execution_count": null,
   "metadata": {
    "collapsed": false
   },
   "outputs": [],
   "source": []
  },
  {
   "cell_type": "code",
   "execution_count": null,
   "metadata": {
    "collapsed": false
   },
   "outputs": [],
   "source": [
    "m1d.nN"
   ]
  },
  {
   "cell_type": "code",
   "execution_count": null,
   "metadata": {
    "collapsed": true
   },
   "outputs": [],
   "source": [
    "self = problem\n",
    "Mmui = self.MfMui\n",
    "Msig = self.mesh.getFaceInnerProduct(self.curModel)\n",
    "C = self.mesh.nodalGrad"
   ]
  },
  {
   "cell_type": "code",
   "execution_count": null,
   "metadata": {
    "collapsed": false
   },
   "outputs": [],
   "source": [
    "self"
   ]
  },
  {
   "cell_type": "code",
   "execution_count": null,
   "metadata": {
    "collapsed": false
   },
   "outputs": [],
   "source": [
    "Mmui"
   ]
  },
  {
   "cell_type": "code",
   "execution_count": null,
   "metadata": {
    "collapsed": false
   },
   "outputs": [],
   "source": [
    "self.Me[1,1]"
   ]
  },
  {
   "cell_type": "code",
   "execution_count": null,
   "metadata": {
    "collapsed": false
   },
   "outputs": [],
   "source": [
    "self.mesh.vol"
   ]
  },
  {
   "cell_type": "code",
   "execution_count": null,
   "metadata": {
    "collapsed": false
   },
   "outputs": [],
   "source": [
    "m1d.h"
   ]
  },
  {
   "cell_type": "code",
   "execution_count": null,
   "metadata": {
    "collapsed": false
   },
   "outputs": [],
   "source": [
    "m1d.gridCC"
   ]
  },
  {
   "cell_type": "code",
   "execution_count": null,
   "metadata": {
    "collapsed": true
   },
   "outputs": [],
   "source": []
  }
 ],
 "metadata": {
  "kernelspec": {
   "display_name": "Python 2",
   "language": "python",
   "name": "python2"
  },
  "language_info": {
   "codemirror_mode": {
    "name": "ipython",
    "version": 2
   },
   "file_extension": ".py",
   "mimetype": "text/x-python",
   "name": "python",
   "nbconvert_exporter": "python",
   "pygments_lexer": "ipython2",
   "version": "2.7.9"
  }
 },
 "nbformat": 4,
 "nbformat_minor": 0
}
