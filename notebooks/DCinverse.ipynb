{
 "metadata": {
  "name": "",
  "signature": "sha256:8f8d2c689741d8d56146a511dd2c67e7956c3d1fe0dcef0cf550c0b5c5f9c52d"
 },
 "nbformat": 3,
 "nbformat_minor": 0,
 "worksheets": [
  {
   "cells": [
    {
     "cell_type": "code",
     "collapsed": false,
     "input": [
      "from SimPEG import *\n",
      "import simpegDC as DC\n",
      "%pylab inline\n",
      "from pymatsolver import MumpsSolver"
     ],
     "language": "python",
     "metadata": {},
     "outputs": [
      {
       "output_type": "stream",
       "stream": "stdout",
       "text": [
        "Populating the interactive namespace from numpy and matplotlib\n"
       ]
      },
      {
       "output_type": "stream",
       "stream": "stderr",
       "text": [
        "Vendor:  Continuum Analytics, Inc.\n",
        "Package: mkl\n",
        "Message: trial mode expires in 20 days\n"
       ]
      }
     ],
     "prompt_number": 1
    },
    {
     "cell_type": "code",
     "collapsed": false,
     "input": [
      "cs = 12.5\n",
      "nc = 500/cs+1\n",
      "hx = [(cs,7, -1.3),(cs,nc),(cs,7, 1.3)]\n",
      "hy = [(cs,7, -1.3),(cs,int(nc/2+1)),(cs,7, 1.3)]\n",
      "hz = [(cs,7, -1.3),(cs,int(nc/2+1))]"
     ],
     "language": "python",
     "metadata": {},
     "outputs": [],
     "prompt_number": 2
    },
    {
     "cell_type": "code",
     "collapsed": false,
     "input": [
      "mesh = Mesh.TensorMesh([hx, hy, hz], 'CCN')\n",
      "print mesh"
     ],
     "language": "python",
     "metadata": {},
     "outputs": [
      {
       "output_type": "stream",
       "stream": "stdout",
       "text": [
        "  ---- 3-D TensorMesh ----  \n",
        "   x0: -541.97\n",
        "   y0: -416.97\n",
        "   z0: -548.22\n",
        "  nCx: 55\n",
        "  nCy: 35\n",
        "  nCz: 28\n",
        "   hx: 78.44, 60.34, 46.41, 35.70, 27.46, 21.13, 16.25, 41*12.50, 16.25, 21.13, 27.46, 35.70, 46.41, 60.34, 78.44\n",
        "   hy: 78.44, 60.34, 46.41, 35.70, 27.46, 21.13, 16.25, 21*12.50, 16.25, 21.13, 27.46, 35.70, 46.41, 60.34, 78.44\n",
        "   hz: 78.44, 60.34, 46.41, 35.70, 27.46, 21.13, 16.25, 21*12.50\n"
       ]
      }
     ],
     "prompt_number": 3
    },
    {
     "cell_type": "code",
     "collapsed": false,
     "input": [
      "sighalf = 1e-2\n",
      "sigma = np.ones(mesh.nC)*sighalf\n",
      "p0 = np.r_[-50., 50., -50.]\n",
      "p1 = np.r_[ 50.,-50., -150.]\n",
      "blk_ind = Utils.ModelBuilder.getIndecesBlock(p0, p1, mesh.gridCC)\n",
      "sigma[blk_ind] = 1e-3"
     ],
     "language": "python",
     "metadata": {},
     "outputs": [],
     "prompt_number": 4
    },
    {
     "cell_type": "code",
     "collapsed": false,
     "input": [
      "nElecs = 21\n",
      "x_temp = np.linspace(-250, 250, nElecs)\n",
      "aSpacing = x_temp[1]-x_temp[0]\n",
      "y_temp = 0.\n",
      "xyz = Utils.ndgrid(x_temp, np.r_[y_temp], np.r_[0.])"
     ],
     "language": "python",
     "metadata": {},
     "outputs": [],
     "prompt_number": 5
    },
    {
     "cell_type": "code",
     "collapsed": false,
     "input": [
      "srcList = DC.Examples.WennerArray.getSrcList(nElecs,aSpacing)\n",
      "survey = DC.SurveyDC(srcList)\n",
      "print len(survey.srcList)"
     ],
     "language": "python",
     "metadata": {},
     "outputs": [
      {
       "output_type": "stream",
       "stream": "stdout",
       "text": [
        "63\n"
       ]
      }
     ],
     "prompt_number": 6
    },
    {
     "cell_type": "code",
     "collapsed": false,
     "input": [
      "fig, ax = plt.subplots(1,1, figsize = (6.5,5))\n",
      "indz = 22\n",
      "dat = mesh.plotSlice(sigma, grid=True, ax = ax, ind=indz)\n",
      "ax.set_xlim(-300, 300)\n",
      "ax.set_ylim(-300, 300)\n",
      "cb = plt.colorbar(dat[0])\n",
      "ax.set_title('Depth at '+str(mesh.vectorCCz[indz])+' m')\n",
      "\n",
      "txLocs = np.array([[tx.loc[0][0], tx.loc[1][0]] for tx in survey.srcList]).flatten()\n",
      "ax.plot(txLocs, txLocs*0, 'w.', ms = 3)"
     ],
     "language": "python",
     "metadata": {},
     "outputs": [
      {
       "metadata": {},
       "output_type": "pyout",
       "prompt_number": 8,
       "text": [
        "[<matplotlib.lines.Line2D at 0x10ea54b90>]"
       ]
      },
      {
       "metadata": {},
       "output_type": "display_data",
       "png": "[encoded data removed]",
       "text": [
        "<matplotlib.figure.Figure at 0x10e8888d0>"
       ]
      }
     ],
     "prompt_number": 8
    },
    {
     "cell_type": "code",
     "collapsed": false,
     "input": [
      "expmap = Maps.ExpMap(mesh)\n",
      "m2to3  = Maps.Map2Dto3D(mesh,normal='Y')\n",
      "imap   = Maps.IdentityMap(mesh)\n",
      "problem = DC.ProblemDC(mesh, mapping= imap )\n",
      "problem.Solver = MumpsSolver\n",
      "problem.pair(survey)"
     ],
     "language": "python",
     "metadata": {},
     "outputs": [],
     "prompt_number": 9
    },
    {
     "cell_type": "code",
     "collapsed": false,
     "input": [
      "datasyn = survey.dpred(sighalf*np.ones(mesh.nC))\n",
      "survey.makeSyntheticData(sigma,std=0.01,force=True)\n",
      "plot(np.log(np.c_[survey.dobs,datasyn]))"
     ],
     "language": "python",
     "metadata": {},
     "outputs": [
      {
       "metadata": {},
       "output_type": "pyout",
       "prompt_number": 10,
       "text": [
        "[<matplotlib.lines.Line2D at 0x1106dd910>,\n",
        " <matplotlib.lines.Line2D at 0x1106ddb90>]"
       ]
      },
      {
       "metadata": {},
       "output_type": "display_data",
       "png": "[encoded data removed]",
       "text": [
        "<matplotlib.figure.Figure at 0x10d9bb3d0>"
       ]
      }
     ],
     "prompt_number": 10
    },
    {
     "cell_type": "code",
     "collapsed": false,
     "input": [
      "problem.mapping = expmap * m2to3"
     ],
     "language": "python",
     "metadata": {},
     "outputs": [],
     "prompt_number": 11
    },
    {
     "cell_type": "code",
     "collapsed": false,
     "input": [
      "dmis = DataMisfit.l2_DataMisfit(survey)\n",
      "reg = Regularization.Tikhonov(mesh,mapping=m2to3)\n",
      "opt = Optimization.InexactGaussNewton(maxIter=7,tolX=1e-15)\n",
      "opt.remember('xc')\n",
      "invProb = InvProblem.BaseInvProblem(dmis, reg, opt)\n",
      "beta = Directives.BetaEstimate_ByEig(beta0_ratio=1e1)\n",
      "betaSched = Directives.BetaSchedule(coolingFactor=5, coolingRate=2)\n",
      "inv = Inversion.BaseInversion(invProb, directiveList=[beta,betaSched])"
     ],
     "language": "python",
     "metadata": {},
     "outputs": [],
     "prompt_number": 12
    },
    {
     "cell_type": "code",
     "collapsed": false,
     "input": [
      "m0 = np.log(np.ones(problem.mapping.nP)*sighalf)\n",
      "mopt = inv.run(m0)"
     ],
     "language": "python",
     "metadata": {},
     "outputs": [
      {
       "output_type": "stream",
       "stream": "stdout",
       "text": [
        "SimPEG.InvProblem will set Regularization.mref to m0.\n",
        "SimPEG.InvProblem is setting bfgsH0 to the inverse of the eval2Deriv.\n",
        "                    ***Done using same solver as the problem***\n",
        "SimPEG.l2_DataMisfit is creating default weightings for Wd."
       ]
      },
      {
       "output_type": "stream",
       "stream": "stdout",
       "text": [
        "\n",
        "============================ Inexact Gauss Newton ============================"
       ]
      },
      {
       "output_type": "stream",
       "stream": "stdout",
       "text": [
        "\n",
        "  #     beta     phi_d     phi_m       f      |proj(x-g)-x|  LS    Comment   \n",
        "-----------------------------------------------------------------------------\n",
        "   0  6.59e+00  1.84e+03  1.05e+04  7.11e+04    2.15e+03      0              "
       ]
      },
      {
       "output_type": "stream",
       "stream": "stdout",
       "text": [
        "\n",
        "   1  6.59e+00  1.98e+02  1.07e+04  7.10e+04    1.89e+02      0              "
       ]
      },
      {
       "output_type": "stream",
       "stream": "stdout",
       "text": [
        "\n",
        "   2  1.32e+00  1.70e+02  1.07e+04  1.43e+04    2.63e+02      0              "
       ]
      },
      {
       "output_type": "stream",
       "stream": "stdout",
       "text": [
        "\n",
        "   3  1.32e+00  9.16e+01  1.07e+04  1.42e+04    1.81e+02      0              "
       ]
      },
      {
       "output_type": "stream",
       "stream": "stdout",
       "text": [
        "\n",
        "------------------------------------------------------------------"
       ]
      },
      {
       "output_type": "stream",
       "stream": "stdout",
       "text": [
        "\n",
        "0 :    ft     = 1.4181e+04 <= alp*descent     = 1.4181e+04\n",
        "1 : maxIterLS =      10    <= iterLS          =     10\n",
        "------------------------- End Linesearch -------------------------\n",
        "The linesearch got broken. Boo.\n"
       ]
      }
     ],
     "prompt_number": 13
    },
    {
     "cell_type": "code",
     "collapsed": false,
     "input": [
      "colorbar(mesh.plotSlice(np.log10(expmap * m2to3 * mopt), normal='Y', ind=indz, grid=True)[0])"
     ],
     "language": "python",
     "metadata": {},
     "outputs": [
      {
       "metadata": {},
       "output_type": "pyout",
       "prompt_number": 14,
       "text": [
        "<matplotlib.colorbar.Colorbar instance at 0x10daf85a8>"
       ]
      },
      {
       "metadata": {},
       "output_type": "display_data",
       "png": "[encoded data removed]",
       "text": [
        "<matplotlib.figure.Figure at 0x10eeb9190>"
       ]
      }
     ],
     "prompt_number": 14
    },
    {
     "cell_type": "code",
     "collapsed": false,
     "input": [
      "dpred = survey.dpred(mopt)"
     ],
     "language": "python",
     "metadata": {},
     "outputs": [],
     "prompt_number": 15
    },
    {
     "cell_type": "code",
     "collapsed": false,
     "input": [
      "plot(np.c_[dpred,survey.dobs])"
     ],
     "language": "python",
     "metadata": {},
     "outputs": [
      {
       "metadata": {},
       "output_type": "pyout",
       "prompt_number": 16,
       "text": [
        "[<matplotlib.lines.Line2D at 0x110194e10>,\n",
        " <matplotlib.lines.Line2D at 0x1101a10d0>]"
       ]
      },
      {
       "metadata": {},
       "output_type": "display_data",
       "png": "[encoded data removed]",
       "text": [
        "<matplotlib.figure.Figure at 0x10ed69dd0>"
       ]
      }
     ],
     "prompt_number": 16
    },
    {
     "cell_type": "code",
     "collapsed": false,
     "input": [],
     "language": "python",
     "metadata": {},
     "outputs": []
    }
   ],
   "metadata": {}
  }
 ]
}