{
 "cells": [
  {
   "cell_type": "code",
   "execution_count": 1,
   "metadata": {
    "collapsed": true
   },
   "outputs": [],
   "source": [
    "import SimPEG as simpeg\n",
    "import simpegMT as simpegmt\n",
    "import numpy as np"
   ]
  },
  {
   "cell_type": "code",
   "execution_count": 2,
   "metadata": {
    "collapsed": false
   },
   "outputs": [],
   "source": [
    "## Setup the problem\n",
    "\n",
    "# Frequency\n",
    "nFreq = 33\n",
    "freqs = np.logspace(3,-3,nFreq)\n",
    "# freqs = np.array([100,10,1,0.1,0.01])\n",
    "# Make the mesh\n",
    "ct = 10\n",
    "air = simpeg.Utils.meshTensor([(ct,15,1.3)])\n",
    "core = np.concatenate( (  np.kron(simpeg.Utils.meshTensor([(ct,15,-1.2)]),np.ones((5,))) , simpeg.Utils.meshTensor([(ct,5)]) ) )\n",
    "bot = simpeg.Utils.meshTensor([(core[0],10,-1.3)])\n",
    "x0 = -np.array([np.sum(np.concatenate((core,bot)))])\n",
    "# Change to use no air\n",
    "m1d = simpeg.Mesh.TensorMesh([np.concatenate((bot,core,air))], x0=x0)\n",
    "\n",
    "## Setup model varibles\n",
    "active = m1d.vectorCCx<0.\n",
    "layer1 = (m1d.vectorCCx<-200.) & (m1d.vectorCCx>=-600.)\n",
    "layer2 = (m1d.vectorCCx<-2000.) & (m1d.vectorCCx>=-4000.)\n",
    "actMap = simpeg.Maps.ActiveCells(m1d, active, np.log(1e-8), nC=m1d.nCx)\n",
    "mappingExpAct = simpeg.Maps.ExpMap(m1d) * actMap\n",
    "sig_half = 2e-3\n",
    "sig_air = 1e-8\n",
    "sig_layer1 = 1\n",
    "sig_layer2 = .1\n",
    "# Make the true model\n",
    "sigma_true = np.ones(m1d.nCx)*sig_air\n",
    "sigma_true[active] = sig_half\n",
    "sigma_true[layer1] = sig_layer1\n",
    "sigma_true[layer2] = sig_layer2\n",
    "m_true = np.log(sigma_true[active])\n",
    "# Make the background model\n",
    "sigma_0 = np.ones(m1d.nCx)*sig_air\n",
    "sigma_0[active] = sig_half\n",
    "m_0 = np.log(sigma_0[active])\n",
    "\n",
    "# Receivers \n",
    "# 1D impedance at the surface (elevation 0)\n",
    "rxList = []\n",
    "for rxType in ['z1dr','z1di']:\n",
    "    rxList.append(simpegmt.SurveyMT.RxMT(simpeg.mkvc(np.array([0.0]),2).T,rxType))\n",
    "# Source list\n",
    "srcList =[]\n",
    "tD = False\n",
    "if tD:\n",
    "    for freq in freqs:\n",
    "        srcList.append(simpegmt.SurveyMT.srcMT_polxy_1DhomotD(rxList,freq))\n",
    "else:\n",
    "    for freq in freqs:\n",
    "        srcList.append(simpegmt.SurveyMT.srcMT_polxy_1Dprimary(rxList,freq,sigma_0))\n",
    "# Make the survey\n",
    "survey = simpegmt.SurveyMT.SurveyMT(srcList)\n",
    "survey.mtrue = m_true\n",
    "# Set the problem\n",
    "problem = simpegmt.ProblemMT1D.eForm_psField(m1d,mapping=mappingExpAct)\n",
    "from pymatsolver import MumpsSolver\n",
    "problem.solver = MumpsSolver\n",
    "problem.pair(survey)"
   ]
  },
  {
   "cell_type": "code",
   "execution_count": 28,
   "metadata": {
    "collapsed": false
   },
   "outputs": [
    {
     "data": {
      "text/plain": [
       "105"
      ]
     },
     "execution_count": 28,
     "metadata": {},
     "output_type": "execute_result"
    }
   ],
   "source": [
    "m1d.nC"
   ]
  },
  {
   "cell_type": "code",
   "execution_count": 4,
   "metadata": {
    "collapsed": false
   },
   "outputs": [
    {
     "data": {
      "text/plain": [
       "0.002"
      ]
     },
     "execution_count": 4,
     "metadata": {},
     "output_type": "execute_result"
    }
   ],
   "source": [
    "sig_half"
   ]
  },
  {
   "cell_type": "code",
   "execution_count": 5,
   "metadata": {
    "collapsed": false
   },
   "outputs": [],
   "source": [
    "## Make the observed data \n",
    "# Project the data\n",
    "d_true = survey.dpred(m_true)\n",
    "survey.dtrue = d_true\n",
    "# Add noise\n",
    "std = 0.05 # 5% std\n",
    "noise = std*abs(survey.dtrue)*np.random.randn(*survey.dtrue.shape)\n",
    "# Assign the dobs\n",
    "survey.dobs = survey.dtrue + noise\n",
    "survey.std = survey.dobs*0 + std\n",
    "# Assign the data weight\n",
    "survey.Wd = 1/(abs(survey.dobs)*std)"
   ]
  },
  {
   "cell_type": "code",
   "execution_count": null,
   "metadata": {
    "collapsed": false
   },
   "outputs": [],
   "source": []
  },
  {
   "cell_type": "code",
   "execution_count": 6,
   "metadata": {
    "collapsed": false
   },
   "outputs": [],
   "source": [
    "## Setup the inversion proceedure\n",
    "C =  simpeg.Utils.Counter()\n",
    "\n",
    "# Set the optimization\n",
    "opt = simpeg.Optimization.InexactGaussNewton(maxIter = 30)\n",
    "opt.counter = C\n",
    "opt.LSshorten = 0.5\n",
    "opt.remember('xc')\n",
    "# Data misfit\n",
    "dmis = simpeg.DataMisfit.l2_DataMisfit(survey)\n",
    "# Regularization\n",
    "# regMesh = simpeg.Mesh.TensorMesh([m1d.hx[problem.mapping.sigmaMap.maps[-1].indActive]])\n",
    "# reg = simpeg.Regularization.Tikhonov(regMesh)\n",
    "reg = simpeg.Regularization.Tikhonov(m1d,mapping=mappingExpAct)\n",
    "reg.alpha_s = 1e-5\n",
    "reg.alpha_x = 1.\n",
    "\n",
    "# Inversion problem\n",
    "invProb = simpeg.InvProblem.BaseInvProblem(dmis, reg, opt)\n",
    "invProb.counter = C\n",
    "# Beta cooling\n",
    "beta = simpeg.Directives.BetaSchedule()\n",
    "betaest = simpeg.Directives.BetaEstimate_ByEig(beta0_ratio=0.75)\n",
    "saveModel = simpeg.Directives.SaveModelEveryIteration()\n",
    "# Create an inversion object\n",
    "inv = simpeg.Inversion.BaseInversion(invProb, directiveList=[beta,betaest])#,saveModel]) \n"
   ]
  },
  {
   "cell_type": "code",
   "execution_count": 7,
   "metadata": {
    "collapsed": false
   },
   "outputs": [
    {
     "data": {
      "text/plain": [
       "<SimPEG.Maps.ActiveCells at 0x7fcfc8df5650>"
      ]
     },
     "execution_count": 7,
     "metadata": {},
     "output_type": "execute_result"
    }
   ],
   "source": [
    "problem.mapping.sigmaMap.maps[-1]"
   ]
  },
  {
   "cell_type": "code",
   "execution_count": 8,
   "metadata": {
    "collapsed": false
   },
   "outputs": [
    {
     "name": "stdout",
     "output_type": "stream",
     "text": [
      "SimPEG.InvProblem will set Regularization.mref to m0.\n",
      "SimPEG.InvProblem is setting bfgsH0 to the inverse of the eval2Deriv.\n",
      "                    ***Done using same solver as the problem***\n",
      "SimPEG.l2_DataMisfit is creating default weightings for Wd.\n",
      "============================ Inexact Gauss Newton ============================\n",
      "  #     beta     phi_d     phi_m       f      |proj(x-g)-x|  LS    Comment   \n",
      "-----------------------------------------------------------------------------\n",
      "   0  4.83e+05  1.46e+06  6.90e-07  1.46e+06    2.09e+05      0              \n",
      "   1  4.83e+05  1.80e+05  5.76e-06  1.80e+05    2.64e+04      0              \n",
      "   2  4.83e+05  1.29e+05  7.58e-06  1.29e+05    2.05e+04      0   Skip BFGS  \n",
      "   3  6.04e+04  1.10e+05  8.89e-06  1.10e+05    1.82e+04      0   Skip BFGS  \n",
      "   4  6.04e+04  5.48e+04  1.97e-05  5.48e+04    1.05e+04      0   Skip BFGS  \n",
      "   5  6.04e+04  4.57e+04  2.46e-05  4.57e+04    9.11e+03      0   Skip BFGS  \n",
      "   6  7.55e+03  4.04e+04  2.88e-05  4.04e+04    8.25e+03      0   Skip BFGS  \n",
      "   7  7.55e+03  2.22e+04  6.11e-05  2.22e+04    5.14e+03      0   Skip BFGS  \n",
      "   8  7.55e+03  1.81e+04  7.86e-05  1.81e+04    4.38e+03      0   Skip BFGS  \n",
      "   9  9.44e+02  1.58e+04  9.29e-05  1.58e+04    3.94e+03      0   Skip BFGS  \n",
      "  10  9.44e+02  8.37e+03  1.97e-04  8.37e+03    2.43e+03      0   Skip BFGS  \n",
      "  11  9.44e+02  6.71e+03  2.54e-04  6.71e+03    2.05e+03      0   Skip BFGS  \n",
      "  12  1.18e+02  5.78e+03  3.01e-04  5.78e+03    1.83e+03      0   Skip BFGS  \n",
      "  13  1.18e+02  3.04e+03  6.06e-04  3.04e+03    1.11e+03      0   Skip BFGS  \n",
      "  14  1.18e+02  2.42e+03  7.75e-04  2.42e+03    9.25e+02      0   Skip BFGS  \n",
      "  15  1.47e+01  2.09e+03  9.10e-04  2.09e+03    8.15e+02      0   Skip BFGS  \n",
      "  16  1.47e+01  1.21e+03  1.66e-03  1.21e+03    4.81e+02      0   Skip BFGS  \n",
      "  17  1.47e+01  9.97e+02  2.07e-03  9.97e+02    3.82e+02      0   Skip BFGS  \n",
      "  18  1.84e+00  8.79e+02  2.36e-03  8.79e+02    3.30e+02      0   Skip BFGS  \n",
      "  19  1.84e+00  6.16e+02  3.62e-03  6.16e+02    1.99e+02      0   Skip BFGS  \n",
      "  20  1.84e+00  5.31e+02  4.24e-03  5.31e+02    1.64e+02      0   Skip BFGS  \n",
      "  21  2.30e-01  4.79e+02  4.68e-03  4.79e+02    1.45e+02      0   Skip BFGS  \n",
      "  22  2.30e-01  3.38e+02  6.36e-03  3.38e+02    1.01e+02      0   Skip BFGS  \n",
      "  23  2.30e-01  2.80e+02  7.02e-03  2.80e+02    8.93e+01      0   Skip BFGS  \n",
      "  24  2.88e-02  2.32e+02  7.55e-03  2.32e+02    8.14e+01      0   Skip BFGS  \n",
      "  25  2.88e-02  1.53e+02  1.08e-02  1.53e+02    6.94e+01      0   Skip BFGS  \n",
      "  26  2.88e-02  8.67e+01  1.27e-02  8.67e+01    3.84e+01      0              \n",
      "  27  3.60e-03  6.54e+01  1.40e-02  6.54e+01    3.13e+01      0   Skip BFGS  \n",
      "  28  3.60e-03  3.48e+01  1.69e-02  3.48e+01    2.06e+01      0   Skip BFGS  \n",
      "  29  3.60e-03  2.63e+01  1.86e-02  2.63e+01    1.07e+01      0   Skip BFGS  \n",
      "  30  4.50e-04  2.19e+01  2.17e-02  2.19e+01    7.17e+00      0   Skip BFGS  \n",
      "------------------------- STOP! -------------------------\n",
      "1 : |fc-fOld| = 4.3709e+00 <= tolF*(1+|f0|) = 1.4560e+05\n",
      "1 : |xc-x_last| = 2.1874e+00 <= tolX*(1+|x0|) = 5.9957e+00\n",
      "0 : |proj(x-g)-x|    = 7.1673e+00 <= tolG          = 1.0000e-01\n",
      "0 : |proj(x-g)-x|    = 7.1673e+00 <= 1e3*eps       = 1.0000e-02\n",
      "1 : maxIter   =      30    <= iter          =     30\n",
      "------------------------- DONE! -------------------------\n"
     ]
    }
   ],
   "source": [
    "# Runn the inversion\n",
    "mopt = inv.run(m_0)"
   ]
  },
  {
   "cell_type": "code",
   "execution_count": 18,
   "metadata": {
    "collapsed": false
   },
   "outputs": [
    {
     "data": {
      "text/plain": [
       "[{'left': <function SimPEG.Optimization.<lambda>>,\n",
       "  'right': <function SimPEG.Optimization.<lambda>>,\n",
       "  'stopType': 'critical',\n",
       "  'str': '%d : maxIter   =     %3d    <= iter          =    %3d'}]"
      ]
     },
     "execution_count": 18,
     "metadata": {},
     "output_type": "execute_result"
    }
   ],
   "source": []
  },
  {
   "cell_type": "code",
   "execution_count": 9,
   "metadata": {
    "collapsed": false
   },
   "outputs": [],
   "source": [
    "## Setup the inversion proceedure\n",
    "C =  simpeg.Utils.Counter()\n",
    "\n",
    "# Set the optimization\n",
    "optc = simpeg.Optimization.InexactGaussNewton(maxIter = 20)\n",
    "optc.counter = C\n",
    "optc.LSshorten = 0.5\n",
    "optc.remember('xc')\n",
    "# Data misfit\n",
    "dmisc = simpeg.DataMisfit.l2_DataMisfit(survey)\n",
    "# Regularization\n",
    "# regMesh = simpeg.Mesh.TensorMesh([m1d.hx[problem.mapping.sigmaMap.maps[-1].indActive]])\n",
    "# reg = simpeg.Regularization.Tikhonov(regMesh)\n",
    "regc = simpeg.Regularization.Tikhonov(m1d,mapping=mappingExpAct)\n",
    "regc.alpha_s = 1e-5\n",
    "regc.alpha_x = 1.\n",
    "# Inversion problem\n",
    "invProbc = simpeg.InvProblem.BaseInvProblem(dmisc, regc, optc)\n",
    "invProbc.counter = C\n",
    "# Beta cooling\n",
    "betac = simpeg.Directives.BetaSchedule()\n",
    "betaestc = simpeg.Directives.BetaEstimate_ByEig(beta0_ratio=0.75)\n",
    "saveModel = simpeg.Directives.SaveModelEveryIteration()\n",
    "# Create an inversion object\n",
    "invc = simpeg.Inversion.BaseInversion(invProbc, directiveList=[betac,betaestc])"
   ]
  },
  {
   "cell_type": "code",
   "execution_count": 10,
   "metadata": {
    "collapsed": false
   },
   "outputs": [
    {
     "name": "stdout",
     "output_type": "stream",
     "text": [
      "SimPEG.InvProblem will set Regularization.mref to m0.\n",
      "SimPEG.InvProblem is setting bfgsH0 to the inverse of the eval2Deriv.\n",
      "                    ***Done using same solver as the problem***\n",
      "SimPEG.l2_DataMisfit is creating default weightings for Wd.\n",
      "============================ Inexact Gauss Newton ============================\n",
      "  #     beta     phi_d     phi_m       f      |proj(x-g)-x|  LS    Comment   \n",
      "-----------------------------------------------------------------------------\n",
      "   0  9.87e+02  2.19e+01  2.35e-02  4.51e+01    3.23e+01      0              \n",
      "   1  9.87e+02  2.38e+01  1.74e-02  4.09e+01    7.61e+00      0              \n",
      "   2  9.87e+02  2.30e+01  1.79e-02  4.06e+01    2.68e+00      0              \n",
      "   3  1.23e+02  2.28e+01  1.79e-02  2.50e+01    1.54e+01      0              \n",
      "   4  1.23e+02  2.07e+01  2.24e-02  2.35e+01    5.36e+00      0              \n",
      "   5  1.23e+02  2.03e+01  2.22e-02  2.30e+01    6.78e+00      0   Skip BFGS  \n",
      "   6  1.54e+01  2.00e+01  2.33e-02  2.03e+01    7.34e+00      0   Skip BFGS  \n",
      "   7  1.54e+01  1.95e+01  3.01e-02  2.00e+01    7.09e+00      0              \n",
      "   8  1.54e+01  1.92e+01  3.30e-02  1.97e+01    5.00e+00      0              \n",
      "   9  1.93e+00  1.91e+01  3.72e-02  1.91e+01    5.68e+00      0              \n",
      "  10  1.93e+00  1.88e+01  6.62e-02  1.89e+01    8.43e+00      1              \n",
      "  11  1.93e+00  1.82e+01  1.12e-01  1.84e+01    5.37e+00      0              \n",
      "  12  2.41e-01  1.81e+01  1.21e-01  1.81e+01    5.14e+00      0              \n",
      "  13  2.41e-01  1.80e+01  1.18e-01  1.80e+01    3.93e+00      0              \n",
      "  14  2.41e-01  1.80e+01  1.43e-01  1.80e+01    6.08e+00      0              \n",
      "  15  3.01e-02  1.78e+01  1.19e-01  1.78e+01    4.97e+00      1              \n",
      "  16  3.01e-02  1.78e+01  1.13e-01  1.78e+01    2.41e+00      0   Skip BFGS  \n",
      "  17  3.01e-02  1.78e+01  1.37e-01  1.78e+01    4.47e+00      0              \n",
      "  18  3.77e-03  1.76e+01  1.28e-01  1.76e+01    6.24e+00      0   Skip BFGS  \n",
      "  19  3.77e-03  1.76e+01  1.07e-01  1.76e+01    7.34e+00      0              \n",
      "  20  3.77e-03  1.75e+01  1.25e-01  1.75e+01    6.14e+00      1              \n",
      "------------------------- STOP! -------------------------\n",
      "1 : |fc-fOld| = 4.7935e-02 <= tolF*(1+|f0|) = 4.6080e+00\n",
      "1 : |xc-x_last| = 3.4384e+00 <= tolX*(1+|x0|) = 4.0560e+00\n",
      "0 : |proj(x-g)-x|    = 6.1413e+00 <= tolG          = 1.0000e-01\n",
      "0 : |proj(x-g)-x|    = 6.1413e+00 <= 1e3*eps       = 1.0000e-02\n",
      "1 : maxIter   =      20    <= iter          =     20\n",
      "------------------------- DONE! -------------------------\n"
     ]
    }
   ],
   "source": [
    "mopt2 = invc.run(mopt)"
   ]
  },
  {
   "cell_type": "code",
   "execution_count": 24,
   "metadata": {
    "collapsed": true
   },
   "outputs": [],
   "source": [
    "moptc=mopt2"
   ]
  },
  {
   "cell_type": "code",
   "execution_count": 26,
   "metadata": {
    "collapsed": false
   },
   "outputs": [],
   "source": [
    "## Setup the inversion proceedure\n",
    "C =  simpeg.Utils.Counter()\n",
    "\n",
    "# Set the optimization\n",
    "optc1 = simpeg.Optimization.InexactGaussNewton(maxIter = 20)\n",
    "optc1.counter = C\n",
    "optc1.LSshorten = 0.1\n",
    "optc1.remember('xc')\n",
    "# Data misfit\n",
    "dmisc1 = simpeg.DataMisfit.l2_DataMisfit(survey)\n",
    "# Regularization\n",
    "# regMesh = simpeg.Mesh.TensorMesh([m1d.hx[problem.mapping.sigmaMap.maps[-1].indActive]])\n",
    "# reg = simpeg.Regularization.Tikhonov(regMesh)\n",
    "regc1 = simpeg.Regularization.Tikhonov(m1d,mapping=mappingExpAct)\n",
    "regc1.alpha_s = 1e-5\n",
    "regc1.alpha_x = 1.\n",
    "regc1.mref = reg.mref\n",
    "# Inversion problem\n",
    "invProbc1 = simpeg.InvProblem.BaseInvProblem(dmisc1, regc1, optc1)\n",
    "invProbc1.counter = C\n",
    "# Beta cooling\n",
    "betac1 = simpeg.Directives.BetaSchedule()\n",
    "betaestc1 = simpeg.Directives.BetaEstimate_ByEig(beta0_ratio=0.75)\n",
    "betaestc1.beta0 = 3.60e-03\n",
    "saveModel = simpeg.Directives.SaveModelEveryIteration()\n",
    "# Create an inversion object\n",
    "invc1 = simpeg.Inversion.BaseInversion(invProbc1, directiveList=[betac1,betaestc1])"
   ]
  },
  {
   "cell_type": "code",
   "execution_count": 27,
   "metadata": {
    "collapsed": false
   },
   "outputs": [
    {
     "name": "stdout",
     "output_type": "stream",
     "text": [
      "SimPEG.InvProblem is setting bfgsH0 to the inverse of the eval2Deriv.\n",
      "                    ***Done using same solver as the problem***\n",
      "SimPEG.l2_DataMisfit is creating default weightings for Wd.\n",
      "============================ Inexact Gauss Newton ============================\n",
      "  #     beta     phi_d     phi_m       f      |proj(x-g)-x|  LS    Comment   \n",
      "-----------------------------------------------------------------------------\n",
      "   0  1.79e-02  1.75e+01  1.23e-01  1.75e+01    6.14e+00      0              \n",
      "   1  1.79e-02  1.75e+01  1.23e-01  1.75e+01    6.14e+00      3              \n",
      "   2  1.79e-02  1.75e+01  1.23e-01  1.75e+01    6.15e+00      3   Skip BFGS  \n",
      "   3  2.23e-03  1.75e+01  1.23e-01  1.75e+01    6.16e+00      3   Skip BFGS  \n",
      "   4  2.23e-03  1.75e+01  1.23e-01  1.75e+01    6.17e+00      3   Skip BFGS  \n",
      "   5  2.23e-03  1.75e+01  1.23e-01  1.75e+01    6.17e+00      3   Skip BFGS  \n",
      "   6  2.79e-04  1.75e+01  1.23e-01  1.75e+01    6.17e+00      3   Skip BFGS  \n",
      "   7  2.79e-04  1.75e+01  1.23e-01  1.75e+01    6.17e+00      3   Skip BFGS  \n",
      "   8  2.79e-04  1.75e+01  1.23e-01  1.75e+01    6.17e+00      3   Skip BFGS  \n",
      "   9  3.49e-05  1.75e+01  1.23e-01  1.75e+01    6.17e+00      3   Skip BFGS  \n",
      "  10  3.49e-05  1.75e+01  1.23e-01  1.75e+01    6.17e+00      3   Skip BFGS  \n",
      "  11  3.49e-05  1.75e+01  1.23e-01  1.75e+01    6.17e+00      3   Skip BFGS  \n",
      "  12  4.36e-06  1.75e+01  1.23e-01  1.75e+01    6.16e+00      3   Skip BFGS  \n",
      "  13  4.36e-06  1.75e+01  1.23e-01  1.75e+01    6.16e+00      3   Skip BFGS  \n",
      "  14  4.36e-06  1.75e+01  1.23e-01  1.75e+01    6.29e+00      2   Skip BFGS  \n",
      "  15  5.46e-07  1.75e+01  1.23e-01  1.75e+01    6.32e+00      2   Skip BFGS  \n",
      "  16  5.46e-07  1.75e+01  1.23e-01  1.75e+01    6.31e+00      2   Skip BFGS  \n",
      "  17  5.46e-07  1.75e+01  1.23e-01  1.75e+01    6.29e+00      2   Skip BFGS  \n",
      "  18  6.82e-08  1.75e+01  1.23e-01  1.75e+01    6.26e+00      2   Skip BFGS  \n",
      "  19  6.82e-08  1.75e+01  1.23e-01  1.75e+01    6.22e+00      2   Skip BFGS  \n",
      "  20  6.82e-08  1.75e+01  1.23e-01  1.75e+01    6.18e+00      2   Skip BFGS  \n",
      "------------------------- STOP! -------------------------\n",
      "1 : |fc-fOld| = 3.9817e-03 <= tolF*(1+|f0|) = 1.8547e+00\n",
      "0 : |xc-x_last| = 4.1858e+01 <= tolX*(1+|x0|) = 5.7798e+00\n",
      "0 : |proj(x-g)-x|    = 6.1825e+00 <= tolG          = 1.0000e-01\n",
      "0 : |proj(x-g)-x|    = 6.1825e+00 <= 1e3*eps       = 1.0000e-02\n",
      "1 : maxIter   =      20    <= iter          =     20\n",
      "------------------------- DONE! -------------------------\n"
     ]
    }
   ],
   "source": [
    "moptc1 = invc1.run(mopt2)"
   ]
  },
  {
   "cell_type": "code",
   "execution_count": 11,
   "metadata": {
    "collapsed": false
   },
   "outputs": [
    {
     "name": "stdout",
     "output_type": "stream",
     "text": [
      "Counters:\n",
      "  InexactGaussNewton.doEndIteration       :       30\n",
      "  InexactGaussNewton.doStartIteration     :       31\n",
      "  InexactGaussNewton.scaleSearchDirection :       30\n",
      "\n",
      "Times:                                        mean      sum\n",
      "  BaseInvProblem.evalFunction             : 3.35e+00, 2.04e+02,   61x\n",
      "  InexactGaussNewton.findSearchDirection  : 2.11e+01, 6.34e+02,   30x\n",
      "  InexactGaussNewton.minimize             : 8.39e+02, 8.39e+02,    1x\n",
      "  InexactGaussNewton.modifySearchDirection: 1.90e+00, 5.71e+01,   30x\n",
      "  InexactGaussNewton.projection           : 4.65e-05, 5.86e-03,  126x\n"
     ]
    }
   ],
   "source": [
    "opt.counter.summary()\n",
    "xc = opt.recall('xc')"
   ]
  },
  {
   "cell_type": "code",
   "execution_count": 12,
   "metadata": {
    "collapsed": false
   },
   "outputs": [],
   "source": [
    "# import matplotlib.pyplot as plt\n",
    "# # plt.figure(1)\n",
    "# # for i in range(problem.G.shape[0]):\n",
    "# #     plt.plot(problem.G[i,:])\n",
    "# meshPts = np.concatenate((mesh.gridN[0:1],np.kron(mesh.gridN[1::],np.ones(2))[:-1]))\n",
    "# modelPts = np.kron(1./model,np.ones(2,))\n",
    "# axM.semilogx(modelPts,meshPts,color=col)\n",
    "# plt.figure(2)\n",
    "# plt.plot(m1d.vectorCCx[active], np.log10(mappingExpAct*survey.mtrue)[active], 'b-')\n",
    "# plt.plot(m1d.vectorCCx[active], np.log10(mappingExpAct*mopt)[active], 'r-')\n",
    "# plt.show()\n"
   ]
  },
  {
   "cell_type": "code",
   "execution_count": null,
   "metadata": {
    "collapsed": false
   },
   "outputs": [],
   "source": []
  },
  {
   "cell_type": "code",
   "execution_count": 13,
   "metadata": {
    "collapsed": false
   },
   "outputs": [],
   "source": [
    "def plotMT1DModelData(problem,models,symList=None):\n",
    "    # Make the analytic solution\n",
    "    # \tdef makeAnalyticSolution(mesh,model,elev,freqs):\n",
    "    # \t\tdata1D = []\n",
    "    # \t\tfor freq in freqs:\n",
    "    # \t\t\tanaEd, anaEu, anaHd, anaHu = simpegmt.Utils.MT1Danalytic.getEHfields(mesh,model,freq,elev)\n",
    "    # \t\t\tanaE = anaEd+anaEu\n",
    "    # \t\t\tanaH = anaHd+anaHu\n",
    "    # \t\t\t# Scale the solution\n",
    "    # \t\t\t# anaE = (anaEtemp/anaEtemp[-1])#.conj()\n",
    "    # \t\t\t# anaH = (anaHtemp/anaEtemp[-1])#.conj()\n",
    "    # \t\t\tanaZ = anaE/anaH\n",
    "    # \t\t\t# Add to the list\n",
    "    # \t\t\tdata1D.append((freq,0,0,elev,anaZ[0]))\n",
    "    # \t\tdataRec = np.array(data1D,dtype=[('freq',float),('x',float),('y',float),('z',float),('zxx',complex)])\n",
    "    # \t\treturn dataRec\n",
    "    def appResPhs(freq,z):\n",
    "        fr = simpeg.mkvc(freq,2)*np.ones(z.shape)\n",
    "        app_res = ((1./(8e-7*np.pi**2))/fr)*np.abs(z)**2\n",
    "        app_phs = np.arctan2(z.imag,z.real)*(180/np.pi)\n",
    "        return app_res, app_phs\n",
    "    \n",
    "    # Setup the figure\n",
    "    fontSize = 15\n",
    "\n",
    "    fig = plt.figure(figsize=[9,7])\n",
    "    axM = fig.add_axes([0.075,.1,.25,.875])\n",
    "    axM.set_xlabel('Resistivity [Ohm*m]',fontsize=fontSize)\n",
    "    axM.set_xlim(1e-1,1e5)\n",
    "    axM.set_ylim(-10000,5000)\n",
    "    axM.set_ylabel('Depth [km]',fontsize=fontSize)\n",
    "    axR = fig.add_axes([0.42,.575,.5,.4])\n",
    "    axR.set_xscale('log')\n",
    "    axR.set_yscale('log')\n",
    "    axR.invert_xaxis()\n",
    "    # axR.set_xlabel('Frequency [Hz]')\n",
    "    axR.set_ylabel('Apparent resistivity [Ohm m]',fontsize=fontSize)\n",
    "\n",
    "    axP = fig.add_axes([0.42,.1,.5,.4])\n",
    "    axP.set_xscale('log')\n",
    "    axP.invert_xaxis()\n",
    "    axP.set_ylim(0,90)\n",
    "    axP.set_xlabel('Frequency [Hz]',fontsize=fontSize)\n",
    "    axP.set_ylabel('Apparent phase [deg]',fontsize=fontSize)\n",
    "\n",
    "    # if not symList:\n",
    "    # \tsymList = ['x']*len(models)\n",
    "    sys.path.append('/home/gudni/Dropbox/code/python/MTview')\n",
    "    import plotDataTypes as pDt\n",
    "    # Loop through the models.\n",
    "    modelList = [problem.survey.mtrue]\n",
    "    modelList.extend(models)\n",
    "    if False:\n",
    "        modelList = [problem.mapping.sigmaMap*mod for mod in modelList]\n",
    "    for nr, model in enumerate(modelList):\n",
    "        # Calculate the data\n",
    "        if nr==0:\n",
    "            data1D = problem.dataPair(problem.survey,problem.survey.dobs).toRecArray('Complex')\n",
    "        else:\n",
    "            data1D = problem.dataPair(problem.survey,problem.survey.dpred(model)).toRecArray('Complex')\n",
    "        # Plot the data and the model \n",
    "        colRat = nr/((len(modelList)-2)*1.)\n",
    "        if colRat > 1.:\n",
    "            col = 'k'\n",
    "        else:\n",
    "            col = plt.cm.seismic(1-colRat)\n",
    "        # The model - make the pts to plot\n",
    "        meshPts = np.concatenate((problem.mesh.gridN[0:1],np.kron(problem.mesh.gridN[1::],np.ones(2))[:-1]))\n",
    "        modelPts = np.kron(1./(problem.mapping.sigmaMap*model),np.ones(2,))\n",
    "        axM.semilogx(modelPts,meshPts,color=col)\n",
    "\n",
    "        ## Data\n",
    "        # Appres\n",
    "        pDt.plotIsoStaImpedance(axR,np.array([0,0]),data1D,'zyx','res',pColor=col)\n",
    "        # Appphs\n",
    "        pDt.plotIsoStaImpedance(axP,np.array([0,0]),data1D,'zyx','phs',pColor=col)\n",
    "        try:\n",
    "            allData = np.concatenate((allData,mkvc(data1D['zyx'],2)),1)\n",
    "        except:\n",
    "            allData = simpeg.mkvc(data1D['zyx'],2)\n",
    "    freq = data1D['freq']\n",
    "    res, phs = appResPhs(freq,allData)\n",
    "\n",
    "    stdCol = 'gray'\n",
    "    axRtw = axR.twinx()\n",
    "    axRtw.set_ylabel('Std of log10',color=stdCol)\n",
    "    [(t.set_color(stdCol), t.set_rotation(-45)) for t in axRtw.get_yticklabels()]\n",
    "    axPtw = axP.twinx()\n",
    "    axPtw.set_ylabel('Std ',color=stdCol)\n",
    "    [t.set_color(stdCol) for t in axPtw.get_yticklabels()]\n",
    "    axRtw.plot(freq, np.std(np.log10(res),1),'--',color=stdCol)\n",
    "    axPtw.plot(freq, np.std(phs,1),'--',color=stdCol)\n",
    "\n",
    "    # Fix labels and ticks\n",
    "\n",
    "    yMtick = [l/1000 for l in axM.get_yticks().tolist()]\n",
    "    axM.set_yticklabels(yMtick)\n",
    "    [ l.set_rotation(90) for l in axM.get_yticklabels()]\n",
    "    [ l.set_rotation(90) for l in axR.get_yticklabels()]\n",
    "    [(t.set_color(stdCol), t.set_rotation(-45)) for t in axRtw.get_yticklabels()]\n",
    "    [t.set_color(stdCol) for t in axPtw.get_yticklabels()]\n",
    "    for ax in [axM,axR,axP]:\n",
    "        ax.xaxis.set_tick_params(labelsize=fontSize)\n",
    "        ax.yaxis.set_tick_params(labelsize=fontSize)\n",
    "    return fig\n",
    "# plotMT1DModelData(problem,[mopt])"
   ]
  },
  {
   "cell_type": "code",
   "execution_count": 14,
   "metadata": {
    "collapsed": false
   },
   "outputs": [
    {
     "name": "stderr",
     "output_type": "stream",
     "text": [
      "/home/gudni/anaconda/lib/python2.7/site-packages/numpy/ma/core.py:2834: FutureWarning: Numpy has detected that you (may be) writing to an array returned\n",
      "by numpy.diagonal or by selecting multiple fields in a record\n",
      "array. This code will likely break in a future numpy release --\n",
      "see numpy.diagonal or arrays.indexing reference docs for details.\n",
      "The quick fix is to make an explicit copy (e.g., do\n",
      "arr.diagonal().copy() or arr[['f0','f1']].copy()).\n",
      "  if (obj.__array_interface__[\"data\"][0]\n",
      "/home/gudni/anaconda/lib/python2.7/site-packages/numpy/ma/core.py:2835: FutureWarning: Numpy has detected that you (may be) writing to an array returned\n",
      "by numpy.diagonal or by selecting multiple fields in a record\n",
      "array. This code will likely break in a future numpy release --\n",
      "see numpy.diagonal or arrays.indexing reference docs for details.\n",
      "The quick fix is to make an explicit copy (e.g., do\n",
      "arr.diagonal().copy() or arr[['f0','f1']].copy()).\n",
      "  != self.__array_interface__[\"data\"][0]):\n"
     ]
    }
   ],
   "source": [
    "plotMT1DModelData(problem,[mopt,mopt2])\n",
    "plt.show()\n"
   ]
  },
  {
   "cell_type": "code",
   "execution_count": 15,
   "metadata": {
    "collapsed": false
   },
   "outputs": [],
   "source": [
    "modelList = [problem.survey.mtrue]\n",
    "modelList.extend([mopt])\n",
    "# problem.mapping.sigmaMap*mopt"
   ]
  },
  {
   "cell_type": "code",
   "execution_count": 16,
   "metadata": {
    "collapsed": false
   },
   "outputs": [
    {
     "data": {
      "text/plain": [
       "[['zyxr'], ['zyxi']]"
      ]
     },
     "execution_count": 16,
     "metadata": {},
     "output_type": "execute_result"
    }
   ],
   "source": [
    "src = survey.srcList[0]\n",
    "[[rx.rxType.replace('z1d','zyx')] for rx in src.rxList ]"
   ]
  },
  {
   "cell_type": "code",
   "execution_count": 17,
   "metadata": {
    "collapsed": false
   },
   "outputs": [
    {
     "data": {
      "text/plain": [
       "'zyxr'"
      ]
     },
     "execution_count": 17,
     "metadata": {},
     "output_type": "execute_result"
    }
   ],
   "source": [
    "'z1dr'.replace('z1d','zyx')"
   ]
  },
  {
   "cell_type": "code",
   "execution_count": null,
   "metadata": {
    "collapsed": true
   },
   "outputs": [],
   "source": []
  }
 ],
 "metadata": {
  "kernelspec": {
   "display_name": "Python 2",
   "language": "python",
   "name": "python2"
  },
  "language_info": {
   "codemirror_mode": {
    "name": "ipython",
    "version": 2
   },
   "file_extension": ".py",
   "mimetype": "text/x-python",
   "name": "python",
   "nbconvert_exporter": "python",
   "pygments_lexer": "ipython2",
   "version": "2.7.9"
  }
 },
 "nbformat": 4,
 "nbformat_minor": 0
}
