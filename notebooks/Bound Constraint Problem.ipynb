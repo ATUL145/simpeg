{
 "metadata": {
  "name": ""
 },
 "nbformat": 3,
 "nbformat_minor": 0,
 "worksheets": [
  {
   "cells": [
    {
     "cell_type": "code",
     "collapsed": false,
     "input": [
      "import SimPEG\n",
      "from SimPEG.mesh import TensorMesh\n",
      "from SimPEG.regularization import Regularization\n",
      "import SimPEG.inverse as inverse\n",
      "from SimPEG.inverse import Minimize\n",
      "import numpy as np"
     ],
     "language": "python",
     "metadata": {},
     "outputs": [],
     "prompt_number": 63
    },
    {
     "cell_type": "code",
     "collapsed": false,
     "input": [
      "from SimPEG.forward.LinearProblem import example as LinExample\n",
      "\n",
      "prob, m_true = LinExample(1000)\n",
      "M = prob.mesh\n",
      "\n",
      "reg = Regularization(M)\n",
      "opt = inverse.InexactGaussNewton(maxIter=20)\n",
      "inv = inverse.Inversion(prob,reg,opt,beta0=1e-4)\n",
      "m0 = np.zeros_like(m_true)\n",
      "\n",
      "mrec = inv.run(m0)\n",
      "\n",
      "# plt.figure(1)\n",
      "# for i in range(prob.G.shape[0]):\n",
      "#     plt.plot(prob.G[i,:])\n",
      "\n",
      "plt.figure(2)\n",
      "\n",
      "plt.plot(M.vectorCCx, m_true, 'b-')\n",
      "plt.plot(M.vectorCCx, mrec, 'r-')\n"
     ],
     "language": "python",
     "metadata": {},
     "outputs": [
      {
       "output_type": "stream",
       "stream": "stdout",
       "text": [
        "====================== SimPEG Inversion ======================\n",
        "  #    beta     phi_d      phi_m       f     norm(dJ)   #LS\n",
        "--------------------------------------------------------------\n",
        "  0  1.00e-04  9.53e+02  0.00e+00  9.53e+02  8.95e+03    0\n",
        "  1  1.00e-04  6.17e-01  2.65e+04  3.27e+00  1.58e+01    0\n",
        "  2  1.00e-04  9.22e-02  2.30e+04  2.39e+00  1.33e+02    0\n",
        "  3  1.00e-04  5.11e-02  2.29e+04  2.34e+00  1.02e+00    0"
       ]
      },
      {
       "output_type": "stream",
       "stream": "stdout",
       "text": [
        "\n",
        "  4  1.00e-04  4.08e-02  2.28e+04  2.32e+00  1.38e+01    0\n",
        "------------------------- STOP! -------------------------\n",
        "1 : |fc-fOld| = 1.4678e-02 <= tolF*(1+|fStop|) = 9.5423e+01\n",
        "1 : |xc-xOld| = 5.5359e-02 <= tolX*(1+|x0|)    = 1.0000e-01\n",
        "1 : |g|       = 1.3766e+01 <= tolG*(1+|fStop|) = 9.5423e+01\n",
        "0 : |g|       = 1.3766e+01 <= 1e3*eps          = 1.0000e-02\n",
        "0 : iter      =   4\t <= maxIter\t       =  20\n",
        "========================= DONE! =========================\n",
        "\n"
       ]
      },
      {
       "metadata": {},
       "output_type": "pyout",
       "prompt_number": 16,
       "text": [
        "[<matplotlib.lines.Line2D at 0x110646dd0>]"
       ]
      },
      {
       "metadata": {},
       "output_type": "display_data",
       "png": "[encoded data removed]",
       "text": [
        "<matplotlib.figure.Figure at 0x10f6877d0>"
       ]
      }
     ],
     "prompt_number": 16
    },
    {
     "cell_type": "code",
     "collapsed": false,
     "input": [
      "x = np.array([1,2,3])\n",
      "l = 1*np.ones(x.shape)\n",
      "u = 2*np.ones(x.shape)\n",
      "\n",
      "activeSet = np.logical_or(x ==l, x == u)\n",
      "\n",
      "import scipy.sparse as sp\n",
      "shape = (x.size, np.sum(activeSet))\n",
      "print shape\n",
      "print  (np.arange(shape[1]), np.where(activeSet)[0])\n",
      "print (np.ones(shape[1]), (np.arange(shape[1]), np.where(activeSet)[0]))\n",
      "rI = sp.csr_matrix((np.ones(shape[1]), (np.arange(shape[1]), np.where(activeSet)[0])), shape=shape)\n",
      "print rI.todense()\n",
      "\n"
     ],
     "language": "python",
     "metadata": {},
     "outputs": [
      {
       "output_type": "stream",
       "stream": "stdout",
       "text": [
        "(3, 2)\n",
        "(array([0, 1]), array([0, 1]))\n",
        "(array([ 1.,  1.]), (array([0, 1]), array([0, 1])))\n",
        "[[ 1.  0.]\n",
        " [ 0.  1.]\n",
        " [ 0.  0.]]\n"
       ]
      }
     ],
     "prompt_number": 61
    },
    {
     "cell_type": "code",
     "collapsed": false,
     "input": [
      "\n",
      "\n",
      "class ProjectedGradient(Minimize):\n",
      "    name = 'InexactGaussNewton'\n",
      "\n",
      "    maxIterCG = 10\n",
      "    tolCG = 1e-5\n",
      "    \n",
      "    lower = -0.5\n",
      "    upper = 1. # ensure these are vectors that are the same size.\n",
      "    \n",
      "    explore = False\n",
      "\n",
      "    def projection(self, p):\n",
      "        \"\"\"Make sure we are feasible.\"\"\"\n",
      "        return np.median(np.c_[l,x,u],axis=1)\n",
      "    \n",
      "    def activeSet(self, x):\n",
      "        \"\"\"If we are on a bound\"\"\"\n",
      "        return np.logical_or(x == self.lower, x == self.upper)\n",
      "    \n",
      "    def bindingSet(self, x):\n",
      "        \"\"\"\n",
      "            If we are on a bound and the negative gradient points away from the feasible set. \n",
      "        \n",
      "            Optimality condition. (Satisfies Kuhn-Tucker) MoreToraldo91\n",
      "        \n",
      "        \"\"\"\n",
      "        bind_up  = np.logical_and(x == self.lower, self.g >= 0)\n",
      "        bind_low = np.logical_and(x == self.upper, self.g <= 0)\n",
      "        return np.logical_or(bind_up, bind_low)\n",
      "        \n",
      "    def findSearchDirection(self):\n",
      "        self.aSet_prev = self.activeSet(self.xc)\n",
      "        if self.explorePG or not self.exploreCG:\n",
      "            p = -self.g\n",
      "        else:\n",
      "            Z = I_something\n",
      "            def reduceHess(v):\n",
      "                # Z is tall and skinny\n",
      "                Z.T*self.H(Z*v)\n",
      "                \n",
      "            p, info = sp.linalg.cg(reduceHess, -Z.T*self.g, tol=self.tolCG, maxiter=self.maxIterCG)\n",
      "            p = Z*p  # bring up to full size\n",
      "            aSet_after = self.activeSet(self.xc+p)\n",
      "        return p\n",
      "    \n",
      "    def doEndIteration(self, xt):\n",
      "        aSet = self.activeSet(self.xc)\n",
      "        bSet = self.bindingSet(self.xc)\n",
      "        # implement 3.8\n",
      "        self.f_last - self.f <= self.eta_2 * max_decrease # where max decrease\n",
      "        # if true go to CG\n",
      "        # don't do too many steps of PG in a row.\n",
      "        \n",
      "        self.explorePG = not np.all(aSet == self.aSet_prev) # explore proximal gradient\n",
      "        self.exploreCG = np.all(aSet == bSet) # explore conjugate gradient"
     ],
     "language": "python",
     "metadata": {},
     "outputs": [],
     "prompt_number": 64
    },
    {
     "cell_type": "code",
     "collapsed": false,
     "input": [],
     "language": "python",
     "metadata": {},
     "outputs": []
    }
   ],
   "metadata": {}
  }
 ]
}