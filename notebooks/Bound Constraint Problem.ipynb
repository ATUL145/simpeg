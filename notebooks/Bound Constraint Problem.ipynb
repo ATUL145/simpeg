{
 "metadata": {
  "name": ""
 },
 "nbformat": 3,
 "nbformat_minor": 0,
 "worksheets": [
  {
   "cells": [
    {
     "cell_type": "code",
     "collapsed": false,
     "input": [
      "import SimPEG\n",
      "from SimPEG.mesh import TensorMesh\n",
      "from SimPEG.regularization import Regularization\n",
      "import SimPEG.inverse as inverse\n",
      "from SimPEG.inverse import Minimize\n",
      "import numpy as np\n",
      "import scipy.sparse as sp"
     ],
     "language": "python",
     "metadata": {},
     "outputs": [],
     "prompt_number": 1
    },
    {
     "cell_type": "code",
     "collapsed": false,
     "input": [
      "from SimPEG.forward.LinearProblem import example as LinExample\n",
      "\n",
      "prob, m_true = LinExample(1000)\n",
      "M = prob.mesh\n",
      "\n",
      "reg = Regularization(M)\n",
      "opt = inverse.InexactGaussNewton(maxIter=100,maxStep=0.2,debug=False,LSreduction=0.3,maxIterLS=50)\n",
      "opt.remember('f', ('norm_g', lambda M:np.linalg.norm(M.g)))\n",
      "inv = inverse.Inversion(prob,reg,opt,beta0=1e-4,maxIter=2,debug=False)\n",
      "m0 = np.zeros_like(m_true)\n",
      "\n",
      "mrec = inv.run(m0)\n",
      "\n",
      "plt.plot(M.vectorCCx, m_true, 'b-')\n",
      "plt.plot(M.vectorCCx, mrec, 'r-')\n",
      "\n",
      "figure()\n",
      "plot(opt.recall('f'))\n"
     ],
     "language": "python",
     "metadata": {},
     "outputs": [
      {
       "output_type": "stream",
       "stream": "stdout",
       "text": [
        "====================== Inexact Gauss Newton ======================\n",
        "  #     beta     phi_d     phi_m       f      |proj(x-g)-x|  LS  \n",
        "-----------------------------------------------------------------\n",
        "   0  1.00e-04  9.62e+02  0.00e+00  9.62e+02    1.02e+04      0  \n",
        "   1  1.00e-04  6.63e+02  7.73e+02  6.63e+02    8.47e+03      0  \n",
        "   2  1.00e-04  4.15e+02  4.39e+03  4.15e+02    6.63e+03      0  \n",
        "   3  1.00e-04  2.26e+02  6.85e+03  2.27e+02    4.80e+03      0  "
       ]
      },
      {
       "output_type": "stream",
       "stream": "stdout",
       "text": [
        "\n",
        "   4  1.00e-04  9.74e+01  1.07e+04  9.84e+01    3.02e+03      0  \n",
        "   5  1.00e-04  2.42e+01  1.64e+04  2.58e+01    1.35e+03      0  \n",
        "   6  1.00e-04  1.06e+00  2.34e+04  3.39e+00    9.21e+00      0  \n",
        "------------------------- STOP! -------------------------\n",
        "1 : |fc-fOld| = 2.2421e+01 <= tolF*(1+|f0|) = 9.6325e+01\n",
        "0 : |xc-x_last| = 2.1351e+00 <= tolX*(1+|x0|) = 1.0000e-01\n",
        "0 : |proj(x-g)-x|    = 9.2073e+00 <= tolG          = 1.0000e-01\n",
        "0 : |proj(x-g)-x|    = 9.2073e+00 <= 1e3*eps       = 1.0000e-02\n",
        "0 : maxIter   =     100    <= iter          =      6\n",
        "1 : phi_d  = 1.0595e+00 <= phi_d_target  = 2.0000e+01 \n",
        "------------------------- DONE! -------------------------\n",
        "-------------------------STOP!-------------------------\n",
        "0 : maxIter   =       2    <= iter          =      1\n",
        "1 : phi_d  = 1.0595e+00 <= phi_d_target  = 2.0000e+01 \n",
        "-------------------------DONE!-------------------------\n"
       ]
      },
      {
       "metadata": {},
       "output_type": "pyout",
       "prompt_number": 3,
       "text": [
        "[<matplotlib.lines.Line2D at 0x10ebf9f10>]"
       ]
      },
      {
       "metadata": {},
       "output_type": "display_data",
       "png": "[encoded data removed]",
       "text": [
        "<matplotlib.figure.Figure at 0x10ecafa10>"
       ]
      },
      {
       "metadata": {},
       "output_type": "display_data",
       "png": "[encoded data removed]",
       "text": [
        "<matplotlib.figure.Figure at 0x10ecbec90>"
       ]
      }
     ],
     "prompt_number": 3
    },
    {
     "cell_type": "code",
     "collapsed": false,
     "input": [
      "FUN = SimPEG.tests.getQuadratic(sp.identity(2),np.array([-5,-5]))\n",
      "# FUN = SimPEG.tests.Rosenbrock\n",
      "\n",
      "f = FUN(np.array([1,2]))\n",
      "print f\n",
      "n,l,u = 50,-10,10\n",
      "I = np.zeros((n,n))\n",
      "X = np.linspace(l,u,n)\n",
      "for i, x in enumerate(X):\n",
      "    for j, y in enumerate(X):\n",
      "        f, g, H = FUN(np.array([x,y]))\n",
      "        I[i,j] = f\n",
      "\n",
      "colorbar(contourf(X,X, I.T))\n",
      "\n",
      "GN = inverse.GaussNewton()\n",
      "xopt = GN.minimize(FUN,np.array([0,0]))\n",
      "print xopt"
     ],
     "language": "python",
     "metadata": {},
     "outputs": [
      {
       "output_type": "stream",
       "stream": "stdout",
       "text": [
        "(-12.5, array([-4., -3.]), <2x2 sparse matrix of type '<type 'numpy.float64'>'\n",
        "\twith 2 stored elements (1 diagonals) in DIAgonal format>)\n",
        "=========== Gauss Newton ==========="
       ]
      },
      {
       "output_type": "stream",
       "stream": "stdout",
       "text": [
        "\n",
        "  #      f      |proj(x-g)-x|  LS  \n",
        "-----------------------------------\n",
        "   0  0.00e+00    7.07e+00      0  \n",
        "   1 -2.50e+01    0.00e+00      0  \n",
        "------------------------- STOP! -------------------------\n",
        "0 : |fc-fOld| = 2.5000e+01 <= tolF*(1+|f0|) = 1.0000e-01\n",
        "0 : |xc-x_last| = 7.0711e+00 <= tolX*(1+|x0|) = 1.0000e-01\n",
        "1 : |proj(x-g)-x|    = 0.0000e+00 <= tolG          = 1.0000e-01\n",
        "1 : |proj(x-g)-x|    = 0.0000e+00 <= 1e3*eps       = 1.0000e-02\n",
        "0 : maxIter   =      20    <= iter          =      1\n",
        "------------------------- DONE! -------------------------\n",
        "[ 5.  5.]\n"
       ]
      },
      {
       "metadata": {},
       "output_type": "display_data",
       "png": "[encoded data removed]",
       "text": [
        "<matplotlib.figure.Figure at 0x10ebd9750>"
       ]
      }
     ],
     "prompt_number": 5
    },
    {
     "cell_type": "code",
     "collapsed": false,
     "input": [
      "opt = inverse.ProjectedGradient(maxIter=50,maxStep=np.inf, maxIterLS=20, debug=False)\n",
      "opt.remember('f')\n",
      "opt.lower = -2\n",
      "opt.upper = 2\n",
      "opt.minimize(FUN,np.array([0,0]))"
     ],
     "language": "python",
     "metadata": {},
     "outputs": [
      {
       "output_type": "stream",
       "stream": "stdout",
       "text": [
        "======================= Projected Gradient =======================\n",
        "  #      f      |proj(x-g)-x|  LS   itType   aSet    bSet  Comment\n",
        "------------------------------------------------------------------\n",
        "   0  0.00e+00    2.83e+00      0     SD      0       0           \n",
        "   1 -1.60e+01    0.00e+00      0     SD      2       2           \n",
        "------------------------- STOP! -------------------------\n",
        "0 : |fc-fOld| = 1.6000e+01 <= tolF*(1+|f0|) = 1.0000e-01\n",
        "0 : |xc-x_last| = 2.8284e+00 <= tolX*(1+|x0|) = 1.0000e-01\n",
        "1 : |proj(x-g)-x|    = 0.0000e+00 <= tolG          = 1.0000e-01\n",
        "1 : |proj(x-g)-x|    = 0.0000e+00 <= 1e3*eps       = 1.0000e-02\n",
        "0 : maxIter   =      50    <= iter          =      1\n",
        "1 : probSize  =      2   <= bindingSet      =      2\n",
        "------------------------- DONE! -------------------------\n"
       ]
      },
      {
       "metadata": {},
       "output_type": "pyout",
       "prompt_number": 7,
       "text": [
        "array([ 2.,  2.])"
       ]
      }
     ],
     "prompt_number": 7
    },
    {
     "cell_type": "code",
     "collapsed": false,
     "input": [
      "opt = inverse.ProjectedGradient(maxIter=50, maxStep=0.3,debug=False, maxIterLS=20, tolCG=1e-5, maxIterCG=1000)\n",
      "opt.lower, opt.upper = -0.4, 0.9\n",
      "opt.remember('f', 'xc', ('norm_g', lambda M: np.linalg.norm(M.g)), 'phi_d', 'phi_m')\n",
      "inv = inverse.Inversion(prob,reg,opt,beta0=1e-3,debug=False)\n",
      "inv.remember(('phi_d',lambda I:I.opt.recall('phi_d')),('phi_m',lambda I:I.opt.recall('phi_m')))\n",
      "m0 = np.zeros_like(m_true)\n",
      "mrecB = inv.run(m0)"
     ],
     "language": "python",
     "metadata": {},
     "outputs": [
      {
       "output_type": "stream",
       "stream": "stdout",
       "text": [
        "====================================== Projected Gradient ======================================\n",
        "  #     beta     phi_d     phi_m       f      |proj(x-g)-x|  LS   itType   aSet    bSet  Comment\n",
        "------------------------------------------------------------------------------------------------\n",
        "   0  1.00e-03  9.62e+02  0.00e+00  9.62e+02    2.14e+01      0     SD      0       0           \n",
        "   1  1.00e-03  9.53e+02  8.49e-03  9.53e+02    2.18e+01      9     SD      0       0           \n",
        "   2  1.00e-03  5.32e+02  1.42e+03  5.33e+02    2.20e+01      0    .CG.     0       0           "
       ]
      },
      {
       "output_type": "stream",
       "stream": "stdout",
       "text": [
        "\n",
        "   3  1.00e-03  2.32e+02  5.66e+03  2.38e+02    2.26e+01      0    .CG.     0       0           "
       ]
      },
      {
       "output_type": "stream",
       "stream": "stdout",
       "text": [
        "\n",
        "   4  1.00e-03  1.29e+02  8.85e+03  1.38e+02    2.30e+01      1    .CG.     0       0           "
       ]
      },
      {
       "output_type": "stream",
       "stream": "stdout",
       "text": [
        "\n",
        "   5  1.00e-03  1.10e+02  9.74e+03  1.20e+02    2.15e+01      3    .CG.     22      22          "
       ]
      },
      {
       "output_type": "stream",
       "stream": "stdout",
       "text": [
        "\n",
        "   6  1.00e-03  1.09e+02  9.74e+03  1.19e+02    2.36e+01     10     SD      22      0    Stop SD\n",
        "   7  1.00e-03  7.65e+01  1.33e+04  8.98e+01    2.21e+01      1    .CG.     85      75          "
       ]
      },
      {
       "output_type": "stream",
       "stream": "stdout",
       "text": [
        "\n",
        "   8  1.00e-03  5.11e+01  1.33e+04  6.44e+01    2.38e+01      9     SD      75      3           \n",
        "   9  1.00e-03  5.07e+01  1.33e+04  6.41e+01    2.11e+01     12     SD      4       4           \n",
        "  10  1.00e-03  5.06e+01  1.33e+04  6.40e+01    2.20e+01     12     SD      17      9    Stop SD\n",
        "  11  1.00e-03  5.04e+01  1.34e+04  6.37e+01    2.05e+01      8    .CG.     85      81          "
       ]
      },
      {
       "output_type": "stream",
       "stream": "stdout",
       "text": [
        "\n",
        "  12  1.00e-03  5.03e+01  1.34e+04  6.37e+01    1.65e+01     13     SD      81      26          \n",
        "  13  1.00e-03  5.03e+01  1.34e+04  6.37e+01    1.67e+01     15     SD      30      30          \n",
        "  14  1.00e-03  5.03e+01  1.34e+04  6.36e+01    1.42e+01     15     SD      84      84   Stop SD\n",
        "  15  1.00e-03  2.65e+01  2.26e+04  4.91e+01    2.52e+01      0    .CG.    190      50          "
       ]
      },
      {
       "output_type": "stream",
       "stream": "stdout",
       "text": [
        "\n",
        "  16  1.00e-03  1.51e+01  2.26e+04  3.77e+01    2.24e+01     10     SD      50      1           \n",
        "------------------------- STOP! -------------------------\n",
        "1 : |fc-fOld| = 1.1392e+01 <= tolF*(1+|f0|) = 9.6325e+01\n",
        "1 : |xc-x_last| = 3.4809e-03 <= tolX*(1+|x0|) = 1.0000e-01\n",
        "0 : |proj(x-g)-x|    = 2.2369e+01 <= tolG          = 1.0000e-01\n",
        "0 : |proj(x-g)-x|    = 2.2369e+01 <= 1e3*eps       = 1.0000e-02\n",
        "0 : maxIter   =      50    <= iter          =     16\n",
        "0 : probSize  =    1000   <= bindingSet      =      1\n",
        "1 : phi_d  = 1.5077e+01 <= phi_d_target  = 2.0000e+01 \n",
        "------------------------- DONE! -------------------------\n",
        "-------------------------STOP!-------------------------\n",
        "0 : maxIter   =      10    <= iter          =      1\n",
        "1 : phi_d  = 1.5077e+01 <= phi_d_target  = 2.0000e+01 \n",
        "-------------------------DONE!-------------------------\n"
       ]
      }
     ],
     "prompt_number": 8
    },
    {
     "cell_type": "code",
     "collapsed": false,
     "input": [
      "# First set up the figure, the axis, and the plot element we want to animate\n",
      "fig = plt.figure()\n",
      "ax = plt.axes()\n",
      "ax.plot(M.vectorCCx, m_true, 'b-')\n",
      "txt = plt.text(0.8,0.9,'')\n",
      "line, = ax.plot([], [], 'r-', lw=1)\n",
      "\n",
      "def animate(i):\n",
      "    txt.set_text('iteration %d'%i)\n",
      "    line.set_data(M.vectorCCx, np.array(opt.recall('xc')[i]))\n",
      "\n",
      "SimPEG.utils.animate(fig, animate, frames=len(opt.recall('xc')))"
     ],
     "language": "python",
     "metadata": {},
     "outputs": [
      {
       "html": [
        "<video controls loop>\n",
        " <source src=\"data:video/x-m4v;base64,AAAAIGZ0eXBpc29tAAACAGlzb21pc28yYXZjMW1wNDEAAAAIZnJlZQAALXFtZGF0AAACoQYF//+d\n",
        "3EXpvebZSLeWLNgg2SPu73gyNjQgLSBjb3JlIDEyNSAtIEguMjY0L01QRUctNCBBVkMgY29kZWMg\n",
        "LSBDb3B5bGVmdCAyMDAzLTIwMTIgLSBodHRwOi8vd3d3LnZpZGVvbGFuLm9yZy94MjY0Lmh0bWwg\n",
        "LSBvcHRpb25zOiBjYWJhYz0xIHJlZj0zIGRlYmxvY2s9MTowOjAgYW5hbHlzZT0weDM6MHgxMTMg\n",
        "bWU9aGV4IHN1Ym1lPTcgcHN5PTEgcHN5X3JkPTEuMDA6MC4wMCBtaXhlZF9yZWY9MSBtZV9yYW5n\n",
        "ZT0xNiBjaHJvbWFfbWU9MSB0cmVsbGlzPTEgOHg4ZGN0PTEgY3FtPTAgZGVhZHpvbmU9MjEsMTEg\n",
        "ZmFzdF9wc2tpcD0xIGNocm9tYV9xcF9vZmZzZXQ9LTIgdGhyZWFkcz0xMiBsb29rYWhlYWRfdGhy\n",
        "ZWFkcz0yIHNsaWNlZF90aHJlYWRzPTAgbnI9MCBkZWNpbWF0ZT0xIGludGVybGFjZWQ9MCBibHVy\n",
        "YXlfY29tcGF0PTAgY29uc3RyYWluZWRfaW50cmE9MCBiZnJhbWVzPTMgYl9weXJhbWlkPTIgYl9h\n",
        "ZGFwdD0xIGJfYmlhcz0wIGRpcmVjdD0xIHdlaWdodGI9MSBvcGVuX2dvcD0wIHdlaWdodHA9MiBr\n",
        "ZXlpbnQ9MjUwIGtleWludF9taW49MjAgc2NlbmVjdXQ9NDAgaW50cmFfcmVmcmVzaD0wIHJjX2xv\n",
        "b2thaGVhZD00MCByYz1jcmYgbWJ0cmVlPTEgY3JmPTIzLjAgcWNvbXA9MC42MCBxcG1pbj0wIHFw\n",
        "bWF4PTY5IHFwc3RlcD00IGlwX3JhdGlvPTEuNDAgYXE9MToxLjAwAIAAAAlFZYiEAFf9EwAD0rwK\n",
        "a/s12U1hg0FMgMmMOVNcwAAAAwANFchWCs4PnSPLHgxFeZ2MBPwOINxDCInVnrlTnaSkcTqCnVwZ\n",
        "C32ci4e4iEXqjfabfM26fKQmxb+v+i35CIUYvwFed9H6aEX+hZ9g90vyHpRRW3xSWaZ4rATX4Ful\n",
        "X1PY/KHFJqojGxHWguFGV15/GBkVjfpjE9uqjYsd6Bt8CVRl/mvAHDEXYS/zFAfmrQU60ITF965L\n",
        "Z/72ajw7MJlEfjucLdUWfQd0optIg36XkpkI2TJsfjLEQmpiJ81K6Lkkwpxo3Yz4oQbL2NSiGXvH\n",
        "ptbV/ua2wolNPsqounXqYGot+QHwiUPfVwvdkdrwR5Cj40fjXsR4XowPkN9WnSAZNJJMTDNE2/Md\n",
        "gG71sBn25gK1zE7+bhNsOj+dScDbYdEG3KIoDZsTq8MZytZ68/Vpy1RcUYFf9dTLxRw5Ipm5m0ru\n",
        "j7V7D9ijr0jkKFusPzsMBU1EhcMQRka1hTRqmuD0m+vOqCwiFYLOUZIIpi4h0uB4PlfRinMkUuY2\n",
        "kMU2qmbrE5Wm9vsg8Fm7seMdwx+ho6BKqYLHWti2aitk0eV3AChBd/JcGzDRksLet7eiWrgCEEST\n",
        "jR0vUhkfLqy0ZO0Cdr4RQWZJP3C37cnoyUA9TIoL0cRmE9lOFvhvgksc2zFuZci3Hh5feHKPVeBf\n",
        "l32EaqVeVAMOTWR5TkodkPZzGC7HQ/mivKJsE7e9m+5pBvhV0w08qOUoH1yni1Igrx/OxWUhmOnm\n",
        "yklYRg/9KxYtkyR/41KsLR1vws1W8U+cYW/oDNdYRsSoFHoT8o/L317+Y3t+uKdJb88f/+iFotNf\n",
        "7oHM3BiXGLq3ivXqk9UkVbWgzRJbBrL76mhMOktDlRJRwOYlI0iTc4/jMKJaUoM5h/iTqK14Dkq0\n",
        "J9yodSB0CaNq5IADEyWfGP7hgOR+7xcii4HL21EAa7K7ImitBqOBAS7bxaPKM8L7hxgRC7JdePvA\n",
        "2aupg0jsgty8+6gWx3l2Ze37WQZLJ71uSuiMKCHCnEwwyP/SWJc3CkKPEKQXVvRDn5g1oYla/Prm\n",
        "ODl9WqhVmDfQ86JROF/YYkUfEKlLA6RkyUwoqJb8WpjT1lRG/WzGEc8oRAkpJLcCeLFR7Rb9G8a3\n",
        "94Z/ACtdk1FrK4szZOdURDJ80T1gqJeKfVM0UXY3Za8mCt6RWmVMR/FB5d8zl9dcMSV6qkjUrmah\n",
        "grcw6L/XvGDrC2/WawKiccCYNmY9vMP2xbj0K+zaAeuV0ibqjaifYRcDBJsCjA3cKmek8mPWHg8h\n",
        "W0D7sY1kYaPOWg2ZnhHz7S0kZKRStPaNeNXuENWj/lUMPdiWnu7D74aMgNSnXU/o2t3QE12SRWOx\n",
        "VHnVgAmnb1E+rh4m02fPjqPszu3FOXnm9/tQGpv0RN81cTzFhfSPV9FUDB9lr6fpHzEgaaqvnpjB\n",
        "I5or0rrhY5rEr9C+CcR4Q1zcSPF1cDVBS9Z8pmre3w5qtaUKHKIvWA9LP0C5TmCuxPL023dQz7Xe\n",
        "NVRLHO7gq8tApGJmZETIpsdECo6WOnI18i/mv/4PpR7xvICUqNgMapVOkmRA724DDmk3GshB3bjT\n",
        "DJ9I7k4CLpfK8CxOCV1VQY7Audf6MPcEkI7RFdEzxsaktih9JXAGEcR5XhP1ul1qfxUNM13Vw4CI\n",
        "PWlmXtXAX/DyMw+IMwg6J6zU+qcymJFwcyO5RdJGkFIO5RUcvTCXx/4D6Dl0gVACgsvzIGYuVuCk\n",
        "F1yQY2Slk7Gv98qf/E9XKelR+KwrUfeRzBNnGq2Kni+SRj9tt73ZLW98kOTSdrOiqAIajRfX+bkC\n",
        "eRN2CouZ0NKNfn/PHxNaFJtwwpgUPut0Z2i9GsHMyF+17l4WiT+ED4FSxbT3PQA7gc0Zuy3jE8yk\n",
        "jjNN5c7Po21uFr+spVXB0sF4Jzm9kGAmwW7pqcyZJex6h5vYGjkMqO+AAD5RbsMnzs3Es2PBwGSP\n",
        "kwAnSp3yQtvfk/ZOZuQgEdrTsqhEB/sSwJREgYHeNHWv0i4mdLsb4ONbyiZPLhS5SehZe+LxDC+t\n",
        "nw3ZzxhxnHCJnyeboo/bPg7jivmd4WptC2Uv1PWrNs/qnBQH83AcpM0tzrkX59jxem6Qh2QsKOVW\n",
        "TOsaM2jgZOedSg8PiC1EZ879LqrJszy3kNhsbUSTqEYreq+0CMYqRo4d3h/dfcBBad8LN0TwRw3H\n",
        "OVDqb2r4urW0AeLSwlEqEd9anrQK+hQRwbaB+GdjZcjIo2xv/RQhF+hltcfNrJt04AK4dkkpMN/B\n",
        "43uYVaeNO7u0/1H0UwsezF8Mywz86l+5upm4WYbdOpi5IMJaneXE+rukRHK+U1GEu8OlCdJglnBD\n",
        "L2kKnlR/GGaYF9HOJvs2dpM3Y0aNm5c+dIRTu8H8r+01n93q/m2Sra9gKv3e5XJGIm8TXOzV3U5c\n",
        "IE/yw2grWivvo3jr/Xo2xJkxG7MPuXkDxFThpj/WYkviz8F++//zev/jqWyoXjEGKa+jL/thkvR0\n",
        "hhwo+ZDeZLAYNwBUJXy2nAdFATDb479pxsCpd2lB3iSrU05RjPztU1Gs3jpWPigmiRmaWKURFsHo\n",
        "PDfu+wybU4p7o+svv9JGpGRCNej7dPhjrUb2+JsE/L/2KyZG/+5N6c0xyJJgqDSsWEKnyvGIRA3P\n",
        "WT10RE+TrzoGN5hzv4HCq7z6T6xD28DzBLrHJ8Rkb7oSI1Fj454dhChjFwmZwam4OIQiAeLroTRL\n",
        "QCniEHPl8p0TLgT24DLxLz6tryKjzOIVWiFPfbLaSlOxQw6ledXn0HgR2cTOhJ/cX+V6E5QmDlnB\n",
        "DmEN1Bypx0LRlXbCN/dRum9C5l4n2vOJVexMqkmhmPg5nFCRGBQ0lCjGPOMZVIMfcBoFqgaTPmbs\n",
        "R+vb68Q2UFp3i8pHFPh+/evVnhdV88IHOR8k4RrvNFCw6Gi/jwpLnmF0R1Eq4plwN5aSY5fBZkdc\n",
        "NeyaAdzNOltXsYEfY7B/GYag0TpYvu08B2U0PFj7ylvIwQeTpKwWvW9kW16KHSnLm3COrIQ2JXsC\n",
        "RL2eWVDQ12ibeYHLS9GVX9m8OY1TO4CdHWkUHSVUIs/aF8fbeSjvPtOjBmVRyWhabeI1d+0VPw0p\n",
        "knz6FlwB/zZFWJFcxVti2ScggAAWWDLBAAAJVkGaJGxFfwAetnPo34UTgfc9ZdjMf3994gez/4R0\n",
        "Ra9vVJYxtJcNGbQ8YOjK3nKuouKdCUiqAkiS0DuoY3wN88kAzNtfTxb19oF0sEhoLtTPUoGj3HVV\n",
        "mcor7V47f+juJW0/iONRyDMwsMvwhnfcNOfYxN+qlT6SdejharOYiADeCFPlfFP3v0QfYaU4IPLQ\n",
        "zxUOH84B4WD52GfHrZ5hqNb30TmoPsGRNMYOXEa3KLU+BLqqKc8aItiDQHsffua0dl8ZJLTfzQiU\n",
        "gPxlz+MlVH3o/rwg3xAae8A//R3VVO5+gxA6QhIWe4DGYu4bhhF6MlOE3E5VvX/4YAEsUDraJDUj\n",
        "gLiXDaDBSySGDlD7HOvCSvAdhipdQNZinwLWQp65n5+pauJ27y5jWQMcNwl/f8veaDi9/ZsOLE2J\n",
        "+IuDM8KDM6Z0EpfqP7BvixAcfyccuoL9qOvjmytvrYDYrz8VaYMHqdQZwo9dFqRR60mhEtTkRrC9\n",
        "xqWyFmF+Qyv7KTlOfkOTXFaL6yLiIXJdEXNKtLlXgAQ6t0VaqEotzY91sJkUQhpmC2IIAFbIBdRP\n",
        "h+F26NvtlMm7VtEctcr00f5cThPOqsK7ux910q8ZWPZfCvV17UN3bN9VU0KjjGEXB7EACHYvtbV2\n",
        "vOO+nyBsjKssfGwC2RCzNq4q71YS5a5GxqaVDVUgOXNcg5SJ2me991F3Bu+PK2OzXg9G0jndusZC\n",
        "4WnxANuqQZZkrW4/FA8HdrwX+lJKj/KHwtDWV7urypOL2bWw5JAn4swP9kkcQ8To4G4KdIy7adSR\n",
        "sYcTNP93QqWEvUDyfaALlii3xHG8TxK+2nq4sylEZ4k9/nOevozKHzbj+gWgwCWsBgp+wFr4jnfN\n",
        "IV3J+g08KizNYq9DW7Ae71hw6/Sx4s32NPmfnWd9sw/L9MwRQryEBtMvoWVeJpI7Ubynyk4OX0oL\n",
        "RLHWRwRqYeZdaL9pfjsCw5YI2tBYK89cnsPZ28sSgAVjrhcyg99AWFgG90AImGvB0zt/v76MepIt\n",
        "/Omzu1L30daaYqgo4b8WN59CbRcfaI2KNpUwkq0VOTwU3YFiahffWj8sVVoTTOa9+hcroattpelG\n",
        "s+R0uNRKBZf/QIPjedqtdEYdN8jGhzDIXKDKmsdw1vEVgt2qGwfEzkc6SUO5V6dSwbCkMzgdCNBG\n",
        "fJ4zd3SQBEOq8HG0zpRqCNgcSVgc3yw7J/TBJeTOusP8NzCDLFZn4FxsCsM03nXSvFOsGlTblban\n",
        "Rs5vwRpZ+8wwlmJ0k9st4fQtGG41LQqD3XA432Ktz3XahUoA+mOBQwLICYfCAb8xCle8t+StYtnu\n",
        "xYf3RfpfO69jMdRbUl6IcVPet08s4Za8UaxVuZKOW60tbhfDiYjvJ+V7mDrmVLWUlydXjdIZ6ivy\n",
        "2JhqeOn6lGAU205nuIBho6K/n+Sq3AryVklpLVVQOhZAVcU1Rlpu1Xd+yv2RKAngs4Br8AuLP68g\n",
        "JdCKIflKAbz2yY1dydWJ7H4fSo1vDHN60ULK/0Vd4HOB38hIVu2DIOHwgT2yw2ou5evRdJQTzjeV\n",
        "MjkgrH9VZ+euDJ3eVA8C5ddMkjoMbKmdBDQZMuShK8YjT3E0c8zGthRtVbRSZdl7b5VuFBGkKHMG\n",
        "7VRcs/EdkDoik+mUWioKSpOf1E7O9vIGr1IOKcTgf50ad2KN2An7NajZT+yB83uhXbL6DkTlDK0D\n",
        "0Zs/k0n2dhDfwP2BmheuAOAPGRjcrDTwF36oU1/9tCjzix1z/InNYkDSoPlXSAiW8eK6OtWrpQ4W\n",
        "csGs1gn4HNQhjixy6g0XMe2HpuqkNn7V7JYe/uc9yQcErA/ks9roppYhsN7HhiikFLq4crrLmHgJ\n",
        "BXi9TJn0pu91hTONu+GpuoQbAt6XFGNnBLjSJlL3+xznqXoP//X8rQmm5d3EYyiBSbdOnReweB4H\n",
        "TE6waaPq8/6KKySTwoEKXo9AVC9a4Sp1hn7th6NcoqilYXx6dubj8CpL/vzT19S3Uzd4xvdoPcPU\n",
        "01j2Gs71X5/b+P12kVc99r1NYIR5V79O/1i4JN/Im0JGhXKz5MvJx90eq20lNOyr8A7opk1JQxou\n",
        "5ppOv5M4ZKjb6ue8zOLSMcMcY+KfZLcdeRiAv0O5/IQMi7lDOLmait8IEE2J4/KSQfv5tgZPBjFj\n",
        "Xr1s/IRLdS2EbUBRvw7+AX7Kns3MzKqtPSeRTyC6M0YOjcbDmoUlIJ+lqYifYhskO/89X0xUJDyk\n",
        "bH3jt+wATOz6WQJtGhXbAfByxQcL3vtUL5BK1ouEAGyd+tk243CzewPnO71BHc+2t76jAb/ylYtl\n",
        "nts1xa2+jUKX5q/DsBxVACNNsXzQYG+YWqEqCKnRhSkJjxHxjc3ydUOu6wYt4fh1pDwdZW7uKeWH\n",
        "TgjQ1O1LzZLggrs2LiNxmByrTqLojBTvUK44U5z99kOa6WGED+Shecy97zZMTUsJZaoQvQ5H+GFm\n",
        "17cWlwkBEiiWAQ+5LtYRlLCLDShtqMdC0O19c+ANTOruTt1FJrHuKhVJvU8eYxLbKR3oFIUCZ9D4\n",
        "r84o+vfk3FlLQRwvAo51xtNKLrqdwkR7jvFAUVikWYgArfSpeKJMzHYpoLaBBPC5pA+TcsmM066G\n",
        "HegMHJvrpLMa6Br79yAt2ZBWCwaO7UNPAzLSCUM9C2jvYNh0LpGtRVQ1eAphrAOjQhjNfFdD0aQF\n",
        "O2063dQcKoJZUI/vKJ1inTUGD26UjdFvWACWlToMaQsIK30MrfSG1eQe+ucKNSJ/a2akg3w/lA3M\n",
        "H/arbp0YMrumABX3Ce31RhaGMDo2K8+tboqZ8PJo5LvSZFK+WCAuxTJ2qd7j1huADPQHE3/5LTqg\n",
        "OY24OmE7BuSGfdUGh6JjjoYB+K8CZWtdiLMteVw1+dNAKV//8Yai0j8wSrCICOwtnPvLnPe5NyaA\n",
        "QI3K7Cra56fXo0u2PgXtl6B+FjwUKGPQgm4muf4MDcUr0tJqPeKoKDcv7XFcdH1kdrkIXmyVWNED\n",
        "WZCU9QcQMJZEzRfLHihY31rmOfZHsoioTsyg81KQgr+O5unedG+AAbu7e+vOsukFNWiMo+LARdfN\n",
        "KzVyKzdd3QLRNoo0h03SlGdQtOuylyH99pfIbXXE8Rg0w363mZx5L6wqkFlJsrnDliq/V3ReHjPI\n",
        "lNkiOgRN88HVQL/P2V1nGGpiCy9S/ubgAAAD6UGeQniK/who5pcZnp3WgrbWXwQKnBRYyPaJuIpv\n",
        "WFOoscmmvq3rFyHuxBJ4V/FtoQc7mypCRcEgSxGcECiyRzWnQWFxfdzWGvkRBVYufaF2BAbf6HUO\n",
        "MyL3sW47XAeR4OnKcogAPXVzR0BvoXRd4O1KQbkN4BBGamMnnBF2aIjz66wptRqrOfygl7kWmJa4\n",
        "QNyMcA2WbBjkx/XAq4JgAw9sYyMzejwKRP0Wgc3lBO6niy0XiYK7t1Q5gAx0CWyIF2RMX59pC9IR\n",
        "X82JMG4fNC17CjmXqiPnkZNcmZRawXsaJ3nuzZ0hRJKQtzFSCKHwlqoYXU5Bxbaa1+GPWMW2EXDJ\n",
        "qsPCze1eN33T1ILPk6KdX1fmp9XZ9pBP+mxJ8uNJO4DauBLwJxHoe6aZ5+6idiYVoiRaE4cweiiR\n",
        "x9lIcSVlc55vEETwznMe4BfjnV1lghpP0H4GJlUawszCO47hqYDkkuka9Rtf44KgTkTjj6cu3rTx\n",
        "f5t60dlwf6CG6/uXiDZDfgkDZMVpXzU7qmyx6J1ewstqI8xila5DK3ciPM98J2JZFGiYN6W44ctE\n",
        "u8IEHEnYqAH/D8x3wDizCJShZVOyd/r6wQbg0VhKeFP47JK+/5qioHV67f4W+O7G64AXhQWq//qK\n",
        "GsR+puhPc00kIoaxQ7kc2DOkiRT2AaepioePyXKD/zGxExG8AKkZl+Xk14taDQlmDzkHfX/KyRAt\n",
        "Lf+R6NAVYKh5f6IpwjYwIRd6fnTudS9xv8yCM5KVsq7QCSKrVi05KmPP4YBIogotYZfuut3mN1jd\n",
        "Njzmk6ZJnpeE080SNbyHq92gNOlJ0ZJfQheP3rol34B0munX7e9HrBdEh2xoCRDBJP7yX3gVcj/M\n",
        "7GLh1ugFD5V49fm8rEQj5xJV5UCm6rKaYJdm3nfG8zfv0/mEYYqJaGoUeNa1+dNj6NMDezKGw4s2\n",
        "Tjf+C6L0uvFI0TIBMHSzWC0PTv4/8wChciRE/Bedwopn8s/zCXIotrCQcZdQesjmqeWI+G0kdldO\n",
        "BgpYNQxq0zTAzztMHrbLJfUFaf5W3iOadMihMakI3H+q7RrMXGPj7TIUbqsuzyn2mAJsyOL1fRpw\n",
        "VNxwiYyW103hCGpXs9N1koJUHNZzEopAVWNPawlmyfe263+hAFvj9SCKsa2RtVac4EtvUin5mnGN\n",
        "qNn7kmTFaoh1HZeeGV3rwefM56mf32QcDZG3E2+Zcp0S2i5fXbW+NJQtoofZ11hj4/1BM+wpshfm\n",
        "1PHWYj6/s6ZeiIwLRbRk5AUweOXyujPafezOsVGqxtldKpR4Pjv+ShkqEe7atYyR3z7zRA/Zovt5\n",
        "v6+LAAABKwGeYXRFfwhoacf2QXzGFACvjPKz80P5FCQ+t3mrEN2ykbw11Nh+EWCJhNDnd8Rmf+Qa\n",
        "xHx2uF6SrjizcufswW8+4bn76sq98fw3xmRNTzNzpFxTDKy+5KFns0cldjbDdgbI6PMq2Hp3cmHZ\n",
        "dcp2dq+s64K080FTpljypdxuPEmnIiPtyHlvmv01yNtM/dDQWxhU1A/4AQGyU8pUamtRg/ZeGs2b\n",
        "RbmPokLEoAN/WOc9MN1t1mVpQELj73EKwQfL3OKS8Y8rWh9tZZ6A+BC3UHi2GVn/UnxkGc5bOQ7X\n",
        "mnOpnzLRpehXk6Oz+Ixp1O92ycxz3WAWsVCbrAJyPMmkrrvcTG1BVV2JVa/qOjSBOAfR4UDLP8/A\n",
        "o31HoszulNTt24hEoP6xDupB00+gAAAC2wGeY2pFfwg1UoTXGN70Zx+Uy7GUir+kVrxauZotEgxp\n",
        "LLl/HW1GW21hvPSD95TzwYBBhfBSOEmGh7O+9XCNCrldUtS2VtcL8eEKaO2sb/4t/P6H8I5FUNkZ\n",
        "4fr9JiuLZkF9iHipvPjAsWFffk6FD26g8W62J9SyCmyTJK5jH4Dr31A3JspD0AAh9/175tmVdQ2w\n",
        "CfCt2TAL3hg94XTaYNslmTvKdaIkWel6VmTFs/mCD9KeJN8wMUCuh1pi8mzg3dl3Yt0yAW3tBE+t\n",
        "GQ2MotdqPS9zzP6HvvDNk3olpDU78HEEIRaQQzg2y70nXoq2FEPgs+FGf7EKeKAueq1p546v27RM\n",
        "AfvCxjNA9eODCkl5G6eHFkcgjQSo7PtoFSbkwQjDRjJQ2nUWvu/f9XHSRZ/VbEMFvUgTT6g5udmD\n",
        "PFxDLDTJPFrJHJCzRk4b3Rwx03aINXdIvEIQQ0hmyMxLLnz5wDPkPCt2EBotJlpyH/rV7/1gfKZT\n",
        "pFmMJ/j6c655dB+nH+/o1uO/wcPEiSTstwVORou55ybPlKe53aS2rc7LkDhLRA+PK9tUPWQHMut7\n",
        "wrbTe8Mfl8s4F9elaCAk+Vp1ttRjrEYkcPoTItSKLjOU3w1u26DX7vvws/UGRZEzxlJLLkQ7ZQIF\n",
        "2vdlbjV44MkOCr/IvffYxRq4syenOBjor7P1bxNKGld0Z/I3UEfQU54iPp5y//n4oUXvNHu2+ImS\n",
        "Mepx3qRElO2sQPo3No9SUlirpafeazOuV2AplyPN86GB2OYdDoUvbiDORovCTfpgjXIpvuHWLImX\n",
        "Repe4XxdGiEarsJYa0f1IUtoVByd7Uw9/yH4Due6V4CbOkLbHJ88g3n+zEIl8vZ70KMG1jlpPRiH\n",
        "pS0WJw6Nt3gGAiQCFcLsph6D7kIqr3p2rRH/ek8e4uKTjM3na0/ap/PIMvL5kwSh0mkqta276pIu\n",
        "iqe41sJEas4nMDCCVEVVAAAFBUGaaEmoQWiZTAivAB57ryOsVCgwwe/Ej/IXkjarLuReuPraHXlw\n",
        "SGZhAXQeWxLbKybw/9hTPICY6yZLcr71K2CszWQCXbRFPOqHb2B8uq6+K4/W1N85tVQSZNsraQ4m\n",
        "a6Zk0i/H3KNyLZVlfdCBvvWwy9oVZ6l0XGWPKEKnQHQ6kqxsl3uDDPSmbjtNhYWNQ61HqxbC4TJL\n",
        "PW8r5RjEH35avRC2nkLzPrv2otr+8oeyOXhUqZlw5uPAo4ne3IZ8iWIz1Xtifjw8M13AAPlO9vpC\n",
        "ZnvCP62+6+uZQT+dR0hVB9Q+opraRY/rQEBtM7FU350LxZ4/YJrrMJ6ZGgIoGMMqgH0//Qb7b+x4\n",
        "gpYHQTRj9BYtMuUJSPxg1Pg9gd3dFi3DFI/r6BVldNtse8GK08IUMd9BAw7iKPnDk7AfbQ9OoRZ9\n",
        "kJHi9mWXlifpp9j7vmXNMavu2Hd0v4Rln4itKixcOXgLLxIeB85VGwy1sYNf/9BWViBmGe0UmUSJ\n",
        "pnrzQJvkSG1Os7TEeQQsCYnSRjFtLHhDwg91CyOqlCu0FP0GGk7yXjpTDSGaGzEOs4vw4bAMqmQX\n",
        "uuCG8pWiaX8LDhH42KCIPNswfq+U2yL7l97op2fTf75o6Qqbh7IgzmOwCg58+BhiVUbLLwRq9Ri6\n",
        "vyMqmY5bTa+nF2BnAoGzuXuiRAzzryQoAsq0iZtElDq3PdBadkqu8tVbWhQwDdl4TLN9/XgCDzS3\n",
        "oChcyWBFfUdQKOkrIQljUxEsnRde+CX+jMUs/CqpzGPiyD2GIe1cm6xCj18dCISG6RnhqsTI0dbz\n",
        "fuzwb7kfDuNBmCHqmkiXqZUI33m6r9Vd8EM1wX/rFblN7GjbLxaccQD3p9pe3rxgjki+llmQAsUm\n",
        "C6ajLasp5JH++0fVGAn9yCs3iPGBMnD31K7zQovgNCWOXYoLrwBih+YkyIE8GuGsVmVd+Dr7gIAp\n",
        "7+C/ar6F7HzccDxprUHon7+eBc1ElCOvWpEoFxYzCQSttSaFLnXXv01ejIZaXTMWFrQh77Oab9g3\n",
        "TyYomseLoL+cshXQ0MX9ffJUgAUfqTDXXnmfQtDQqcQYUNz22j1okZ2WGqv6T6CHFlS3vevRjSQC\n",
        "Bs7iWbOT8uCyUHXfmpTMdvsLqtTSAnsTXPzaL4ZYq8Ou2AfjDxnDP8Zw5DU3tW/C1/7vxEiMAWSf\n",
        "PIYWrZw3zyGsp9x5hytlLSJJ2/EKEl9AzRg36DixePqMS01k72aVD2eTRCMP00Fqto5P52E7lKqe\n",
        "azl1L7kbRIPmx3JsgX/9/ZyHfpWNSbfdOAQgCYnjqaplBv/yseW339+d4qdOYURFFaxKkkXSNDTG\n",
        "K01YDLS77OTGRambgcrJGNyusSiQTLUrK2G76xIqq9Vm1D/ab/gtdEsePbVX6xGSTZMjxXwflPSt\n",
        "VpJlaMVrwnsF0WdBwac5NABOgB0+l8A9K7ck8XfD8ZnVwF0Ma73BIEgmW9SacLrDM/JQUWdrotA4\n",
        "7bEQvkryU5gMoU+IAbA4q1ltfNCqRl/wiucF/6Vz1tYCM1mtz9xHn3/dv2soRnW1a6jhE7ojpnsi\n",
        "uAmPK1BUYv5MbMWy7n6J1wsG+8dqEhPHcILzMAhq5H1Y9GQCC0fI9ByZHw07mx8wQ0Gngc4LqXNk\n",
        "muHCca/AEPZveSnTx4Pe6CpIivr9K5q9OqLGOX9TGLOFahJK/uzsVLD3FCJMnAzFFbEAAAFLQZ6G\n",
        "RREsVwh/OGVXCtYozBusXu+yEQUVkAxqPgKY4fboRWRClGLkKKhnATAlz5su9fTeN2OofHbiifK6\n",
        "PK7bsweRYEIIoQB6tKSIZRJK9TxV7+jSHHm2KXGVHhHH9HG+Unw29m8n+pb/5UN7X9sIKW5q8Ii/\n",
        "JPVStxjltntvrwKRvVONfOYOabzMUU6nlWnl0/UFeH95FWpiECxdYjW8pHbtXOdiMmjngpopTshy\n",
        "eYSAZRJ+b9HOM3hmByUUlQgLy8V0C7qm+iWBqaOlVgrIcMnkE1//b8dOnpAn1O1z0yvRzoABZLfC\n",
        "m42DEFi9XQXQYO4aAiKupdIGcd4DBCd1RvMf8b/gXWCyZf+MTJJb1EovxBELk83IxH1FwxTtvBeU\n",
        "oCIg7fnOWJ97iY3GqAHPBYwbtPO7jMDmBNR9/yXrGSeSXShjTVnvMgXvwQAAAIUBnqV0RX8IRqhR\n",
        "CN5v5BxmyxhKLXEXl6TGFvXjiTqv39HC7e++QXjIFJk4qLwRcpxfygfvDKEAzlTBtSyZdca8WG8W\n",
        "qzXgYSDvVZYR+g3bWG1nLKjeG5GI+o+8fwB09qQIhts6ltXkQuZ0mWfB64glwOoYTJrXWDmBN1Rx\n",
        "roSXRu72EQFDAAAAlgGep2pFfwh/OGVbKr6BsUVV2LqoD8TnFfs/N8CeO7kNNX5ni1iPC+2WvqgY\n",
        "O+lJaa3EpAxP9OGul3wDU/m4ZdYojX0Nl3Qndcufk1khwwMxhpRDiUY3Xcpf9+SNRb24JeXT+OiV\n",
        "pJydPIPmvyO8ROCLxx71ZQ/bf3lxiZ0mXADQSGYc++p4D/MmYc289K+UMUQj2HcBoQAAALZBmqxJ\n",
        "qEFsmUwIrwAe4knKedAjQ5NuiDSz80P5FCQsfG8wRlHL/v9J2W9/bzhBBm+JWUuz9aFzreFBYfTv\n",
        "HnRYNesxA2cy2wQKFDVm18K6uh49qT4iFIEJo2cojCQmr9Xd6OvJtThwOYk8T+eAJzpPsPVbQADl\n",
        "zrlipi/WkOSRY5lumwmTeRzoMvcfkrHkxDYc8MGSd2IdAk03gk0bvFd/OspxXbdYrrfnvioCzP+t\n",
        "NeNNwUwIQAAAAH5BnspFFSxXCGqIOLHSeyOWrrVc6p9JUi9Tpxza5c1epYoQT3F1WiEoTyvTeuO8\n",
        "h1OQz9eP+FPFW2ce+iN3Oo3zqCwBf0hUWoNcWPDqiDIKLASYIXN81MTKE3huRiPqLhim8N1sWMNU\n",
        "itkjF2dkG7eyDmUUg5ezu/0Jjf4gdKUAAABuAZ7pdEV/CHepJXWTkudR4Mc6DD883bIaHAwKsmnl\n",
        "8lWKOSeh36McySaUhfHCBB6936JLwZrz5yG0d+Dg7ycKcmSVFCawZHb3bSr+EfqNN3wJhnmVR5V6\n",
        "C1BrzpMt7KjyBPIhGRKj/yh1TwTGZzgAAABsAZ7rakV/CGmzR9rP+s6mD/QFuqteC9/v+qhuZGAA\n",
        "I0W5ZmVO1OLaBTG+dHM2VPSua48I0XoTQrK8ITjUc1/S+E7PF0/K8qOvM15+m8NyMR9RcMU3hutm\n",
        "FAiHYy64R/D5Eniln4ajkJ355WHdAAAFrEGa70moQWyZTAivABf6BuTI4u6LB5CeqClc/mVqcXNs\n",
        "eUzfx5Vw1hVjbcu3onAhD9jH6j239ZgofEOkbIe1/7m989Hvka3NB9STh4iFCAtRHneNZM68CB4u\n",
        "1b/08O6l+jOxYeN4lWX7hzSHbfvfikvBO8M0psiziNIJV3V8q17v3fP+ZobqvsFZFkJsNnZ/bV5O\n",
        "+HVWCEVQ3SlLo3rwIYBtkrvrTDh5Wjs/ezxUuQCOdBbB3JpLzu3FXptW8/Uxb63gkSSWfc5BypIW\n",
        "IzWqp9cBIAwOEu9dtC2MRTN1b3hRALvJ/RobTdGjwbkRGsdcf4LGPCG67El9WR1yWJMb/iiZnzTF\n",
        "kP1qW3F1dncLo6Ahji7bdbNNIKoJzQ6JKiOWeZ73znfNy2Kf+Y2B2ASBXMzGoJf/aDlWoeVvsBHa\n",
        "VSMq+C0zAkpIepnSEcOhOAPIHVWO4Jn+kA1gjmnChUan6xaI00i68uHElbF9DljNuA4emGXTp9QR\n",
        "2L0BgsMxJyyL0x26fZ5fl3jv/nkPRieZnVh476cbT0TJuxa790DPtKYz4ZBdYuSaFdqtepvNvBuw\n",
        "SkVXQSReMNHd31GsxRnJzjC6YLSWFmZTmUMVxvUoe42e/zp5WmbSYm7OvX5oAWa6wRnaRFQ8bpH1\n",
        "xSzNDwrijcRkcu2oKg/0zkEgEWHUib1gHZNdtKavaLPVlSLdfnL//5vwf04D8MXPKRY8/i7Xvf5U\n",
        "Hv67lzEwDXAheYDa+wAKU9VfcgVA6IU38Qu0kBpLQ7RUrXvnqZKGwyHMAVk6cQ4T0OBpn31gIgeG\n",
        "rahLKuSBQoPIzJ2Q3WK9uxl3CZqgYROGgjM+xUM4lVciukw/xwckjJPHxf7h/LTQxg0MomkSrwGc\n",
        "tuMcGK77ZROH2JajQJBK2TSAfpY005+izomM5UaWCWJEoeaIym6772Jq4niOtxhv5QV5A8BVIPZT\n",
        "hLyUIti9QTXE/BZTEXg8eJAbNsfgP6+8A0uPTo7Z9U4IyfUIv7yOKIay+eWgnqs1KThF5pguHCA6\n",
        "HDKiUiQA1omcWHrg3/RtvilJmQ72YsPTepsRMyio/+8BOcpBwKSt+h2a1HJ6EhSraAXdfvDdPn3N\n",
        "IhgWykMkLaKuRaxcULJiSl04wGlfeE9hLuUnIn7g+86RujHiXefVIGqfGgjD15dOyJ0JrT3b9ouM\n",
        "rzxyrvNxSeSyS2cO/jwQMbUzibALhUV0cBduOqucIgn+vUnKMeMzdQhH0NKwvWDwO3ZdwTwcMSI0\n",
        "2lfRRdqGkL96nAIC07gtqRvk6gqb2EQWurg6mDaDtH/HF6WclaPhCojETJrcK3J2+IvfPqaFlSyB\n",
        "MPcJC0fi/rqeZyJMu4g6AiLv/1tvqjyap80ovIwEPwFY3VNPKkJYSXT/qibMVghSVkRGEp9Awsvq\n",
        "pRc3DGrfSijw79PXU5x0Sn2gfdj1Zx7b/vgHuoshfMb8pupiw+XJXL6OoRY1cBaYCVVYHD52aLQB\n",
        "jCULajCjpdk3BOeohmS4xN19NcMGdj/Z9yDcuB4ahB4toJVRr2Z3TzfJVQoEkp6we8elE003b9kc\n",
        "wNbEQVxfi27XcgfkwenvZWB+vgrLrXAPRo4w3/UYpCgTJfnUilHFwaeY9anSxQ+BZQLNXQRDpIBd\n",
        "OywwJt1xE2v1xfQwnwd4wW0aR31MXkKPzR5e49Gmq7x7QzhpR8bmWUHePhmigopBJ/qJbOAGbS7T\n",
        "yiL0HXiZ7KcQ90+MzmxR8H/urQ+7oL++5E7HjJLYPB9SJZF0BysRL2UsWBQWNHMmWeDYT+P5pt9o\n",
        "d8JDJuWNq5gOqp/0fxQKpHGuQNtaY5eRXv7LIezMgNiA/UB/zhxwZ0lgpfDUxINwxf+TyQSfdIqy\n",
        "4f28YbHDq33/tOiKOo/nbSwN2haKz1Cz6T9i9hVury97x/AHCSGJFd9Uv9ust62trKIFhQAAAJNB\n",
        "nw5CK/8ISLXm8HMrvSE/GxGj2zgBPpY/22vp9lNp/bh0UfyCN5ngBlbBlaTyrHGCMyEtX4+rAlrC\n",
        "mlIbVlrhrRLaa1CkycbQmeHZyX//6yZ9+KiNuKaygoTrDC5eHVBTY8RkHU4XR+LBv6cgSUZyXa8j\n",
        "cf7d86o97YuULg8vsgXjqFihxtXnXpaezvxSrOWLxWEAAABCAZ8taRFfCCq9mFu54b/QktcVX5of\n",
        "2v4xafyUbOmlXvTGasy/p4p0v0oiE7P0+47SGxMe41H5rBt0BLxFPKJ1gEKBAAAD0m1vb3YAAABs\n",
        "bXZoZAAAAAAAAAAAAAAAAAAAA+gAAAMgAAEAAAEAAAAAAAAAAAAAAAABAAAAAAAAAAAAAAAAAAAA\n",
        "AQAAAAAAAAAAAAAAAAAAQAAAAAAAAAAAAAAAAAAAAAAAAAAAAAAAAAAAAAAAAAIAAAL8dHJhawAA\n",
        "AFx0a2hkAAAADwAAAAAAAAAAAAAAAQAAAAAAAAMgAAAAAAAAAAAAAAAAAAAAAAABAAAAAAAAAAAA\n",
        "AAAAAAAAAQAAAAAAAAAAAAAAAAAAQAAAAAGwAAABIAAAAAAAJGVkdHMAAAAcZWxzdAAAAAAAAAAB\n",
        "AAADIAAABAAAAQAAAAACdG1kaWEAAAAgbWRoZAAAAAAAAAAAAAAAAAAAKAAAACAAVcQAAAAAAC1o\n",
        "ZGxyAAAAAAAAAAB2aWRlAAAAAAAAAAAAAAAAVmlkZW9IYW5kbGVyAAAAAh9taW5mAAAAFHZtaGQA\n",
        "AAABAAAAAAAAAAAAAAAkZGluZgAAABxkcmVmAAAAAAAAAAEAAAAMdXJsIAAAAAEAAAHfc3RibAAA\n",
        "AJdzdHNkAAAAAAAAAAEAAACHYXZjMQAAAAAAAAABAAAAAAAAAAAAAAAAAAAAAAGwASAASAAAAEgA\n",
        "AAAAAAAAAQAAAAAAAAAAAAAAAAAAAAAAAAAAAAAAAAAAAAAAAAAAABj//wAAADFhdmNDAWQAFf/h\n",
        "ABhnZAAVrNlBsJaEAAADAAQAAAMAoDxYtlgBAAZo6+PLIsAAAAAYc3R0cwAAAAAAAAABAAAAEAAA\n",
        "AgAAAAAUc3RzcwAAAAAAAAABAAAAAQAAAJBjdHRzAAAAAAAAABAAAAABAAAEAAAAAAEAAAoAAAAA\n",
        "AQAABAAAAAABAAAAAAAAAAEAAAIAAAAAAQAACgAAAAABAAAEAAAAAAEAAAAAAAAAAQAAAgAAAAAB\n",
        "AAAKAAAAAAEAAAQAAAAAAQAAAAAAAAABAAACAAAAAAEAAAgAAAAAAQAABAAAAAABAAAAAAAAABxz\n",
        "dHNjAAAAAAAAAAEAAAABAAAAEAAAAAEAAABUc3RzegAAAAAAAAAAAAAAEAAAC+4AAAlaAAAD7QAA\n",
        "AS8AAALfAAAFCQAAAU8AAACJAAAAmgAAALoAAACCAAAAcgAAAHAAAAWwAAAAlwAAAEYAAAAUc3Rj\n",
        "bwAAAAAAAAABAAAAMAAAAGJ1ZHRhAAAAWm1ldGEAAAAAAAAAIWhkbHIAAAAAAAAAAG1kaXJhcHBs\n",
        "AAAAAAAAAAAAAAAALWlsc3QAAAAlqXRvbwAAAB1kYXRhAAAAAQAAAABMYXZmNTQuNjMuMTA0\n",
        "\" type=\"video/mp4\">\n",
        " Your browser does not support the video tag.\n",
        "</video>"
       ],
       "metadata": {},
       "output_type": "pyout",
       "prompt_number": 9,
       "text": [
        "<matplotlib.animation.FuncAnimation at 0x10ee35450>"
       ]
      }
     ],
     "prompt_number": 9
    },
    {
     "cell_type": "code",
     "collapsed": false,
     "input": [
      "plot(opt.recall('phi_d'))"
     ],
     "language": "python",
     "metadata": {},
     "outputs": [
      {
       "metadata": {},
       "output_type": "pyout",
       "prompt_number": 10,
       "text": [
        "[<matplotlib.lines.Line2D at 0x10eb01450>]"
       ]
      },
      {
       "metadata": {},
       "output_type": "display_data",
       "png": "[encoded data removed]",
       "text": [
        "<matplotlib.figure.Figure at 0x11030ec90>"
       ]
      }
     ],
     "prompt_number": 10
    }
   ],
   "metadata": {}
  }
 ]
}