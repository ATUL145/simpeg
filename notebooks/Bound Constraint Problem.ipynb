{
 "metadata": {
  "name": ""
 },
 "nbformat": 3,
 "nbformat_minor": 0,
 "worksheets": [
  {
   "cells": [
    {
     "cell_type": "code",
     "collapsed": false,
     "input": [
      "import SimPEG\n",
      "from SimPEG.mesh import TensorMesh\n",
      "from SimPEG.regularization import Regularization\n",
      "import SimPEG.inverse as inverse\n",
      "from SimPEG.inverse import Minimize\n",
      "import numpy as np\n",
      "import scipy.sparse as sp"
     ],
     "language": "python",
     "metadata": {},
     "outputs": [],
     "prompt_number": 1
    },
    {
     "cell_type": "code",
     "collapsed": false,
     "input": [
      "from SimPEG.forward.LinearProblem import example as LinExample\n",
      "\n",
      "prob, m_true = LinExample(1000)\n",
      "M = prob.mesh\n",
      "\n",
      "reg = Regularization(M)\n",
      "opt = inverse.InexactGaussNewton(maxIter=100,debug=False,LSreduction=0.3,maxIterLS=50)\n",
      "inv = inverse.Inversion(prob,reg,opt,beta0=1e-4,maxIter=2)\n",
      "m0 = np.zeros_like(m_true)\n",
      "\n",
      "mrec = inv.run(m0)\n",
      "\n",
      "plt.plot(M.vectorCCx, m_true, 'b-')\n",
      "plt.plot(M.vectorCCx, mrec, 'r-')"
     ],
     "language": "python",
     "metadata": {},
     "outputs": [
      {
       "output_type": "stream",
       "stream": "stdout",
       "text": [
        "=================== Inexact Gauss Newton ===================\n",
        "  #     beta     phi_d     phi_m       f        |g|     LS  \n",
        "------------------------------------------------------------\n",
        "   0  1.00e-04  9.53e+02  0.00e+00  9.53e+02  8.99e+03   0  \n",
        "   1  1.00e-04  6.23e-01  2.62e+04  3.24e+00  1.53e+01   0  \n",
        "   2  1.00e-04  8.70e-02  2.29e+04  2.37e+00  1.15e+02   0  \n",
        "   3  1.00e-04  4.58e-02  2.28e+04  2.32e+00  1.02e+00   0  \n",
        "   4  1.00e-04  3.59e-02  2.27e+04  2.31e+00  1.49e+01   0  "
       ]
      },
      {
       "output_type": "stream",
       "stream": "stdout",
       "text": [
        "\n",
        "   5  1.00e-04  2.80e-02  2.27e+04  2.30e+00  5.71e-01   0  \n",
        "   6  1.00e-04  2.46e-02  2.27e+04  2.30e+00  1.50e+01   0  \n",
        "   7  1.00e-04  2.17e-02  2.27e+04  2.29e+00  3.62e-01   0  \n",
        "   8  1.00e-04  2.05e-02  2.27e+04  2.29e+00  2.61e-01   0  "
       ]
      },
      {
       "output_type": "stream",
       "stream": "stdout",
       "text": [
        "\n",
        "   9  1.00e-04  1.91e-02  2.27e+04  2.29e+00  2.59e-01   0  \n",
        "  10  1.00e-04  1.85e-02  2.27e+04  2.29e+00  1.98e-01   0  \n",
        "  11  1.00e-04  1.76e-02  2.27e+04  2.29e+00  2.06e-01   0  \n",
        "  12  1.00e-04  1.73e-02  2.27e+04  2.29e+00  1.64e-01   0  "
       ]
      },
      {
       "output_type": "stream",
       "stream": "stdout",
       "text": [
        "\n",
        "  13  1.00e-04  1.66e-02  2.27e+04  2.29e+00  1.74e-01   0  \n",
        "  14  1.00e-04  1.63e-02  2.27e+04  2.29e+00  2.93e-01   0  \n",
        "  15  1.00e-04  1.58e-02  2.27e+04  2.29e+00  1.51e-01   0  \n",
        "  16  1.00e-04  1.56e-02  2.27e+04  2.29e+00  1.22e-01   0  "
       ]
      },
      {
       "output_type": "stream",
       "stream": "stdout",
       "text": [
        "\n",
        "  17  1.00e-04  1.51e-02  2.27e+04  2.29e+00  1.33e-01   0  \n",
        "  18  1.00e-04  1.50e-02  2.27e+04  2.29e+00  1.07e-01   0  \n",
        "  19  1.00e-04  1.46e-02  2.27e+04  2.29e+00  5.30e-01   0  \n",
        "  20  1.00e-04  1.45e-02  2.27e+04  2.28e+00  9.43e-02   0  "
       ]
      },
      {
       "output_type": "stream",
       "stream": "stdout",
       "text": [
        "\n",
        "------------------------- STOP! -------------------------\n",
        "1 : |fc-fOld| = 2.2048e-04 <= tolF*(1+|f0|) = 9.5415e+01\n",
        "1 : |xc-x_last| = 7.2682e-03 <= tolX*(1+|x0|) = 1.0000e-01\n",
        "1 : |g|       = 9.4320e-02 <= tolG          = 1.0000e-01\n",
        "0 : |g|       = 9.4320e-02 <= 1e3*eps       = 1.0000e-02\n",
        "0 : maxIter   =     100    <= iter          =     20\n",
        "------------------------- DONE! -------------------------\n",
        "20"
       ]
      },
      {
       "output_type": "stream",
       "stream": "stdout",
       "text": [
        "\n"
       ]
      },
      {
       "metadata": {},
       "output_type": "display_data",
       "png": "[encoded data removed]",
       "text": [
        "<matplotlib.figure.Figure at 0x1109cd810>"
       ]
      }
     ],
     "prompt_number": 17
    },
    {
     "cell_type": "code",
     "collapsed": false,
     "input": [
      "def Quadratic(x, return_g=True, return_H=True):\n",
      "    A = sp.identity(2)\n",
      "    b = np.array([-5,-5])\n",
      "    f = 0.5 * x.dot( A.dot(x)) + b.dot( x )\n",
      "    out = (f,)\n",
      "    if return_g:\n",
      "        g = A.dot(x) + b\n",
      "        out += (g,)\n",
      "    if return_H:\n",
      "        H = A\n",
      "        out += (H,)\n",
      "    return out if len(out) > 1 else out[0]\n",
      "\n",
      "# FUN = SimPEG.tests.Rosenbrock\n",
      "FUN = Quadratic\n",
      "\n",
      "f = FUN(np.array([1,2]))\n",
      "print f\n",
      "n = 50\n",
      "l = -10\n",
      "u = 10\n",
      "I = np.zeros((n,n))\n",
      "X = np.linspace(l,u,n)\n",
      "for i, x in enumerate(X):\n",
      "    for j, y in enumerate(X):\n",
      "        f, g, H = FUN(np.array([x,y]))\n",
      "        I[i,j] = f\n",
      "\n",
      "colorbar(contourf(X,X, I.T))\n",
      "\n",
      "GN = inverse.GaussNewton()\n",
      "xopt = GN.minimize(FUN,np.array([0,0]))\n",
      "print xopt"
     ],
     "language": "python",
     "metadata": {},
     "outputs": [
      {
       "output_type": "stream",
       "stream": "stdout",
       "text": [
        "(-12.5, array([-4., -3.]), <2x2 sparse matrix of type '<type 'numpy.float64'>'\n",
        "\twith 2 stored elements (1 diagonals) in DIAgonal format>)\n",
        "======== Gauss Newton ========"
       ]
      },
      {
       "output_type": "stream",
       "stream": "stdout",
       "text": [
        "\n",
        "  #      f        |g|     LS  \n",
        "------------------------------\n",
        "   0  0.00e+00  7.07e+00   0  \n",
        "   1 -2.50e+01  0.00e+00   0  \n",
        "------------------------- STOP! -------------------------\n",
        "0 : |fc-fOld| = 2.5000e+01 <= tolF*(1+|f0|) = 1.0000e-01\n",
        "0 : |xc-x_last| = 7.0711e+00 <= tolX*(1+|x0|) = 1.0000e-01\n",
        "1 : |g|       = 0.0000e+00 <= tolG          = 1.0000e-01\n",
        "1 : |g|       = 0.0000e+00 <= 1e3*eps       = 1.0000e-02\n",
        "0 : maxIter   =      20    <= iter          =      1\n",
        "------------------------- DONE! -------------------------\n",
        "[ 5.  5.]\n"
       ]
      },
      {
       "output_type": "stream",
       "stream": "stderr",
       "text": [
        "/Users/rowan/Library/Enthought/Canopy_64bit/User/lib/python2.7/site-packages/scipy/sparse/linalg/dsolve/linsolve.py:87: SparseEfficiencyWarning: spsolve requires A be CSC or CSR matrix format\n",
        "  warn('spsolve requires A be CSC or CSR matrix format', SparseEfficiencyWarning)\n"
       ]
      },
      {
       "metadata": {},
       "output_type": "display_data",
       "png": "[encoded data removed]",
       "text": [
        "<matplotlib.figure.Figure at 0x10c840c50>"
       ]
      }
     ],
     "prompt_number": 3
    },
    {
     "cell_type": "code",
     "collapsed": false,
     "input": [
      "opt = inverse.ProjectedGradient(maxIter=50,maxStep=np.inf, maxIterLS=20, debug=False)\n",
      "opt.remember('f')\n",
      "opt.lower = np.array([-2,-1])\n",
      "opt.upper = np.array([2,10])\n",
      "opt.minimize(FUN,np.array([50,0]))\n",
      "plot(opt.recall('f'))"
     ],
     "language": "python",
     "metadata": {},
     "outputs": [
      {
       "output_type": "stream",
       "stream": "stdout",
       "text": [
        "===================== Projected Gradient =====================\n",
        "  #      f        |g|     LS   itType   aSet    bSet  Comment\n",
        "-------------------------------------------------------------\n",
        "   0 -8.00e+00  5.83e+00   0     SD      1       1           \n",
        "   1 -2.05e+01  3.00e+00   0     SD      1       1           \n",
        "   2 -2.05e+01  3.00e+00   0    .CG.     1       1           \n",
        "   3 -2.05e+01  3.00e+00   0    .CG.     1       1           \n",
        "   4 -2.05e+01  3.00e+00   0    .CG.     1       1           \n",
        "   5 -2.05e+01  3.00e+00   0    .CG.     1       1           \n",
        "   6 -2.05e+01  3.00e+00   0    .CG.     1       1           \n",
        "   7 -2.05e+01  3.00e+00   0    .CG.     1       1           \n",
        "   8 -2.05e+01  3.00e+00   0    .CG.     1       1           \n",
        "   9 -2.05e+01  3.00e+00   0    .CG.     1       1           \n",
        "  10 -2.05e+01  3.00e+00   0    .CG.     1       1           \n",
        "  11 -2.05e+01  3.00e+00   0    .CG.     1       1           \n",
        "  12 -2.05e+01  3.00e+00   0    .CG.     1       1           \n",
        "  13 -2.05e+01  3.00e+00   0    .CG.     1       1           \n",
        "  14 -2.05e+01  3.00e+00   0    .CG.     1       1           \n",
        "  15 -2.05e+01  3.00e+00   0    .CG.     1       1           \n",
        "  16 -2.05e+01  3.00e+00   0    .CG.     1       1           \n",
        "  17 -2.05e+01  3.00e+00   0    .CG.     1       1           \n",
        "  18 -2.05e+01  3.00e+00   0    .CG.     1       1           \n",
        "  19 -2.05e+01  3.00e+00   0    .CG.     1       1           \n",
        "  20 -2.05e+01  3.00e+00   0    .CG.     1       1           \n",
        "  21 -2.05e+01  3.00e+00   0    .CG.     1       1           \n",
        "  22 -2.05e+01  3.00e+00   0    .CG.     1       1           \n",
        "  23 -2.05e+01  3.00e+00   0    .CG.     1       1           \n",
        "  24 -2.05e+01  3.00e+00   0    .CG.     1       1           \n",
        "  25 -2.05e+01  3.00e+00   0    .CG.     1       1           \n",
        "  26 -2.05e+01  3.00e+00   0    .CG.     1       1           \n",
        "  27 -2.05e+01  3.00e+00   0    .CG.     1       1           \n",
        "  28 -2.05e+01  3.00e+00   0    .CG.     1       1           \n",
        "  29 -2.05e+01  3.00e+00   0    .CG.     1       1           \n",
        "  30 -2.05e+01  3.00e+00   0    .CG.     1       1           \n",
        "  31 -2.05e+01  3.00e+00   0    .CG.     1       1           \n",
        "  32 -2.05e+01  3.00e+00   0    .CG.     1       1           \n",
        "  33 -2.05e+01  3.00e+00   0    .CG.     1       1           \n",
        "  34 -2.05e+01  3.00e+00   0    .CG.     1       1           "
       ]
      },
      {
       "output_type": "stream",
       "stream": "stdout",
       "text": [
        "\n",
        "  35 -2.05e+01  3.00e+00   0    .CG.     1       1           \n",
        "  36 -2.05e+01  3.00e+00   0    .CG.     1       1           \n",
        "  37 -2.05e+01  3.00e+00   0    .CG.     1       1           \n",
        "  38 -2.05e+01  3.00e+00   0    .CG.     1       1           \n",
        "  39 -2.05e+01  3.00e+00   0    .CG.     1       1           \n",
        "  40 -2.05e+01  3.00e+00   0    .CG.     1       1           \n",
        "  41 -2.05e+01  3.00e+00   0    .CG.     1       1           \n",
        "  42 -2.05e+01  3.00e+00   0    .CG.     1       1           \n",
        "  43 -2.05e+01  3.00e+00   0    .CG.     1       1           \n",
        "  44 -2.05e+01  3.00e+00   0    .CG.     1       1           \n",
        "  45 -2.05e+01  3.00e+00   0    .CG.     1       1           \n",
        "  46 -2.05e+01  3.00e+00   0    .CG.     1       1           \n",
        "  47 -2.05e+01  3.00e+00   0    .CG.     1       1           \n",
        "  48 -2.05e+01  3.00e+00   0    .CG.     1       1           \n",
        "  49 -2.05e+01  3.00e+00   0    .CG.     1       1           \n",
        "  50 -2.05e+01  3.00e+00   0    .CG.     1       1           \n",
        "------------------------- STOP! -------------------------\n",
        "1 : |fc-fOld| = 0.0000e+00 <= tolF*(1+|f0|) = 9.0000e-01\n",
        "1 : |xc-x_last| = 0.0000e+00 <= tolX*(1+|x0|) = 3.0000e-01\n",
        "0 : |g|       = 2.0000e+00 <= tolG          = 1.0000e-01\n",
        "0 : |g|       = 3.0000e+00 <= 1e3*eps       = 1.0000e-02\n",
        "1 : maxIter   =      50    <= iter          =     50\n",
        "0 : probSize  =      2   <= bindingSet      =      1\n",
        "------------------------- DONE! -------------------------\n"
       ]
      },
      {
       "metadata": {},
       "output_type": "pyout",
       "prompt_number": 4,
       "text": [
        "[<matplotlib.lines.Line2D at 0x10df6f090>]"
       ]
      },
      {
       "metadata": {},
       "output_type": "display_data",
       "png": "[encoded data removed]",
       "text": [
        "<matplotlib.figure.Figure at 0x10c8d1b50>"
       ]
      }
     ],
     "prompt_number": 4
    },
    {
     "cell_type": "code",
     "collapsed": false,
     "input": [
      "opt = inverse.ProjectedGradient(maxIter=50, maxStep=0.3,debug=False, maxIterLS=20, tolCG=1e-5, maxIterCG=1000)\n",
      "opt.lower, opt.upper = -0.4, 0.9\n",
      "opt.remember('f', 'xc', ('norm_g', lambda M: np.linalg.norm(M.g)), 'phi_d', 'phi_m')\n",
      "inv = inverse.Inversion(prob,reg,opt,beta0=1e-4)\n",
      "m0 = np.zeros_like(m_true)\n",
      "mrecB = inv.run(m0)"
     ],
     "language": "python",
     "metadata": {},
     "outputs": [
      {
       "output_type": "stream",
       "stream": "stdout",
       "text": [
        "==================================== Projected Gradient ====================================\n",
        "  #     beta     phi_d     phi_m       f        |g|     LS   itType   aSet    bSet  Comment\n",
        "-------------------------------------------------------------------------------------------\n",
        "   0  1.00e-04  9.78e+02  0.00e+00  9.78e+02  7.08e+03   0     SD      0       0           \n",
        "   1  1.00e-04  9.48e+02  3.40e-02  9.48e+02  2.32e+02   8     SD      0       0           \n",
        "   2  1.00e-04  5.30e+02  1.47e+03  5.30e+02  1.73e+02   0    .CG.     0       0           "
       ]
      },
      {
       "output_type": "stream",
       "stream": "stdout",
       "text": [
        "\n",
        "   3  1.00e-04  2.32e+02  5.87e+03  2.33e+02  1.15e+02   0    .CG.     0       0           "
       ]
      },
      {
       "output_type": "stream",
       "stream": "stdout",
       "text": [
        "\n",
        "   4  1.00e-04  1.30e+02  9.16e+03  1.31e+02  1.19e+03   1    .CG.     21      21          "
       ]
      },
      {
       "output_type": "stream",
       "stream": "stdout",
       "text": [
        "\n",
        "   5  1.00e-04  1.29e+02  9.16e+03  1.30e+02  6.04e+02  10     SD      21      0           \n",
        "   6  1.00e-04  6.84e+01  1.30e+04  6.97e+01  2.64e+03   1    .CG.     59      59          "
       ]
      },
      {
       "output_type": "stream",
       "stream": "stdout",
       "text": [
        "\n",
        "   7  1.00e-04  6.47e+01  1.30e+04  6.60e+01  9.40e+02   9     SD      59      0           \n",
        "   8  1.00e-04  5.79e+01  1.39e+04  5.93e+01  1.83e+03   3    .CG.     89      85          "
       ]
      },
      {
       "output_type": "stream",
       "stream": "stdout",
       "text": [
        "\n",
        "   9  1.00e-04  5.78e+01  1.39e+04  5.92e+01  1.75e+03   9     SD      85      7           \n",
        "  10  1.00e-04  5.68e+01  1.39e+04  5.81e+01  1.17e+03  10     SD      11      8    Stop SD\n",
        "  11  1.00e-04  5.67e+01  1.39e+04  5.81e+01  1.18e+03  12    .CG.     89      86          "
       ]
      },
      {
       "output_type": "stream",
       "stream": "stdout",
       "text": [
        "\n",
        "  12  1.00e-04  5.61e+01  1.39e+04  5.75e+01  6.03e+02  10     SD      86      15   Stop SD\n",
        "  13  1.00e-04  3.93e+01  2.72e+04  4.20e+01  6.11e+03   0    .CG.    216     157          "
       ]
      },
      {
       "output_type": "stream",
       "stream": "stdout",
       "text": [
        "\n",
        "  14  1.00e-04  1.76e+01  2.72e+04  2.03e+01  9.85e+02   8     SD     157      6           \n",
        "  15  1.00e-04  1.71e+01  2.72e+04  1.99e+01  4.69e+02  11     SD      8       8           \n",
        "  16  1.00e-04  1.71e+01  2.72e+04  1.98e+01  4.28e+02  11     SD      62      22   Stop SD\n",
        "  17  1.00e-04  1.71e+01  2.71e+04  1.98e+01  4.04e+02   7    .CG.    199     165          "
       ]
      },
      {
       "output_type": "stream",
       "stream": "stdout",
       "text": [
        "\n",
        "  18  1.00e-04  1.70e+01  2.71e+04  1.97e+01  4.59e+01  12     SD     165     164          \n",
        "  19  1.00e-04  1.70e+01  2.71e+04  1.97e+01  4.57e+01  15     SD     176     176          \n",
        "  20  1.00e-04  1.70e+01  2.71e+04  1.97e+01  6.65e+01  14     SD     183     182   Stop SD\n",
        "  21  1.00e-04  1.69e+01  2.72e+04  1.97e+01  2.83e+02   8    .CG.    213      86          "
       ]
      },
      {
       "output_type": "stream",
       "stream": "stdout",
       "text": [
        "\n",
        "  22  1.00e-04  1.69e+01  2.72e+04  1.96e+01  7.42e+01  13     SD      86      73          \n",
        "  23  1.00e-04  1.69e+01  2.72e+04  1.96e+01  4.78e+01  14     SD     187     187          \n",
        "  24  1.00e-04  1.69e+01  2.72e+04  1.96e+01  4.35e+01  15     SD     210     209   Stop SD\n",
        "  25  1.00e-04  9.31e+00  3.57e+04  1.29e+01  9.48e+02   1    .CG.    235      80          "
       ]
      },
      {
       "output_type": "stream",
       "stream": "stdout",
       "text": [
        "\n",
        "  26  1.00e-04  8.92e+00  3.57e+04  1.25e+01  4.85e+02  11     SD      80      13          \n",
        "  27  1.00e-04  8.88e+00  3.57e+04  1.24e+01  4.15e+02  11     SD      48      21   Stop SD\n",
        "  28  1.00e-04  8.80e+00  3.56e+04  1.24e+01  9.73e+01   8    .CG.    209     180          "
       ]
      },
      {
       "output_type": "stream",
       "stream": "stdout",
       "text": [
        "\n",
        "  29  1.00e-04  8.80e+00  3.56e+04  1.24e+01  2.17e+01  14     SD     180     180          \n",
        "  30  1.00e-04  8.80e+00  3.56e+04  1.24e+01  2.53e+01  16     SD     202     202   Stop SD\n",
        "  31  1.00e-04  8.78e+00  3.57e+04  1.23e+01  2.11e+02   7    .CG.    235     105          "
       ]
      },
      {
       "output_type": "stream",
       "stream": "stdout",
       "text": [
        "\n",
        "  32  1.00e-04  8.76e+00  3.57e+04  1.23e+01  1.41e+02  13     SD     105      56          \n",
        "  33  1.00e-04  8.75e+00  3.57e+04  1.23e+01  8.27e+01  13     SD     183     157          \n",
        "  34  1.00e-04  8.75e+00  3.57e+04  1.23e+01  1.89e+01  15     SD     182     182          \n",
        "  35  1.00e-04  8.75e+00  3.57e+04  1.23e+01  7.51e+01  13     SD     233     208          \n",
        "  36  1.00e-04  8.75e+00  3.57e+04  1.23e+01  2.09e+01  15     SD     208     208   Stop SD\n",
        "  37  1.00e-04  8.75e+00  3.57e+04  1.23e+01  2.74e+01  13    .CG.    234     227          "
       ]
      },
      {
       "output_type": "stream",
       "stream": "stdout",
       "text": [
        "\n",
        "  38  1.00e-04  8.75e+00  3.57e+04  1.23e+01  3.25e+01  15     SD     227     227   Stop SD\n",
        "  39  1.00e-04  8.65e+00  3.60e+04  1.23e+01  3.73e+02   5    .CG.    236      91          "
       ]
      },
      {
       "output_type": "stream",
       "stream": "stdout",
       "text": [
        "\n",
        "  40  1.00e-04  8.63e+00  3.60e+04  1.22e+01  3.37e+02  12     SD      91      26          \n",
        "  41  1.00e-04  8.57e+00  3.60e+04  1.22e+01  1.14e+02  12     SD     141      78   Stop SD\n",
        "  42  1.00e-04  8.57e+00  3.60e+04  1.22e+01  1.13e+02  14    .CG.    224     132          "
       ]
      },
      {
       "output_type": "stream",
       "stream": "stdout",
       "text": [
        "\n",
        "  43  1.00e-04  8.57e+00  3.60e+04  1.22e+01  6.28e+01  14     SD     138     116   Stop SD\n",
        "  44  1.00e-04  8.57e+00  3.60e+04  1.22e+01  6.34e+01  17    .CG.    214     192          "
       ]
      },
      {
       "output_type": "stream",
       "stream": "stdout",
       "text": [
        "\n",
        "  45  1.00e-04  8.56e+00  3.60e+04  1.22e+01  4.77e+01  14     SD     208     201   Stop SD\n",
        "  46  1.00e-04  8.56e+00  3.60e+04  1.22e+01  4.84e+01  16    .CG.    230     223          "
       ]
      },
      {
       "output_type": "stream",
       "stream": "stdout",
       "text": [
        "\n",
        "  47  1.00e-04  8.56e+00  3.60e+04  1.22e+01  3.88e+01  15     SD     225     211   Stop SD\n",
        "  48  1.00e-04  6.48e+00  4.91e+04  1.14e+01  1.51e+03   0    .CG.    264     170          "
       ]
      },
      {
       "output_type": "stream",
       "stream": "stdout",
       "text": [
        "\n",
        "  49  1.00e-04  5.17e+00  4.91e+04  1.01e+01  2.64e+02  10     SD     170      14          \n",
        "  50  1.00e-04  5.14e+00  4.91e+04  1.00e+01  1.04e+02  13     SD      16      16          \n",
        "------------------------- STOP! -------------------------\n",
        "1 : |fc-fOld| = 3.5178e-02 <= tolF*(1+|f0|) = 9.7931e+01\n",
        "1 : |xc-x_last| = 4.3861e-04 <= tolX*(1+|x0|) = 1.0000e-01\n",
        "0 : |g|       = 1.7094e+01 <= tolG          = 1.0000e-01\n",
        "0 : |g|       = 1.0410e+02 <= 1e3*eps       = 1.0000e-02\n",
        "1 : maxIter   =      50    <= iter          =     50\n",
        "0 : probSize  =    1000   <= bindingSet      =     16\n",
        "------------------------- DONE! -------------------------\n"
       ]
      }
     ],
     "prompt_number": 7
    },
    {
     "cell_type": "code",
     "collapsed": false,
     "input": [
      "# First set up the figure, the axis, and the plot element we want to animate\n",
      "fig = plt.figure()\n",
      "ax = plt.axes()\n",
      "ax.plot(M.vectorCCx, m_true, 'b-')\n",
      "txt = plt.text(0.8,0.9,'')\n",
      "line, = ax.plot([], [], 'r-', lw=1)\n",
      "\n",
      "def animate(i):\n",
      "    txt.set_text('iteration %d'%i)\n",
      "    line.set_data(M.vectorCCx, np.array(opt.recall('xc')[i]))\n",
      "\n",
      "SimPEG.utils.animate(fig, animate, frames=len(opt.recall('xc')))"
     ],
     "language": "python",
     "metadata": {},
     "outputs": [
      {
       "html": [
        "<video controls loop>\n",
        " <source src=\"data:video/x-m4v;base64,AAAAIGZ0eXBpc29tAAACAGlzb21pc28yYXZjMW1wNDEAAAAIZnJlZQAAUfptZGF0AAACoQYF//+d\n",
        "3EXpvebZSLeWLNgg2SPu73gyNjQgLSBjb3JlIDEyNSAtIEguMjY0L01QRUctNCBBVkMgY29kZWMg\n",
        "LSBDb3B5bGVmdCAyMDAzLTIwMTIgLSBodHRwOi8vd3d3LnZpZGVvbGFuLm9yZy94MjY0Lmh0bWwg\n",
        "LSBvcHRpb25zOiBjYWJhYz0xIHJlZj0zIGRlYmxvY2s9MTowOjAgYW5hbHlzZT0weDM6MHgxMTMg\n",
        "bWU9aGV4IHN1Ym1lPTcgcHN5PTEgcHN5X3JkPTEuMDA6MC4wMCBtaXhlZF9yZWY9MSBtZV9yYW5n\n",
        "ZT0xNiBjaHJvbWFfbWU9MSB0cmVsbGlzPTEgOHg4ZGN0PTEgY3FtPTAgZGVhZHpvbmU9MjEsMTEg\n",
        "ZmFzdF9wc2tpcD0xIGNocm9tYV9xcF9vZmZzZXQ9LTIgdGhyZWFkcz0xMiBsb29rYWhlYWRfdGhy\n",
        "ZWFkcz0yIHNsaWNlZF90aHJlYWRzPTAgbnI9MCBkZWNpbWF0ZT0xIGludGVybGFjZWQ9MCBibHVy\n",
        "YXlfY29tcGF0PTAgY29uc3RyYWluZWRfaW50cmE9MCBiZnJhbWVzPTMgYl9weXJhbWlkPTIgYl9h\n",
        "ZGFwdD0xIGJfYmlhcz0wIGRpcmVjdD0xIHdlaWdodGI9MSBvcGVuX2dvcD0wIHdlaWdodHA9MiBr\n",
        "ZXlpbnQ9MjUwIGtleWludF9taW49MjAgc2NlbmVjdXQ9NDAgaW50cmFfcmVmcmVzaD0wIHJjX2xv\n",
        "b2thaGVhZD00MCByYz1jcmYgbWJ0cmVlPTEgY3JmPTIzLjAgcWNvbXA9MC42MCBxcG1pbj0wIHFw\n",
        "bWF4PTY5IHFwc3RlcD00IGlwX3JhdGlvPTEuNDAgYXE9MToxLjAwAIAAAAnJZYiEAFf9EwAD0rwK\n",
        "a/s12U1hg0FMgMmMOVNcwAAAAwANFchWCs4P94dWPA/aNtRNl/Gbw6dWqx21nVnrlTnan0c/vT3U\n",
        "yPzgZDMliLh7iISN1NO7SeX6uhVgISTd3xFcYXLQsJUHZKyQfsRS07N3Sm4UU2Xy/p4gDyUKed16\n",
        "NZyKz9WUxOP4Wc2plr+Il1m1krlTaoWTCscMVPNnxHqZUk0t9l1hC6qM06AG5hUWlT4pP4oxDQls\n",
        "grKNnQf+/NR+jrVfFnogv5Ad9wGFTTPll8fXr61ygUlQ0AM5y11iTmTfToV6KAnkB/NT1SFlwReg\n",
        "aWVnOtoBuBhu//4xABI1LIqAokhld/C/z5rANbg2GTr2CRywhFtpUSBrITTnOXwhqvfU+Dkf5fQA\n",
        "vwfCAGNICTWwQT3S9UXzEH6aYQFXoZzou7Q5MLbEJ0Ncw02TzxjDhsw23WofFUzlTac1fK3yrY//\n",
        "wjZLayNTnG3sme3O5FXhcMaSfHIiS7D/rDTWdBcPV6798//VMhEua3tsSPr4VBO9ImnTOVmHd4av\n",
        "Yv2I34a87aqavz0Sc44dyZCJP2kdI/lIp8fzBxE4d0vr/3eU6pP7tZygApyf/1DN3rDABwEangnl\n",
        "XM0ydufjxrPP8sjxHl8VnoL0uc7cBofnSQmAXu/HTfg2ry0Z+bc4bXZfejJMTjqSlLUhMWdXbhvj\n",
        "k3WtwrFKk9t57Otcg9pbbrUiDfNeAcztiT7hxZQEkwKRlAcJqBix/zyp5PM5gslZkizHTquXWP3L\n",
        "pK9YGBQSugmW396Gw2x0UOar34Hl8UtDXlqdSZmWLau5ZdzWJ6ZSO5Hctg/SaAWjVHwpwxqyOk4l\n",
        "YiCol74Bj7oyEZzfNjfqPF675UjJL62INQUMFtz/QABmMvL7v3GXQjyD1tgwCvNMwjRMa5lFar+R\n",
        "LHRXr9i2IvJ4foa9lubHHnsiv1H63OFJOC6t7474ls9WpcKwzz6jCcSa6AW8TmsUtthp1tc6q2qE\n",
        "8PWu+UMIG/Z+mM+BIut+sRPLXloQHfRCqEWblXDYQP7mYtyIzcoNSJ8FA3CrqllgWVkKmDRBoYbR\n",
        "wNE7Xi14uz59GE6q+rRvrFXcWci+tcjGZwVCysVj2ptfPLf4Tfbf1pxBTXlILEs9ltvLQqX+NRLT\n",
        "23bq2aSAIesrM58L6bfs1G1BrxiqAbBs7D1EFgAWR+BGTS3wsF3b4Y0ZxDlBfwfZgbJmK3j0jixU\n",
        "kcVj4th5VlD838KiUaHDCc+XaL1YlRatbUUtULT2ZYbm4MbDsmR5ol6dblyEKBKxy7GTNqd57sKS\n",
        "aRnHfsRxOwKAEHvTqPiUCNgZW5g21DsH4dE4kVy03FMpVpLxdCl/izZvh9ohUd4T5mG7LziPjo+C\n",
        "8Dz2ftwkmYS7UkdXiDTAA938P5QpfXGJwJ1M5lgleskoMaHV0DZrSED8jHLlKFd6Pvqd1fH1mBUS\n",
        "n4sr+8mypfoGophsc+JKeEp5cggak9rTZhcQZeMEQr2ywQcsl90mOCJRus/AwfiIKg23KtTqUj2o\n",
        "arv+dzq0ODf4sMMuaR6i/TbVdugIvWWUCR1nvlR8OIe9ZX79AG2zP2ubMI0UEYV6QY2WbcoaOnO4\n",
        "yWylX6CLvZUIi2m2icY9q9X5vPKQD//u+Mpjg5zw1ghofdkKWPuYflZCDeIFCcIXJ4jb5aGd6tMk\n",
        "GFEhplwowKzCrNFIWWlCJZQ9uqmI2JGYSm6MNgSzqW+Q52MD7a8LHUwldu/8GMcakzmJR+zgQw//\n",
        "+RO21ZQvWjnt5/W7Snp5+AeU1XO7kAJ3QURNyXHc9n9wFV+M8PJX8OKyYWvheoxEwxWaSfwT0mF4\n",
        "8xwoyPt/5/679QGYyH3x0ThrLmMtgf9+AQAQD9T+0CQXR8JItFL3nEnxudfGZo9AGHsskWjqb+bM\n",
        "qWcdmgVNghsJ9U2uX5JGjaOt+5FVeoiETf+AgzdQ+WxGBlRJNvBeAB+rv2N1RCCXt7arC6dP194S\n",
        "G8z18U6F96VSSY1SepWsMAAN64U72TDLqVbSxP8xhB588tVA3gCX250p98eZScAa96gGObCC3eq0\n",
        "w+FsAZdabz85GjMTUZIOs760Lo3kWz+2iF11mDE2cfk5CgSTygwE/FIIs1aCMI1SRKXCN0TaFIkj\n",
        "xC/J6fG2kI4sbxMTy4G8NvKtNXQZvT7HFSuDunr5rNlgsh4vspJmMOSbStZJ65NhKP/jOX7RCxlA\n",
        "sNlg2B6fhQwicvD6OeUqP/yChgwcCiPIzjOY3w4xJXzDmNJ3+d33rjxmhsaL8D49aB85eyehqUQY\n",
        "VMfaKew8Wq2pl6l8PdTmOj4YfECdILtASos4s+myGQXFeTAf/DTwOE+LKKBa4q0rCHBly8+qt9vU\n",
        "gwRyZben1G9emcqspSVuGfOrvueUmciPYM2h9DqCLt7c3bkyeKpnsGY5PTMHn88AUfs6d/HiNL7e\n",
        "zUnJuizZ/UFRCcylPLQBZnXF5UzdEKccjj3PyKmg5eKTRSo57si9kwa/Z6LuVvxLv11sF7rAtiPW\n",
        "QW5ZPNIhWf356/mlNL1Hed6GPF6kR0hxC4iEntAS+dvOpQ5oyjaX//L////qf+F//8nyyMKpAf47\n",
        "jF0qkd6xUpe8LyrfJdVOM7UdaOUYiakP1HOAtQgY7gW1oCFHZRrKeM2rlyWx/TryaNZbbCFgNiml\n",
        "XbUhvRSevmnU8e8Dorsvrl2AQZSnWYCUZ69hw7NCvuYrmPwb67DNvsH8WxKt7rruk/dm2IGs+p5P\n",
        "0F1lhjrLUBmEOOoR4NPVeVRc5VGm5V0cIVOq7gzddwdo77m4IwucvA6gIC0Xx57dLnVdUt9QFDP1\n",
        "KW+1JsmD4ZIyeYo0/gNpr4S7dxGZkbdxM9YuEVx24mn55zcT7O55XpGocAyi+PIlQs0dXg6j0Hmr\n",
        "8Vvd4+4luiWN9xMWnp2Vm1vHkCI5HqoU/L2TImNkBcmYUjiH8ja15HQsDRLezkLopURrEXG1Bcsf\n",
        "NDRhi2OaaCFyUSGKvGAyjBoK0BbvB8IIrq+n8P7b2O0+i2xSac6NTdXjuwujQ/S7og9fN3b426U8\n",
        "ccTmrqBv3oZ6684DfPJjxCYUdV6p2DS5HaSh4CRioOG/PymeJ2I+eqDLqd3BzYYGTghdR1yH7Hwh\n",
        "LzwToixh/S5SQwMXZOG8yqbdcT4+IwANpLcEc3T1Lvy6RNSgVdJ0tWesUq9FbNBVnI2zvzxaKogS\n",
        "RUBEf1WWfkT9MUGvpbT28OR4yb5er6xp8yV9ZRB2hr9F/SzV9RKi+hKWUwgws8VoMOesVA8w9S6D\n",
        "UrvDf/z7v51ZE0l+zizPRUzSMSBVXvV40JKPOR8JiLXHcz4y8AAAAwHVAAACUUGaIWxFfwA95MSI\n",
        "8dDU9Zgw+KiNFFmLa+1+T46D7ktb+OInUL/xDdLS/plMCeMILN605XmO7QyfCxnRhSC1M0az+krX\n",
        "Rt2SRDjrdYx4mRFQFjJErvPlaQ8O4T+u1R6mVxqG9G1I8klSyhwqoMaa3ElyUCFbYaDyrAYMW37c\n",
        "OeNrjdLovy+vCAA0qmNqeHtKYPnNqi3RqJD2n/clwcpz8Sl900TOK084+TEdRyZJ+GpsU2BHapjo\n",
        "HrABzDa8pfVff+QhPX1LpwGmKT1eIhl7QuPtlVSFjMllT18Je1sAcfpcenakeJlb70aHoV59cVNI\n",
        "azLOcOGmRgOT26baD0XoOAJfgm4CNiuq0OZZn8ZGHP5TK3liBIH9R9fq9OrKkidCgKffo1fyjLFw\n",
        "buvRazUqi8rl9v/L1VygTXUTSxsd2n7nMrRaYrDHTiZ8xHOFh4D9Po6ihFCBEgKCtfj4WduGGwFF\n",
        "YcYtx9pAt++bhKeKm84CFXV5AZsnBtwQWlLjlCEzcCW8SvN6JO8uly5TDDWSn006bJKaLu93Or7k\n",
        "HZY3EwYz+h0BBoqg+Pn28m2j99v5ow+FX5prRft1pw1WSwqLMPKd7xwkXPVq2BW6bDy8xgRxLecW\n",
        "ql62hhKioN5Smpyisn/a1+clGmqHwOpnEFrEQgavYxzhYW40AgW8t9lyqpMWjYDcbbP+CfpRDZGN\n",
        "41uExc61sY2k0G3dW8QE5ZP2fgp2EgK+rxSQca4XSHKrIoNyLry0zqTOdSbwxMo+EBigSBiaaPy4\n",
        "+y1laloszCETXAs4AAAIZUGaRTwhkymEVwA94ce7e+aGZgqB+aGbz5mAh8+5TVK3dgcDL19TH3YZ\n",
        "kq3/7fST0lllz3zFMpXtcdP80Wrsnk3JsPrRwpoJBaz2f1afMJAPpY69wUKz4Ba4YMxoWZDDA8op\n",
        "GaBcBbfbBmrSCHI10VkI6vy+ZtOi7vc0nYv/z2TsA64EP6anpm/OX9H23uvQfKnntGNOs6TlIOOO\n",
        "et+GBr6q9xkO5hjqKksE+xyg1EShMU9QYnLmbya0UxYRcTZPJ2LEHOVyxYbJIjNAQa9GrkEZr5oR\n",
        "nTPbAPFuHBeAgCc2F/vvmeGEMJypbRuS8ZP57I68FC0VkPqyou/xe3MMpTQhLhXcPkLsAmyPeuev\n",
        "bjIPkA1tBJ9WHgOGlK1IupekG2Dx0ndW4BLAYvZGTTzuNI/QAWQ7yB3jWVyIB6EMAuJF1lOR0W7J\n",
        "GahBsTG8X9WS5PV4SM0m66OZ9D6JJax6azAZvcRlx/+xDJgG8gaeexDS0BefXQed+oacdYuN7zMV\n",
        "CJcPJZDT31Gt7ooPilTClq3V57LyFqlcxJasKbXCwV5U+1ftqKBiVDrKGEZlyZck2zuAWMUMXdiX\n",
        "p4Jw+Z8d2EzznunD01UvGFkHmRcgbFBgZge7HVvAXnwW5r/v6DlOzkD+rAMBfu7nWayobbyUz6CZ\n",
        "6DRamxLwSCOvtNWZ5AYlWDgUpeAkvKIyhUFTtH6/AaNjCcUqYxQr91J7ScoyKspcE2pU18L+qGi4\n",
        "q4ZvnWvK8G5hX4HKwvuUVzv5UeYTH9efYxSZdCTdpOBqPLK2mWzbBE235NqMDDACxYf2fAgK6+0S\n",
        "8sGpEo2HSCXsBkLKWMWZyEVXMWeQeofbPplqGxbx0VvGV8ohNTXxLRx/LnEfySK/BfGQVGu0LB5P\n",
        "cVCwQP52lYlZKhifSeO2QLUfygjSHYriUX85+sOXPJVY9Rf1QJaLA+tFC4STOixmL7vOVQL2qvHf\n",
        "V3NZaRbtqeso+in9PvHlSmLnPAmn1Wg6+AL/o/PcFjY9OGz5aZ+4qFFBNBWWlftede9j9SfI+04T\n",
        "nU1W0vwu5ERa+IHAxJZ75dgHDI9MGp9R7hJQbFTnVoIWRa2RZf5V8PtJJ228c+hLKI/106ARd2yB\n",
        "xtpn8nU/Z4fbD/E22514P2itHCMuPweIOEGaMbvuTs1M6DkVip6LHjn6OeXA9Gqh+AXARQCivqqt\n",
        "+uNGFfatOyKhTEbMBD44hIRmgNcEtFXRogCKP0uIv+8stQXoUsJVweUFPcgbIBh4Q1WbCWxR2DaO\n",
        "1EcdZYrrcQJ2jGECAc8V8eq2/iKaTn5mqdun1MdpApLbOdAcrvcWFlBSa0fnUoG0lNMIY8u/FK5f\n",
        "L+saPfGphXdNAuTbDEBXPHe/R43cvcTDwcESHCMYGww1ehQSHVIQB1H7vbJbqr9kVTedGHf3yfgu\n",
        "9ZR0eMg+h3iwDTY1oEYywkptMCKBbCL/PNG94tRN2Tbkb2E/gfEhz44dkZ9tT8X9tSJb3XtdYAC9\n",
        "EqJn5O101j5LsiY8UShrin+ks4/e2YuPCBjdFaAT5vaf0OYYGNYcdyymZUb955QOkw3qF1zh5DzJ\n",
        "SsgO+V7jPb/PEciB28ASn24YkGjberbzhlq+TO3eLIzIf6XdJi1LxxxEMZuEOkrckjVc+Mk464Q1\n",
        "xRMBE5J6DO86kY38NjmMr1kNv6b/lgD4gfBuqoTrHi2Kj3ypZvDAOjjek7lAzRCDK0kY/QO1pfOg\n",
        "UEYcSYAk4zoypJ2FMgxo/7vVpoiZmB+f////dhAnEKLniNd0bqKOMknFO7Ak+nCi8XSbAItuSouG\n",
        "iPkkJ1ljksskZvdgYTFe8fAcl0d0KXqzXV0XhuKSvhAiRZxolK63OpuWN0YmSnsmEYHdaygwl5sW\n",
        "TFfNwxZEULlwUV2Ztshr3LH/U6CFCF87RAL3FGo/sptD2fB8HYK4EYIyc8bg+QwzkqZd4U3oMtPy\n",
        "6Tf/hYcokIp0lRcv1nAVE6IoODRYQ4NdtDCqWH4VWYMbjzcUdBzFTytVrXo6AzhuluQJ7HI+/ghj\n",
        "G6kmaGok2SPdyrY3W1SnpjiU36SHdJhLE8RN5KvAU9pcrhLcR7en99EnVvd3ESbBnWA/Sh0s8mHo\n",
        "nOdGbZlv2wAEhhGiux30aSq1T1tKFCbyL2N72HSJQx9nXtXfp5pkoo2NVkHRzT729mQm9xPf1EoE\n",
        "3xnpjd6dFKK+y+fqChH18eo3JFjNxtU8oXzHE3wjo+LfsL445t6+nwoSFYeFcUjonLPevKIvaLX8\n",
        "jqa+GcIHdYZ98u+2MvUkcFsieBgWQd/pC4lknNjhIcOgXzzU4GXprCCDQuolFe3BfFOXQ7Bh2Z2S\n",
        "uv87a3QJHjzPQTJZsU8Bs/Y5ORKelecYeN8mIyemd2mXq5Ay9LzRfxP9dQT4ZD/Em65gude8cnyJ\n",
        "qIlCoLA/vaqJBrv4kyyJNuxFgQCOhbP0TAlcygrKydyXq1DdyEBa7gvSjyeYt5bNaw1Z3MraXuUr\n",
        "V5ZM8RQXv2p3E1GsBD0Tk1eXfqN6zIk45iN09524JVAwc27iCDnDy7QX4QEZhlL1H+owfBJi2od9\n",
        "Gubxc4yQM8rH99soAvov9VHXjcyMmwVR55JLh4jKrMKb9wNGCZdGs5QjYwIrg66GbRr//Xg3nS+3\n",
        "6MsNKmajEm1V834Nj/3544r/UamRQ4lz7AdHszGo5ljy7bMA++XNAI9+SfRgHKC3WPnDgo0TnJzP\n",
        "qcP7HLnMJChPKy1ddzAPDEl+MrId4sv1R2/a/JNO1rfaF2V3MkpxQvfQ9IZsAlwvEZsUWw0gMiao\n",
        "OuDMGYfRlFU4eAXlO0nH+1COZyhNIW+4hu6eUk3jB8K/4+5dOgkXJWjvtFS42X+52qYYnamANmEA\n",
        "AAJqQZ5jalPFfxEeV/tX2RGBvm2HIJVcGXFuUFjUvFUV2vg3mGghi33F1afDPWxb/EVO0NUpbB0Z\n",
        "OV6STzhUAvbHzEPB4PmQHjcC9YeoF9NuzAFlOaDmwiUWet+boiFDXaBS1Rpefk4gIVvjFDgMB2Y0\n",
        "uFt8vQTUg8AwhOjw2KGVDafdpGiaIYqGbE5y2Mb4DelqT2cU7kJpyfBNRTqO1yP7o819MJLRuNFE\n",
        "Yyh2JqcLAR3/s6Uv6+aDcNzombGo6pFNGssvLV6nWM6DO03p1zPwNUyjAvue8cdbA0Nbv0qRvzjQ\n",
        "FFmvEtKFjgGIilgRyylaHA4kzAXE+P1f/K818qiQQZC+fo1biOjdXzsH1L0tGjuFZoLYuHWPawbW\n",
        "jJCnTiMrd5ccj8wyXenxfeUxBOoaxvXmdOCSx+5k+0tzYe16+zEgEjlHv15NsGARS8RZTbTcklky\n",
        "G8DEZCnndI/DTbT9DPmhiKwXT5Fsp/ZxLH16SXCSXR4c+uaMU4K+poTESL7GtgrCM/ybn2LJRx9R\n",
        "UMLDH65QcUFcWdOjwUGDcY8Ea+88HIRiYk1pFSaW+a1WANfbjM+AJbTlNzTpOYqnTxg408q0tiF3\n",
        "V+3wLy/WU0mjBW5AJ64As8DO+P9dCphRupQ9kE7kDbnSH6Yc10H3ePfDGE4HDCj43YZfOuzKbAsp\n",
        "kh3TdtJh1Bb252BLcEe2LQzc9SMT0I1sIbcw0iMuDhHUgkfeTE60jvh0cRa5tsSQT5nKjl5WzXJ5\n",
        "uRiPqNf+L58Dy3RT2Qi3VyWnNEpNDW8dO1jnSneqeHq+0OTHlqa7X/FG0waZrumMYNaAAAADSQGe\n",
        "gnRFfxF80+dtCc6R9pcm/TPY2f4sNp9UMJY0MFRnYPwK+UAqRNl79IQt88TK9a3tmuEVTv6Aa3Yz\n",
        "h1fdXnDyRDy5SOka1HHSuJao0zpP1SDuCLmK2w3y48MIwr3iiwL+nO1j5puZPf5QT8x1x0saiG9z\n",
        "2xx3vy91iuuxNtd63zWsoL5V3ZZMuiPqmY9+8tATa4QDju8mJBadeOb1bivBxtf/+hBAAbPID+Rc\n",
        "lCQtqsWi312Md4uJvXIlrua6PUm0I+hxb1TkbA3jYbTlyO9LDwpHzWVHI8TaeUnezI9g9ndH5vUs\n",
        "vdc2KdvzH/HSwDNtF0HAdhm23lPhSEVmy9/5VuVUY5YHeQgHOMR2dgyKSbP+AYeRcQD4UEihbyir\n",
        "X5PBljVtzzEDsDQO3sABfxYZYFxR6rj/1omdAWBZzqg2l7AyCpYR4BVoTHgXzSc+5jmymDYvqW4d\n",
        "fggFXDCqq289j3c6iOOPxaNiOt6e2CpUV7G9yCoSjBxxC7s2iJT//N3b7ppi0zj3rqDA8eytj/tL\n",
        "UNCjfc+ll4GbMJZW1d2xq1mShLCrESWcVeFOAXjyYNgdrJTIAbVG5+l5OhKurSo0yC55qjnetT4D\n",
        "C7ztWvbLB0k4Nln11h8YF48yCDPTQT5ERHWu0D7b2Cp+wHVkuJ2dY+1ZEBwzTc8m9KqBOg57ItH5\n",
        "zOjmYIro95eZA87eWAAxGKtiCEOFCOXJvgOb8ntFvRvbPWoNa/CB+6+42zerj7ONe8lEPgBT1w5b\n",
        "7gBpC1yiAkIewuIbeU/yGtSBN6ZoUddm6Pgb6+CrlS5Ys4n+fQW99MBV8e7KY5ytO66IbrVQjLCp\n",
        "MIX1yAUHl4KfpF4J8HpojbADhxDwx5ug+M+/XmRCscEgy389wA36jaed4E1WE3fCgqI9O0qQ6XLk\n",
        "XdaK2H4Nf6ZY/6oiiVLN0hpSLliNOsdCFC95XdLKIw144JD28CAPijJNZztHU0/8mSbMSoSP7sbf\n",
        "cAP9Hdw+62T9GNEpC3WBTi6z0DFLsRf7hEn0fx2Meismmu5qdL5iTKwO/pLHAoy2EloZ1M6aIoPg\n",
        "gW/kuwm8NyMR9RcMU3hurXgiA1wXuOXuygAAn+jzTuXlrc4j3paAUEEAAACFAZ6EakV/EVlbm1+Q\n",
        "MY8d2hWJtK/CXw1png5uBFy2B98FqwNXzkTo0PBExnBuPBJeG/wh5cTPRhjRRvblg+iCtqepMBmV\n",
        "ZjyqWbKC0zuf+Q2N9ox+411Uw7yO8zaMCd4bkYj6j7x/AHUlVVQyM/NgnF7A3b2JiBYxGybIBM0O\n",
        "vwpxqqoDwwAABbZBmoZJqEFomUwIrwA+Gczr6c5wfhn/ajqswGjOc597bqKFQ/n7S0a1tETGtxyo\n",
        "FzNAI8rnadU8ojN5OfpbbxgMUifVHrCR6gQiCU935s97PEMzmnfM5WVZXLw9cKuVKs+Eq9eHqcdD\n",
        "psQLsbrWCnZ8cKH6s9g6hO2uabRjTXc8k3ptAgAcAAbaHwjGxZssrSC0IY9Hu4LpJoOMw/kymBeN\n",
        "/o0d5c47Z3fKc4aKrVAmQN4TKZpXd71x1Jqdt91MzZvXB10X4JUrhH16J4OpynAfSLKOIw2SdQPE\n",
        "kPTBeRUSJSnJ4c2MKDKrB4fEb+6jLFkZUP6iA2b5WkTFzRHJh1thbxdBfnKmltfp0ghlVKvsSntb\n",
        "nDB2jQfrAxiajmPgoSVCk5iFxdsgr9fpclHKuSdF8UOMiCcA2BDWBNt6V5rW6Q/PIsWKgftNcyfe\n",
        "iKLU7MOc9oUcUFgOIyOZZ7Lb+yEZOlnG8KdAtno29HQxACj7zjqgc5N2+fIBuDbr7k/u8Ih4p5GN\n",
        "lJIzVIZntsXkv5tPKYs7+i80khjL5tU4Cd3aJuLhgaEwe5KRHEGjIMPASFGRnArDMMR7IRhNh9hM\n",
        "1XdC7Q6FhQdWmYHOxhO3Z1tYcGw6Nmwp2kyz2FsKVnbw0oRwSS7oPI1EZS35jl+7mwb+CEOJFcWM\n",
        "Bme0X5lq9VaBcZ59gDJ5H9Bk0T6fFLBzJ42ng/3ejw7pacMNVDc07g+EsiZH7eLs3UogF41d/4Si\n",
        "JnCLMXYGDLS0Buto1736hOkZvKZ8mmxwx68vHDIvlHUikX71RivEFGa3sJG+XGJ6fSfx0P0Nb3Gq\n",
        "LQMKrmbr4hdEpMwKBWUk52lrKa+ebTj3PjPGrBuGfCGw8Lv/2+4FIC7trQcksi+t3f0rZQiE4fgX\n",
        "Q1BMUqB5BliFGYEZg3N8tmqvYf29ZS4/JyBOmxBPSWJ0X9WDi2yzBQ7ImkBz+xAzDBdBpAKwP9RE\n",
        "kXodIHjb7bPu9kN/AJ8ND6/YED+5r1xWD9hqHNx+M30t1CuynGR7i2PNL+L9pG3unMa/HAkQpFaY\n",
        "E/6Kua/R6Zdf9Bh5j+G8fSVuFJG410GNluVVR37ziHEBKy/DEjeKNwXrjhfz3jh7oEHLAVmicS8C\n",
        "235E/7Z2vnEfdgYHSy2TGtiYFM2WK3WMLCtcdkxNkrHoOvGYzk5CKDhlRQJZ9MJTaB6ygugnRfAo\n",
        "RLOuAU0BTJIgiHb4mDinzyaMytW975nev2RaLgk9PULR+E8JIjBYAQIXJ780W7/pVKPUfD/Esqmr\n",
        "MpGdSN6J+dX5Elk1DOeFV8/9M76pey8f+9nUsguFtQhXrkmMmLhRmAMqxE0yrWDMIHLCHcHSLX+/\n",
        "Zn7TbrV2RhbwdiEZ5OdQFrkztEgRhou7ZSqLOKRbHhELaLBY7dA4x+/wVU8T80uZ1ULBxk/v++ZP\n",
        "5TjSEII7TAgkEpv63vxfSsRbJHa2SwoqUU9qclnSHCb+7dVyuHcG2yKJCye2jo3vBMMeN4OxIlVi\n",
        "XvL7iJIrOVpC+nheJFzEt0TF7AxBmSc3vCj8JBrm8MWZT7Bc7NqqIofrTq4t7rEvWuglHTNYvDij\n",
        "zAu3fJdUiItn2fIouZ/SLuEJHp1oF3BWYUGlB4d/h3KAmMbLFcQG/2/7JrsVisTc5NnojQYvXwxY\n",
        "TzsgKd3gdDDFxfW/Pikm0Y2EVTzfNxbCA2rks1zNuarpR0cMZo9a3o7EsZle9ZmgmYIKRryT7yh0\n",
        "W2QfsyHJx2j+Rc6QdQDHGj8PG5kCXboLTeVobZwsq0jioi/JPZE8MyEX1yfgIpyAS4wtNpumsnjp\n",
        "MkVcYSQOami3P0bDDZxrw+XBex4gVU/1RENIpvlfjx2cqwAPQ79WrQGGE7S3GCKUtsK2C26+TMYZ\n",
        "2DAy4No32IPZHm2nIl4PpSszEGIjQKQzKGceFnyTnOWacakc23IY3CftozI49uWVAAAC/EGaqknh\n",
        "ClJlMCK/AD7kd8O3jIqCxZRI9kv/lEPfjsHCd3FdbhQYJAZt9MvyHOpAG9s6GT2h/3vApDwBVAzO\n",
        "M79blYM9O+jFd8yQ03FPLfYv4MY/mUWkYDO142F6wDHRG4j2AuuQWgc7o/uZvck0HG/X8WKzwlbX\n",
        "c6vXBHNC0TygLsgM9HtNlfmmsw/g2OEyxCOSG8UX5baP7a3IeLw7Q7cKLeCoVWR9nHdSUzR2PMbI\n",
        "08nPOzRkVB49+zPdK6xmQgAmK8yRbM1vBL8dFZsFLTQByVnza7I7EM1Hr0WVdXIUe1fZCioaGYM6\n",
        "mAa+godoollfYvphu/ZLStUseTXiq2r8egCCxCJdoQUwqyLMxlxkBVEnpXBYqJ42XAy1KzZsOc8K\n",
        "oNjxsaHAbtyYsH1FakJhK2cj3jnp43j8GSWbfk54Jun6TqDrzZqpF4PEqWYDTK/7T9xm1wJthnB1\n",
        "nbiMxTOVEnZdOZQrHnzXf0PBFgcZxMCxven+Et52K+FeT/YFn+uEPK1kLmlhSx3eRcRR+ic/uOBW\n",
        "9pMv0QYvOgKT7CdMffElmDgvPtsRXQBPrgp9VOdy/F2ZtMDzQBYpA+9qCdeF+rmyf0TZjnJet/1h\n",
        "gFy38XHtA0QpowiSjs/lcyWftEvwE6FybvGExvGCgLmaP2PjXqQsHQmPVsDYde67uiyr1239Sq4Z\n",
        "tZ4jaG22IY5UUthh6yoc+V6U394S1Dcmg4NR0+JuMoIHRN/hMXHohGyV/hvoTNyhma9MZCdnDjRN\n",
        "aBaBajwgLSMIwPv3wQeO6VcIcm7zvWGRKcOgvJWyLSK47DRW7Jdwwy9uIoQ5R1vhZ5M+sI5oNKJ8\n",
        "F+nGie+YZ/rqN/Mh8lD8HtQPimN/alO7RaOEn4AbsjVsAb+vBHhiHOVY4mVEhCan/XUzNHgmrG99\n",
        "JiFSty4GZg3YTizPJtVaiyDT5NXODtWgOeW+imhZeNfRgvksDUq8rWo5y3doWcNFcSkyzBe5PA4N\n",
        "rNX2AWQO5Conz4sc/RkQBaOJAAAAgUGeyEU0TFcRVypTNjJkbxk+joxsRKYrKDUTMQH+5hiEeeE9\n",
        "bv8UA/Sn+jkzOm8nV22R3idtBzmDLbOpNQnMv7ri0pai6p02Yi97hKz2GgpiKP3tBmCA1GVJ5uRi\n",
        "PqLhinbeC7waKYZKPW4nFxmG7exN8votwRD5Rh96H+cHm6MFzAAAAI0Bnud0RX8RVGiZesbwJH4q\n",
        "rsXVQH4nOK/Z+b4E8d3IaavzPFrEeF9stfVAvTytl7Ftor+fxgjoZhouMNlFGD4dFqgD+dirlYFR\n",
        "zZd+8jNLqlNoQv2Wz5P9dcL4D+eWdZvcJmND7r1M+SJVdZLOXJ5uRiPqPvH8AdONHqFrRhW9Xp+H\n",
        "Bayj01mr3qSA8YAAAABlAZ7pakV/EREZsHsWF+sfeSFQYfrc92eQ3zGD2zheYzOjXgb6ukrGEv5F\n",
        "RwgVJfk4jiBYcBzvplXp4rtyoaD+JEVEAFeIxJ3huRiPqPvH8AdFUyoZKP6dU0/K0ktoljS8Dsuk\n",
        "kIEAAApvQZruSahBaJlMCK8AF8SJ85sVHtQTJt7o73Uflxecdou/Ytq5qioawRixuOcLWQyRkcE/\n",
        "ims9QT7JqAooATiQok7vdGexwW6oYPSbfT9XX8sgOws/vnqyEsFec/YF6VOfz7yn/tLysbu/v4B9\n",
        "vZV/VU5KNX1/8sWvm5prIWn7S+SIQgFALFVIFSKjXaPlORF7PtF/VucnVzVOuw8a6UaJHVtku2cs\n",
        "77r8FHaF5Tb7vKZTPud3Pcm2XxYZ4aQfafmRR+WLai1+uSxwrcvRdcl/DTplkQlp885ru4h4dZun\n",
        "IZxcLaedPnJq/uoXupXkvFYud+SLErMEqU1OA3dbrvsoMKcrBxAol9gnjBSsdPKEfnSHelpqQNN7\n",
        "KeniOfMH5L/AeA7vmHV83yVntz0HREEWpfoQJE54ICmk2Aui//NQrWoOYdDUdGGb7c2dStDM1dlm\n",
        "zb+MNYsHVvccFZQ3byvjEu1SvwpDIDIBWI2aHZl3J/OBejL6bGi1m3Qfa/slk8zs4pz77sKueqUJ\n",
        "e9Z9SG7YaSjPKpxTD6UkDNbIwaxelGRaazC+FjOtxl+mzth5+gG5FqElAlNUwvf+vi6s6KbUrXbh\n",
        "yB8Is+ntS9oD029oKjbDNySmat56IYSJiJgk8MTXLnaA9SVONYRRkm9G6L6H+nbjDxtBPtv2Twp6\n",
        "JkpBgBzTM16uhePPgP33cfaf3+LRyjBeHziMGiQeXcKsrdxcL0TNWwZ5LkLHGnaLq9PoN/4nUSiZ\n",
        "U4BKsUC7ulYn7mYDJx6nRXULrkbdPLibf4K6CPGz2sMgIXiXn5hplKBqvx5cVyAfJwN6r5Ddkq1r\n",
        "Jky6R5tqQQ4QXFaOUjMeyEdqSFUH3FlRRve/Eb0p+WtJi5BehjVdumFawBG6NorhNUu1qic2+D6s\n",
        "sT+pny4kWgrK4d8Mx4QvLuX6nvmKSk4yCKaoMIlMO6091IOBLleupsdQ+C4tyFTjLzH/oaf/2gfC\n",
        "8VJcjKO/MB7OSALb3ilbOw1OkLpHeBpbsz3WxxbE5T9oi4d8ANJItuDX5YIFq4YV+/it5jKGCP/4\n",
        "O9CXlqPWoNQ0uvI+t2Rw4bTVNtfCy1hLkKv1HlBSDrf59OibvjEQFs5WD09iOv4/Yo/KWm40O7WP\n",
        "IPxdevxgTdOVQ2oSXFgSYXtM6XfNVKicCV2dCSizlMwYcWZijTCRqWzWsRbyd1bXpmBiXwbBi1fh\n",
        "hxd0GxzaEUIcVNK+YRKkyKTuKOTb7tt4UjMUmIGFh0eJvAVDKBdjTrvvV0vwaTA4TdpMbr9A3Q12\n",
        "RwvDF67CJJHX63WEfT/lsXLMHPF2ghJYH0lDd5G8l8Vds6rY6B0O1hfzl7N2mgvI2AHfiguz2pAy\n",
        "vcceO3HZm1wxy2dvZWlQu3eOVl0JFW42DGEwb0OAavp+jz/G7IHPISk22JHYq7H/6ydpxeJuR2xt\n",
        "XlQYj7gmcu1Kkq6QwKBimWBA5xgjERFO2V8LoVfQMTkZlTOhJltrH59zre5tBkEYUPlYyc0OXV7K\n",
        "xKvyH/hHe0Wmke4hbrQTJMs3ve7tHU1cko5CZHAzstpfW2kpgJT51sltcfmm1Ng4yVukD0FSpWnk\n",
        "nHAaAted6Bs31TFq8x6/BA+XpMjoDE51tXe59sS+ay3fVFybBY5lXcltIQPUkiV36rmdpfPdK7Fw\n",
        "zJ31rRQNYj56RAumaFy2H3isd3voHRyZY91bSSk7hdE/sUCMjxeenKRCpwhyLjz+bIvpYv2maBup\n",
        "kDyiwE6zP1Iz/ic8Ngu7VY68akPZxLl1OTBncV+lV9KLFVSLyPjcXvmHQH9DgxBQbgBXeIwXv0wn\n",
        "I0uqtg+ABibLu76OhfpFQ4fgDMJ+YyCJa6GVwErnD79txrOaS3GfFGEKB2xjD1lHbYGFYkEKl9vf\n",
        "SUDfWY9+NvVrge5LKQ98PS3SR0JxlerHgPkW/LCgQh+20lQhDSs2zU5JzWDzMzz38QdOUiBMTrxd\n",
        "1IXFTBtpalGMXQqACYYfGGx1MlGlBjDp7IffjlhbeJXmr1vxJgAuO0i2nGv9G7SIg+AVuoAsXnil\n",
        "VL0JWs35M/aMC90yFGaPL3256CmKIQ36NvmjyCBZsMnjQiMDVupI9U50vSxypfXN08UN+uzWg08G\n",
        "hsFB8lfQyikhCjGKbRfWurGwkN5M01GI8C5CqcnfrrEJkMK7C+XDkChEooxAbT1lC8SsteiRK91z\n",
        "366o2BU5AlffsdhxyDIWBtYOcfwCjvAkyCRsuP1QmC+0sBIl5pqvlZlTh+FcsBTaTrOXmHfLFk5K\n",
        "a3R4TNGxLLNYvzEYHxcg6jA/R0iW0MI8B4xBKKIGXeHqjKg4vvMIrPIjfmEPps+fpvYn3zo+eEWL\n",
        "ugTGWTXGDHU3QUPkhn2Xb+KLw130ND93gWKDxklUcQjp/M/4pzMN2Y3EQ7u0o/gZ67L1nPBcYp9T\n",
        "iE5GweM+DSgFSch5XGtCqI0A7pYEpAc0RPWN807Y4Sf6eSCNVX1LhupTAfw7ldYGl7D1QXFAQZ75\n",
        "WP2JNPnXbb9fvWEK33cbySsmucDMDYWF1mAGILEw8CdaB85aWUOyA2PoGAwvzqisgQpjGdfu5+Ar\n",
        "rU4v09V759QCGr/bprIBBJ/f+aCLgaj81gB3RgOLDr1jzcCTx7jHemAu95PRWibfqPsatANYFmb1\n",
        "QARErVXdmKGjJSTgxNt74gypJWwa/96HQkJceaMdvsMx+X2yKHSCsPz3N+uzS6U4np67B1Caq6tS\n",
        "X8V8U3pQAN3T8QWlcdYVONRGYiHq/kEopBv6LkBMwfscLNnQur0HQRyFj8XuDLS3naxr95yzIS05\n",
        "k/PxukRJELwYaKu9lro45dMO6X3VH/6dbPy7423M742Li2ZhHf6CZfXj713BOPkD+D3O054CIXt7\n",
        "V4O0+p5lmggTokTIO5yD7Qy4HQ/67cSA0pi+wYzu86uWifFrgfl7SXS0U2jqmQJh2B185JR4r07w\n",
        "vGjQ+QiAcHzZDvL3ZOJiDJqzadyYA1KQgmgGBIzp10i0pGvjEnXYEBsagxowD6Wezu+wUHaW7PPL\n",
        "8EEcTJgC8ZUXu6/KOR5iudlCF1AzkTa1SCfKFGLEzKXVhR1U5KJnStz7deuXLCkjD367/UyNjg23\n",
        "jajzf6kwmyvYW9cG7EJ2j0MSNPz95aQhrTFoyb8ZCGPSDYX8Elj8XqS36OrUfoTTPOPQOFDtbRzY\n",
        "TquSoKDEyyxIvqXB6zSTCNhDtdoi98J93eS8nONehbUQ2yR+ETQpJ+hUxcKvchqi35mzRJVck/J6\n",
        "QTX84vruDD+TsJNPe16KOdgO0yKKyaBiNf7vyRyyWZqsuX061PBx5WsTXKD8pZb+uXAfFJvvO1w2\n",
        "ROPYK9ygVuRVtfaShkLwCcMNrh9l7Z/pFlwzbqiyFjt4nrKizCJVYto1YeNTt7cgew3MzlBRuu+R\n",
        "JDCXVEd+XYjXOL3RNQa+VX3KVRoOnd580lCzp6HALcdvbjqE+dZzfdtWPJgEuJ7vgHGWFXjiT747\n",
        "i/tfHmm8Kc7sDrNz4Vq5eFuJyyg/09VIAORKp3G7BgW5v2ne0JBV6ZDFILA/GmgLBykZ7bFhkQAA\n",
        "AI1BnwxFESxXERZyMeKhDhdiRkb2S/+jvRhSKFxuH4LadFMgKvxX3cZiGzNGs+W7ZeyhqoUoX8/9\n",
        "IMgO+Ma3Tf9kzgsGJXqByO6k8bJhRMjnKoZTpf7ytqf8EypFdbE6Hd5DLYOQtZ+g15H0RyJFv5yy\n",
        "q7w3IxH1Gv/F8+B5h/p9OZkXSnrNdmmRUwtcCkgAAABfAZ8rdEV/CH7DKRCEEYldjvV8pEhsSeo9\n",
        "4cXndHLVhB0ndXgWX6g8oAWR29SPA4vhh8oNbdcokdk5e/B38Tv5BJyNopgHEXsKt1eXnDFN4bqr\n",
        "LqIKawnj5R7rrIBUQUEAAABwAZ8takV/CGoPHKh82PHYYq780NA/4RJ/MidFaWG45cF45RxNYXin\n",
        "q+b6im3pT60BTqG/1iH03qVV/mqPkw+Im3zgLRs6/dzFhAnxbcskG84b2ds68ieBO8NyMR9RcMU3\n",
        "huipVJB0Qbji8oBzU8KHNQAAALVBmzJJqEFsmUwIrwAXwVqLw98sawPrn/lu/gYgyWq/+Dv/Z/LH\n",
        "gbL2P08MitTKJB6cIKAQ7pmQoh2Q+BDvlJcDZutpyLLyLXqjPvaC7/mJrygi41419l/AcvvIyzwJ\n",
        "WgEdqaLq85zlJVq6gp6GQggVWz4NXBtODmaUMU5NWw87mEgWeunRAbr9gf+DazOCgSGlN7eNqoyL\n",
        "lvSLsA6E0vmlFbm6cNkLv9Xn6HNjlyflY2C3T1YxAAAAZkGfUEUVLFcRETuhlUIcgFk253zEG3Xs\n",
        "KDyjMW1UauikF7fbWdo43T+UaxRguuR9XVkjQyxWbezZAcEb2bzGsWGMURAJwrkTrZfjajfhuRiP\n",
        "qNf+L58Dy04qtv9/de0+JMn+bn9CwAAAAFgBn290RX8IfsMpERrWmxxez80L/If7QvCwABc9GIyp\n",
        "+fl10Tvuq3GmpI8vQgKqVS/KF9WE1u7gi8iQhpHtlFXc7J5uRiPqLhim8N0n65QZpOW9DRr2HCEg\n",
        "AAAAYgGfcWpFfwhqDxyu9hoWoH5oXXyYmreO6hYQ+IYt8vkFzZHWw2eaeXyo36deFQVOIo8iYGfX\n",
        "BY/bPlIIOtGU+gsNeqnR2UFOGEdm5PNyMR9RcMU3huiEqCRZlznKeQd8KskvAAAAmUGbdkmoQWyZ\n",
        "TAivABemMSZ5kv+q087JATXfOZZq3+RscZjI52/jSp7eP8ctffq6VEey7zTGpr4l4q8pffuphpQw\n",
        "PAAztcx927j+N2jEUtKfL7+glmvwmLlizxIj92clHBsavmDBd2+fitsprk+PPRaAzTveVD98dvKA\n",
        "q1nc1bUqrDAZ3g7N6vXk8dKu+hWd54QFUVOkvn+SMAAAAGRBn5RFFSxXERE7oZVCHDleqMzmS/5K\n",
        "clNslBql8A//sRPaUe/+iZ5I9JilvA8lxcJjx2OwOQsPJR44x0U1ya96gEfAURNl3bNxPKczvDcj\n",
        "EfUXDFO28E+GtCFLtneejqDJucsIAAAAVQGfs3RFfwh+wykQgyBQe9t+hfQlMVflDvk4u+JUn43H\n",
        "A6iOGuKSPxKoUduzi4Gw9Sd+MWedEaP9YMA0eo34bkYj6i4YpvDdJTE0wwhRk3wDAAyuklEAAABV\n",
        "AZ+1akV/CGoPHKyXrEV2N33ehg6xqbFwZewiTTMPDmMz8H2sahBZK3I8LyQSA1E7Kf/aHsRxIy9n\n",
        "4xPlE52TzcjEfUXDFN4bnY0NLrerhme0SJkMnAAACaZBm7pJqEFsmUwIrwAX+iapADKmGQDOxqai\n",
        "G98K/kbK0jNX4/W33n9VPbqlmvjZ9n+OqXtJDsJoCCYsWhyXc1wnnRAyICdNUKnC1mh5uJfVHWxt\n",
        "PZ0I0n8tgrIQ5+jFuVwY8Mb+IPXCXchyQS9fXp/zHKZh9Vmvmo9J3RqQY9dsCUTbojDxJ5czF+iu\n",
        "HLtXo+jEjq8gadp3QNcrbrmqM00WKIWO8UU7Fw7d62CZ59OZ8Zhe+AFnLCFQqzaMGH5XIQJse0eG\n",
        "5VockuYbIIcCUsEx/1i+eHiaHdDJwVZ3JI2fBmHpDiTvFAEajRFnvveDqYNUYclsW9zpQhlDsU1A\n",
        "+x92b6Tgpnek9W7ePlOoj39CCZkj4SoDcl2EX1JCD4sZZwiINDTx3UPl7ZfCz8u7a0DKnaS5PgwB\n",
        "v2eLw1oaowOSSU9A5WHWkWAiJS4OdNn/SQYfh1Q3tEg0q0xxSLwklN+D4d8nf+nyEQqV6f341E3W\n",
        "ZBz2k9W6dOMU3ykdmCLZ5QxrsjODl/cgWJpisREDLEGQs9waoyTCr49QAm/TzpjT4qNIZu3xLd+o\n",
        "p9RfSKF4Pyl8A5Su2YOsmQlwaFe0DVK00RH5qhxF+bFz8F4jXOaIAs0Kyh5/Jz50vXsVJRuyuOjm\n",
        "2EhWKB1OPp4Z3GRYMh3beyGbx2EduRCl3QOm3R774NlqvVQLfQjBYiDAdK4dmtHshmt/OiFq7VQd\n",
        "DyHm04vXOpOHxmXczMYAFJfbjr1KZ3jGQ4oIf/Ro29lmzqTp0KwM5/Uaix1lwz0nMPzQW6r0KWAX\n",
        "FdGahtwVVWPJMNH8d6d5HpDsG1r3+AAFiViJadQrSEefW1Zq/ULS4rupV1Ukvf01OeIWgYtR7u7j\n",
        "CkfmJDvEZOJlNYlyIJ6sqom0AYKcWzIcsH+NshKAQWyXt7EDPX35jDKis/zpEPyCuEXRHZbBX3uG\n",
        "iXgUsdO7AiXZCJHKDduWqtVc1VCeQHttuOLf2HNbLJ66pF5fiZcqaHqirNIbXMz5s+wElNNXnnGS\n",
        "YW3iHB4MhCsyW1qBNW2XQaW/E53U3Dmsz4rv1OSm9O0lGLPzUiSLxq5YDYMwL4T5CSa2NyejngRZ\n",
        "YcGcs5GDpNwvhRebBd9BGJQDoiax8kDbTiBcVzS7yrYrLuohSiIyI+NmTkh5xaRbl+ssXTCXnHPc\n",
        "bvlBBJcGoNDiaaqeh2D0gkljvZ3gnVgZMiAOyuW81zShSaXUQdk2pjYuVUgogrfkLEfL57GSf3TZ\n",
        "526pxgtbj/x7ksLIZpTzmMFCl/nNvcwCzbDM6pSOiTHVtoHm0OCr8nlkfEQ7MiML8kDeAzXtg0H7\n",
        "e0+qW9rjp5IO/xYTTJu2MS4JUO/QvLF0L4kJuJ8t8cUEoSAKuHPRh1C3qhR2e56FtsgrHrgjY2mw\n",
        "pySHBNDGlgBzlOsgYhOD8W4NeRC/oDkYbwRLfegrblYhJs0wXx7AQVSzDdGRYGkL308lS1eI9Pn5\n",
        "wTC5eL1cudTgXB0W3jSvNnH8STCTt8QrD79ApBOvyDp0va74W5j4+5zpCTYsuPb0Gx2NKwIdY7Ja\n",
        "nK4a9cmEBybFPIiYWuV4eRAOkWh4JqvKHttbzb/AnDVHDUBX+ThdA+mDwef0W4hsXf4+S+yTYWWd\n",
        "sdW2U7VF5zS7fn1sOb15mzgkgK14meUxbs/7VjOOI5s/F3k0PvpvC+IE68/SSfQgVLkxEBOjfuUe\n",
        "78uJv73UKT5iRMoucFmd2/I+tJwpA4ufFudgcG+EChdQoT70Pbqe/9JPGnj9Z7TunR1/ekUogxDM\n",
        "5b75PUd8aCL6YnLkTr1hEC9oJi+TNxkNf2IOM0eFaIHUZTBFGStEpi3NlwHthD9etdCVLDs2/+qG\n",
        "+xUDeMyG1Lw/Onnz6YBMWgTW2u/oX4brHkD8sbGDydZ/uk3DQcxzHVFbedIR5N+QLbfk9YRxKD+O\n",
        "zXqUcbMXYUlaVd8sWVI//84eQ6GYbjzjWG+0tb2KLQm5lrhwB4WUk50OkAa6TL+x3DWNqhmgH1il\n",
        "7vrXrd4PO9bb76MNwP50As03HNi0DWbKnVXvxtzuW7wL6nV/O2sd8FprbxS54DfbUQ456zVvdC6s\n",
        "x99e7jzSQv4F/ryYfYIxmi+WP7zc2vik4w9ud3nNTFL44dNDFA/3rCWnHXs5JhsEV6PCeaxFTydV\n",
        "sWxXzUGWngEA+cNs+U/oMWvayxP9aynq2+B/Te8pPiGkmQs1jMiKW7HUgl0TYOWueaU3O61HqVWZ\n",
        "M7fmIQKDqLID6oZTcVRZ/ngd+Eq24VCtzXEhfUtNbceAWCTpW9vVO3YvfbruMfV8BDSV2qaT4z08\n",
        "TNaXb4zsFcodeb8a1KYAxu69IvyOafhL4XejA+EO8ELPm+bHEXsn41ZKzRYMTgqP8lLdOyBDmVqV\n",
        "4j6A8a5FfXM570QH8jDkoO5TM8O0oyCfTI3MqCea5IQltdMRwilqaTp59eK62UNPbvTLoDqEzEuv\n",
        "ZespvC/AFjNx1OQxodwvuCMKtutN3bwFVINGEREETDfFpOF80LzKxGEJBT3yX0CueytTfrnR7pSQ\n",
        "PUcHnKYZkqc4llWjkVzuFxY2+AXwyZlisnUzTLeT5uNXE40NcuFmKukvDVN9srTt4zPoiGzm7QrR\n",
        "kVBLwTcBxDhfoomFRxaZyEK/UgPpBFyCe3ezXVe5f2hSUzYRmI4DQjzv142DsFeF28BZup1IyhRP\n",
        "DbU7w2CaDXxRLwW1feGY+7tjb2e7PFEpT8e44gT5k0XjB7NCaGi16MKipWXUxzmlERYfGnUq0fJH\n",
        "eJYLJYv5zzweLydPv/LpIduDpfJuNXFYbl2q0ICnc5nBGukBI3lrvDHrg+5KuoZg1v3Sxhh49fhf\n",
        "8A/i+c/7L6ZysvMGH7CGTUoAwXuziNGNj5/XRM0bZLFPdbyhEhxxu7ag3ZgObjpuNSrpHq+o5hup\n",
        "zgEkW57p0whopE9dPTioSTrTfp/HUjLCdVYYn6dLq+9++vccM9eLVB1ms2rwylrGF1ZRom1NWEpZ\n",
        "lGquA1qQv3lfvIvcSePnVB4iaDngi5n2saNOCJg62NmQbvDf7MuwsMd6faYMUCST9eqFDjKvwZme\n",
        "cBDB+4udNhZDeEOUzXeuJYBssd3dEvb+1/8G3AYF49PFAejNaVlAUBaW7IJ2Ai4R/GcfLKreNKDX\n",
        "GkvUnMudWkgfpZnAkKpcoDYBeVcjv1VYafnCEaRJrPTXlp3DrkdHQiqWy5l7qUhImR5AUZVAu4L5\n",
        "/ufmHfjOpMd6B07s7iW9YUefQXHzJEQ6G1WoN+J5bqbwlVskAP6O84UjbzA6URIV8PdhAAAAkEGf\n",
        "2EUVLFcRETuhlUIccsTFjtHtMJ5V8DlZqxx1ZONz8V8wUWOHkk9IvqbLGJNPmL5wuoDS9ggLyxgT\n",
        "aXEZQQnFpxv0wcty3JMptyh+KBc4B7WFpXW9AL2hWDNKNfnLLooJRD8ysiL2h0xckJ73ysfLSv3E\n",
        "NaL2FW6vL1f+L58DyVcNW4KRMPNKEduWbSXJuQAAAFcBn/d0RX8IfsMpDH9oQgj17uNYJw3QX/Wf\n",
        "YJuv5hU3QIjWjmoclrXFcM2ZtXljDIoyyK6VooDVCR1GFiTLhxUb8NyMR9RcMU3huhM7hfVHxmAf\n",
        "XRf574AAAABsAZ/5akV/CGoPHK0iscbHF7PzNe88d3OeMh/hibfvDmkv6TgC8h6OeE4WzGz9QGPf\n",
        "IMTqE7dWLEJbl6piH99i4uEhWh6CqOKenr/gPoISNyslCm8q7w3IxH1FwxTeG5x5+RwhPeVs4Gkr\n",
        "kOuBAAAA6UGb/kmoQWyZTAivABeQBaImcWZ5tZSwa8l8ZfDhM28rNZ3EUcTKZLyaawAX4t4rvDvo\n",
        "gkP0x9Sco2ecFv7NJ7WW5clD2L8z5iH2CtmVTikHJA5o/QV6Pce/pbkkrPR/bjHLi1+TC70teF1y\n",
        "ceGZQ/UAVfdbZu0fGYbYf5jduVOEkEk2sBx31wJWXSFvlDFH3d5cqVzqas5nOLThJDx0uLT5gULx\n",
        "IkV49OYUfayU7HhaqaBJacua9zOrDo8Hces1qAmDMxIuYU1IoxJ/CfWNuk3UtLwtSgIe5QaBNO6o\n",
        "0rldoOVU3q0FjrEgAAAAa0GeHEUVLFcRETuhlUIcgFa1M/yoif25YA+V9KGQzNi8fHiWNvbBouwo\n",
        "FetQ6gx60z7kZYhOBOOqFzdJDBKyDDa6SLAw+/WInWqCB5GsnP3+s4vu5PNyMR9RcMU7bwTr4yH6\n",
        "yNu6yC7GHYLfAAAAaQGeO3RFfwh+wykTcUHeNudUxeSFQ7bgdQV3vikFI6CHdNlgIuOy/ubMu+kL\n",
        "GNv6ykYtq1OFzeDyp0a4Q5Jv1xTPGP202dMFc0r8A2bU1NoyBO7fhuRiPqLhim8N0CFCs6AIh2jO\n",
        "QmpuoQAAAFoBnj1qRX8Iag8crH7DRoiAM/NCxM96FVX3GbvOS3jM3yfQAioEepJWGbxox0Pn4Uye\n",
        "ya4VenZp2tEUjtPtenPBOPumNk83IxH1FwxTeG6HJhwuoAczaHAVXoQAAACyQZoiSahBbJlMCK8A\n",
        "F8WrBA60VHuYQ0Gn/2WOuv3N8a7WuEamUZII0T2kAW5xaJWDH6ml3oz1z1d/KBGxYJkF6Mr5lXiy\n",
        "THU3M5B4s6zMppiyRGO9ZxB03DMhoP04ac9bT7taf0pazi5qXiI6jCJNXJNwH9Yjn+K8XemZWuHG\n",
        "owoPNXNv9/klkXXwIj8R5lbaQlR7mqMXzQG+jKAe17VY86Mj+vQ9KhnRV+eHCHb/sz0ouAAAAHpB\n",
        "nkBFFSxXERE7oZVCHF7EjI3sl/9HeOBR4RjlADjmSUELh6Vj38Qf/LSpNbA3Lp6Lw/gKxdFkMloI\n",
        "obniz/gwUvPUTxMS/zboq06XCMHHhbXbJ9lk/m56JrA5YbgG5GOwm8NyMR9Rr/xfPgeUhna7469L\n",
        "g3xXp+PLwQAAAGMBnn90RX8IfsMpEIOE4NlYmhQlZBG+qoZMNAhSs2cZ8eKlM0j7U5vyHBNvh3n/\n",
        "uN+gcnyPoz0fSdGVzYD8FnibR4PR5IbT70ukYyVd4bkYj6i4YpvDdBlmDyeHMnuKwjYDuoAAAABX\n",
        "AZ5hakV/CGoPHK5KvPP0n+eJ43q/+58shP5kC2XI5DGgr16OIGB3sZ6BfdHI+qnsSazEivn1RJVm\n",
        "txNLNR9edW/DcjEfUXDFN4boV8C9svwAcJof98CBAAAAa0GaZkmoQWyZTAivABfBWqDvY/n96HOQ\n",
        "BajWW9JSEY5YHbMB7vtSz9cyb38+uVCX1Hupd06+cBJtuoshynFAdXB0t9pPwe7thaF48O+wyL9D\n",
        "tLqHCr0xaszR0iClfBK9C7Z8U+ga+sFyxWEgAAAAZEGehEUVLFcRETuhlUIcjCZ1ILGf1I9MJJN4\n",
        "1TLDp2/Jm6C5edGYzuzz5U8NNf8CAgc9AlOeGNP2hdY7Qb2qaCQw6ug9jixiSIRbqZDZPNyMR9Rc\n",
        "MU7bwU4pBpkpnbulxeuHi8kAAABeAZ6jdEV/CH7DKRCGl1thTFHsmaHwT/dVlKjw9T/uTBTV4Ms4\n",
        "9soEdqm6/Sq5GkU/UGzVE78qU7XMvnBk5FbR9cP5ARJIKHfrGyebkYj6j7x/AGIq6sePWO6p+c3v\n",
        "UwAAAGABnqVqRX8Iag8crvYaFqB+aFrlqZ2wXmdya+uCxttqUJbSouPFCTMAJ/ogSvxst9lHZGBr\n",
        "pydJgQAl9Jck0jNiGkpxqhGXaTXBC9hVury84YpvDdCrbnqm08+uBub6OiEAAAFHQZqqSahBbJlM\n",
        "CK8AGCrTjxoXFtdK8h4uBO/LTF4r7z9QdJ6HMqM+5yZuRgqCl+R0vbD1StsBlNS9CZ9dNSc9QGUm\n",
        "0YmQF+G9Qb8q1GhlYExtOBcf74lFb1RXAuGIKz97hEnHoq7wavqO6PWct/qE7iyjhRnloeYSNWF4\n",
        "45VQuLc03fOgdMH2Zws7UmUF6C7gl88sgORleeCIxGEDLkWt+NlQ8OQrd9LvgvLY/DV90GGKgjvb\n",
        "oQU/0Mp8HbcQ8DRa3rFvA6kW6dxQ2Zf5pYAtN1kTFecBrsSy5wp5mU0rYLYfc3j0W2RDPv72YClX\n",
        "z+jTbTbxfdo6LVQI5rXxdeFLj8YN7VN9qC/v53FxPyHkfERBBieistXIJ4klMH1pkQXTmSiyYzoz\n",
        "CjDFoS8C4kg+4ABbfWMBMbQONklKoN5GVV88T3HJgbHhAAAAe0GeyEUVLFcRETuhlUIcpRjIzYVl\n",
        "A/NCtKAouKUAhI2iB1IwX/vlN+3g4yl1FkqXRKnvYRkuwkqKZoN+EEX+9E5QR8p6ZMdNN7Sdo2jD\n",
        "3+D6diS3D99FtLalOfRMB5u1tm/Wgi9hVury84Yp23gp0RBtMirbWP3tB/U+IAAAAG0Bnud0RX8I\n",
        "fsMpHqJA/Gi4ALoX0JTFZVeq6tmAVc9q6RUoFw3c3Emp4c3153pk+YVI9xYgkHue6X69uWMV7Oy4\n",
        "GQe1g+p3uaiBnGKFCIBeyOk/bMMQXRvDcjEfUfeP4AxaeckUfncUxlxUjOiAAAAAXgGe6WpFfwhq\n",
        "Dxysf25oUzZNYL6FymkYhfI2DVuHnhsJIq4x/0G7+1QS3b4LgmGb/n6yMEoF80w6sqTjIlp+iwJ1\n",
        "Iojyy9sadY2TzcjEfUfeP4Axkx5Ya6+wNQFoEAUAAABlQZruSahBbJlMCK8AF/omAmWXxPbrsloC\n",
        "kmePBh+im6+z4qOoOQRlyin8Ia9nX76343hCRCOEGrvkj7Z0VPPQK0cvT8SDhIDe7vC6nkqoaJXY\n",
        "TeG5GI+o1/4vnwPKbkmJMChjywgAAAB+QZ8MRRUsVxERO6GVQhxyxMWO0e2bfsKjOBtW5fZXe42S\n",
        "rjz4ULzBLRLthpcQWkPS7WgHLnHWLL+qp7VskbaJQPhJgjYmkvWf4r7ns4AgcOPtYX9erIQfgXGD\n",
        "C3ZUbp/Nj9JOGyRO8NyMR9RcMU7bwU53zmvDvHgJDMsSXD9gAAAAWAGfK3RFfwh+wykMa5FkkD80\n",
        "NA+eRiqCgAXwisk7SnZ5RY1PWSvBNa+sPV+gGcqQ2F5YJ+wZSD1v+hD5ZpHym+wdLRvDcjEfUfeP\n",
        "4AxWo+KDwCIkgsZPTcEAAABhAZ8takV/CGoPHK0iscbCmKPZPvnz509ohcJ80t88H8cSxGUO+u56\n",
        "PB0Bl38lwPW564ldpm6QYltqQ/+sa1IxuV0/hUTLpOo3+6MqTvDcjEfUfeP4AwzuxK9wAoaKoL35\n",
        "IQAABLVBmzFJqEFsmUwIrwAX9mE2QpaGtBmYQSTeSER7rn8v4X/dVtEVz5HkWgBESFxvpaWjMZvp\n",
        "7OVXtPldQCRsYJ1d5+tSCHZA7esqQS9RznbTMw1aM06vVX+PeVIqt8pe8y+500+lGQsxw9WQVVYx\n",
        "hntYfz/V2HnlXya+6OqTQ3kn0Geenc26pniXd8I8s2zC+YJngkxAcB69qkSIx2m59bXRPqZbzyOX\n",
        "cf/jebZT/swKfN0gFbc0k0dtwD9BQWoyvf2zpw57zjQ+I2SGGiPl3NO7UNI3V+0xMfUhqJJsAooZ\n",
        "y5xWXpZkXDl/wQmGATpaeeePNk7HYVU5pM1xhqgzQ0KuPI3RZlhozG5GBxTTOvhIN3VjIw7GXFD5\n",
        "s3PEouhxnfat7IwmNmAIx2NbJRbfrmCqIV43pKmm5sj5XsXomb9LhLtuMfIg2TG6QTAf1t8RQdOy\n",
        "ZjCRS5VIzfclz/slkcM9J258VuhMNSSFX/BcXMfiXA5EfTKjIIBB+YL4cXKU2VWbraZ09U68/fWJ\n",
        "TavD6lDKwzKoMWlCjmz7FsyaFSyepHQzC+YJMoCM35kyYn+l5JR753vJ3lpV/EQfpf4C4EtPQKhb\n",
        "PyEHjvOO9AAMQDceUgOG7+eU6RHCig8feNhF10UztYZ+q4zZaLvZQUNGVDynwe5zwurOPsChyml6\n",
        "EbZ4NAHik6cxUzD68VrcssDI1OLw1ssCxnG9qEjSU9UuELtWnZScmqPjzoOvmBwoGWSXG5QuOOBk\n",
        "mbKRXRVmmK1d4Z3ungDc+dbzO+Tm1LhqmYPsrTdxPgTEPvoIWsba+Y2jP/GjtO4UOOg249/2IPUV\n",
        "Lx7CT7b5W+ASoNYqQTxeJH1XVXPk2iKDTMe9W+9iGQZoZX6o3UcS4oj7ZVAH5oaiWInOrK4OBsIN\n",
        "GKt9HnmgnSHhOABxAI62aAxdL8RqdH65s/o6mAi9dQ8MyRirZFd/RijwQpiD6rUUYizc77lpj8jE\n",
        "kG3yMfXnl3GmSgW2DnMW37k6Dl1oU0sFHYuJ5IJEGAUWUfEj4yqAK+iJ1TPsapXm7ZipiWSoU+fc\n",
        "rtY68rqcsCFmZ0dv7ED2s1bysTSbRPdz6oOem4n+HiQ2S9fVQwUnpFT5zOfGAMRLWMyfob/KyM28\n",
        "zf9XRJCWbliC9cDGqFL3BFNPcyn9LwGBnarJLGAEguy7HS+y2MCZlUm9h3SlFdAEolgmxM8vX48L\n",
        "L21HKXGJjzZcTuPjhAniwaF+1uNEi89ap2zcibsT2HrxxXPReb90aQZziSbULjOU/Q1TeBjUZo3G\n",
        "z/QchqYGrGl4gIHyTRwG7JfDRBasV2DrXMA9xkLM+iQXJF/QHwzvXZ0GYwBtqDyJhzsWn1dhP/yN\n",
        "P8bTh2oGOhht0KaQZeNHtfFMMd/xQ6CHBmA80EHioZO04Cv6RqZKhsDd59wqLExO3VNP/MdOBGF/\n",
        "/WtJXCiLkD0YIPLxugWlXxEWNMMX0TRNXee4qlfdPBWr6kYnTCUskPKJvdOYdcUWGH56w40AJQuP\n",
        "dP2rbaGu3bDRPexRjnHcWTEjMSxSDIJgw1rClV4GTXR+eidL+xfxAqOK59XUauPO6MN+G5GI+o+8\n",
        "fwBWEY5XYtOz60IT8QAAAHxBn1BCK/8RETubi+VXkMe9hcAAybGLmR8DeHth/r6BP+ZaqYdm6nAv\n",
        "lNSibkYvWu8LW8Kn94Xzjc27ycmtRRTUtJzWcvGYUIdOjjjBgGZ2Tnj3OUJJdeg+FSdV0ZKFtVKR\n",
        "PnN+G5GI+o+8fwBX4RG+YBW5CV+WMwZGpsx4AAAAhQGfb2kRXwhKhnkUdv79Uz+hfTfuwLNiqBP/\n",
        "CFdg0rbpDLUI1b3pW9+ZzJA8hvafOEQS41/xedxpkH9Yhk6mOkzoLRmWvzOSTjYyXuVUzJgrmX52\n",
        "f33EcWhIkQ0jiJ/iDoj4SWLRJP6y3HrFAgE7w3IxH1H3j+AK9qK33aNug0h2/0rWS8AAAAVibW9v\n",
        "dgAAAGxtdmhkAAAAAAAAAAAAAAAAAAAD6AAACcQAAQAAAQAAAAAAAAAAAAAAAAEAAAAAAAAAAAAA\n",
        "AAAAAAABAAAAAAAAAAAAAAAAAABAAAAAAAAAAAAAAAAAAAAAAAAAAAAAAAAAAAAAAAAAAgAABIx0\n",
        "cmFrAAAAXHRraGQAAAAPAAAAAAAAAAAAAAABAAAAAAAACcQAAAAAAAAAAAAAAAAAAAAAAAEAAAAA\n",
        "AAAAAAAAAAAAAAABAAAAAAAAAAAAAAAAAABAAAAAAbAAAAEgAAAAAAAkZWR0cwAAABxlbHN0AAAA\n",
        "AAAAAAEAAAnEAAAEAAABAAAAAAQEbWRpYQAAACBtZGhkAAAAAAAAAAAAAAAAAAAoAAAAZABVxAAA\n",
        "AAAALWhkbHIAAAAAAAAAAHZpZGUAAAAAAAAAAAAAAABWaWRlb0hhbmRsZXIAAAADr21pbmYAAAAU\n",
        "dm1oZAAAAAEAAAAAAAAAAAAAACRkaW5mAAAAHGRyZWYAAAAAAAAAAQAAAAx1cmwgAAAAAQAAA29z\n",
        "dGJsAAAAl3N0c2QAAAAAAAAAAQAAAIdhdmMxAAAAAAAAAAEAAAAAAAAAAAAAAAAAAAAAAbABIABI\n",
        "AAAASAAAAAAAAAABAAAAAAAAAAAAAAAAAAAAAAAAAAAAAAAAAAAAAAAAAAAAGP//AAAAMWF2Y0MB\n",
        "ZAAV/+EAGGdkABWs2UGwloQAAAMABAAAAwCgPFi2WAEABmjr48siwAAAABhzdHRzAAAAAAAAAAEA\n",
        "AAAyAAACAAAAABRzdHNzAAAAAAAAAAEAAAABAAABmGN0dHMAAAAAAAAAMQAAAAIAAAQAAAAAAQAA\n",
        "CgAAAAABAAAEAAAAAAEAAAAAAAAAAQAAAgAAAAABAAAEAAAAAAEAAAoAAAAAAQAABAAAAAABAAAA\n",
        "AAAAAAEAAAIAAAAAAQAACgAAAAABAAAEAAAAAAEAAAAAAAAAAQAAAgAAAAABAAAKAAAAAAEAAAQA\n",
        "AAAAAQAAAAAAAAABAAACAAAAAAEAAAoAAAAAAQAABAAAAAABAAAAAAAAAAEAAAIAAAAAAQAACgAA\n",
        "AAABAAAEAAAAAAEAAAAAAAAAAQAAAgAAAAABAAAKAAAAAAEAAAQAAAAAAQAAAAAAAAABAAACAAAA\n",
        "AAEAAAoAAAAAAQAABAAAAAABAAAAAAAAAAEAAAIAAAAAAQAACgAAAAABAAAEAAAAAAEAAAAAAAAA\n",
        "AQAAAgAAAAABAAAKAAAAAAEAAAQAAAAAAQAAAAAAAAABAAACAAAAAAEAAAoAAAAAAQAABAAAAAAB\n",
        "AAAAAAAAAAEAAAIAAAAAAQAACAAAAAABAAAEAAAAAAEAAAAAAAAAHHN0c2MAAAAAAAAAAQAAAAEA\n",
        "AAAyAAAAAQAAANxzdHN6AAAAAAAAAAAAAAAyAAAMcgAAAlUAAAhpAAACbgAAA00AAACJAAAFugAA\n",
        "AwAAAACFAAAAkQAAAGkAAApzAAAAkQAAAGMAAAB0AAAAuQAAAGoAAABcAAAAZgAAAJ0AAABoAAAA\n",
        "WQAAAFkAAAmqAAAAlAAAAFsAAABwAAAA7QAAAG8AAABtAAAAXgAAALYAAAB+AAAAZwAAAFsAAABv\n",
        "AAAAaAAAAGIAAABkAAABSwAAAH8AAABxAAAAYgAAAGkAAACCAAAAXAAAAGUAAAS5AAAAgAAAAIkA\n",
        "AAAUc3RjbwAAAAAAAAABAAAAMAAAAGJ1ZHRhAAAAWm1ldGEAAAAAAAAAIWhkbHIAAAAAAAAAAG1k\n",
        "aXJhcHBsAAAAAAAAAAAAAAAALWlsc3QAAAAlqXRvbwAAAB1kYXRhAAAAAQAAAABMYXZmNTQuNjMu\n",
        "MTA0\n",
        "\" type=\"video/mp4\">\n",
        " Your browser does not support the video tag.\n",
        "</video>"
       ],
       "metadata": {},
       "output_type": "pyout",
       "prompt_number": 14,
       "text": [
        "<matplotlib.animation.FuncAnimation at 0x1106025d0>"
       ]
      }
     ],
     "prompt_number": 14
    },
    {
     "cell_type": "code",
     "collapsed": false,
     "input": [
      "plot(opt.recall('phi_m'))"
     ],
     "language": "python",
     "metadata": {},
     "outputs": [
      {
       "metadata": {},
       "output_type": "pyout",
       "prompt_number": 13,
       "text": [
        "[<matplotlib.lines.Line2D at 0x1105d5c50>]"
       ]
      },
      {
       "metadata": {},
       "output_type": "display_data",
       "png": "[encoded data removed]",
       "text": [
        "<matplotlib.figure.Figure at 0x11059e0d0>"
       ]
      }
     ],
     "prompt_number": 13
    },
    {
     "cell_type": "code",
     "collapsed": false,
     "input": [],
     "language": "python",
     "metadata": {},
     "outputs": []
    }
   ],
   "metadata": {}
  }
 ]
}