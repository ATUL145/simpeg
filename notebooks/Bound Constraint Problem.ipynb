{
 "metadata": {
  "name": ""
 },
 "nbformat": 3,
 "nbformat_minor": 0,
 "worksheets": [
  {
   "cells": [
    {
     "cell_type": "code",
     "collapsed": false,
     "input": [
      "import SimPEG\n",
      "from SimPEG.mesh import TensorMesh\n",
      "from SimPEG.regularization import Regularization\n",
      "import SimPEG.inverse as inverse\n",
      "from SimPEG.inverse import Minimize\n",
      "import numpy as np\n",
      "import scipy.sparse as sp"
     ],
     "language": "python",
     "metadata": {},
     "outputs": [],
     "prompt_number": 1
    },
    {
     "cell_type": "code",
     "collapsed": false,
     "input": [
      "from SimPEG.forward.LinearProblem import example as LinExample\n",
      "\n",
      "prob, m_true = LinExample(1000)\n",
      "M = prob.mesh\n",
      "\n",
      "reg = Regularization(M)\n",
      "opt = inverse.InexactGaussNewton(maxIter=100,debug=False,LSreduction=0.3,maxIterLS=50)\n",
      "inv = inverse.Inversion(prob,reg,opt,beta0=1e-4,maxIter=1)\n",
      "m0 = np.zeros_like(m_true)\n",
      "\n",
      "mrec = inv.run(m0)\n",
      "\n",
      "# plt.figure(1)\n",
      "# for i in range(prob.G.shape[0]):\n",
      "#     plt.plot(prob.G[i,:])\n",
      "\n",
      "plt.figure(2)\n",
      "\n",
      "plt.plot(M.vectorCCx, m_true, 'b-')\n",
      "plt.plot(M.vectorCCx, mrec, 'r-')\n"
     ],
     "language": "python",
     "metadata": {},
     "outputs": [
      {
       "output_type": "stream",
       "stream": "stdout",
       "text": [
        "============================== Inexact Gauss Newton ==============================\n",
        "    #         beta         phi_d        phi_m          f            |g|       LS  \n",
        "----------------------------------------------------------------------------------\n",
        "     1      1.00e-04     6.06e-01     2.68e+04      9.57e+02      1.01e+04     0  \n",
        "     2      1.00e-04     8.27e-02     2.29e+04      3.29e+00      1.66e+01     0  \n",
        "     3      1.00e-04     4.60e-02     2.28e+04      2.37e+00      1.61e+02     0  "
       ]
      },
      {
       "output_type": "stream",
       "stream": "stdout",
       "text": [
        "\n",
        "     4      1.00e-04     3.80e-02     2.28e+04      2.33e+00      8.23e-01     0  \n",
        "     5      1.00e-04     3.09e-02     2.28e+04      2.31e+00      6.80e-01     0  \n",
        "     6      1.00e-04     2.91e-02     2.27e+04      2.31e+00      5.15e-01     0  "
       ]
      },
      {
       "output_type": "stream",
       "stream": "stdout",
       "text": [
        "\n",
        "     7      1.00e-04     2.59e-02     2.27e+04      2.30e+00      3.81e-01     0  \n",
        "     8      1.00e-04     2.53e-02     2.27e+04      2.30e+00      3.56e-01     0  \n",
        "     9      1.00e-04     2.34e-02     2.27e+04      2.30e+00      2.73e-01     0  "
       ]
      },
      {
       "output_type": "stream",
       "stream": "stdout",
       "text": [
        "\n",
        "    10      1.00e-04     2.31e-02     2.27e+04      2.30e+00      2.72e-01     0  \n",
        "    11      1.00e-04     2.17e-02     2.27e+04      2.30e+00      2.17e-01     0  \n",
        "    12      1.00e-04     2.15e-02     2.27e+04      2.30e+00      2.25e-01     0  "
       ]
      },
      {
       "output_type": "stream",
       "stream": "stdout",
       "text": [
        "\n",
        "    13      1.00e-04     2.04e-02     2.27e+04      2.29e+00      1.84e-01     0  \n",
        "    14      1.00e-04     2.03e-02     2.27e+04      2.29e+00      1.96e-01     0  \n",
        "    15      1.00e-04     1.93e-02     2.27e+04      2.29e+00      1.59e-01     0  "
       ]
      },
      {
       "output_type": "stream",
       "stream": "stdout",
       "text": [
        "\n",
        "    16      1.00e-04     1.93e-02     2.27e+04      2.29e+00      1.78e-01     0  \n",
        "    17      1.00e-04     1.85e-02     2.27e+04      2.29e+00      1.40e-01     0  \n",
        "    18      1.00e-04     1.84e-02     2.27e+04      2.29e+00      1.50e-01     0  "
       ]
      },
      {
       "output_type": "stream",
       "stream": "stdout",
       "text": [
        "\n",
        "    19      1.00e-04     1.77e-02     2.27e+04      2.29e+00      1.24e-01     0  \n",
        "    20      1.00e-04     1.77e-02     2.27e+04      2.29e+00      1.30e-01     0  \n",
        "    21      1.00e-04     1.71e-02     2.27e+04      2.29e+00      1.08e-01     0  "
       ]
      },
      {
       "output_type": "stream",
       "stream": "stdout",
       "text": [
        "\n",
        "    22      1.00e-04     1.72e-02     2.27e+04      2.29e+00      1.15e-01     0  \n",
        "------------------------- STOP! -------------------------\n",
        "1 : |fc-fOld| = 2.0822e-04 <= tolF*(1+|f0|) = 9.5809e+01\n",
        "1 : |xc-x_last| = 7.3609e-03 <= tolX*(1+|x0|) = 1.0000e-01\n",
        "1 : |g|       = 9.5181e-02 <= tolG          = 1.0000e-01\n",
        "0 : |g|       = 9.5181e-02 <= 1e3*eps       = 1.0000e-02\n",
        "0 : maxIter   =     100    <= iter          =     22\n",
        "------------------------- DONE! -------------------------\n"
       ]
      },
      {
       "metadata": {},
       "output_type": "pyout",
       "prompt_number": 2,
       "text": [
        "[<matplotlib.lines.Line2D at 0x10eb75fd0>]"
       ]
      },
      {
       "metadata": {},
       "output_type": "display_data",
       "png": "[encoded data removed]",
       "text": [
        "<matplotlib.figure.Figure at 0x10eb75850>"
       ]
      }
     ],
     "prompt_number": 2
    },
    {
     "cell_type": "code",
     "collapsed": false,
     "input": [
      "\n",
      "\n",
      "def Quadratic(x, return_g=True, return_H=True):\n",
      "    A = sp.identity(2)\n",
      "    b = np.array([-5,-5])\n",
      "    f = 0.5 * x.dot( A.dot(x)) + b.dot( x )\n",
      "    out = (f,)\n",
      "    if return_g:\n",
      "        g = A.dot(x) + b\n",
      "        out += (g,)\n",
      "    if return_H:\n",
      "        H = A\n",
      "        out += (H,)\n",
      "    return out\n",
      "\n",
      "\n",
      "f = Quadratic(np.array([1,2]))\n",
      "print f\n",
      "n = 30\n",
      "l = -10\n",
      "u = 10\n",
      "I = np.zeros((n,n))\n",
      "X = np.linspace(l,u,n)\n",
      "for i, x in enumerate(X):\n",
      "    for j, y in enumerate(X):\n",
      "        f, g, H = Quadratic(np.array([x,y]))\n",
      "        I[i,j] = f\n",
      "\n",
      "contourf(X,X, I.T)\n",
      "\n",
      "GN = inverse.GaussNewton()\n",
      "xopt = GN.minimize(Quadratic,np.array([0,0]))\n",
      "print xopt"
     ],
     "language": "python",
     "metadata": {},
     "outputs": [
      {
       "output_type": "stream",
       "stream": "stdout",
       "text": [
        "(-12.5, array([-4., -3.]), <2x2 sparse matrix of type '<type 'numpy.float64'>'\n",
        "\twith 2 stored elements (1 diagonals) in DIAgonal format>)\n",
        "=============== Gauss Newton ==============="
       ]
      },
      {
       "output_type": "stream",
       "stream": "stdout",
       "text": [
        "\n",
        "    #           f            |g|       LS  \n",
        "-------------------------------------------\n",
        "     1       0.00e+00      7.07e+00     0  \n",
        "------------------------- STOP! -------------------------\n",
        "0 : |fc-fOld| = 2.5000e+01 <= tolF*(1+|f0|) = 1.0000e-01\n",
        "0 : |xc-x_last| = 7.0711e+00 <= tolX*(1+|x0|) = 1.0000e-01\n",
        "1 : |g|       = 0.0000e+00 <= tolG          = 1.0000e-01\n",
        "1 : |g|       = 0.0000e+00 <= 1e3*eps       = 1.0000e-02\n",
        "0 : maxIter   =      20    <= iter          =      1\n",
        "------------------------- DONE! -------------------------\n",
        "[ 5.  5.]\n"
       ]
      },
      {
       "output_type": "stream",
       "stream": "stderr",
       "text": [
        "/Users/rowan/Library/Enthought/Canopy_64bit/User/lib/python2.7/site-packages/scipy/sparse/linalg/dsolve/linsolve.py:87: SparseEfficiencyWarning: spsolve requires A be CSC or CSR matrix format\n",
        "  warn('spsolve requires A be CSC or CSR matrix format', SparseEfficiencyWarning)\n"
       ]
      },
      {
       "metadata": {},
       "output_type": "display_data",
       "png": "[encoded data removed]",
       "text": [
        "<matplotlib.figure.Figure at 0x10f7ee5d0>"
       ]
      }
     ],
     "prompt_number": 3
    },
    {
     "cell_type": "code",
     "collapsed": false,
     "input": [
      "\n",
      "\n",
      "class ProjectedGradient(Minimize):\n",
      "    name = 'Projected Gradient'\n",
      "\n",
      "    maxIterCG = 10\n",
      "    tolCG = 1e-3\n",
      "    \n",
      "    lower = -0.4\n",
      "    upper = 0.9\n",
      "    \n",
      "    def __init__(self,**kwargs):\n",
      "        super(ProjectedGradient, self).__init__(**kwargs)\n",
      "        \n",
      "        self.stoppers.append({\n",
      "                \"str\":      \"%d : probSize  =    %3d   <= bindingSet      =    %3d\",\n",
      "                \"left\":     lambda M: M.xc.size,\n",
      "                \"right\":    lambda M: np.sum(M.bindingSet(M.xc)),\n",
      "                \"stopType\": \"critical\"\n",
      "             })\n",
      "        \n",
      "        self.stoppersLS.append({\n",
      "                \"str\":      \"%d : probSize  =    %3d   <= bindingSet      =    %3d\",\n",
      "                \"left\":     lambda M: M._LS_xt.size,\n",
      "                \"right\":    lambda M: np.sum(M.bindingSet(M._LS_xt)),\n",
      "                \"stopType\": \"critical\"\n",
      "             })\n",
      "        \n",
      "        self.printers.append({\"title\":    \"itType\",\n",
      "                              \"value\":    lambda M: M._itType,\n",
      "                              \"width\":    8, \"format\":   \"%s\"})\n",
      "        self.printers.append({\"title\":    \"aSet\",\n",
      "                              \"value\":    lambda M: np.sum(M.activeSet(M.xc)),\n",
      "                              \"width\":    8, \"format\":   \"%d\"})\n",
      "        self.printers.append({\"title\":    \"bSet\",\n",
      "                              \"value\":    lambda M: np.sum(M.bindingSet(M.xc)),\n",
      "                              \"width\":    8, \"format\":   \"%d\"})\n",
      "        self.printers.append({\"title\":    \"Comment\",\n",
      "                              \"value\":    lambda M: M.projComment,\n",
      "                              \"width\":    7, \"format\":   \"%s\"})\n",
      "        \n",
      "\n",
      "    def _startup(self, x0):\n",
      "        # ensure bound vectors are the same size as the model\n",
      "        if type(self.lower) is not np.ndarray:\n",
      "            self.lower = np.ones_like(x0)*self.lower\n",
      "        if type(self.upper) is not np.ndarray:\n",
      "            self.upper = np.ones_like(x0)*self.upper\n",
      "            \n",
      "        self.explorePG = True\n",
      "        self.exploreCG = False\n",
      "        self.stopDoingCG = False\n",
      "        \n",
      "        self._itType = 'SD'\n",
      "        \n",
      "        self.aSet_prev = self.activeSet(x0)\n",
      "        \n",
      "    def projection(self, x):\n",
      "        \"\"\"Make sure we are feasible.\"\"\"\n",
      "        return np.median(np.c_[self.lower,x,self.upper],axis=1)\n",
      "    \n",
      "    def activeSet(self, x):\n",
      "        \"\"\"If we are on a bound\"\"\"\n",
      "        return np.logical_or(x == self.lower, x == self.upper)\n",
      "    \n",
      "    def inactiveSet(self, x):\n",
      "        \"\"\"The free variables.\"\"\"\n",
      "        return np.logical_not(self.activeSet(x))\n",
      "    \n",
      "    def bindingSet(self, x):\n",
      "        \"\"\"\n",
      "            If we are on a bound and the negative gradient points away from the feasible set. \n",
      "        \n",
      "            Optimality condition. (Satisfies Kuhn-Tucker) MoreToraldo91\n",
      "        \n",
      "        \"\"\"\n",
      "        bind_up  = np.logical_and(x == self.lower, self.g >= 0)\n",
      "        bind_low = np.logical_and(x == self.upper, self.g <= 0)\n",
      "        return np.logical_or(bind_up, bind_low)\n",
      "        \n",
      "    def findSearchDirection(self):\n",
      "        self.aSet_prev = self.activeSet(self.xc)\n",
      "#         print 'fsd: stopDoingCG: ', self.stopDoingCG\n",
      "        if self.explorePG or not self.exploreCG:\n",
      "#             print 'fsd: doingCG'\n",
      "            self._itType = 'SD'\n",
      "            p = -self.g\n",
      "        else:\n",
      "            self.f_decrease_max = -np.inf # Reset the max decrease each time you do a CG iteration\n",
      "            self._itType = '.CG.'\n",
      "            iSet  = self.inactiveSet(self.xc)  # The inactive set (free variables)\n",
      "            aSet = self.activeSet(self.xc)\n",
      "            bSet = self.bindingSet(self.xc)\n",
      "            shape = (self.xc.size, np.sum(iSet))\n",
      "            v = np.ones(shape[1])\n",
      "            i = np.where(iSet)[0]\n",
      "            j = np.arange(shape[1])\n",
      "            Z = sp.csr_matrix((v, (i, j)), shape=shape)\n",
      "            def reduceHess(v):\n",
      "                # Z is tall and skinny\n",
      "                return Z.T*(self.H*(Z*v))\n",
      "            operator = sp.linalg.LinearOperator( (shape[1], shape[1]), reduceHess, dtype=float )\n",
      "            p, info  = sp.linalg.cg(operator, -Z.T*self.g, tol=self.tolCG, maxiter=self.maxIterCG)\n",
      "            p = Z*p  #  bring up to full size\n",
      "            aSet_after = self.activeSet(self.xc+p)\n",
      "        return p\n",
      "    \n",
      "    def _doEndIteration(self, xt):\n",
      "        aSet = self.activeSet(xt)\n",
      "        bSet = self.bindingSet(xt)\n",
      "        \n",
      "        self.explorePG = not np.all(aSet == self.aSet_prev) # explore proximal gradient\n",
      "        self.exploreCG = np.all(aSet == bSet) # explore conjugate gradient\n",
      "        \n",
      "        f_current_decrease = self.f_last - self.f\n",
      "        self.projComment = ''\n",
      "#         print f_current_decrease\n",
      "        if self._iter < 1:\n",
      "            self.f_decrease_max = -np.inf\n",
      "        else:\n",
      "            # Note that I reset this if we do a CG iteration.\n",
      "            self.f_decrease_max = max(self.f_decrease_max, f_current_decrease)\n",
      "            self.stopDoingCG = f_current_decrease < 0.25 * self.f_decrease_max\n",
      "#             print 'f_decrease_max: ', self.f_decrease_max\n",
      "#             print 'stopDoingCG: ', self.stopDoingCG\n",
      "            if self.stopDoingCG:\n",
      "                self.projComment = 'Stop SD'\n",
      "                self.explorePG = False\n",
      "                self.exploreCG = True\n",
      "        # implement 3.8, MoreToraldo91\n",
      "        #self.eta_2 * max_decrease # where max decrease\n",
      "        # if true go to CG\n",
      "        # don't do too many steps of PG in a row."
     ],
     "language": "python",
     "metadata": {},
     "outputs": [],
     "prompt_number": 12
    },
    {
     "cell_type": "code",
     "collapsed": false,
     "input": [
      "opt = ProjectedGradient(maxIter=20,maxStep=0.2, maxIterLS=20)\n",
      "\n",
      "opt.lower = np.array([-1,-1])\n",
      "opt.upper = np.array([1,1])\n",
      "opt.minimize(Quadratic,np.array([0,0.2]))"
     ],
     "language": "python",
     "metadata": {},
     "outputs": [
      {
       "output_type": "stream",
       "stream": "stdout",
       "text": [
        "=========================== Projected Gradient ===========================\n",
        "    #           f            |g|       LS   itType   aSet    bSet  Comment\n",
        "--------------------------------------------------------------------------\n",
        "     1      -9.80e-01      6.93e+00     0     SD      0       0           \n",
        "     2      -2.86e+00      6.65e+00     0    .CG.     0       0           \n",
        "     3      -4.67e+00      6.38e+00     0    .CG.     0       0           \n",
        "     4      -6.40e+00      6.10e+00     0    .CG.     0       0           \n",
        "     5      -8.05e+00      5.82e+00     0    .CG.     2       2           \n",
        "------------------------- STOP! -------------------------\n",
        "0 : |fc-fOld| = 9.4851e-01 <= tolF*(1+|f0|) = 1.9800e-01\n",
        "0 : |xc-x_last| = 2.0254e-01 <= tolX*(1+|x0|) = 1.2000e-01\n",
        "0 : |g|       = 1.4142e+00 <= tolG          = 1.0000e-01\n",
        "0 : |g|       = 5.6569e+00 <= 1e3*eps       = 1.0000e-02\n",
        "0 : maxIter   =      20    <= iter          =      5\n",
        "1 : probSize  =      2   <= bindingSet      =      2\n",
        "------------------------- DONE! -------------------------\n"
       ]
      },
      {
       "metadata": {},
       "output_type": "pyout",
       "prompt_number": 13,
       "text": [
        "array([ 1.,  1.])"
       ]
      }
     ],
     "prompt_number": 13
    },
    {
     "cell_type": "code",
     "collapsed": false,
     "input": [
      "opt = ProjectedGradient(maxIter=50, maxStep=0.3,debug=False, maxIterLS=20, tolCG=1e-5, maxIterCG=1000)\n",
      "opt.lower = -0.4\n",
      "opt.upper = 0.9\n",
      "inv = inverse.Inversion(prob,reg,opt,beta0=1e-4)\n",
      "m0 = np.zeros_like(m_true)\n",
      "\n",
      "mrecB = inv.run(m0)\n",
      "\n",
      "\n",
      "plt.figure(2)\n",
      "\n",
      "plt.plot(M.vectorCCx, m_true, 'b-')\n",
      "plt.plot(M.vectorCCx, mrecB, 'r-')\n",
      "\n",
      "plt.figure(3)\n",
      "\n",
      "plt.plot(M.vectorCCx, m_true, 'b-')\n",
      "plt.plot(M.vectorCCx, mrec, 'r-')"
     ],
     "language": "python",
     "metadata": {},
     "outputs": [
      {
       "output_type": "stream",
       "stream": "stdout",
       "text": [
        "=============================================== Projected Gradient ===============================================\n",
        "    #         beta         phi_d        phi_m          f            |g|       LS   itType   aSet    bSet  Comment\n",
        "-----------------------------------------------------------------------------------------------------------------\n",
        "     1      1.00e-04     9.56e+02     5.53e-03      9.57e+02      1.01e+04    10     SD      0       0           \n",
        "     2      1.00e-04     5.34e+02     1.46e+03      9.56e+02      9.45e+03     0    .CG.     0       0           "
       ]
      },
      {
       "output_type": "stream",
       "stream": "stdout",
       "text": [
        "\n",
        "     3      1.00e-04     2.33e+02     5.85e+03      5.34e+02      7.06e+03     0    .CG.     0       0           "
       ]
      },
      {
       "output_type": "stream",
       "stream": "stdout",
       "text": [
        "\n",
        "     4      1.00e-04     1.35e+02     9.13e+03      2.34e+02      4.66e+03     1    .CG.     18      18          "
       ]
      },
      {
       "output_type": "stream",
       "stream": "stdout",
       "text": [
        "\n",
        "     5      1.00e-04     1.29e+02     9.13e+03      1.36e+02      8.72e+03    10     SD      18      18          \n",
        "     6      1.00e-04     1.10e+02     1.30e+04      1.30e+02      3.33e+03     1    .CG.     59      0           "
       ]
      },
      {
       "output_type": "stream",
       "stream": "stdout",
       "text": [
        "\n",
        "     7      1.00e-04     6.32e+01     1.30e+04      1.11e+02      2.29e+04     9     SD      59      59          \n",
        "     8      1.00e-04     6.02e+01     1.34e+04      6.45e+01      1.14e+03     4    .CG.     79      9           "
       ]
      },
      {
       "output_type": "stream",
       "stream": "stdout",
       "text": [
        "\n",
        "     9      1.00e-04     5.86e+01     1.34e+04      6.15e+01      4.44e+03    11     SD      77      77   Stop SD\n",
        "    10      1.00e-04     4.10e+01     1.59e+04      6.00e+01      1.56e+03     2    .CG.    117      17          "
       ]
      },
      {
       "output_type": "stream",
       "stream": "stdout",
       "text": [
        "\n",
        "    11      1.00e-04     4.06e+01     1.59e+04      4.26e+01      2.11e+03    12     SD     106     106          \n",
        "    12      1.00e-04     4.06e+01     1.59e+04      4.22e+01      8.79e+02    14     SD      13      13   Stop SD\n",
        "    13      1.00e-04     4.06e+01     1.59e+04      4.22e+01      3.39e+02    15    .CG.    117     116          "
       ]
      },
      {
       "output_type": "stream",
       "stream": "stdout",
       "text": [
        "\n",
        "    14      1.00e-04     4.06e+01     1.59e+04      4.22e+01      3.61e+02    15     SD     116     116   Stop SD\n",
        "    15      1.00e-04     3.03e+01     1.89e+04      4.22e+01      4.18e+01     2    .CG.    152     152          "
       ]
      },
      {
       "output_type": "stream",
       "stream": "stdout",
       "text": [
        "\n",
        "    16      1.00e-04     2.86e+01     1.89e+04      3.22e+01      4.58e+03    11     SD     128     128          \n",
        "    17      1.00e-04     2.85e+01     1.89e+04      3.05e+01      1.39e+03    13     SD      9       9    Stop SD\n",
        "    18      1.00e-04     2.85e+01     1.89e+04      3.04e+01      1.06e+03    16    .CG.     30      30          "
       ]
      },
      {
       "output_type": "stream",
       "stream": "stdout",
       "text": [
        "\n",
        "    19      1.00e-04     2.85e+01     1.89e+04      3.04e+01      1.06e+03    13     SD     131     131   Stop SD\n",
        "    20      1.00e-04     2.84e+01     1.90e+04      3.04e+01      4.37e+02     8    .CG.    152      39          "
       ]
      },
      {
       "output_type": "stream",
       "stream": "stdout",
       "text": [
        "\n",
        "    21      1.00e-04     2.84e+01     1.90e+04      3.03e+01      1.22e+03    13     SD      30      30   Stop SD\n",
        "    22      1.00e-04     2.84e+01     1.90e+04      3.03e+01      1.22e+03    16    .CG.     37      17          "
       ]
      },
      {
       "output_type": "stream",
       "stream": "stdout",
       "text": [
        "\n",
        "    23      1.00e-04     2.83e+01     1.90e+04      3.03e+01      1.22e+03    13     SD     131     131          \n",
        "    24      1.00e-04     2.83e+01     1.90e+04      3.02e+01      2.77e+02    16     SD      34      34          \n",
        "    25      1.00e-04     2.83e+01     1.90e+04      3.02e+01      4.10e+01    17     SD     146     146   Stop SD\n",
        "    26      1.00e-04     2.74e+01     1.99e+04      3.02e+01      6.13e+01     4    .CG.    155     155          "
       ]
      },
      {
       "output_type": "stream",
       "stream": "stdout",
       "text": [
        "\n",
        "    27      1.00e-04     2.60e+01     1.99e+04      2.94e+01      4.10e+03    12     SD      29      29          \n",
        "    28      1.00e-04     2.60e+01     1.99e+04      2.80e+01      7.89e+02    13     SD      12      12          \n",
        "    29      1.00e-04     2.59e+01     1.99e+04      2.80e+01      7.15e+02    14     SD      34      34   Stop SD\n",
        "    30      1.00e-04     2.59e+01     1.99e+04      2.79e+01      5.00e+02    15    .CG.     46      29          "
       ]
      },
      {
       "output_type": "stream",
       "stream": "stdout",
       "text": [
        "\n",
        "    31      1.00e-04     2.59e+01     1.99e+04      2.79e+01      5.00e+02    14     SD     118     118   Stop SD\n",
        "    32      1.00e-04     1.27e+01     3.53e+04      2.79e+01      2.46e+02     0    .CG.    248     117          "
       ]
      },
      {
       "output_type": "stream",
       "stream": "stdout",
       "text": [
        "\n",
        "    33      1.00e-04     1.25e+01     3.53e+04      1.63e+01      1.88e+03    12     SD     167     167          \n",
        "    34      1.00e-04     1.24e+01     3.53e+04      1.61e+01      1.08e+03    14     SD      12      12   Stop SD\n",
        "    35      1.00e-04     1.24e+01     3.53e+04      1.60e+01      1.45e+02    16    .CG.    148     148          "
       ]
      },
      {
       "output_type": "stream",
       "stream": "stdout",
       "text": [
        "\n",
        "    36      1.00e-04     1.24e+01     3.53e+04      1.60e+01      1.49e+02    16     SD     156     156   Stop SD\n",
        "    37      1.00e-04     1.24e+01     3.53e+04      1.60e+01      4.08e+01    14    .CG.    233     233          "
       ]
      },
      {
       "output_type": "stream",
       "stream": "stdout",
       "text": [
        "\n",
        "    38      1.00e-04     1.24e+01     3.53e+04      1.60e+01      7.16e+01    18     SD     176     176   Stop SD\n",
        "    39      1.00e-04     1.24e+01     3.53e+04      1.60e+01      2.20e+01    12    .CG.    243     241          "
       ]
      },
      {
       "output_type": "stream",
       "stream": "stdout",
       "text": [
        "\n",
        "    40      1.00e-04     1.24e+01     3.53e+04      1.60e+01      1.63e+02    16     SD     185     185          \n",
        "    41      1.00e-04     1.24e+01     3.53e+04      1.60e+01      2.89e+01    19     SD     206     206          \n",
        "    42      1.00e-04     1.24e+01     3.53e+04      1.60e+01      2.48e+01    18     SD     221     221   Stop SD\n",
        "    43      1.00e-04     1.23e+01     3.54e+04      1.60e+01      3.12e+01     6    .CG.    243     242          "
       ]
      },
      {
       "output_type": "stream",
       "stream": "stdout",
       "text": [
        "\n",
        "    44      1.00e-04     1.23e+01     3.54e+04      1.59e+01      1.25e+03    13     SD      84      84          \n",
        "    45      1.00e-04     1.22e+01     3.54e+04      1.59e+01      1.16e+03    13     SD      20      20          \n",
        "    46      1.00e-04     1.22e+01     3.54e+04      1.58e+01      3.53e+02    15     SD      26      26          \n",
        "    47      1.00e-04     1.22e+01     3.54e+04      1.58e+01      2.58e+02    15     SD      43      43   Stop SD\n",
        "    48      1.00e-04     1.22e+01     3.54e+04      1.58e+01      1.18e+02    12    .CG.    211     100          "
       ]
      },
      {
       "output_type": "stream",
       "stream": "stdout",
       "text": [
        "\n",
        "    49      1.00e-04     1.22e+01     3.54e+04      1.58e+01      1.04e+02    16     SD     187     187          \n",
        "    50      1.00e-04     1.22e+01     3.54e+04      1.58e+01      7.87e+01    17     SD     137     137   Stop SD\n",
        "------------------------- STOP! -------------------------\n",
        "1 : |fc-fOld| = 1.6468e-04 <= tolF*(1+|f0|) = 9.5809e+01\n",
        "1 : |xc-x_last| = 2.6492e-05 <= tolX*(1+|x0|) = 1.0000e-01\n",
        "0 : |g|       = 1.6964e+01 <= tolG          = 1.0000e-01\n",
        "0 : |g|       = 7.2505e+01 <= 1e3*eps       = 1.0000e-02\n",
        "1 : maxIter   =      50    <= iter          =     50\n",
        "0 : probSize  =    1000   <= bindingSet      =    120\n",
        "------------------------- DONE! -------------------------\n"
       ]
      },
      {
       "metadata": {},
       "output_type": "pyout",
       "prompt_number": 17,
       "text": [
        "[<matplotlib.lines.Line2D at 0x10f7fd690>]"
       ]
      },
      {
       "metadata": {},
       "output_type": "display_data",
       "png": "[encoded data removed]",
       "text": [
        "<matplotlib.figure.Figure at 0x10fe0b110>"
       ]
      },
      {
       "metadata": {},
       "output_type": "display_data",
       "png": "[encoded data removed]",
       "text": [
        "<matplotlib.figure.Figure at 0x10fee6dd0>"
       ]
      }
     ],
     "prompt_number": 17
    },
    {
     "cell_type": "code",
     "collapsed": false,
     "input": [],
     "language": "python",
     "metadata": {},
     "outputs": []
    }
   ],
   "metadata": {}
  }
 ]
}