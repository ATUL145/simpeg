{
 "cells": [
  {
   "cell_type": "code",
   "execution_count": 1,
   "metadata": {
    "collapsed": false
   },
   "outputs": [],
   "source": [
    "import SimPEG as simpeg\n",
    "import simpegMT as simpegmt\n",
    "import numpy as np\n",
    "import matplotlib.pyplot as plt"
   ]
  },
  {
   "cell_type": "code",
   "execution_count": null,
   "metadata": {
    "collapsed": true
   },
   "outputs": [],
   "source": []
  },
  {
   "cell_type": "code",
   "execution_count": 2,
   "metadata": {
    "collapsed": false
   },
   "outputs": [],
   "source": [
    "## Setup the modelling\n",
    "# Setting up 1D mesh and conductivity models to forward model data.\n",
    "\n",
    "# Frequency\n",
    "nFreq = 31\n",
    "freqs = np.logspace(3,-3,nFreq)\n",
    "# Set mesh parameters\n",
    "ct = 10\n",
    "air = simpeg.Utils.meshTensor([(ct,25,1.3)])\n",
    "core = np.concatenate( (  np.kron(simpeg.Utils.meshTensor([(ct,5,-1.2)]),np.ones((3,))) , simpeg.Utils.meshTensor([(ct,5)]) ) )\n",
    "bot = simpeg.Utils.meshTensor([(core[0],25,-1.3)])\n",
    "x0 = -np.array([np.sum(np.concatenate((core,bot)))])\n",
    "# Make the model\n",
    "m1d = simpeg.Mesh.TensorMesh([np.concatenate((bot,core,air))], x0=x0)\n",
    "\n",
    "# Setup model varibles\n",
    "active = m1d.vectorCCx<0.\n",
    "layer1 = (m1d.vectorCCx<-200.) & (m1d.vectorCCx>=-600.)\n",
    "layer2 = (m1d.vectorCCx<-2000.) & (m1d.vectorCCx>=-4000.)\n",
    "# Set the conductivity values\n",
    "sig_half = 2e-3\n",
    "sig_air = 1e-8\n",
    "sig_layer1 = 1\n",
    "sig_layer2 = .1\n",
    "# Make the true model\n",
    "sigma_true = np.ones(m1d.nCx)*sig_air\n",
    "sigma_true[active] = sig_half\n",
    "sigma_true[layer1] = sig_layer1\n",
    "sigma_true[layer2] = sig_layer2\n",
    "# Extract the model \n",
    "m_true = np.log(sigma_true[active])\n",
    "# Make the background model\n",
    "sigma_0 = np.ones(m1d.nCx)*sig_air\n",
    "sigma_0[active] = sig_half\n",
    "m_0 = np.log(sigma_0[active])\n",
    "\n",
    "# Set the mapping\n",
    "actMap = simpeg.Maps.ActiveCells(m1d, active, np.log(1e-8), nC=m1d.nCx)\n",
    "mappingExpAct = simpeg.Maps.ExpMap(m1d) * actMap"
   ]
  },
  {
   "cell_type": "code",
   "execution_count": 3,
   "metadata": {
    "collapsed": false
   },
   "outputs": [],
   "source": [
    "## Setup the layout of the survey, set the sources and the connected receivers\n",
    "\n",
    "# Receivers \n",
    "rxList = []\n",
    "for rxType in ['z1dr','z1di']:\n",
    "    rxList.append(simpegmt.SurveyMT.RxMT(simpeg.mkvc(np.array([0.0]),2).T,rxType))\n",
    "# Source list\n",
    "srcList =[]\n",
    "for freq in freqs:\n",
    "        srcList.append(simpegmt.SurveyMT.srcMT_polxy_1Dprimary(rxList,freq))\n",
    "# Make the survey\n",
    "survey = simpegmt.SurveyMT.SurveyMT(srcList)\n",
    "survey.mtrue = m_true\n",
    "# Set the problem\n",
    "problem = simpegmt.ProblemMT1D.eForm_psField(m1d,sigmaPrimary=sigma_0,mapping=mappingExpAct)\n",
    "from pymatsolver import MumpsSolver\n",
    "problem.solver = MumpsSolver\n",
    "problem.pair(survey)"
   ]
  },
  {
   "cell_type": "code",
   "execution_count": 4,
   "metadata": {
    "collapsed": false
   },
   "outputs": [],
   "source": [
    "## Read the data\n",
    "std = 0.05 # 5% std\n",
    "# Load the files if they exist\n",
    "if os.path.isfile('MT1D_dtrue.npy') and os.path.isfile('MT1D_dobs.npy'):\n",
    "    d_true = np.load('MT1D_dtrue.npy')\n",
    "    d_obs = np.load('MT1D_dobs.npy')\n",
    "else:\n",
    "    # Forward model\n",
    "    d_true = survey.dpred(m_true)\n",
    "    np.save('MT1D_dtrue.npy',d_true)\n",
    "    d_obs = d_true + (std*abs(d_true)*np.random.randn(*d_true.shape))\n",
    "    np.save('MT1D_dobs.npy',d_obs)\n",
    "# Assign the datas to the survey object\n",
    "survey.dtrue = d_true\n",
    "survey.dobs = d_obs\n",
    "survey.std = survey.dobs*0 + std\n",
    "# Assign the data weight\n",
    "survey.Wd = 1/(abs(survey.dobs)*survey.std)"
   ]
  },
  {
   "cell_type": "code",
   "execution_count": 23,
   "metadata": {
    "collapsed": false
   },
   "outputs": [],
   "source": [
    "## Setup the inversion proceedure\n",
    "\n",
    "# Define a counter\n",
    "C =  simpeg.Utils.Counter()\n",
    "# Set the optimization\n",
    "opt = simpeg.Optimization.InexactGaussNewton(maxIter = 30)\n",
    "opt.counter = C\n",
    "opt.LSshorten = 0.5\n",
    "opt.remember('xc')\n",
    "# Data misfit\n",
    "dmis = simpeg.DataMisfit.l2_DataMisfit(survey)\n",
    "# Regularization\n",
    "# Note: We want you use a mesh the corresponds to the domain we want to solve, the active cells.\n",
    "if False:\n",
    "    regMesh = simpeg.Mesh.TensorMesh([m1d.hx[problem.mapping.sigmaMap.maps[-1].indActive]],m1d.x0)\n",
    "    reg = simpeg.Regularization.Tikhonov(regMesh)\n",
    "else:\n",
    "    reg = simpeg.Regularization.Tikhonov(m1d,mapping=mappingExpAct)\n",
    "reg.alpha_s = 1e-8\n",
    "reg.alpha_x = 1.\n",
    "# Inversion problem\n",
    "invProb = simpeg.InvProblem.BaseInvProblem(dmis, reg, opt)\n",
    "invProb.counter = C\n",
    "# Beta cooling\n",
    "beta = simpeg.Directives.BetaSchedule()\n",
    "betaest = simpeg.Directives.BetaEstimate_ByEig(beta0_ratio=0.75)\n",
    "saveModel = simpeg.Directives.SaveModelEveryIteration()\n",
    "saveModel.fileName = 'Inversion_NoStopping'\n",
    "# Create an inversion object\n",
    "inv = simpeg.Inversion.BaseInversion(invProb, directiveList=[beta,betaest,saveModel]) \n"
   ]
  },
  {
   "cell_type": "code",
   "execution_count": 24,
   "metadata": {
    "collapsed": false,
    "scrolled": false
   },
   "outputs": [
    {
     "name": "stdout",
     "output_type": "stream",
     "text": [
      "SimPEG.InvProblem will set Regularization.mref to m0.\n",
      "SimPEG.InvProblem is setting bfgsH0 to the inverse of the eval2Deriv.\n",
      "                    ***Done using same solver as the problem***\n",
      "SimPEG.l2_DataMisfit is creating default weightings for Wd.\n",
      "SimPEG.SaveModelEveryIteration will save your models as: '###-Inversion_NoStopping.npy'\n",
      "============================ Inexact Gauss Newton ============================\n",
      "  #     beta     phi_d     phi_m       f      |proj(x-g)-x|  LS    Comment   \n",
      "-----------------------------------------------------------------------------\n",
      "   0  3.97e+05  1.32e+06  1.77e-07  1.32e+06    3.23e+05      0              \n",
      "   1  3.97e+05  1.89e+05  3.57e-07  1.89e+05    4.74e+04      0              \n",
      "   2  3.97e+05  3.88e+04  4.77e-06  3.88e+04    1.11e+04      0   Skip BFGS  \n",
      "   3  4.96e+04  3.69e+04  5.13e-06  3.69e+04    1.05e+04      0   Skip BFGS  \n",
      "   4  4.96e+04  2.71e+04  8.22e-06  2.71e+04    7.80e+03      0   Skip BFGS  \n",
      "   5  4.96e+04  2.34e+04  1.04e-05  2.34e+04    6.80e+03      0   Skip BFGS  \n",
      "   6  6.21e+03  2.11e+04  1.23e-05  2.11e+04    6.19e+03      0   Skip BFGS  \n",
      "   7  6.21e+03  1.27e+04  2.87e-05  1.27e+04    3.95e+03      0   Skip BFGS  \n",
      "   8  6.21e+03  1.07e+04  3.77e-05  1.07e+04    3.41e+03      0   Skip BFGS  \n",
      "   9  7.76e+02  9.53e+03  4.53e-05  9.53e+03    3.09e+03      0   Skip BFGS  \n",
      "  10  7.76e+02  5.51e+03  1.06e-04  5.51e+03    1.97e+03      0   Skip BFGS  \n",
      "  11  7.76e+02  4.57e+03  1.39e-04  4.57e+03    1.69e+03      0   Skip BFGS  \n",
      "  12  9.70e+01  4.02e+03  1.66e-04  4.02e+03    1.53e+03      0   Skip BFGS  \n",
      "  13  9.70e+01  2.27e+03  3.59e-04  2.27e+03    9.73e+02      0   Skip BFGS  \n",
      "  14  9.70e+01  1.83e+03  4.62e-04  1.83e+03    8.24e+02      0   Skip BFGS  \n",
      "  15  1.21e+01  1.57e+03  5.44e-04  1.57e+03    7.36e+02      0   Skip BFGS  \n",
      "  16  1.21e+01  8.91e+02  1.06e-03  8.91e+02    4.57e+02      0   Skip BFGS  \n",
      "  17  1.21e+01  6.95e+02  1.35e-03  6.95e+02    3.66e+02      0   Skip BFGS  \n",
      "  18  1.51e+00  5.92e+02  1.57e-03  5.92e+02    3.13e+02      0   Skip BFGS  \n",
      "  19  1.51e+00  3.56e+02  2.57e-03  3.56e+02    1.75e+02      0   Skip BFGS  \n",
      "  20  1.51e+00  3.22e+02  3.06e-03  3.22e+02    1.53e+02      0   Skip BFGS  \n",
      "  21  1.89e-01  2.75e+02  3.38e-03  2.75e+02    1.25e+02      0              \n",
      "  22  1.89e-01  1.98e+02  4.78e-03  1.98e+02    8.83e+01      0   Skip BFGS  \n",
      "  23  1.89e-01  1.51e+02  5.79e-03  1.51e+02    7.53e+01      0              \n",
      "  24  2.37e-02  1.19e+02  6.62e-03  1.19e+02    6.26e+01      0   Skip BFGS  \n",
      "  25  2.37e-02  8.19e+01  1.04e-02  8.19e+01    4.51e+01      0   Skip BFGS  \n",
      "  26  2.37e-02  7.08e+01  1.12e-02  7.08e+01    3.79e+01      1              \n",
      "  27  2.96e-03  5.49e+01  1.16e-02  5.49e+01    3.51e+01      0              \n",
      "  28  2.96e-03  4.67e+01  1.23e-02  4.67e+01    3.03e+01      1              \n",
      "  29  2.96e-03  3.27e+01  1.32e-02  3.27e+01    3.13e+01      0              \n",
      "  30  3.70e-04  2.51e+01  1.36e-02  2.51e+01    2.30e+01      0              \n",
      "------------------------- STOP! -------------------------\n",
      "1 : |fc-fOld| = 7.6530e+00 <= tolF*(1+|f0|) = 1.3164e+05\n",
      "1 : |xc-x_last| = 4.1960e+00 <= tolX*(1+|x0|) = 4.2689e+00\n",
      "0 : |proj(x-g)-x|    = 2.2988e+01 <= tolG          = 1.0000e-01\n",
      "0 : |proj(x-g)-x|    = 2.2988e+01 <= 1e3*eps       = 1.0000e-02\n",
      "1 : maxIter   =      30    <= iter          =     30\n",
      "------------------------- DONE! -------------------------\n"
     ]
    }
   ],
   "source": [
    "# Run the inversion, given the background model as a start.\n",
    "mopt = inv.run(m_0)"
   ]
  },
  {
   "cell_type": "code",
   "execution_count": 21,
   "metadata": {
    "collapsed": false
   },
   "outputs": [],
   "source": [
    "modList = []\n",
    "modFiles = glob('*Inversion_NoStopping.npy')\n",
    "modFiles.sort()\n",
    "for f in modFiles:\n",
    "    modList.append(np.load(f))"
   ]
  },
  {
   "cell_type": "code",
   "execution_count": 22,
   "metadata": {
    "collapsed": false
   },
   "outputs": [],
   "source": [
    "simpegmt.Utils.dataUtils.plotMT1DModelData(problem,modList)\n",
    "plt.show()\n"
   ]
  },
  {
   "cell_type": "code",
   "execution_count": null,
   "metadata": {
    "collapsed": false
   },
   "outputs": [],
   "source": [
    "%matplotlib qt\n",
    "simpegmt.Utils.dataUtils.plotMT1DModelData(problem,modList)\n",
    "plt.show()"
   ]
  },
  {
   "cell_type": "code",
   "execution_count": null,
   "metadata": {
    "collapsed": false
   },
   "outputs": [],
   "source": [
    "%matplotlib qt\n",
    "simpegmt.Utils.dataUtils.plotMT1DModelData(problem,modList[-3:-1])\n",
    "plt.show()"
   ]
  },
  {
   "cell_type": "code",
   "execution_count": null,
   "metadata": {
    "collapsed": true
   },
   "outputs": [],
   "source": []
  }
 ],
 "metadata": {
  "kernelspec": {
   "display_name": "Python 2",
   "language": "python",
   "name": "python2"
  },
  "language_info": {
   "codemirror_mode": {
    "name": "ipython",
    "version": 2
   },
   "file_extension": ".py",
   "mimetype": "text/x-python",
   "name": "python",
   "nbconvert_exporter": "python",
   "pygments_lexer": "ipython2",
   "version": "2.7.10"
  }
 },
 "nbformat": 4,
 "nbformat_minor": 0
}
