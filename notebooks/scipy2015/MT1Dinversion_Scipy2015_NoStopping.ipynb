{
 "cells": [
  {
   "cell_type": "code",
   "execution_count": 1,
   "metadata": {
    "collapsed": false
   },
   "outputs": [],
   "source": [
    "import SimPEG as simpeg\n",
    "import simpegMT as simpegmt\n",
    "import numpy as np\n",
    "import matplotlib.pyplot as plt"
   ]
  },
  {
   "cell_type": "code",
   "execution_count": null,
   "metadata": {
    "collapsed": true
   },
   "outputs": [],
   "source": []
  },
  {
   "cell_type": "code",
   "execution_count": 2,
   "metadata": {
    "collapsed": false
   },
   "outputs": [],
   "source": [
    "## Setup the modelling\n",
    "# Setting up 1D mesh and conductivity models to forward model data.\n",
    "\n",
    "# Frequency\n",
    "nFreq = 31\n",
    "freqs = np.logspace(3,-3,nFreq)\n",
    "# Set mesh parameters\n",
    "ct = 20\n",
    "air = simpeg.Utils.meshTensor([(ct,16,1.4)])\n",
    "core = np.concatenate( (  np.kron(simpeg.Utils.meshTensor([(ct,10,-1.3)]),np.ones((5,))) , simpeg.Utils.meshTensor([(ct,5)]) ) )\n",
    "bot = simpeg.Utils.meshTensor([(core[0],10,-1.4)])\n",
    "x0 = -np.array([np.sum(np.concatenate((core,bot)))])\n",
    "# Make the model\n",
    "m1d = simpeg.Mesh.TensorMesh([np.concatenate((bot,core,air))], x0=x0)\n",
    "\n",
    "# Setup model varibles\n",
    "active = m1d.vectorCCx<0.\n",
    "layer1 = (m1d.vectorCCx<-500.) & (m1d.vectorCCx>=-800.)\n",
    "layer2 = (m1d.vectorCCx<-3500.) & (m1d.vectorCCx>=-5000.)\n",
    "# Set the conductivity values\n",
    "sig_half = 2e-3\n",
    "sig_air = 1e-8\n",
    "sig_layer1 = .2\n",
    "sig_layer2 = .2\n",
    "# Make the true model\n",
    "sigma_true = np.ones(m1d.nCx)*sig_air\n",
    "sigma_true[active] = sig_half\n",
    "sigma_true[layer1] = sig_layer1\n",
    "sigma_true[layer2] = sig_layer2\n",
    "# Extract the model \n",
    "m_true = np.log(sigma_true[active])\n",
    "# Make the background model\n",
    "sigma_0 = np.ones(m1d.nCx)*sig_air\n",
    "sigma_0[active] = sig_half\n",
    "m_0 = np.log(sigma_0[active])\n",
    "\n",
    "# Set the mapping\n",
    "actMap = simpeg.Maps.ActiveCells(m1d, active, np.log(1e-8), nC=m1d.nCx)\n",
    "mappingExpAct = simpeg.Maps.ExpMap(m1d) * actMap"
   ]
  },
  {
   "cell_type": "code",
   "execution_count": 3,
   "metadata": {
    "collapsed": false
   },
   "outputs": [],
   "source": [
    "## Setup the layout of the survey, set the sources and the connected receivers\n",
    "\n",
    "# Receivers \n",
    "rxList = []\n",
    "for rxType in ['z1dr','z1di']:\n",
    "    rxList.append(simpegmt.SurveyMT.RxMT(simpeg.mkvc(np.array([0.0]),2).T,rxType))\n",
    "# Source list\n",
    "srcList =[]\n",
    "for freq in freqs:\n",
    "        srcList.append(simpegmt.SurveyMT.srcMT_polxy_1Dprimary(rxList,freq))\n",
    "# Make the survey\n",
    "survey = simpegmt.SurveyMT.SurveyMT(srcList)\n",
    "survey.mtrue = m_true\n",
    "# Set the problem\n",
    "problem = simpegmt.ProblemMT1D.eForm_psField(m1d,sigmaPrimary=sigma_0,mapping=mappingExpAct)\n",
    "from pymatsolver import MumpsSolver\n",
    "problem.solver = MumpsSolver\n",
    "problem.pair(survey)"
   ]
  },
  {
   "cell_type": "code",
   "execution_count": 4,
   "metadata": {
    "collapsed": false
   },
   "outputs": [],
   "source": [
    "## Read the data\n",
    "std = 0.05 # 5% std\n",
    "# Load the files if they exist\n",
    "if os.path.isfile('MT1D_dtrue.npy') and os.path.isfile('MT1D_dobs.npy'):\n",
    "    d_true = np.load('MT1D_dtrue.npy')\n",
    "    d_obs = np.load('MT1D_dobs.npy')\n",
    "else:\n",
    "    # Forward model\n",
    "    d_true = survey.dpred(m_true)\n",
    "    np.save('MT1D_dtrue.npy',d_true)\n",
    "    d_obs = d_true + (std*abs(d_true)*np.random.randn(*d_true.shape))\n",
    "    np.save('MT1D_dobs.npy',d_obs)\n",
    "# Assign the datas to the survey object\n",
    "survey.dtrue = d_true\n",
    "survey.dobs = d_obs\n",
    "survey.std = np.abs(survey.dobs*std) + 0.01*np.linalg.norm(survey.dobs) #survey.dobs*0 + std\n",
    "# Assign the data weight\n",
    "survey.Wd = 1/survey.std #(abs(survey.dobs)*survey.std)"
   ]
  },
  {
   "cell_type": "code",
   "execution_count": 5,
   "metadata": {
    "collapsed": false
   },
   "outputs": [],
   "source": [
    "## Setup the inversion proceedure\n",
    "\n",
    "# Define a counter\n",
    "C =  simpeg.Utils.Counter()\n",
    "# Set the optimization\n",
    "opt = simpeg.Optimization.InexactGaussNewton(maxIter = 30)\n",
    "opt.counter = C\n",
    "opt.LSshorten = 0.5\n",
    "opt.remember('xc')\n",
    "# Data misfit\n",
    "dmis = simpeg.DataMisfit.l2_DataMisfit(survey)\n",
    "# Regularization\n",
    "# Note: We want you use a mesh the corresponds to the domain we want to solve, the active cells.\n",
    "if True:\n",
    "    regMesh = simpeg.Mesh.TensorMesh([m1d.hx[problem.mapping.sigmaMap.maps[-1].indActive]],m1d.x0)\n",
    "    reg = simpeg.Regularization.Tikhonov(regMesh)\n",
    "else:\n",
    "    reg = simpeg.Regularization.Tikhonov(m1d,mapping=mappingExpAct)\n",
    "reg.smoothModel = True\n",
    "reg.alpha_s = 1e-9\n",
    "reg.alpha_x = 1.\n",
    "# reg.alpha_xx = 0.001\n",
    "# Inversion problem\n",
    "invProb = simpeg.InvProblem.BaseInvProblem(dmis, reg, opt)\n",
    "invProb.counter = C\n",
    "# Beta cooling\n",
    "beta = simpeg.Directives.BetaSchedule()\n",
    "betaest = simpeg.Directives.BetaEstimate_ByEig(beta0_ratio=0.75)\n",
    "saveModel = simpeg.Directives.SaveModelEveryIteration()\n",
    "saveModel.fileName = 'Inversion_NoStoppingregMesh_smoothTrue'\n",
    "# Create an inversion object\n",
    "inv = simpeg.Inversion.BaseInversion(invProb, directiveList=[beta,betaest,saveModel]) \n"
   ]
  },
  {
   "cell_type": "code",
   "execution_count": 6,
   "metadata": {
    "collapsed": false,
    "scrolled": true
   },
   "outputs": [
    {
     "name": "stdout",
     "output_type": "stream",
     "text": [
      "SimPEG.InvProblem will set Regularization.mref to m0.\n",
      "SimPEG.InvProblem is setting bfgsH0 to the inverse of the eval2Deriv.\n",
      "                    ***Done using same solver as the problem***\n",
      "SimPEG.l2_DataMisfit is creating default weightings for Wd.\n",
      "SimPEG.SaveModelEveryIteration will save your models as: '###-Inversion_NoStoppingregMesh_smoothTrue.npy'\n",
      "============================ Inexact Gauss Newton ============================\n",
      "  #     beta     phi_d     phi_m       f      |proj(x-g)-x|  LS    Comment   \n",
      "-----------------------------------------------------------------------------\n",
      "   0  2.08e+05  2.18e+05  0.00e+00  2.18e+05    4.01e+04      0              \n",
      "   1  2.08e+05  2.52e+04  2.37e-04  2.52e+04    6.20e+03      0              \n",
      "   2  2.08e+05  3.46e+03  3.27e-04  3.53e+03    1.03e+03      0   Skip BFGS  \n",
      "   3  2.60e+04  1.72e+03  2.64e-04  1.73e+03    2.61e+02      0   Skip BFGS  \n",
      "   4  2.60e+04  1.03e+03  1.19e-02  1.34e+03    2.44e+02      0   Skip BFGS  \n",
      "   5  2.60e+04  6.85e+02  1.56e-02  1.09e+03    1.35e+02      0              \n",
      "   6  3.26e+03  5.82e+02  1.78e-02  6.40e+02    1.19e+02      0              \n",
      "   7  3.26e+03  3.67e+02  4.78e-02  5.22e+02    1.40e+02      0              \n",
      "   8  3.26e+03  2.60e+02  5.72e-02  4.46e+02    2.06e+02      0              \n",
      "   9  4.07e+02  2.10e+02  6.04e-02  2.34e+02    6.61e+01      0              \n",
      "  10  4.07e+02  1.76e+02  9.60e-02  2.15e+02    1.65e+02      0              \n",
      "  11  4.07e+02  1.56e+02  1.22e-01  2.05e+02    9.68e+01      0              \n",
      "  12  5.09e+01  1.29e+02  1.28e-01  1.35e+02    5.89e+01      0              \n",
      "  13  5.09e+01  1.24e+02  1.85e-01  1.34e+02    7.24e+01      0              \n",
      "  14  5.09e+01  1.19e+02  2.56e-01  1.32e+02    7.95e+01      0              \n",
      "  15  6.36e+00  1.10e+02  2.10e-01  1.12e+02    5.28e+01      0              \n",
      "  16  6.36e+00  7.67e+01  3.60e-01  7.89e+01    5.36e+01      0   Skip BFGS  \n",
      "  17  6.36e+00  7.19e+01  3.11e-01  7.39e+01    3.66e+01      0              \n",
      "  18  7.95e-01  6.99e+01  3.06e-01  7.02e+01    3.89e+01      0   Skip BFGS  \n",
      "  19  7.95e-01  6.92e+01  3.20e-01  6.94e+01    3.72e+01      0              \n",
      "  20  7.95e-01  6.21e+01  3.14e-01  6.24e+01    8.88e+01      2   Skip BFGS  \n",
      "  21  9.94e-02  5.69e+01  2.69e-01  5.69e+01    3.19e+01      0              \n",
      "  22  9.94e-02  5.62e+01  2.83e-01  5.63e+01    2.62e+01      0              \n",
      "  23  9.94e-02  5.46e+01  2.44e-01  5.47e+01    4.84e+01      1              \n",
      "  24  1.24e-02  5.41e+01  2.08e-01  5.41e+01    4.43e+01      1   Skip BFGS  \n",
      "  25  1.24e-02  5.36e+01  2.09e-01  5.36e+01    4.26e+01      1              \n",
      "  26  1.24e-02  5.30e+01  1.99e-01  5.30e+01    2.34e+01      0   Skip BFGS  \n",
      "  27  1.55e-03  5.29e+01  1.76e-01  5.29e+01    3.42e+01      0              \n",
      "  28  1.55e-03  5.28e+01  1.81e-01  5.28e+01    3.56e+01      0              \n",
      "  29  1.55e-03  5.28e+01  1.75e-01  5.28e+01    3.75e+01      1              \n",
      "  30  1.94e-04  4.75e+01  1.49e-01  4.75e+01    8.32e+01      1              \n",
      "------------------------- STOP! -------------------------\n",
      "1 : |fc-fOld| = 5.2783e+00 <= tolF*(1+|f0|) = 2.1833e+04\n",
      "0 : |xc-x_last| = 7.4766e+00 <= tolX*(1+|x0|) = 5.1104e+00\n",
      "0 : |proj(x-g)-x|    = 8.3205e+01 <= tolG          = 1.0000e-01\n",
      "0 : |proj(x-g)-x|    = 8.3205e+01 <= 1e3*eps       = 1.0000e-02\n",
      "1 : maxIter   =      30    <= iter          =     30\n",
      "------------------------- DONE! -------------------------\n"
     ]
    }
   ],
   "source": [
    "# Run the inversion, given the background model as a start.\n",
    "mopt = inv.run(m_0)"
   ]
  },
  {
   "cell_type": "code",
   "execution_count": 7,
   "metadata": {
    "collapsed": false
   },
   "outputs": [],
   "source": [
    "modList = []\n",
    "modFiles = glob('*Inversion_NoStoppingregMesh_smoothTrue.npy')\n",
    "modFiles.sort()\n",
    "for f in modFiles:\n",
    "    modList.append(np.load(f))"
   ]
  },
  {
   "cell_type": "code",
   "execution_count": 8,
   "metadata": {
    "collapsed": false
   },
   "outputs": [],
   "source": [
    "# simpegmt.Utils.dataUtils.plotMT1DModelData(problem,modList)\n",
    "# plt.show()\n"
   ]
  },
  {
   "cell_type": "code",
   "execution_count": 9,
   "metadata": {
    "collapsed": false
   },
   "outputs": [],
   "source": [
    "# %matplotlib qt\n",
    "# fig= simpegmt.Utils.dataUtils.plotMT1DModelData(problem,modList[-3:-1])\n",
    "# fig.suptitle('No stopping-useMref ')\n",
    "# plt.show()"
   ]
  },
  {
   "cell_type": "code",
   "execution_count": 10,
   "metadata": {
    "collapsed": false
   },
   "outputs": [
    {
     "name": "stderr",
     "output_type": "stream",
     "text": [
      "/home/gudni/anaconda/lib/python2.7/site-packages/numpy/ma/core.py:2834: FutureWarning: Numpy has detected that you (may be) writing to an array returned\n",
      "by numpy.diagonal or by selecting multiple fields in a record\n",
      "array. This code will likely break in a future numpy release --\n",
      "see numpy.diagonal or arrays.indexing reference docs for details.\n",
      "The quick fix is to make an explicit copy (e.g., do\n",
      "arr.diagonal().copy() or arr[['f0','f1']].copy()).\n",
      "  if (obj.__array_interface__[\"data\"][0]\n",
      "/home/gudni/anaconda/lib/python2.7/site-packages/numpy/ma/core.py:2835: FutureWarning: Numpy has detected that you (may be) writing to an array returned\n",
      "by numpy.diagonal or by selecting multiple fields in a record\n",
      "array. This code will likely break in a future numpy release --\n",
      "see numpy.diagonal or arrays.indexing reference docs for details.\n",
      "The quick fix is to make an explicit copy (e.g., do\n",
      "arr.diagonal().copy() or arr[['f0','f1']].copy()).\n",
      "  != self.__array_interface__[\"data\"][0]):\n"
     ]
    }
   ],
   "source": [
    "%matplotlib qt\n",
    "fig = simpegmt.Utils.dataUtils.plotMT1DModelData(problem,[m_0,mopt])\n",
    "fig.suptitle('No stopping-useMref')\n",
    "plt.show()"
   ]
  },
  {
   "cell_type": "code",
   "execution_count": 11,
   "metadata": {
    "collapsed": true
   },
   "outputs": [],
   "source": [
    "plt.show()"
   ]
  },
  {
   "cell_type": "code",
   "execution_count": 12,
   "metadata": {
    "collapsed": false
   },
   "outputs": [
    {
     "data": {
      "text/plain": [
       "array([  4.26403069e+01,   3.00486580e+02,   1.66374083e+02,\n",
       "         7.56749193e+00,   1.95232762e+00,   1.28591697e+01,\n",
       "         9.25428204e+01,   1.58941963e+02,   1.23328303e+02,\n",
       "         7.51647545e+01,   4.59620120e+01,   2.84873346e+01,\n",
       "         1.67854087e+01,   9.65288171e+00,   5.69417961e+00,\n",
       "         4.11415753e+00,   4.04091270e+00,   5.89702878e+00,\n",
       "         1.03685013e+01,   1.49615226e+01,   1.78450685e+01,\n",
       "         2.21298842e+01,   3.14894964e+01,   5.03867813e+01,\n",
       "         8.57783978e+01,   1.39225191e+02,   2.10683526e+02,\n",
       "         3.13430053e+02,   4.54348237e+02,   6.35619644e+02,\n",
       "         8.20077602e+02,   9.86597201e+02,   1.13311026e+03,\n",
       "         1.22681391e+03,   1.23177188e+03,   1.13462480e+03,\n",
       "         9.82900015e+02,   7.79370193e+02,   5.53800277e+02,\n",
       "         3.42690620e+02,   1.91257904e+02,   1.00287868e+02,\n",
       "         4.40936077e+01,   1.57081219e+01,   4.84819824e+00,\n",
       "         2.37649055e+00,   2.81483584e+00,   7.91239926e+00,\n",
       "         3.26193232e+01,   1.10105145e+02,   2.29971251e+02,\n",
       "         3.48665470e+02,   4.30985817e+02,   4.28578461e+02,\n",
       "         3.43909988e+02,   2.60243364e+02,   2.15181922e+02,\n",
       "         2.03527866e+02,   2.38158572e+02,   3.70346010e+02,\n",
       "         6.61570166e+02,   1.12877904e+03,   1.82064196e+03,\n",
       "         2.57897162e+03,   3.02323079e+03])"
      ]
     },
     "execution_count": 12,
     "metadata": {},
     "output_type": "execute_result"
    }
   ],
   "source": [
    "1/np.exp(mopt)"
   ]
  },
  {
   "cell_type": "code",
   "execution_count": null,
   "metadata": {
    "collapsed": true
   },
   "outputs": [],
   "source": []
  }
 ],
 "metadata": {
  "kernelspec": {
   "display_name": "Python 2",
   "language": "python",
   "name": "python2"
  },
  "language_info": {
   "codemirror_mode": {
    "name": "ipython",
    "version": 2
   },
   "file_extension": ".py",
   "mimetype": "text/x-python",
   "name": "python",
   "nbconvert_exporter": "python",
   "pygments_lexer": "ipython2",
   "version": "2.7.10"
  }
 },
 "nbformat": 4,
 "nbformat_minor": 0
}
