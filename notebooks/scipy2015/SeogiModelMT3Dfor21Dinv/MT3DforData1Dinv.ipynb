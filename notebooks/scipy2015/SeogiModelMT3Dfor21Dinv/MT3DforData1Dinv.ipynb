{
 "cells": [
  {
   "cell_type": "code",
   "execution_count": 1,
   "metadata": {
    "collapsed": true
   },
   "outputs": [],
   "source": [
    "## Forward model a data"
   ]
  },
  {
   "cell_type": "code",
   "execution_count": 2,
   "metadata": {
    "collapsed": false
   },
   "outputs": [],
   "source": [
    "import SimPEG as simpeg\n",
    "import simpegMT as simpegmt\n",
    "from simpegMT.Utils.dataUtils import rec2ndarr\n",
    "import cPickle as pickle"
   ]
  },
  {
   "cell_type": "code",
   "execution_count": 3,
   "metadata": {
    "collapsed": false
   },
   "outputs": [],
   "source": [
    "## Setup the forward modeling\n",
    "# Read the model\n",
    "modelname = \"simpegTDmodel.con\"\n",
    "sigma = np.loadtxt(modelname)\n",
    "# Make the mesh.\n",
    "mTensor = simpeg.Utils.meshTensor\n",
    "cSize = [50,20]\n",
    "# Cells constant size mesh\n",
    "hx = mTensor([(cSize[0],50)])\n",
    "hy = mTensor([(cSize[0],50)])\n",
    "hz = mTensor([(cSize[1],48)])\n",
    "x0 = np.array([-1250,-1250,- 30*20])\n",
    "mesh3dCons = simpeg.Mesh.TensorMesh([hx,hy,hz],x0)\n",
    "# With padding\n",
    "hPad = mTensor([(cSize[0],5,1.5)])\n",
    "aPad = mTensor([(cSize[1],13,1.3)])\n",
    "bPad = mTensor([(cSize[1],5,-1.5)])\n",
    "hxPad = np.hstack((hPad[::-1],mTensor([(cSize[0],40)]),hPad))\n",
    "hyPad = np.hstack((hPad[::-1],mTensor([(cSize[0],40)]),hPad))\n",
    "hzPad = np.hstack((bPad,mTensor([(cSize[1],30)]),aPad))\n",
    "x0Pad = np.array([-(np.sum(hPad)+1000),-(np.sum(hPad)+1000),-(np.sum(bPad)+600)])\n",
    "mesh3d = simpeg.Mesh.TensorMesh([hxPad,hyPad,hzPad],x0Pad)"
   ]
  },
  {
   "cell_type": "code",
   "execution_count": 4,
   "metadata": {
    "collapsed": false
   },
   "outputs": [
    {
     "data": {
      "text/plain": [
       "995.625"
      ]
     },
     "execution_count": 4,
     "metadata": {},
     "output_type": "execute_result"
    }
   ],
   "source": [
    "(np.sum(bPad)+600)"
   ]
  },
  {
   "cell_type": "code",
   "execution_count": 5,
   "metadata": {
    "collapsed": false
   },
   "outputs": [
    {
     "data": {
      "text/plain": [
       "array([ 151.875,  101.25 ,   67.5  ,   45.   ,   30.   ])"
      ]
     },
     "execution_count": 5,
     "metadata": {},
     "output_type": "execute_result"
    }
   ],
   "source": [
    "bPad"
   ]
  },
  {
   "cell_type": "code",
   "execution_count": 6,
   "metadata": {
    "collapsed": true
   },
   "outputs": [],
   "source": [
    "!nautilus ."
   ]
  },
  {
   "cell_type": "code",
   "execution_count": 7,
   "metadata": {
    "collapsed": false
   },
   "outputs": [],
   "source": [
    "# Load the model to the uniform cell mesh\n",
    "modelUniCell = simpeg.Utils.meshutils.readUBCTensorModel(modelname,mesh3dCons)\n",
    "# Save as a vtk file\n",
    "simpeg.Utils.meshutils.writeVTRFile('modelTDuniMesh.vtr',mesh3dCons,{'S/m':modelUniCell})"
   ]
  },
  {
   "cell_type": "code",
   "execution_count": 8,
   "metadata": {
    "collapsed": false,
    "scrolled": true
   },
   "outputs": [],
   "source": [
    "# Load the model to the mesh with padding cells\n",
    "modelTD = simpeg.Utils.meshutils.readUBCTensorModel(modelname,mesh3d)\n",
    "# Save as a vtk file\n",
    "simpeg.Utils.meshutils.writeVTRFile('modelTDpaddedMesh.vtr',mesh3d,{'S/m':modelTD})"
   ]
  },
  {
   "cell_type": "code",
   "execution_count": 9,
   "metadata": {
    "collapsed": false
   },
   "outputs": [],
   "source": [
    "# Define the data locations\n",
    "xG,yG = np.meshgrid(np.linspace(-700,700,8),np.linspace(-700,700,8))\n",
    "zG = np.zeros_like(xG)\n",
    "locs = np.hstack((simpeg.mkvc(xG.ravel(),2),simpeg.mkvc(yG.ravel(),2),simpeg.mkvc(zG.ravel(),2)))"
   ]
  },
  {
   "cell_type": "code",
   "execution_count": 10,
   "metadata": {
    "collapsed": false
   },
   "outputs": [],
   "source": [
    "# Make the receiver list\n",
    "rxList = []\n",
    "for rxType in ['zxxr','zxxi','zxyr','zxyi','zyxr','zyxi','zyyr','zyyi']:\n",
    "    rxList.append(simpegmt.SurveyMT.RxMT(locs,rxType))    \n",
    "# Source list\n",
    "srcList =[]\n",
    "freqs = np.logspace(3,0,13)\n",
    "for freq in freqs:\n",
    "    srcList.append(simpegmt.SurveyMT.srcMT_polxy_1Dprimary(rxList,freq))\n",
    "# Survey MT\n",
    "survey = simpegmt.SurveyMT.SurveyMT(srcList)\n",
    "\n",
    "\n",
    "# Forward model the data\n",
    "if False:\n",
    "    fields = problem.fields(modelTD)\n",
    "    mtData = survey.projectFields(fields)"
   ]
  },
  {
   "cell_type": "code",
   "execution_count": 11,
   "metadata": {
    "collapsed": false
   },
   "outputs": [
    {
     "name": "stderr",
     "output_type": "stream",
     "text": [
      "/home/gudni/anaconda/lib/python2.7/site-packages/numpy/ma/core.py:2834: FutureWarning: Numpy has detected that you (may be) writing to an array returned\n",
      "by numpy.diagonal or by selecting multiple fields in a record\n",
      "array. This code will likely break in a future numpy release --\n",
      "see numpy.diagonal or arrays.indexing reference docs for details.\n",
      "The quick fix is to make an explicit copy (e.g., do\n",
      "arr.diagonal().copy() or arr[['f0','f1']].copy()).\n",
      "  if (obj.__array_interface__[\"data\"][0]\n",
      "/home/gudni/anaconda/lib/python2.7/site-packages/numpy/ma/core.py:2835: FutureWarning: Numpy has detected that you (may be) writing to an array returned\n",
      "by numpy.diagonal or by selecting multiple fields in a record\n",
      "array. This code will likely break in a future numpy release --\n",
      "see numpy.diagonal or arrays.indexing reference docs for details.\n",
      "The quick fix is to make an explicit copy (e.g., do\n",
      "arr.diagonal().copy() or arr[['f0','f1']].copy()).\n",
      "  != self.__array_interface__[\"data\"][0]):\n"
     ]
    }
   ],
   "source": [
    "# Load the data\n",
    "mtSeogiData = simpegmt.DataMT.DataMT(survey,np.load('seogiModel_MTdata.npy'))\n",
    "mtSeogirecData = mtSeogiData.toRecArray('Complex')"
   ]
  },
  {
   "cell_type": "code",
   "execution_count": 12,
   "metadata": {
    "collapsed": false
   },
   "outputs": [],
   "source": [
    "sys.path.append('/home/gudni/Dropbox/code/python/MTview/')\n",
    "import interactivePlotFunctions as iPf"
   ]
  },
  {
   "cell_type": "code",
   "execution_count": 13,
   "metadata": {
    "collapsed": false
   },
   "outputs": [],
   "source": [
    "% matplotlib qt\n",
    "# Plot the data\n",
    "mtSeogiMap = iPf.MTinteractiveMap([mtSeogirecData])"
   ]
  },
  {
   "cell_type": "code",
   "execution_count": 14,
   "metadata": {
    "collapsed": false
   },
   "outputs": [],
   "source": [
    "# Add noise to the data\n",
    "std = 0.05 # 5% std\n",
    "if os.path.isfile('seogiModel_MTdata.npy') and os.path.isfile('seogiModel_dobs.npy'):\n",
    "    d_true = np.load('seogiModel_MTdata.npy')\n",
    "    d_obs = np.load('seogiModel_dobs.npy')\n",
    "else:\n",
    "    d_true = simpeg.mkvc(mtSeogiData)\n",
    "    d_obs = d_true + std*abs(d_true)*np.random.randn(*d_true.shape)\n",
    "    np.save('seogiModel_dobs.npy',d_obs)\n",
    "# Assign the dobs\n",
    "survey.dtrue = d_true\n",
    "survey.dobs = d_obs\n",
    "survey.std = np.abs(survey.dobs*std) + 0.01*np.linalg.norm(survey.dobs) #survey.dobs*0 + std\n",
    "# Assign the data weight\n",
    "survey.Wd = 1/survey.std #(abs(survey.dobs)*survey.std)"
   ]
  },
  {
   "cell_type": "code",
   "execution_count": 15,
   "metadata": {
    "collapsed": false
   },
   "outputs": [],
   "source": [
    "# Make an MTdata object with dobs\n",
    "mtSeogiDobs = simpegmt.DataMT.DataMT(survey,survey.dobs)"
   ]
  },
  {
   "cell_type": "code",
   "execution_count": 36,
   "metadata": {
    "collapsed": false
   },
   "outputs": [],
   "source": [
    "# Run the setup\n",
    "mt1DdataZyxList = simpegmt.Utils.dataUtils.convert3Dto1Dobject(mtSeogiDobs,'zyx')\n",
    "mt1DdataZxyList = simpegmt.Utils.dataUtils.convert3Dto1Dobject(mtSeogiDobs,'zxy')"
   ]
  },
  {
   "cell_type": "code",
   "execution_count": 17,
   "metadata": {
    "collapsed": false
   },
   "outputs": [],
   "source": [
    "m1d = simpeg.Mesh.TensorMesh([mesh3d.hz],[mesh3d.x0[-1]])\n",
    "# Setup the problem object\n",
    "sigma1d = mesh3d.r(modelTD,'CC','CC','M')[0,0,:] # Use the edge column as a background model\n",
    "# Set the mapping\n",
    "actMap = simpeg.Maps.ActiveCells(m1d, sigma1d > 1e-7, np.log(1e-8), nC=m1d.nCx)\n",
    "mappingExpAct = simpeg.Maps.ExpMap(m1d) * actMap\n",
    "problem = simpegmt.ProblemMT1D.eForm_psField(m1d,sigmaPrimary = sigma1d,mapping=mappingExpAct)\n",
    "problem.verbose = False\n",
    "from pymatsolver import MumpsSolver\n",
    "problem.Solver = MumpsSolver\n"
   ]
  },
  {
   "cell_type": "code",
   "execution_count": 18,
   "metadata": {
    "collapsed": false
   },
   "outputs": [
    {
     "data": {
      "text/plain": [
       "array([[-1989.0625   , -1989.0625   ,  -995.625    ],\n",
       "       [-1609.375    , -1989.0625   ,  -995.625    ],\n",
       "       [-1356.25     , -1989.0625   ,  -995.625    ],\n",
       "       ..., \n",
       "       [ 1356.25     ,  1989.0625   ,  2538.2509238],\n",
       "       [ 1609.375    ,  1989.0625   ,  2538.2509238],\n",
       "       [ 1989.0625   ,  1989.0625   ,  2538.2509238]])"
      ]
     },
     "execution_count": 18,
     "metadata": {},
     "output_type": "execute_result"
    }
   ],
   "source": [
    "mesh3d.gridN"
   ]
  },
  {
   "cell_type": "code",
   "execution_count": 48,
   "metadata": {
    "collapsed": false
   },
   "outputs": [],
   "source": [
    "# Define a function to run the forward problem\n",
    "def runInversionModel(data,problem,m1d,nameflag):\n",
    "    problem.unpair()\n",
    "    data.survey.unpair()\n",
    "    problem.pair(data.survey)\n",
    "    # Define a counter\n",
    "    C =  simpeg.Utils.Counter()\n",
    "    # Set the optimization\n",
    "    opt = simpeg.Optimization.InexactGaussNewton(maxIter = 20)\n",
    "    opt.counter = C\n",
    "    opt.LSshorten = 0.5\n",
    "    opt.remember('xc')\n",
    "    # Data misfit\n",
    "    dmis = simpeg.DataMisfit.l2_DataMisfit(data.survey)\n",
    "    # Regularization\n",
    "    regMesh = simpeg.Mesh.TensorMesh([m1d.hx[problem.mapping.sigmaMap.maps[-1].indActive]],m1d.x0)\n",
    "    reg = simpeg.Regularization.Tikhonov(regMesh)\n",
    "    reg.smoothModel = False\n",
    "    reg.alpha_s = 1e-6\n",
    "    reg.alpha_x = 1.\n",
    "    # reg.alpha_xx = .001\n",
    "    # Inversion problem\n",
    "    invProb = simpeg.InvProblem.BaseInvProblem(dmis, reg, opt)\n",
    "    invProb.counter = C\n",
    "    # Beta cooling\n",
    "    beta = simpeg.Directives.BetaSchedule()\n",
    "    betaest = simpeg.Directives.BetaEstimate_ByEig(beta0_ratio=0.75)\n",
    "    targmis = simpeg.Directives.TargetMisfit()\n",
    "    targmis.target = .6 * data.survey.nD\n",
    "    print 'Target misfit is {:.0f}'.format(targmis.target)\n",
    "    locs = np.ones((regMesh.nC,1))*data.survey.srcList[0].rxList[0].locs[:,:-1]\n",
    "    saveModel = simpeg.Directives.SaveModelEveryIteration()\n",
    "    saveModel.fileName = 'Inversion_modAt{:.0f}_{:.0f}'.format(locs[0,0],locs[0,1])\n",
    "    print saveModel.fileName\n",
    "    # Create an inversion object\n",
    "    inv = simpeg.Inversion.BaseInversion(invProb, directiveList=[beta,betaest,targmis])\n",
    "    # Run\n",
    "    m_0 = np.log(1e-2+0*problem.sigmaPrimary[problem.mapping.sigmaMap.maps[-1].indActive])\n",
    "    problem.survey.mtrue = m_0\n",
    "    mopt = inv.run(m_0)\n",
    "    # Save the model\n",
    "    \n",
    "    xyzv = np.hstack((locs,simpeg.mkvc(regMesh.gridCC,2),simpeg.mkvc(mopt,2)))\n",
    "    np.save('xyzmod_{:s}_{:.0f}_{:.0f}.npy'.format(nameflag,locs[0,0],locs[0,1]),xyzv)\n",
    "#     return mopt\n",
    "    \n",
    "    \n",
    "    "
   ]
  },
  {
   "cell_type": "code",
   "execution_count": 42,
   "metadata": {
    "collapsed": false
   },
   "outputs": [],
   "source": [
    "# print np.exp(problem.survey.mtrue)\n",
    "# print problem.survey.nD"
   ]
  },
  {
   "cell_type": "code",
   "execution_count": 49,
   "metadata": {
    "collapsed": false
   },
   "outputs": [
    {
     "name": "stdout",
     "output_type": "stream",
     "text": [
      "Target misfit is 16\n",
      "SimPEG.InvProblem will set Regularization.mref to m0.\n",
      "SimPEG.InvProblem is setting bfgsH0 to the inverse of the eval2Deriv.\n",
      "                    ***Done using same solver as the problem***\n",
      "SimPEG.l2_DataMisfit is creating default weightings for Wd.\n",
      "============================ Inexact Gauss Newton ============================\n",
      "  #     beta     phi_d     phi_m       f      |proj(x-g)-x|  LS    Comment   \n",
      "-----------------------------------------------------------------------------\n",
      "   0  1.65e+03  9.20e+02  0.00e+00  9.20e+02    4.30e+02      0              \n",
      "   1  1.65e+03  5.03e+02  6.02e-04  5.04e+02    6.99e+02      0              \n",
      "   2  1.65e+03  3.24e+01  3.37e-04  3.29e+01    7.11e+01      0              \n",
      "   3  2.06e+02  1.72e+01  1.75e-03  1.76e+01    2.15e+01      0   Skip BFGS  \n",
      "   4  2.06e+02  1.64e+01  2.81e-03  1.70e+01    2.36e+01      1              \n",
      "   5  2.06e+02  1.62e+01  3.17e-03  1.69e+01    2.30e+01      1              \n",
      "   6  2.58e+01  1.62e+01  3.13e-03  1.63e+01    2.27e+01      1              \n",
      "   7  2.58e+01  1.61e+01  5.41e-03  1.63e+01    2.77e+01      2              \n",
      "   8  2.58e+01  1.61e+01  6.81e-03  1.63e+01    3.16e+01      2              \n",
      "   9  3.23e+00  1.60e+01  6.54e-03  1.60e+01    3.18e+01      3              \n",
      "  10  3.23e+00  1.57e+01  1.13e-02  1.58e+01    3.16e+01      3              \n",
      "  11  3.23e+00  1.56e+01  8.83e-03  1.57e+01    3.22e+01      3              \n",
      "------------------------- STOP! -------------------------\n",
      "1 : |fc-fOld| = 0.0000e+00 <= tolF*(1+|f0|) = 9.2072e+01\n",
      "1 : |xc-x_last| = 1.5187e-01 <= tolX*(1+|x0|) = 2.6224e+00\n",
      "0 : |proj(x-g)-x|    = 3.2196e+01 <= tolG          = 1.0000e-01\n",
      "0 : |proj(x-g)-x|    = 3.2196e+01 <= 1e3*eps       = 1.0000e-02\n",
      "0 : maxIter   =      20    <= iter          =     12\n",
      "------------------------- DONE! -------------------------\n"
     ]
    }
   ],
   "source": [
    "for dat in mt1DdataZyxList[0:1]:\n",
    "    runInversionModel(dat,problem,m1d,'zyx')\n",
    "\n",
    "# for dat in mt1DdataZxyList:\n",
    "#     runInversionModel(dat,problem,m1d,'zxy')"
   ]
  },
  {
   "cell_type": "code",
   "execution_count": 44,
   "metadata": {
    "collapsed": false
   },
   "outputs": [
    {
     "name": "stdout",
     "output_type": "stream",
     "text": [
      "xyzmod_zxy_-700_-500.npy  xyzmod_zyx_-700_-500.npy\r\n",
      "xyzmod_zxy_-700_-700.npy  xyzmod_zyx_-700_-700.npy\r\n"
     ]
    }
   ],
   "source": [
    "ls xyzmod*"
   ]
  },
  {
   "cell_type": "code",
   "execution_count": 46,
   "metadata": {
    "collapsed": false
   },
   "outputs": [
    {
     "data": {
      "text/plain": [
       "array([ -919.6875    ,  -793.125     ,  -708.75      ,  -652.5       ,\n",
       "        -615.        ,  -590.        ,  -570.        ,  -550.        ,\n",
       "        -530.        ,  -510.        ,  -490.        ,  -470.        ,\n",
       "        -450.        ,  -430.        ,  -410.        ,  -390.        ,\n",
       "        -370.        ,  -350.        ,  -330.        ,  -310.        ,\n",
       "        -290.        ,  -270.        ,  -250.        ,  -230.        ,\n",
       "        -210.        ,  -190.        ,  -170.        ,  -150.        ,\n",
       "        -130.        ,  -110.        ,   -90.        ,   -70.        ,\n",
       "         -50.        ,   -30.        ,   -10.        ,    13.        ,\n",
       "          42.9       ,    81.77      ,   132.301     ,   197.9913    ,\n",
       "         283.38869   ,   394.405297  ,   538.7268861 ,   726.34495193,\n",
       "         970.24843751,  1287.32296876,  1699.51985939,  2235.37581721])"
      ]
     },
     "execution_count": 46,
     "metadata": {},
     "output_type": "execute_result"
    }
   ],
   "source": [
    "m1d.gridCC\n"
   ]
  },
  {
   "cell_type": "code",
   "execution_count": null,
   "metadata": {
    "collapsed": true
   },
   "outputs": [],
   "source": [
    "dview = rc[:]"
   ]
  },
  {
   "cell_type": "code",
   "execution_count": null,
   "metadata": {
    "collapsed": false
   },
   "outputs": [],
   "source": [
    "dview['problem'] = problem\n",
    "dview['m1d'] = m1d"
   ]
  },
  {
   "cell_type": "code",
   "execution_count": null,
   "metadata": {
    "collapsed": false
   },
   "outputs": [],
   "source": [
    "dview.map_sync(lambda l:runInversionModel(l,problem,m1d),mt1DdataList)"
   ]
  },
  {
   "cell_type": "code",
   "execution_count": null,
   "metadata": {
    "collapsed": false
   },
   "outputs": [],
   "source": [
    "%matplotlib qt\n",
    "m_0 = np.log(problem.sigmaPrimary[problem.mapping.sigmaMap.maps[-1].indActive])\n",
    "simpegmt.Utils.dataUtils.plotMT1DModelData(problem,[m_0,mopt])\n",
    "plt.suptitle('Target misfit-smooth False')\n",
    "plt.show()\n"
   ]
  },
  {
   "cell_type": "code",
   "execution_count": null,
   "metadata": {
    "collapsed": false
   },
   "outputs": [],
   "source": [
    "np.exp(m_0)"
   ]
  },
  {
   "cell_type": "code",
   "execution_count": null,
   "metadata": {
    "collapsed": false
   },
   "outputs": [],
   "source": [
    "%debug"
   ]
  },
  {
   "cell_type": "code",
   "execution_count": null,
   "metadata": {
    "collapsed": false
   },
   "outputs": [],
   "source": [
    "import multiprocessing, os, numpy as np\n",
    "from glob import glob\n",
    "import subprocess\n",
    "\n",
    "def runMT3Dfwd(path):\n",
    "    \"\"\" Worker function \"\"\"\n",
    "    orgDir = os.getcwd()\n",
    "    print 'Starting in {:s}\\n'.format(orgDir)\n",
    "    \n",
    "    os.chdir(path)\n",
    "    print '########### \\nRunning in {:s}\\n###########'.format(os.getcwd())\n",
    "    cmd = '/tera_raid/gudni/Codes/ZTEM_MT3Dinv_06082014/MT3Dfwd'\n",
    "    # os.system(cmd)\n",
    "    subprocess.call(cmd)\n",
    "    os.chdir(orgDir)\n",
    "\n",
    "\n",
    "if __name__ == '__main__':\n",
    "    pool = multiprocessing.Pool(processes=12)\n",
    "    foldList = glob('MT3Dfwd/model100w*/Freq*')\n",
    "    \n",
    "    pool.map(runMT3Dfwd,foldList)\n",
    "    pool.cself.mesh.getEdgeInnerProductlose()\n",
    "    pool.join()"
   ]
  },
  {
   "cell_type": "code",
   "execution_count": null,
   "metadata": {
    "collapsed": false
   },
   "outputs": [],
   "source": [
    "locs=rec2ndarr(uniLocs)"
   ]
  },
  {
   "cell_type": "code",
   "execution_count": null,
   "metadata": {
    "collapsed": false
   },
   "outputs": [],
   "source": [
    "%debug"
   ]
  },
  {
   "cell_type": "code",
   "execution_count": null,
   "metadata": {
    "collapsed": false
   },
   "outputs": [],
   "source": [
    "simpeg.mkvc(locs[0,:],2).T"
   ]
  },
  {
   "cell_type": "code",
   "execution_count": null,
   "metadata": {
    "collapsed": false
   },
   "outputs": [],
   "source": [
    "simpegmt.DataMT.DataMT"
   ]
  },
  {
   "cell_type": "code",
   "execution_count": null,
   "metadata": {
    "collapsed": false
   },
   "outputs": [],
   "source": [
    "%matplotlib qt\n",
    "sys.path.append('/home/gudni/Dropbox/code/python/MTview/')\n",
    "import interactivePlotFunctions as iPf\n",
    "dataRec = mt1DdataList[0].toRecArray('Complex')\n",
    "iPf.MTinteractiveMap([dataRec])"
   ]
  },
  {
   "cell_type": "code",
   "execution_count": null,
   "metadata": {
    "collapsed": false
   },
   "outputs": [],
   "source": [
    "simpegmt.Utils.dataUtils.getAppRes(mt1DdataList[0])"
   ]
  },
  {
   "cell_type": "code",
   "execution_count": null,
   "metadata": {
    "collapsed": true
   },
   "outputs": [],
   "source": [
    "    "
   ]
  }
 ],
 "metadata": {
  "kernelspec": {
   "display_name": "Python 2",
   "language": "python",
   "name": "python2"
  },
  "language_info": {
   "codemirror_mode": {
    "name": "ipython",
    "version": 2
   },
   "file_extension": ".py",
   "mimetype": "text/x-python",
   "name": "python",
   "nbconvert_exporter": "python",
   "pygments_lexer": "ipython2",
   "version": "2.7.10"
  }
 },
 "nbformat": 4,
 "nbformat_minor": 0
}
