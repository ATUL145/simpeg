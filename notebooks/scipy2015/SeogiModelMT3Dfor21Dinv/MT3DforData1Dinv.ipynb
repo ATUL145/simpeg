{
 "cells": [
  {
   "cell_type": "code",
   "execution_count": 1,
   "metadata": {
    "collapsed": true
   },
   "outputs": [],
   "source": [
    "## Forward model a data"
   ]
  },
  {
   "cell_type": "code",
   "execution_count": 2,
   "metadata": {
    "collapsed": false
   },
   "outputs": [],
   "source": [
    "import SimPEG as simpeg\n",
    "import simpegMT as simpegmt\n",
    "from simpegMT.Utils.dataUtils import rec2ndarr\n",
    "import cPickle as pickle"
   ]
  },
  {
   "cell_type": "code",
   "execution_count": 3,
   "metadata": {
    "collapsed": false
   },
   "outputs": [],
   "source": [
    "# Make the mesh.\n",
    "mTensor = simpeg.Utils.meshTensor\n",
    "cSize = [50,20]\n",
    "# Cells constant size mesh\n",
    "hx = mTensor([(cSize[0],50)])\n",
    "hy = mTensor([(cSize[0],50)])\n",
    "hz = mTensor([(cSize[1],48)])\n",
    "x0 = np.array([-1250,-1250,- 30*20])\n",
    "mesh3dCons = simpeg.Mesh.TensorMesh([hx,hy,hz],x0)\n",
    "# With padding\n",
    "hPad = mTensor([(cSize[0],5,1.5)])\n",
    "aPad = mTensor([(cSize[1],9,1.5)])\n",
    "bPad = mTensor([(cSize[1],9,-1.5)])\n",
    "hxPad = np.hstack((hPad[::-1],mTensor([(cSize[0],40)]),hPad))\n",
    "hyPad = np.hstack((hPad[::-1],mTensor([(cSize[0],40)]),hPad))\n",
    "hzPad = np.hstack((bPad,mTensor([(cSize[1],30)]),aPad))\n",
    "x0Pad = np.array([-(np.sum(hPad)+1000),-(np.sum(hPad)+1000),-(np.sum(bPad)+(20*30))])\n",
    "mesh3d = simpeg.Mesh.TensorMesh([hxPad,hyPad,hzPad],x0Pad)"
   ]
  },
  {
   "cell_type": "code",
   "execution_count": 4,
   "metadata": {
    "collapsed": true
   },
   "outputs": [],
   "source": [
    "\n",
    "# Read the model\n",
    "modelname = \"simpegTDmodel.con\"\n",
    "\n",
    "# Load the model to the uniform cell mesh\n",
    "modelUniCell = simpeg.Utils.meshutils.readUBCTensorModel(modelname,mesh3dCons)\n",
    "\n",
    "# Load the model to the mesh with padding cells\n",
    "modelT = simpeg.Utils.meshutils.readUBCTensorModel(modelname,mesh3d)\n",
    "# Adjust the model to reflect changes in the mesh (fewer aircells)\n",
    "modMat = mesh3d.r(modelT,'CC','CC','M')\n",
    "modNewMat = np.ones((50,50,48))*modMat[0,0,0]\n",
    "modNewMat[:,:,9::] = modMat[:,:,:-9]\n",
    "modelTD = mesh3d.r(modNewMat,'CC','CC','V')\n"
   ]
  },
  {
   "cell_type": "code",
   "execution_count": 5,
   "metadata": {
    "collapsed": false
   },
   "outputs": [],
   "source": [
    "# Load the model to the uniform cell mesh\n",
    "modelUniCell = simpeg.Utils.meshutils.readUBCTensorModel(modelname,mesh3dCons)\n",
    "# Save as a vtk file\n",
    "simpeg.Utils.meshutils.writeVTRFile('modelTDuniMesh.vtr',mesh3dCons,{'S/m':modelUniCell})"
   ]
  },
  {
   "cell_type": "code",
   "execution_count": 6,
   "metadata": {
    "collapsed": false,
    "scrolled": true
   },
   "outputs": [],
   "source": [
    "# Load the model to the mesh with padding cells\n",
    "# modelTD = simpeg.Utils.meshutils.readUBCTensorModel(modelname,mesh3d)\n",
    "# Save as a vtk file\n",
    "simpeg.Utils.meshutils.writeVTRFile('modelTDpaddedMesh.vtr',mesh3d,{'S/m':modelTD})"
   ]
  },
  {
   "cell_type": "code",
   "execution_count": 7,
   "metadata": {
    "collapsed": false
   },
   "outputs": [],
   "source": [
    "# Define the data locations\n",
    "xG,yG = np.meshgrid(np.linspace(-700,700,8),np.linspace(-700,700,8))\n",
    "zG = np.zeros_like(xG)\n",
    "locs = np.hstack((simpeg.mkvc(xG.ravel(),2),simpeg.mkvc(yG.ravel(),2),simpeg.mkvc(zG.ravel(),2)))"
   ]
  },
  {
   "cell_type": "code",
   "execution_count": 8,
   "metadata": {
    "collapsed": false
   },
   "outputs": [],
   "source": [
    "# Make the receiver list\n",
    "rxList = []\n",
    "for rxType in ['zxxr','zxxi','zxyr','zxyi','zyxr','zyxi','zyyr','zyyi']:\n",
    "    rxList.append(simpegmt.SurveyMT.RxMT(locs,rxType))    \n",
    "# Source list\n",
    "srcList =[]\n",
    "freqs = np.logspace(4,0,17)\n",
    "for freq in freqs:\n",
    "    srcList.append(simpegmt.SurveyMT.srcMT_polxy_1Dprimary(rxList,freq))\n",
    "# Survey MT\n",
    "survey = simpegmt.SurveyMT.SurveyMT(srcList)\n",
    "\n",
    "\n",
    "# Forward model the data\n",
    "if False:\n",
    "    fields = problem.fields(modelTD)\n",
    "    mtData = survey.projectFields(fields)"
   ]
  },
  {
   "cell_type": "code",
   "execution_count": 9,
   "metadata": {
    "collapsed": false
   },
   "outputs": [
    {
     "name": "stderr",
     "output_type": "stream",
     "text": [
      "/home/gudni/anaconda/lib/python2.7/site-packages/numpy/ma/core.py:2834: FutureWarning: Numpy has detected that you (may be) writing to an array returned\n",
      "by numpy.diagonal or by selecting multiple fields in a record\n",
      "array. This code will likely break in a future numpy release --\n",
      "see numpy.diagonal or arrays.indexing reference docs for details.\n",
      "The quick fix is to make an explicit copy (e.g., do\n",
      "arr.diagonal().copy() or arr[['f0','f1']].copy()).\n",
      "  if (obj.__array_interface__[\"data\"][0]\n",
      "/home/gudni/anaconda/lib/python2.7/site-packages/numpy/ma/core.py:2835: FutureWarning: Numpy has detected that you (may be) writing to an array returned\n",
      "by numpy.diagonal or by selecting multiple fields in a record\n",
      "array. This code will likely break in a future numpy release --\n",
      "see numpy.diagonal or arrays.indexing reference docs for details.\n",
      "The quick fix is to make an explicit copy (e.g., do\n",
      "arr.diagonal().copy() or arr[['f0','f1']].copy()).\n",
      "  != self.__array_interface__[\"data\"][0]):\n"
     ]
    }
   ],
   "source": [
    "# Load the data\n",
    "mtSeogiData = simpegmt.DataMT.DataMT(survey,np.load('seogiModel_MTdata.npy'))\n",
    "mtSeogirecData = mtSeogiData.toRecArray('Complex')"
   ]
  },
  {
   "cell_type": "code",
   "execution_count": 10,
   "metadata": {
    "collapsed": false
   },
   "outputs": [],
   "source": [
    "sys.path.append('/home/gudni/Dropbox/code/python/MTview/')\n",
    "import interactivePlotFunctions as iPf"
   ]
  },
  {
   "cell_type": "code",
   "execution_count": 11,
   "metadata": {
    "collapsed": false
   },
   "outputs": [],
   "source": [
    "% matplotlib qt\n",
    "# Plot the data\n",
    "mtSeogiMap = iPf.MTinteractiveMap([mtSeogirecData])"
   ]
  },
  {
   "cell_type": "code",
   "execution_count": 12,
   "metadata": {
    "collapsed": false
   },
   "outputs": [
    {
     "data": {
      "text/plain": [
       "(1088,)"
      ]
     },
     "execution_count": 12,
     "metadata": {},
     "output_type": "execute_result"
    }
   ],
   "source": [
    "mtSeogirecData.shape"
   ]
  },
  {
   "cell_type": "code",
   "execution_count": 13,
   "metadata": {
    "collapsed": false
   },
   "outputs": [],
   "source": [
    "# Add noise to the data\n",
    "std = 0.05 # 5% std\n",
    "if os.path.isfile('seogiModel_MTdata.npy') and os.path.isfile('seogiModel_dobs.npy'):\n",
    "    d_true = np.load('seogiModel_MTdata.npy')\n",
    "    d_obs = np.load('seogiModel_dobs.npy')\n",
    "else:\n",
    "    d_true = simpeg.mkvc(mtSeogiData)\n",
    "    d_obs = d_true + std*abs(d_true)*np.random.randn(*d_true.shape)\n",
    "    np.save('seogiModel_dobs.npy',d_obs)\n",
    "# Assign the dobs\n",
    "survey.dtrue = d_true\n",
    "survey.dobs = d_obs\n",
    "survey.std = np.abs(survey.dobs*std) #+ 0.01*np.linalg.norm(survey.dobs) #survey.dobs*0 + std\n",
    "# Assign the data weight\n",
    "Wd = 1/survey.std #(abs(survey.dobs)*survey.std)"
   ]
  },
  {
   "cell_type": "code",
   "execution_count": 14,
   "metadata": {
    "collapsed": false
   },
   "outputs": [],
   "source": [
    "# Make an MTdata object with dobs\n",
    "mtSeogiDobs = simpegmt.DataMT.DataMT(survey,survey.dobs)"
   ]
  },
  {
   "cell_type": "code",
   "execution_count": 15,
   "metadata": {
    "collapsed": false
   },
   "outputs": [],
   "source": [
    "# Run the setup\n",
    "mt1DdataZyxList = simpegmt.Utils.dataUtils.convert3Dto1Dobject(mtSeogiDobs,'zyx')\n",
    "mt1DdataZxyList = simpegmt.Utils.dataUtils.convert3Dto1Dobject(mtSeogiDobs,'zxy')\n",
    "mt1DdataZdetList = simpegmt.Utils.dataUtils.convert3Dto1Dobject(mtSeogiDobs,'zdet')"
   ]
  },
  {
   "cell_type": "code",
   "execution_count": 16,
   "metadata": {
    "collapsed": false
   },
   "outputs": [],
   "source": [
    "m1d = simpeg.Mesh.TensorMesh([mesh3d.hz],[mesh3d.x0[-1]])\n",
    "# Setup the problem object\n",
    "sigma1d = mesh3d.r(modelTD,'CC','CC','M')[0,0,:] # Use the edge column as a background model\n",
    "# Set the mapping\n",
    "actMap = simpeg.Maps.ActiveCells(m1d, sigma1d > 1e-7, np.log(1e-8), nC=m1d.nCx)\n",
    "mappingExpAct = simpeg.Maps.ExpMap(m1d) * actMap\n",
    "problem = simpegmt.ProblemMT1D.eForm_psField(m1d,sigmaPrimary = sigma1d,mapping=mappingExpAct)\n",
    "problem.verbose = False\n",
    "\n"
   ]
  },
  {
   "cell_type": "code",
   "execution_count": 17,
   "metadata": {
    "collapsed": false
   },
   "outputs": [
    {
     "data": {
      "text/plain": [
       "array([  5.00000000e-03,   5.00000000e-03,   5.00000000e-03,\n",
       "         5.00000000e-03,   5.00000000e-03,   5.00000000e-03,\n",
       "         5.00000000e-03,   5.00000000e-03,   5.00000000e-03,\n",
       "         5.00000000e-03,   5.00000000e-03,   5.00000000e-03,\n",
       "         5.00000000e-03,   5.00000000e-03,   5.00000000e-03,\n",
       "         5.00000000e-03,   5.00000000e-03,   5.00000000e-03,\n",
       "         5.00000000e-03,   5.00000000e-03,   5.00000000e-03,\n",
       "         5.00000000e-03,   5.00000000e-03,   5.00000000e-03,\n",
       "         5.00000000e-03,   5.00000000e-03,   5.00000000e-03,\n",
       "         5.00000000e-03,   5.00000000e-03,   5.00000000e-03,\n",
       "         5.00000000e-03,   5.00000000e-03,   5.00000000e-03,\n",
       "         5.00000000e-03,   1.00000000e-03,   1.00000000e-03,\n",
       "         1.00000000e-03,   1.00000000e-03,   1.00000000e-03,\n",
       "         1.00000000e-08,   1.00000000e-08,   1.00000000e-08,\n",
       "         1.00000000e-08,   1.00000000e-08,   1.00000000e-08,\n",
       "         1.00000000e-08,   1.00000000e-08,   1.00000000e-08])"
      ]
     },
     "execution_count": 17,
     "metadata": {},
     "output_type": "execute_result"
    }
   ],
   "source": [
    "sigma1d"
   ]
  },
  {
   "cell_type": "code",
   "execution_count": 22,
   "metadata": {
    "collapsed": false
   },
   "outputs": [],
   "source": [
    "# Define a function to run the forward problem\n",
    "def runInversionModel(data,problem,m1d,nameflag):\n",
    "    problem.unpair()\n",
    "    data.survey.unpair()\n",
    "    problem.pair(data.survey)\n",
    "    # Define a counter\n",
    "    C =  simpeg.Utils.Counter()\n",
    "    # Set the optimization\n",
    "    opt = simpeg.Optimization.InexactGaussNewton(maxIter = 10)\n",
    "    opt.counter = C\n",
    "    opt.LSshorten = 0.5\n",
    "    opt.remember('xc')\n",
    "    # Data misfit\n",
    "    dmis = simpeg.DataMisfit.l2_DataMisfit(data.survey)\n",
    "    dmis.Wd = 1./data.survey.std\n",
    "    # Regularization\n",
    "    regMesh = simpeg.Mesh.TensorMesh([m1d.hx[problem.mapping.sigmaMap.maps[-1].indActive]],m1d.x0)\n",
    "    reg = simpeg.Regularization.Tikhonov(regMesh)\n",
    "    reg.smoothModel = False\n",
    "    reg.alpha_s = 1e-6\n",
    "    reg.alpha_x = 1.\n",
    "    # reg.alpha_xx = .001\n",
    "    # Inversion problem\n",
    "    invProb = simpeg.InvProblem.BaseInvProblem(dmis, reg, opt)\n",
    "    invProb.counter = C\n",
    "    # Beta cooling\n",
    "    beta = simpeg.Directives.BetaSchedule()\n",
    "    betaest = simpeg.Directives.BetaEstimate_ByEig(beta0_ratio=0.75)\n",
    "    targmis = simpeg.Directives.TargetMisfit()\n",
    "#     targmis.target = .6 * data.survey.nD\n",
    "#     print 'Target misfit is {:.0f}'.format(targmis.target)\n",
    "    locs = np.ones((regMesh.nC,1))*data.survey.srcList[0].rxList[0].locs[:,:-1]\n",
    "    saveModel = simpeg.Directives.SaveModelEveryIteration()\n",
    "    saveModel.fileName = 'Inversion_modAt{:.0f}_{:.0f}'.format(locs[0,0],locs[0,1])\n",
    "    print saveModel.fileName\n",
    "    # Create an inversion object\n",
    "    inv = simpeg.Inversion.BaseInversion(invProb, directiveList=[beta,betaest,targmis])\n",
    "    # Run\n",
    "    m_0 = np.log(1e-2+0*problem.sigmaPrimary[problem.mapping.sigmaMap.maps[-1].indActive])\n",
    "    problem.survey.mtrue = m_0\n",
    "    mopt = inv.run(m_0)\n",
    "    # Save the model\n",
    "    \n",
    "    xyzv = np.hstack((locs,simpeg.mkvc(regMesh.gridCC,2),simpeg.mkvc(mopt,2)))\n",
    "    np.save('xyzmod_{:s}_{:.0f}_{:.0f}.npy'.format(nameflag,locs[0,0],locs[0,1]),xyzv)\n",
    "    return mopt\n",
    "    \n",
    "    \n",
    "    "
   ]
  },
  {
   "cell_type": "code",
   "execution_count": 23,
   "metadata": {
    "collapsed": false
   },
   "outputs": [
    {
     "name": "stdout",
     "output_type": "stream",
     "text": [
      "Inversion_modAt-700_-700\n",
      "SimPEG.InvProblem will set Regularization.mref to m0.\n",
      "SimPEG.InvProblem is setting bfgsH0 to the inverse of the eval2Deriv.\n",
      "                    ***Done using same solver as the problem***\n",
      "============================ Inexact Gauss Newton ============================\n",
      "  #     beta     phi_d     phi_m       f      |proj(x-g)-x|  LS    Comment   \n",
      "-----------------------------------------------------------------------------\n",
      "   0  1.37e+03  1.07e+03  0.00e+00  1.07e+03    3.77e+02      0              \n",
      "   1  1.37e+03  4.40e+01  1.93e-02  7.05e+01    7.43e+01      0              \n",
      "------------------------- STOP! -------------------------\n",
      "1 : |fc-fOld| = 0.0000e+00 <= tolF*(1+|f0|) = 1.0682e+02\n",
      "1 : |xc-x_last| = 1.4393e+00 <= tolX*(1+|x0|) = 2.9759e+00\n",
      "0 : |proj(x-g)-x|    = 7.4277e+01 <= tolG          = 1.0000e-01\n",
      "0 : |proj(x-g)-x|    = 7.4277e+01 <= 1e3*eps       = 1.0000e-02\n",
      "0 : maxIter   =      10    <= iter          =      2\n",
      "------------------------- DONE! -------------------------\n"
     ]
    }
   ],
   "source": [
    "dat = mt1DdataZyxList[0]\n",
    "mopt = runInversionModel(dat,problem,m1d,'zyx')\n"
   ]
  },
  {
   "cell_type": "code",
   "execution_count": 25,
   "metadata": {
    "collapsed": false
   },
   "outputs": [
    {
     "data": {
      "text/plain": [
       "<simpegMT.SurveyMT.SurveyMT at 0x7f3614079310>"
      ]
     },
     "execution_count": 25,
     "metadata": {},
     "output_type": "execute_result"
    }
   ],
   "source": [
    "dat.survey"
   ]
  },
  {
   "cell_type": "code",
   "execution_count": 31,
   "metadata": {
    "collapsed": false
   },
   "outputs": [
    {
     "name": "stdout",
     "output_type": "stream",
     "text": [
      "Inversion_modAt-700_-700\n",
      "SimPEG.InvProblem will set Regularization.mref to m0.\n",
      "SimPEG.InvProblem is setting bfgsH0 to the inverse of the eval2Deriv.\n",
      "                    ***Done using same solver as the problem***\n",
      "============================ Inexact Gauss Newton ============================\n",
      "  #     beta     phi_d     phi_m       f      |proj(x-g)-x|  LS    Comment   \n",
      "-----------------------------------------------------------------------------\n",
      "   0  1.69e+03  1.07e+03  0.00e+00  1.07e+03    3.77e+02      0              \n",
      "   1  1.69e+03  3.88e+01  1.72e-02  6.80e+01    6.98e+01      0              \n",
      "------------------------- STOP! -------------------------\n",
      "1 : |fc-fOld| = 0.0000e+00 <= tolF*(1+|f0|) = 1.0682e+02\n",
      "1 : |xc-x_last| = 1.3066e+00 <= tolX*(1+|x0|) = 2.9759e+00\n",
      "0 : |proj(x-g)-x|    = 6.9756e+01 <= tolG          = 1.0000e-01\n",
      "0 : |proj(x-g)-x|    = 6.9756e+01 <= 1e3*eps       = 1.0000e-02\n",
      "0 : maxIter   =      10    <= iter          =      2\n",
      "------------------------- DONE! -------------------------\n",
      "Inversion_modAt-700_-500\n",
      "SimPEG.InvProblem will set Regularization.mref to m0.\n",
      "SimPEG.InvProblem is setting bfgsH0 to the inverse of the eval2Deriv.\n",
      "                    ***Done using same solver as the problem***\n",
      "============================ Inexact Gauss Newton ============================\n",
      "  #     beta     phi_d     phi_m       f      |proj(x-g)-x|  LS    Comment   \n",
      "-----------------------------------------------------------------------------\n",
      "   0  1.12e+03  1.10e+03  0.00e+00  1.10e+03    3.79e+02      0              \n",
      "   1  1.12e+03  5.89e+01  2.11e-02  8.26e+01    9.39e+01      0              \n",
      "------------------------- STOP! -------------------------\n",
      "1 : |fc-fOld| = 0.0000e+00 <= tolF*(1+|f0|) = 1.1005e+02\n",
      "1 : |xc-x_last| = 1.8888e+00 <= tolX*(1+|x0|) = 2.9759e+00\n",
      "0 : |proj(x-g)-x|    = 9.3881e+01 <= tolG          = 1.0000e-01\n",
      "0 : |proj(x-g)-x|    = 9.3881e+01 <= 1e3*eps       = 1.0000e-02\n",
      "0 : maxIter   =      10    <= iter          =      2\n",
      "------------------------- DONE! -------------------------\n",
      "Inversion_modAt-700_-300\n",
      "SimPEG.InvProblem will set Regularization.mref to m0.\n",
      "SimPEG.InvProblem is setting bfgsH0 to the inverse of the eval2Deriv.\n",
      "                    ***Done using same solver as the problem***\n",
      "============================ Inexact Gauss Newton ============================\n",
      "  #     beta     phi_d     phi_m       f      |proj(x-g)-x|  LS    Comment   \n",
      "-----------------------------------------------------------------------------\n",
      "   0  7.28e+02  1.14e+03  0.00e+00  1.14e+03    3.81e+02      0              \n",
      "   1  7.28e+02  6.54e+01  2.62e-02  8.44e+01    8.78e+01      0              \n",
      "------------------------- STOP! -------------------------\n",
      "1 : |fc-fOld| = 0.0000e+00 <= tolF*(1+|f0|) = 1.1411e+02\n",
      "1 : |xc-x_last| = 1.8407e+00 <= tolX*(1+|x0|) = 2.9759e+00\n",
      "0 : |proj(x-g)-x|    = 8.7820e+01 <= tolG          = 1.0000e-01\n",
      "0 : |proj(x-g)-x|    = 8.7820e+01 <= 1e3*eps       = 1.0000e-02\n",
      "0 : maxIter   =      10    <= iter          =      2\n",
      "------------------------- DONE! -------------------------\n",
      "Inversion_modAt-700_-100\n",
      "SimPEG.InvProblem will set Regularization.mref to m0.\n",
      "SimPEG.InvProblem is setting bfgsH0 to the inverse of the eval2Deriv.\n",
      "                    ***Done using same solver as the problem***\n",
      "============================ Inexact Gauss Newton ============================\n",
      "  #     beta     phi_d     phi_m       f      |proj(x-g)-x|  LS    Comment   \n",
      "-----------------------------------------------------------------------------\n"
     ]
    },
    {
     "ename": "KeyboardInterrupt",
     "evalue": "",
     "output_type": "error",
     "traceback": [
      "\u001b[1;31m---------------------------------------------------------------------------\u001b[0m",
      "\u001b[1;31mKeyboardInterrupt\u001b[0m                         Traceback (most recent call last)",
      "\u001b[1;32m<ipython-input-31-496b6a805e71>\u001b[0m in \u001b[0;36m<module>\u001b[1;34m()\u001b[0m\n\u001b[0;32m      1\u001b[0m \u001b[1;32mif\u001b[0m \u001b[0mTrue\u001b[0m\u001b[1;33m:\u001b[0m\u001b[1;33m\u001b[0m\u001b[0m\n\u001b[0;32m      2\u001b[0m     \u001b[1;32mfor\u001b[0m \u001b[0mdat\u001b[0m \u001b[1;32min\u001b[0m \u001b[0mmt1DdataZyxList\u001b[0m\u001b[1;33m:\u001b[0m\u001b[1;33m\u001b[0m\u001b[0m\n\u001b[1;32m----> 3\u001b[1;33m         \u001b[0mrunInversionModel\u001b[0m\u001b[1;33m(\u001b[0m\u001b[0mdat\u001b[0m\u001b[1;33m,\u001b[0m\u001b[0mproblem\u001b[0m\u001b[1;33m,\u001b[0m\u001b[0mm1d\u001b[0m\u001b[1;33m,\u001b[0m\u001b[1;34m'zyx'\u001b[0m\u001b[1;33m)\u001b[0m\u001b[1;33m\u001b[0m\u001b[0m\n\u001b[0m\u001b[0;32m      4\u001b[0m \u001b[1;33m\u001b[0m\u001b[0m\n\u001b[0;32m      5\u001b[0m     \u001b[1;32mfor\u001b[0m \u001b[0mdat\u001b[0m \u001b[1;32min\u001b[0m \u001b[0mmt1DdataZxyList\u001b[0m\u001b[1;33m:\u001b[0m\u001b[1;33m\u001b[0m\u001b[0m\n",
      "\u001b[1;32m<ipython-input-22-5072715ac24c>\u001b[0m in \u001b[0;36mrunInversionModel\u001b[1;34m(data, problem, m1d, nameflag)\u001b[0m\n\u001b[0;32m     39\u001b[0m     \u001b[0mm_0\u001b[0m \u001b[1;33m=\u001b[0m \u001b[0mnp\u001b[0m\u001b[1;33m.\u001b[0m\u001b[0mlog\u001b[0m\u001b[1;33m(\u001b[0m\u001b[1;36m1e-2\u001b[0m\u001b[1;33m+\u001b[0m\u001b[1;36m0\u001b[0m\u001b[1;33m*\u001b[0m\u001b[0mproblem\u001b[0m\u001b[1;33m.\u001b[0m\u001b[0msigmaPrimary\u001b[0m\u001b[1;33m[\u001b[0m\u001b[0mproblem\u001b[0m\u001b[1;33m.\u001b[0m\u001b[0mmapping\u001b[0m\u001b[1;33m.\u001b[0m\u001b[0msigmaMap\u001b[0m\u001b[1;33m.\u001b[0m\u001b[0mmaps\u001b[0m\u001b[1;33m[\u001b[0m\u001b[1;33m-\u001b[0m\u001b[1;36m1\u001b[0m\u001b[1;33m]\u001b[0m\u001b[1;33m.\u001b[0m\u001b[0mindActive\u001b[0m\u001b[1;33m]\u001b[0m\u001b[1;33m)\u001b[0m\u001b[1;33m\u001b[0m\u001b[0m\n\u001b[0;32m     40\u001b[0m     \u001b[0mproblem\u001b[0m\u001b[1;33m.\u001b[0m\u001b[0msurvey\u001b[0m\u001b[1;33m.\u001b[0m\u001b[0mmtrue\u001b[0m \u001b[1;33m=\u001b[0m \u001b[0mm_0\u001b[0m\u001b[1;33m\u001b[0m\u001b[0m\n\u001b[1;32m---> 41\u001b[1;33m     \u001b[0mmopt\u001b[0m \u001b[1;33m=\u001b[0m \u001b[0minv\u001b[0m\u001b[1;33m.\u001b[0m\u001b[0mrun\u001b[0m\u001b[1;33m(\u001b[0m\u001b[0mm_0\u001b[0m\u001b[1;33m)\u001b[0m\u001b[1;33m\u001b[0m\u001b[0m\n\u001b[0m\u001b[0;32m     42\u001b[0m     \u001b[1;31m# Save the model\u001b[0m\u001b[1;33m\u001b[0m\u001b[1;33m\u001b[0m\u001b[0m\n\u001b[0;32m     43\u001b[0m \u001b[1;33m\u001b[0m\u001b[0m\n",
      "\u001b[1;32m/media/gudni/ExtraDrive1/Codes/python/simpeg/SimPEG/Utils/CounterUtils.pyc\u001b[0m in \u001b[0;36mwrapper\u001b[1;34m(self, *args, **kwargs)\u001b[0m\n\u001b[0;32m     90\u001b[0m         \u001b[0mcounter\u001b[0m \u001b[1;33m=\u001b[0m \u001b[0mgetattr\u001b[0m\u001b[1;33m(\u001b[0m\u001b[0mself\u001b[0m\u001b[1;33m,\u001b[0m\u001b[1;34m'counter'\u001b[0m\u001b[1;33m,\u001b[0m\u001b[0mNone\u001b[0m\u001b[1;33m)\u001b[0m\u001b[1;33m\u001b[0m\u001b[0m\n\u001b[0;32m     91\u001b[0m         \u001b[1;32mif\u001b[0m \u001b[0mtype\u001b[0m\u001b[1;33m(\u001b[0m\u001b[0mcounter\u001b[0m\u001b[1;33m)\u001b[0m \u001b[1;32mis\u001b[0m \u001b[0mCounter\u001b[0m\u001b[1;33m:\u001b[0m \u001b[0mcounter\u001b[0m\u001b[1;33m.\u001b[0m\u001b[0mcountTic\u001b[0m\u001b[1;33m(\u001b[0m\u001b[0mself\u001b[0m\u001b[1;33m.\u001b[0m\u001b[0m__class__\u001b[0m\u001b[1;33m.\u001b[0m\u001b[0m__name__\u001b[0m\u001b[1;33m+\u001b[0m\u001b[1;34m'.'\u001b[0m\u001b[1;33m+\u001b[0m\u001b[0mf\u001b[0m\u001b[1;33m.\u001b[0m\u001b[0m__name__\u001b[0m\u001b[1;33m)\u001b[0m\u001b[1;33m\u001b[0m\u001b[0m\n\u001b[1;32m---> 92\u001b[1;33m         \u001b[0mout\u001b[0m \u001b[1;33m=\u001b[0m \u001b[0mf\u001b[0m\u001b[1;33m(\u001b[0m\u001b[0mself\u001b[0m\u001b[1;33m,\u001b[0m\u001b[1;33m*\u001b[0m\u001b[0margs\u001b[0m\u001b[1;33m,\u001b[0m\u001b[1;33m**\u001b[0m\u001b[0mkwargs\u001b[0m\u001b[1;33m)\u001b[0m\u001b[1;33m\u001b[0m\u001b[0m\n\u001b[0m\u001b[0;32m     93\u001b[0m         \u001b[1;32mif\u001b[0m \u001b[0mtype\u001b[0m\u001b[1;33m(\u001b[0m\u001b[0mcounter\u001b[0m\u001b[1;33m)\u001b[0m \u001b[1;32mis\u001b[0m \u001b[0mCounter\u001b[0m\u001b[1;33m:\u001b[0m \u001b[0mcounter\u001b[0m\u001b[1;33m.\u001b[0m\u001b[0mcountToc\u001b[0m\u001b[1;33m(\u001b[0m\u001b[0mself\u001b[0m\u001b[1;33m.\u001b[0m\u001b[0m__class__\u001b[0m\u001b[1;33m.\u001b[0m\u001b[0m__name__\u001b[0m\u001b[1;33m+\u001b[0m\u001b[1;34m'.'\u001b[0m\u001b[1;33m+\u001b[0m\u001b[0mf\u001b[0m\u001b[1;33m.\u001b[0m\u001b[0m__name__\u001b[0m\u001b[1;33m)\u001b[0m\u001b[1;33m\u001b[0m\u001b[0m\n\u001b[0;32m     94\u001b[0m         \u001b[1;32mreturn\u001b[0m \u001b[0mout\u001b[0m\u001b[1;33m\u001b[0m\u001b[0m\n",
      "\u001b[1;32m/media/gudni/ExtraDrive1/Codes/python/simpeg/SimPEG/Inversion.pyc\u001b[0m in \u001b[0;36mrun\u001b[1;34m(self, m0)\u001b[0m\n\u001b[0;32m     60\u001b[0m         \u001b[0mself\u001b[0m\u001b[1;33m.\u001b[0m\u001b[0minvProb\u001b[0m\u001b[1;33m.\u001b[0m\u001b[0mstartup\u001b[0m\u001b[1;33m(\u001b[0m\u001b[0mm0\u001b[0m\u001b[1;33m)\u001b[0m\u001b[1;33m\u001b[0m\u001b[0m\n\u001b[0;32m     61\u001b[0m         \u001b[0mself\u001b[0m\u001b[1;33m.\u001b[0m\u001b[0mdirectiveList\u001b[0m\u001b[1;33m.\u001b[0m\u001b[0mcall\u001b[0m\u001b[1;33m(\u001b[0m\u001b[1;34m'initialize'\u001b[0m\u001b[1;33m)\u001b[0m\u001b[1;33m\u001b[0m\u001b[0m\n\u001b[1;32m---> 62\u001b[1;33m         \u001b[0mself\u001b[0m\u001b[1;33m.\u001b[0m\u001b[0mm\u001b[0m \u001b[1;33m=\u001b[0m \u001b[0mself\u001b[0m\u001b[1;33m.\u001b[0m\u001b[0mopt\u001b[0m\u001b[1;33m.\u001b[0m\u001b[0mminimize\u001b[0m\u001b[1;33m(\u001b[0m\u001b[0mself\u001b[0m\u001b[1;33m.\u001b[0m\u001b[0minvProb\u001b[0m\u001b[1;33m.\u001b[0m\u001b[0mevalFunction\u001b[0m\u001b[1;33m,\u001b[0m \u001b[0mself\u001b[0m\u001b[1;33m.\u001b[0m\u001b[0minvProb\u001b[0m\u001b[1;33m.\u001b[0m\u001b[0mcurModel\u001b[0m\u001b[1;33m)\u001b[0m\u001b[1;33m\u001b[0m\u001b[0m\n\u001b[0m\u001b[0;32m     63\u001b[0m         \u001b[0mself\u001b[0m\u001b[1;33m.\u001b[0m\u001b[0mdirectiveList\u001b[0m\u001b[1;33m.\u001b[0m\u001b[0mcall\u001b[0m\u001b[1;33m(\u001b[0m\u001b[1;34m'finish'\u001b[0m\u001b[1;33m)\u001b[0m\u001b[1;33m\u001b[0m\u001b[0m\n\u001b[0;32m     64\u001b[0m \u001b[1;33m\u001b[0m\u001b[0m\n",
      "\u001b[1;32m/media/gudni/ExtraDrive1/Codes/python/simpeg/SimPEG/Utils/CounterUtils.pyc\u001b[0m in \u001b[0;36mwrapper\u001b[1;34m(self, *args, **kwargs)\u001b[0m\n\u001b[0;32m     90\u001b[0m         \u001b[0mcounter\u001b[0m \u001b[1;33m=\u001b[0m \u001b[0mgetattr\u001b[0m\u001b[1;33m(\u001b[0m\u001b[0mself\u001b[0m\u001b[1;33m,\u001b[0m\u001b[1;34m'counter'\u001b[0m\u001b[1;33m,\u001b[0m\u001b[0mNone\u001b[0m\u001b[1;33m)\u001b[0m\u001b[1;33m\u001b[0m\u001b[0m\n\u001b[0;32m     91\u001b[0m         \u001b[1;32mif\u001b[0m \u001b[0mtype\u001b[0m\u001b[1;33m(\u001b[0m\u001b[0mcounter\u001b[0m\u001b[1;33m)\u001b[0m \u001b[1;32mis\u001b[0m \u001b[0mCounter\u001b[0m\u001b[1;33m:\u001b[0m \u001b[0mcounter\u001b[0m\u001b[1;33m.\u001b[0m\u001b[0mcountTic\u001b[0m\u001b[1;33m(\u001b[0m\u001b[0mself\u001b[0m\u001b[1;33m.\u001b[0m\u001b[0m__class__\u001b[0m\u001b[1;33m.\u001b[0m\u001b[0m__name__\u001b[0m\u001b[1;33m+\u001b[0m\u001b[1;34m'.'\u001b[0m\u001b[1;33m+\u001b[0m\u001b[0mf\u001b[0m\u001b[1;33m.\u001b[0m\u001b[0m__name__\u001b[0m\u001b[1;33m)\u001b[0m\u001b[1;33m\u001b[0m\u001b[0m\n\u001b[1;32m---> 92\u001b[1;33m         \u001b[0mout\u001b[0m \u001b[1;33m=\u001b[0m \u001b[0mf\u001b[0m\u001b[1;33m(\u001b[0m\u001b[0mself\u001b[0m\u001b[1;33m,\u001b[0m\u001b[1;33m*\u001b[0m\u001b[0margs\u001b[0m\u001b[1;33m,\u001b[0m\u001b[1;33m**\u001b[0m\u001b[0mkwargs\u001b[0m\u001b[1;33m)\u001b[0m\u001b[1;33m\u001b[0m\u001b[0m\n\u001b[0m\u001b[0;32m     93\u001b[0m         \u001b[1;32mif\u001b[0m \u001b[0mtype\u001b[0m\u001b[1;33m(\u001b[0m\u001b[0mcounter\u001b[0m\u001b[1;33m)\u001b[0m \u001b[1;32mis\u001b[0m \u001b[0mCounter\u001b[0m\u001b[1;33m:\u001b[0m \u001b[0mcounter\u001b[0m\u001b[1;33m.\u001b[0m\u001b[0mcountToc\u001b[0m\u001b[1;33m(\u001b[0m\u001b[0mself\u001b[0m\u001b[1;33m.\u001b[0m\u001b[0m__class__\u001b[0m\u001b[1;33m.\u001b[0m\u001b[0m__name__\u001b[0m\u001b[1;33m+\u001b[0m\u001b[1;34m'.'\u001b[0m\u001b[1;33m+\u001b[0m\u001b[0mf\u001b[0m\u001b[1;33m.\u001b[0m\u001b[0m__name__\u001b[0m\u001b[1;33m)\u001b[0m\u001b[1;33m\u001b[0m\u001b[0m\n\u001b[0;32m     94\u001b[0m         \u001b[1;32mreturn\u001b[0m \u001b[0mout\u001b[0m\u001b[1;33m\u001b[0m\u001b[0m\n",
      "\u001b[1;32m/media/gudni/ExtraDrive1/Codes/python/simpeg/SimPEG/Optimization.pyc\u001b[0m in \u001b[0;36mminimize\u001b[1;34m(self, evalFunction, x0)\u001b[0m\n\u001b[0;32m    206\u001b[0m         \u001b[1;32mwhile\u001b[0m \u001b[0mTrue\u001b[0m\u001b[1;33m:\u001b[0m\u001b[1;33m\u001b[0m\u001b[0m\n\u001b[0;32m    207\u001b[0m             \u001b[0mself\u001b[0m\u001b[1;33m.\u001b[0m\u001b[0mdoStartIteration\u001b[0m\u001b[1;33m(\u001b[0m\u001b[1;33m)\u001b[0m\u001b[1;33m\u001b[0m\u001b[0m\n\u001b[1;32m--> 208\u001b[1;33m             \u001b[0mself\u001b[0m\u001b[1;33m.\u001b[0m\u001b[0mf\u001b[0m\u001b[1;33m,\u001b[0m \u001b[0mself\u001b[0m\u001b[1;33m.\u001b[0m\u001b[0mg\u001b[0m\u001b[1;33m,\u001b[0m \u001b[0mself\u001b[0m\u001b[1;33m.\u001b[0m\u001b[0mH\u001b[0m \u001b[1;33m=\u001b[0m \u001b[0mevalFunction\u001b[0m\u001b[1;33m(\u001b[0m\u001b[0mself\u001b[0m\u001b[1;33m.\u001b[0m\u001b[0mxc\u001b[0m\u001b[1;33m,\u001b[0m \u001b[0mreturn_g\u001b[0m\u001b[1;33m=\u001b[0m\u001b[0mTrue\u001b[0m\u001b[1;33m,\u001b[0m \u001b[0mreturn_H\u001b[0m\u001b[1;33m=\u001b[0m\u001b[0mTrue\u001b[0m\u001b[1;33m)\u001b[0m\u001b[1;33m\u001b[0m\u001b[0m\n\u001b[0m\u001b[0;32m    209\u001b[0m             \u001b[0mself\u001b[0m\u001b[1;33m.\u001b[0m\u001b[0mprintIter\u001b[0m\u001b[1;33m(\u001b[0m\u001b[1;33m)\u001b[0m\u001b[1;33m\u001b[0m\u001b[0m\n\u001b[0;32m    210\u001b[0m             \u001b[1;32mif\u001b[0m \u001b[0mself\u001b[0m\u001b[1;33m.\u001b[0m\u001b[0mstoppingCriteria\u001b[0m\u001b[1;33m(\u001b[0m\u001b[1;33m)\u001b[0m\u001b[1;33m:\u001b[0m \u001b[1;32mbreak\u001b[0m\u001b[1;33m\u001b[0m\u001b[0m\n",
      "\u001b[1;32m/media/gudni/ExtraDrive1/Codes/python/simpeg/SimPEG/Utils/CounterUtils.pyc\u001b[0m in \u001b[0;36mwrapper\u001b[1;34m(self, *args, **kwargs)\u001b[0m\n\u001b[0;32m     90\u001b[0m         \u001b[0mcounter\u001b[0m \u001b[1;33m=\u001b[0m \u001b[0mgetattr\u001b[0m\u001b[1;33m(\u001b[0m\u001b[0mself\u001b[0m\u001b[1;33m,\u001b[0m\u001b[1;34m'counter'\u001b[0m\u001b[1;33m,\u001b[0m\u001b[0mNone\u001b[0m\u001b[1;33m)\u001b[0m\u001b[1;33m\u001b[0m\u001b[0m\n\u001b[0;32m     91\u001b[0m         \u001b[1;32mif\u001b[0m \u001b[0mtype\u001b[0m\u001b[1;33m(\u001b[0m\u001b[0mcounter\u001b[0m\u001b[1;33m)\u001b[0m \u001b[1;32mis\u001b[0m \u001b[0mCounter\u001b[0m\u001b[1;33m:\u001b[0m \u001b[0mcounter\u001b[0m\u001b[1;33m.\u001b[0m\u001b[0mcountTic\u001b[0m\u001b[1;33m(\u001b[0m\u001b[0mself\u001b[0m\u001b[1;33m.\u001b[0m\u001b[0m__class__\u001b[0m\u001b[1;33m.\u001b[0m\u001b[0m__name__\u001b[0m\u001b[1;33m+\u001b[0m\u001b[1;34m'.'\u001b[0m\u001b[1;33m+\u001b[0m\u001b[0mf\u001b[0m\u001b[1;33m.\u001b[0m\u001b[0m__name__\u001b[0m\u001b[1;33m)\u001b[0m\u001b[1;33m\u001b[0m\u001b[0m\n\u001b[1;32m---> 92\u001b[1;33m         \u001b[0mout\u001b[0m \u001b[1;33m=\u001b[0m \u001b[0mf\u001b[0m\u001b[1;33m(\u001b[0m\u001b[0mself\u001b[0m\u001b[1;33m,\u001b[0m\u001b[1;33m*\u001b[0m\u001b[0margs\u001b[0m\u001b[1;33m,\u001b[0m\u001b[1;33m**\u001b[0m\u001b[0mkwargs\u001b[0m\u001b[1;33m)\u001b[0m\u001b[1;33m\u001b[0m\u001b[0m\n\u001b[0m\u001b[0;32m     93\u001b[0m         \u001b[1;32mif\u001b[0m \u001b[0mtype\u001b[0m\u001b[1;33m(\u001b[0m\u001b[0mcounter\u001b[0m\u001b[1;33m)\u001b[0m \u001b[1;32mis\u001b[0m \u001b[0mCounter\u001b[0m\u001b[1;33m:\u001b[0m \u001b[0mcounter\u001b[0m\u001b[1;33m.\u001b[0m\u001b[0mcountToc\u001b[0m\u001b[1;33m(\u001b[0m\u001b[0mself\u001b[0m\u001b[1;33m.\u001b[0m\u001b[0m__class__\u001b[0m\u001b[1;33m.\u001b[0m\u001b[0m__name__\u001b[0m\u001b[1;33m+\u001b[0m\u001b[1;34m'.'\u001b[0m\u001b[1;33m+\u001b[0m\u001b[0mf\u001b[0m\u001b[1;33m.\u001b[0m\u001b[0m__name__\u001b[0m\u001b[1;33m)\u001b[0m\u001b[1;33m\u001b[0m\u001b[0m\n\u001b[0;32m     94\u001b[0m         \u001b[1;32mreturn\u001b[0m \u001b[0mout\u001b[0m\u001b[1;33m\u001b[0m\u001b[0m\n",
      "\u001b[1;32m/media/gudni/ExtraDrive1/Codes/python/simpeg/SimPEG/InvProblem.pyc\u001b[0m in \u001b[0;36mevalFunction\u001b[1;34m(self, m, return_g, return_H)\u001b[0m\n\u001b[0;32m    124\u001b[0m         \u001b[0mout\u001b[0m \u001b[1;33m=\u001b[0m \u001b[1;33m(\u001b[0m\u001b[0mf\u001b[0m\u001b[1;33m,\u001b[0m\u001b[1;33m)\u001b[0m\u001b[1;33m\u001b[0m\u001b[0m\n\u001b[0;32m    125\u001b[0m         \u001b[1;32mif\u001b[0m \u001b[0mreturn_g\u001b[0m\u001b[1;33m:\u001b[0m\u001b[1;33m\u001b[0m\u001b[0m\n\u001b[1;32m--> 126\u001b[1;33m             \u001b[0mphi_dDeriv\u001b[0m \u001b[1;33m=\u001b[0m \u001b[0mself\u001b[0m\u001b[1;33m.\u001b[0m\u001b[0mdmisfit\u001b[0m\u001b[1;33m.\u001b[0m\u001b[0mevalDeriv\u001b[0m\u001b[1;33m(\u001b[0m\u001b[0mm\u001b[0m\u001b[1;33m,\u001b[0m \u001b[0mu\u001b[0m\u001b[1;33m=\u001b[0m\u001b[0mu\u001b[0m\u001b[1;33m)\u001b[0m\u001b[1;33m\u001b[0m\u001b[0m\n\u001b[0m\u001b[0;32m    127\u001b[0m             \u001b[0mphi_mDeriv\u001b[0m \u001b[1;33m=\u001b[0m \u001b[0mself\u001b[0m\u001b[1;33m.\u001b[0m\u001b[0mreg\u001b[0m\u001b[1;33m.\u001b[0m\u001b[0mevalDeriv\u001b[0m\u001b[1;33m(\u001b[0m\u001b[0mm\u001b[0m\u001b[1;33m)\u001b[0m\u001b[1;33m\u001b[0m\u001b[0m\n\u001b[0;32m    128\u001b[0m \u001b[1;33m\u001b[0m\u001b[0m\n",
      "\u001b[1;32m/media/gudni/ExtraDrive1/Codes/python/simpeg/SimPEG/Utils/CounterUtils.pyc\u001b[0m in \u001b[0;36mwrapper\u001b[1;34m(self, *args, **kwargs)\u001b[0m\n\u001b[0;32m     90\u001b[0m         \u001b[0mcounter\u001b[0m \u001b[1;33m=\u001b[0m \u001b[0mgetattr\u001b[0m\u001b[1;33m(\u001b[0m\u001b[0mself\u001b[0m\u001b[1;33m,\u001b[0m\u001b[1;34m'counter'\u001b[0m\u001b[1;33m,\u001b[0m\u001b[0mNone\u001b[0m\u001b[1;33m)\u001b[0m\u001b[1;33m\u001b[0m\u001b[0m\n\u001b[0;32m     91\u001b[0m         \u001b[1;32mif\u001b[0m \u001b[0mtype\u001b[0m\u001b[1;33m(\u001b[0m\u001b[0mcounter\u001b[0m\u001b[1;33m)\u001b[0m \u001b[1;32mis\u001b[0m \u001b[0mCounter\u001b[0m\u001b[1;33m:\u001b[0m \u001b[0mcounter\u001b[0m\u001b[1;33m.\u001b[0m\u001b[0mcountTic\u001b[0m\u001b[1;33m(\u001b[0m\u001b[0mself\u001b[0m\u001b[1;33m.\u001b[0m\u001b[0m__class__\u001b[0m\u001b[1;33m.\u001b[0m\u001b[0m__name__\u001b[0m\u001b[1;33m+\u001b[0m\u001b[1;34m'.'\u001b[0m\u001b[1;33m+\u001b[0m\u001b[0mf\u001b[0m\u001b[1;33m.\u001b[0m\u001b[0m__name__\u001b[0m\u001b[1;33m)\u001b[0m\u001b[1;33m\u001b[0m\u001b[0m\n\u001b[1;32m---> 92\u001b[1;33m         \u001b[0mout\u001b[0m \u001b[1;33m=\u001b[0m \u001b[0mf\u001b[0m\u001b[1;33m(\u001b[0m\u001b[0mself\u001b[0m\u001b[1;33m,\u001b[0m\u001b[1;33m*\u001b[0m\u001b[0margs\u001b[0m\u001b[1;33m,\u001b[0m\u001b[1;33m**\u001b[0m\u001b[0mkwargs\u001b[0m\u001b[1;33m)\u001b[0m\u001b[1;33m\u001b[0m\u001b[0m\n\u001b[0m\u001b[0;32m     93\u001b[0m         \u001b[1;32mif\u001b[0m \u001b[0mtype\u001b[0m\u001b[1;33m(\u001b[0m\u001b[0mcounter\u001b[0m\u001b[1;33m)\u001b[0m \u001b[1;32mis\u001b[0m \u001b[0mCounter\u001b[0m\u001b[1;33m:\u001b[0m \u001b[0mcounter\u001b[0m\u001b[1;33m.\u001b[0m\u001b[0mcountToc\u001b[0m\u001b[1;33m(\u001b[0m\u001b[0mself\u001b[0m\u001b[1;33m.\u001b[0m\u001b[0m__class__\u001b[0m\u001b[1;33m.\u001b[0m\u001b[0m__name__\u001b[0m\u001b[1;33m+\u001b[0m\u001b[1;34m'.'\u001b[0m\u001b[1;33m+\u001b[0m\u001b[0mf\u001b[0m\u001b[1;33m.\u001b[0m\u001b[0m__name__\u001b[0m\u001b[1;33m)\u001b[0m\u001b[1;33m\u001b[0m\u001b[0m\n\u001b[0;32m     94\u001b[0m         \u001b[1;32mreturn\u001b[0m \u001b[0mout\u001b[0m\u001b[1;33m\u001b[0m\u001b[0m\n",
      "\u001b[1;32m/media/gudni/ExtraDrive1/Codes/python/simpeg/SimPEG/DataMisfit.pyc\u001b[0m in \u001b[0;36mevalDeriv\u001b[1;34m(self, m, u)\u001b[0m\n\u001b[0;32m    156\u001b[0m         \u001b[0msurvey\u001b[0m \u001b[1;33m=\u001b[0m \u001b[0mself\u001b[0m\u001b[1;33m.\u001b[0m\u001b[0msurvey\u001b[0m\u001b[1;33m\u001b[0m\u001b[0m\n\u001b[0;32m    157\u001b[0m         \u001b[1;32mif\u001b[0m \u001b[0mu\u001b[0m \u001b[1;32mis\u001b[0m \u001b[0mNone\u001b[0m\u001b[1;33m:\u001b[0m \u001b[0mu\u001b[0m \u001b[1;33m=\u001b[0m \u001b[0mprob\u001b[0m\u001b[1;33m.\u001b[0m\u001b[0mfields\u001b[0m\u001b[1;33m(\u001b[0m\u001b[0mm\u001b[0m\u001b[1;33m)\u001b[0m\u001b[1;33m\u001b[0m\u001b[0m\n\u001b[1;32m--> 158\u001b[1;33m         \u001b[1;32mreturn\u001b[0m \u001b[0mprob\u001b[0m\u001b[1;33m.\u001b[0m\u001b[0mJtvec\u001b[0m\u001b[1;33m(\u001b[0m\u001b[0mm\u001b[0m\u001b[1;33m,\u001b[0m \u001b[0mself\u001b[0m\u001b[1;33m.\u001b[0m\u001b[0mWd\u001b[0m \u001b[1;33m*\u001b[0m \u001b[1;33m(\u001b[0m\u001b[0mself\u001b[0m\u001b[1;33m.\u001b[0m\u001b[0mWd\u001b[0m \u001b[1;33m*\u001b[0m \u001b[0msurvey\u001b[0m\u001b[1;33m.\u001b[0m\u001b[0mresidual\u001b[0m\u001b[1;33m(\u001b[0m\u001b[0mm\u001b[0m\u001b[1;33m,\u001b[0m \u001b[0mu\u001b[0m\u001b[1;33m=\u001b[0m\u001b[0mu\u001b[0m\u001b[1;33m)\u001b[0m\u001b[1;33m)\u001b[0m\u001b[1;33m,\u001b[0m \u001b[0mu\u001b[0m\u001b[1;33m=\u001b[0m\u001b[0mu\u001b[0m\u001b[1;33m)\u001b[0m\u001b[1;33m\u001b[0m\u001b[0m\n\u001b[0m\u001b[0;32m    159\u001b[0m \u001b[1;33m\u001b[0m\u001b[0m\n\u001b[0;32m    160\u001b[0m     \u001b[1;33m@\u001b[0m\u001b[0mUtils\u001b[0m\u001b[1;33m.\u001b[0m\u001b[0mtimeIt\u001b[0m\u001b[1;33m\u001b[0m\u001b[0m\n",
      "\u001b[1;32m/media/gudni/ExtraDrive1/Codes/python/simpegmt/simpegMT/BaseMT.py\u001b[0m in \u001b[0;36mJtvec\u001b[1;34m(self, m, v, u)\u001b[0m\n\u001b[0;32m    125\u001b[0m                     \u001b[1;31m# Get the\u001b[0m\u001b[1;33m\u001b[0m\u001b[1;33m\u001b[0m\u001b[0m\n\u001b[0;32m    126\u001b[0m                     \u001b[0mdA_duIT\u001b[0m \u001b[1;33m=\u001b[0m \u001b[0mATinv\u001b[0m \u001b[1;33m*\u001b[0m \u001b[0mPTv\u001b[0m\u001b[1;33m\u001b[0m\u001b[0m\n\u001b[1;32m--> 127\u001b[1;33m                     \u001b[0mdA_dmT\u001b[0m \u001b[1;33m=\u001b[0m \u001b[0mself\u001b[0m\u001b[1;33m.\u001b[0m\u001b[0mgetADeriv_m\u001b[0m\u001b[1;33m(\u001b[0m\u001b[0mfreq\u001b[0m\u001b[1;33m,\u001b[0m \u001b[0mu_src\u001b[0m\u001b[1;33m,\u001b[0m \u001b[0mmkvc\u001b[0m\u001b[1;33m(\u001b[0m\u001b[0mdA_duIT\u001b[0m\u001b[1;33m)\u001b[0m\u001b[1;33m,\u001b[0m \u001b[0madjoint\u001b[0m\u001b[1;33m=\u001b[0m\u001b[0mTrue\u001b[0m\u001b[1;33m)\u001b[0m\u001b[1;33m\u001b[0m\u001b[0m\n\u001b[0m\u001b[0;32m    128\u001b[0m                     \u001b[0mdRHS_dmT\u001b[0m \u001b[1;33m=\u001b[0m \u001b[0mself\u001b[0m\u001b[1;33m.\u001b[0m\u001b[0mgetRHSDeriv_m\u001b[0m\u001b[1;33m(\u001b[0m\u001b[0mfreq\u001b[0m\u001b[1;33m,\u001b[0m \u001b[0mmkvc\u001b[0m\u001b[1;33m(\u001b[0m\u001b[0mdA_duIT\u001b[0m\u001b[1;33m)\u001b[0m\u001b[1;33m,\u001b[0m \u001b[0madjoint\u001b[0m\u001b[1;33m=\u001b[0m\u001b[0mTrue\u001b[0m\u001b[1;33m)\u001b[0m\u001b[1;33m\u001b[0m\u001b[0m\n\u001b[0;32m    129\u001b[0m                     \u001b[1;31m# Make du_dmT\u001b[0m\u001b[1;33m\u001b[0m\u001b[1;33m\u001b[0m\u001b[0m\n",
      "\u001b[1;32m/media/gudni/ExtraDrive1/Codes/python/simpegmt/simpegMT/ProblemMT1D/Problems.pyc\u001b[0m in \u001b[0;36mgetADeriv_m\u001b[1;34m(self, freq, u, v, adjoint)\u001b[0m\n\u001b[0;32m     68\u001b[0m         \u001b[1;31m#\u001b[0m\u001b[1;33m\u001b[0m\u001b[1;33m\u001b[0m\u001b[0m\n\u001b[0;32m     69\u001b[0m         \u001b[0mu_src\u001b[0m \u001b[1;33m=\u001b[0m \u001b[0mu\u001b[0m\u001b[1;33m[\u001b[0m\u001b[1;34m'e_1dSolution'\u001b[0m\u001b[1;33m]\u001b[0m\u001b[1;33m\u001b[0m\u001b[0m\n\u001b[1;32m---> 70\u001b[1;33m         \u001b[0mdMf_dsig\u001b[0m \u001b[1;33m=\u001b[0m \u001b[0mself\u001b[0m\u001b[1;33m.\u001b[0m\u001b[0mmesh\u001b[0m\u001b[1;33m.\u001b[0m\u001b[0mgetFaceInnerProductDeriv\u001b[0m\u001b[1;33m(\u001b[0m\u001b[0mself\u001b[0m\u001b[1;33m.\u001b[0m\u001b[0mcurModel\u001b[0m\u001b[1;33m.\u001b[0m\u001b[0msigma\u001b[0m\u001b[1;33m)\u001b[0m\u001b[1;33m(\u001b[0m\u001b[0mu_src\u001b[0m\u001b[1;33m)\u001b[0m \u001b[1;33m*\u001b[0m \u001b[0mself\u001b[0m\u001b[1;33m.\u001b[0m\u001b[0mcurModel\u001b[0m\u001b[1;33m.\u001b[0m\u001b[0msigmaDeriv\u001b[0m\u001b[1;33m\u001b[0m\u001b[0m\n\u001b[0m\u001b[0;32m     71\u001b[0m         \u001b[1;32mif\u001b[0m \u001b[0madjoint\u001b[0m\u001b[1;33m:\u001b[0m\u001b[1;33m\u001b[0m\u001b[0m\n\u001b[0;32m     72\u001b[0m             \u001b[1;32mreturn\u001b[0m \u001b[1;36m1j\u001b[0m \u001b[1;33m*\u001b[0m \u001b[0momega\u001b[0m\u001b[1;33m(\u001b[0m\u001b[0mfreq\u001b[0m\u001b[1;33m)\u001b[0m \u001b[1;33m*\u001b[0m \u001b[1;33m(\u001b[0m  \u001b[0mdMf_dsig\u001b[0m\u001b[1;33m.\u001b[0m\u001b[0mT\u001b[0m \u001b[1;33m*\u001b[0m \u001b[0mv\u001b[0m \u001b[1;33m)\u001b[0m\u001b[1;33m\u001b[0m\u001b[0m\n",
      "\u001b[1;32m/media/gudni/ExtraDrive1/Codes/python/simpeg/SimPEG/PropMaps.pyc\u001b[0m in \u001b[0;36mfget\u001b[1;34m(self)\u001b[0m\n\u001b[0;32m    107\u001b[0m \u001b[1;33m\u001b[0m\u001b[0m\n\u001b[0;32m    108\u001b[0m             \u001b[0mm\u001b[0m \u001b[1;33m=\u001b[0m \u001b[0mgetattr\u001b[0m\u001b[1;33m(\u001b[0m\u001b[0mself\u001b[0m\u001b[1;33m,\u001b[0m \u001b[1;34m'%sModel'\u001b[0m\u001b[1;33m%\u001b[0m\u001b[0mprop\u001b[0m\u001b[1;33m.\u001b[0m\u001b[0mname\u001b[0m\u001b[1;33m)\u001b[0m\u001b[1;33m\u001b[0m\u001b[0m\n\u001b[1;32m--> 109\u001b[1;33m             \u001b[1;32mreturn\u001b[0m \u001b[0mmapping\u001b[0m\u001b[1;33m.\u001b[0m\u001b[0mderiv\u001b[0m\u001b[1;33m(\u001b[0m \u001b[0mm\u001b[0m \u001b[1;33m)\u001b[0m\u001b[1;33m\u001b[0m\u001b[0m\n\u001b[0m\u001b[0;32m    110\u001b[0m         \u001b[1;32mreturn\u001b[0m \u001b[0mproperty\u001b[0m\u001b[1;33m(\u001b[0m\u001b[0mfget\u001b[0m\u001b[1;33m=\u001b[0m\u001b[0mfget\u001b[0m\u001b[1;33m)\u001b[0m\u001b[1;33m\u001b[0m\u001b[0m\n\u001b[0;32m    111\u001b[0m \u001b[1;33m\u001b[0m\u001b[0m\n",
      "\u001b[1;32m/media/gudni/ExtraDrive1/Codes/python/simpeg/SimPEG/Maps.pyc\u001b[0m in \u001b[0;36mderiv\u001b[1;34m(self, m)\u001b[0m\n\u001b[0;32m    181\u001b[0m         \u001b[0mmi\u001b[0m \u001b[1;33m=\u001b[0m \u001b[0mm\u001b[0m\u001b[1;33m\u001b[0m\u001b[0m\n\u001b[0;32m    182\u001b[0m         \u001b[1;32mfor\u001b[0m \u001b[0mmap_i\u001b[0m \u001b[1;32min\u001b[0m \u001b[0mreversed\u001b[0m\u001b[1;33m(\u001b[0m\u001b[0mself\u001b[0m\u001b[1;33m.\u001b[0m\u001b[0mmaps\u001b[0m\u001b[1;33m)\u001b[0m\u001b[1;33m:\u001b[0m\u001b[1;33m\u001b[0m\u001b[0m\n\u001b[1;32m--> 183\u001b[1;33m             \u001b[0mderiv\u001b[0m \u001b[1;33m=\u001b[0m \u001b[0mmap_i\u001b[0m\u001b[1;33m.\u001b[0m\u001b[0mderiv\u001b[0m\u001b[1;33m(\u001b[0m\u001b[0mmi\u001b[0m\u001b[1;33m)\u001b[0m \u001b[1;33m*\u001b[0m \u001b[0mderiv\u001b[0m\u001b[1;33m\u001b[0m\u001b[0m\n\u001b[0m\u001b[0;32m    184\u001b[0m             \u001b[0mmi\u001b[0m \u001b[1;33m=\u001b[0m \u001b[0mmap_i\u001b[0m \u001b[1;33m*\u001b[0m \u001b[0mmi\u001b[0m\u001b[1;33m\u001b[0m\u001b[0m\n\u001b[0;32m    185\u001b[0m         \u001b[1;32mreturn\u001b[0m \u001b[0mderiv\u001b[0m\u001b[1;33m\u001b[0m\u001b[0m\n",
      "\u001b[1;32m/media/gudni/ExtraDrive1/Codes/python/simpeg/SimPEG/Maps.pyc\u001b[0m in \u001b[0;36mderiv\u001b[1;34m(self, m)\u001b[0m\n\u001b[0;32m    249\u001b[0m                 \u001b[0;31m\\\u001b[0m\u001b[0;31m\\\u001b[0m\u001b[0mfrac\u001b[0m\u001b[1;33m{\u001b[0m\u001b[0;31m\\\u001b[0m\u001b[0mpartial\u001b[0m\u001b[0;31m \u001b[0m\u001b[0;31m\\\u001b[0m\u001b[0mexp\u001b[0m\u001b[1;33m{\u001b[0m\u001b[0mm\u001b[0m\u001b[1;33m}\u001b[0m\u001b[1;33m}\u001b[0m\u001b[1;33m{\u001b[0m\u001b[0;31m\\\u001b[0m\u001b[0mpartial\u001b[0m \u001b[0mm\u001b[0m\u001b[1;33m}\u001b[0m \u001b[1;33m=\u001b[0m\u001b[0;31m \u001b[0m\u001b[0;31m\\\u001b[0m\u001b[0;31m\\\u001b[0m\u001b[0mtext\u001b[0m\u001b[1;33m{\u001b[0m\u001b[0msdiag\u001b[0m\u001b[1;33m}\u001b[0m\u001b[1;33m(\u001b[0m\u001b[0;31m\\\u001b[0m\u001b[0mexp\u001b[0m\u001b[1;33m{\u001b[0m\u001b[0mm\u001b[0m\u001b[1;33m}\u001b[0m\u001b[1;33m)\u001b[0m\u001b[1;33m\u001b[0m\u001b[0m\n\u001b[0;32m    250\u001b[0m         \"\"\"\n\u001b[1;32m--> 251\u001b[1;33m         \u001b[1;32mreturn\u001b[0m \u001b[0mUtils\u001b[0m\u001b[1;33m.\u001b[0m\u001b[0msdiag\u001b[0m\u001b[1;33m(\u001b[0m\u001b[0mnp\u001b[0m\u001b[1;33m.\u001b[0m\u001b[0mexp\u001b[0m\u001b[1;33m(\u001b[0m\u001b[0mUtils\u001b[0m\u001b[1;33m.\u001b[0m\u001b[0mmkvc\u001b[0m\u001b[1;33m(\u001b[0m\u001b[0mm\u001b[0m\u001b[1;33m)\u001b[0m\u001b[1;33m)\u001b[0m\u001b[1;33m)\u001b[0m\u001b[1;33m\u001b[0m\u001b[0m\n\u001b[0m\u001b[0;32m    252\u001b[0m \u001b[1;33m\u001b[0m\u001b[0m\n\u001b[0;32m    253\u001b[0m \u001b[1;32mclass\u001b[0m \u001b[0mReciprocalMap\u001b[0m\u001b[1;33m(\u001b[0m\u001b[0mIdentityMap\u001b[0m\u001b[1;33m)\u001b[0m\u001b[1;33m:\u001b[0m\u001b[1;33m\u001b[0m\u001b[0m\n",
      "\u001b[1;32m/media/gudni/ExtraDrive1/Codes/python/simpeg/SimPEG/Utils/matutils.pyc\u001b[0m in \u001b[0;36msdiag\u001b[1;34m(h)\u001b[0m\n\u001b[0;32m     38\u001b[0m \u001b[1;32mdef\u001b[0m \u001b[0msdiag\u001b[0m\u001b[1;33m(\u001b[0m\u001b[0mh\u001b[0m\u001b[1;33m)\u001b[0m\u001b[1;33m:\u001b[0m\u001b[1;33m\u001b[0m\u001b[0m\n\u001b[0;32m     39\u001b[0m     \u001b[1;34m\"\"\"Sparse diagonal matrix\"\"\"\u001b[0m\u001b[1;33m\u001b[0m\u001b[0m\n\u001b[1;32m---> 40\u001b[1;33m     \u001b[1;32mreturn\u001b[0m \u001b[0msp\u001b[0m\u001b[1;33m.\u001b[0m\u001b[0mspdiags\u001b[0m\u001b[1;33m(\u001b[0m\u001b[0mmkvc\u001b[0m\u001b[1;33m(\u001b[0m\u001b[0mh\u001b[0m\u001b[1;33m)\u001b[0m\u001b[1;33m,\u001b[0m \u001b[1;36m0\u001b[0m\u001b[1;33m,\u001b[0m \u001b[0mh\u001b[0m\u001b[1;33m.\u001b[0m\u001b[0msize\u001b[0m\u001b[1;33m,\u001b[0m \u001b[0mh\u001b[0m\u001b[1;33m.\u001b[0m\u001b[0msize\u001b[0m\u001b[1;33m,\u001b[0m \u001b[0mformat\u001b[0m\u001b[1;33m=\u001b[0m\u001b[1;34m\"csr\"\u001b[0m\u001b[1;33m)\u001b[0m\u001b[1;33m\u001b[0m\u001b[0m\n\u001b[0m\u001b[0;32m     41\u001b[0m \u001b[1;33m\u001b[0m\u001b[0m\n\u001b[0;32m     42\u001b[0m \u001b[1;32mdef\u001b[0m \u001b[0msdInv\u001b[0m\u001b[1;33m(\u001b[0m\u001b[0mM\u001b[0m\u001b[1;33m)\u001b[0m\u001b[1;33m:\u001b[0m\u001b[1;33m\u001b[0m\u001b[0m\n",
      "\u001b[1;32m/home/gudni/anaconda/lib/python2.7/site-packages/scipy/sparse/construct.pyc\u001b[0m in \u001b[0;36mspdiags\u001b[1;34m(data, diags, m, n, format)\u001b[0m\n\u001b[0;32m     58\u001b[0m \u001b[1;33m\u001b[0m\u001b[0m\n\u001b[0;32m     59\u001b[0m     \"\"\"\n\u001b[1;32m---> 60\u001b[1;33m     \u001b[1;32mreturn\u001b[0m \u001b[0mdia_matrix\u001b[0m\u001b[1;33m(\u001b[0m\u001b[1;33m(\u001b[0m\u001b[0mdata\u001b[0m\u001b[1;33m,\u001b[0m \u001b[0mdiags\u001b[0m\u001b[1;33m)\u001b[0m\u001b[1;33m,\u001b[0m \u001b[0mshape\u001b[0m\u001b[1;33m=\u001b[0m\u001b[1;33m(\u001b[0m\u001b[0mm\u001b[0m\u001b[1;33m,\u001b[0m\u001b[0mn\u001b[0m\u001b[1;33m)\u001b[0m\u001b[1;33m)\u001b[0m\u001b[1;33m.\u001b[0m\u001b[0masformat\u001b[0m\u001b[1;33m(\u001b[0m\u001b[0mformat\u001b[0m\u001b[1;33m)\u001b[0m\u001b[1;33m\u001b[0m\u001b[0m\n\u001b[0m\u001b[0;32m     61\u001b[0m \u001b[1;33m\u001b[0m\u001b[0m\n\u001b[0;32m     62\u001b[0m \u001b[1;33m\u001b[0m\u001b[0m\n",
      "\u001b[1;32m/home/gudni/anaconda/lib/python2.7/site-packages/scipy/sparse/base.pyc\u001b[0m in \u001b[0;36masformat\u001b[1;34m(self, format)\u001b[0m\n\u001b[0;32m    211\u001b[0m             \u001b[1;32mreturn\u001b[0m \u001b[0mself\u001b[0m\u001b[1;33m\u001b[0m\u001b[0m\n\u001b[0;32m    212\u001b[0m         \u001b[1;32melse\u001b[0m\u001b[1;33m:\u001b[0m\u001b[1;33m\u001b[0m\u001b[0m\n\u001b[1;32m--> 213\u001b[1;33m             \u001b[1;32mreturn\u001b[0m \u001b[0mgetattr\u001b[0m\u001b[1;33m(\u001b[0m\u001b[0mself\u001b[0m\u001b[1;33m,\u001b[0m\u001b[1;34m'to'\u001b[0m \u001b[1;33m+\u001b[0m \u001b[0mformat\u001b[0m\u001b[1;33m)\u001b[0m\u001b[1;33m(\u001b[0m\u001b[1;33m)\u001b[0m\u001b[1;33m\u001b[0m\u001b[0m\n\u001b[0m\u001b[0;32m    214\u001b[0m \u001b[1;33m\u001b[0m\u001b[0m\n\u001b[0;32m    215\u001b[0m     \u001b[1;31m###################################################################\u001b[0m\u001b[1;33m\u001b[0m\u001b[1;33m\u001b[0m\u001b[0m\n",
      "\u001b[1;32m/home/gudni/anaconda/lib/python2.7/site-packages/scipy/sparse/dia.pyc\u001b[0m in \u001b[0;36mtocsr\u001b[1;34m(self)\u001b[0m\n\u001b[0;32m    225\u001b[0m     \u001b[1;32mdef\u001b[0m \u001b[0mtocsr\u001b[0m\u001b[1;33m(\u001b[0m\u001b[0mself\u001b[0m\u001b[1;33m)\u001b[0m\u001b[1;33m:\u001b[0m\u001b[1;33m\u001b[0m\u001b[0m\n\u001b[0;32m    226\u001b[0m         \u001b[1;31m#this could be faster\u001b[0m\u001b[1;33m\u001b[0m\u001b[1;33m\u001b[0m\u001b[0m\n\u001b[1;32m--> 227\u001b[1;33m         \u001b[1;32mreturn\u001b[0m \u001b[0mself\u001b[0m\u001b[1;33m.\u001b[0m\u001b[0mtocoo\u001b[0m\u001b[1;33m(\u001b[0m\u001b[1;33m)\u001b[0m\u001b[1;33m.\u001b[0m\u001b[0mtocsr\u001b[0m\u001b[1;33m(\u001b[0m\u001b[1;33m)\u001b[0m\u001b[1;33m\u001b[0m\u001b[0m\n\u001b[0m\u001b[0;32m    228\u001b[0m \u001b[1;33m\u001b[0m\u001b[0m\n\u001b[0;32m    229\u001b[0m     \u001b[1;32mdef\u001b[0m \u001b[0mtocsc\u001b[0m\u001b[1;33m(\u001b[0m\u001b[0mself\u001b[0m\u001b[1;33m)\u001b[0m\u001b[1;33m:\u001b[0m\u001b[1;33m\u001b[0m\u001b[0m\n",
      "\u001b[1;32m/home/gudni/anaconda/lib/python2.7/site-packages/scipy/sparse/dia.pyc\u001b[0m in \u001b[0;36mtocoo\u001b[1;34m(self)\u001b[0m\n\u001b[0;32m    250\u001b[0m \u001b[1;33m\u001b[0m\u001b[0m\n\u001b[0;32m    251\u001b[0m         \u001b[1;32mfrom\u001b[0m \u001b[1;33m.\u001b[0m\u001b[0mcoo\u001b[0m \u001b[1;32mimport\u001b[0m \u001b[0mcoo_matrix\u001b[0m\u001b[1;33m\u001b[0m\u001b[0m\n\u001b[1;32m--> 252\u001b[1;33m         \u001b[1;32mreturn\u001b[0m \u001b[0mcoo_matrix\u001b[0m\u001b[1;33m(\u001b[0m\u001b[1;33m(\u001b[0m\u001b[0mdata\u001b[0m\u001b[1;33m,\u001b[0m\u001b[1;33m(\u001b[0m\u001b[0mrow\u001b[0m\u001b[1;33m,\u001b[0m\u001b[0mcol\u001b[0m\u001b[1;33m)\u001b[0m\u001b[1;33m)\u001b[0m\u001b[1;33m,\u001b[0m \u001b[0mshape\u001b[0m\u001b[1;33m=\u001b[0m\u001b[0mself\u001b[0m\u001b[1;33m.\u001b[0m\u001b[0mshape\u001b[0m\u001b[1;33m)\u001b[0m\u001b[1;33m\u001b[0m\u001b[0m\n\u001b[0m\u001b[0;32m    253\u001b[0m \u001b[1;33m\u001b[0m\u001b[0m\n\u001b[0;32m    254\u001b[0m     \u001b[1;31m# needed by _data_matrix\u001b[0m\u001b[1;33m\u001b[0m\u001b[1;33m\u001b[0m\u001b[0m\n",
      "\u001b[1;32m/home/gudni/anaconda/lib/python2.7/site-packages/scipy/sparse/coo.pyc\u001b[0m in \u001b[0;36m__init__\u001b[1;34m(self, arg1, shape, dtype, copy)\u001b[0m\n\u001b[0;32m    204\u001b[0m             \u001b[0mself\u001b[0m\u001b[1;33m.\u001b[0m\u001b[0mdata\u001b[0m \u001b[1;33m=\u001b[0m \u001b[0mself\u001b[0m\u001b[1;33m.\u001b[0m\u001b[0mdata\u001b[0m\u001b[1;33m.\u001b[0m\u001b[0mastype\u001b[0m\u001b[1;33m(\u001b[0m\u001b[0mdtype\u001b[0m\u001b[1;33m)\u001b[0m\u001b[1;33m\u001b[0m\u001b[0m\n\u001b[0;32m    205\u001b[0m \u001b[1;33m\u001b[0m\u001b[0m\n\u001b[1;32m--> 206\u001b[1;33m         \u001b[0mself\u001b[0m\u001b[1;33m.\u001b[0m\u001b[0m_check\u001b[0m\u001b[1;33m(\u001b[0m\u001b[1;33m)\u001b[0m\u001b[1;33m\u001b[0m\u001b[0m\n\u001b[0m\u001b[0;32m    207\u001b[0m \u001b[1;33m\u001b[0m\u001b[0m\n\u001b[0;32m    208\u001b[0m     \u001b[1;32mdef\u001b[0m \u001b[0mgetnnz\u001b[0m\u001b[1;33m(\u001b[0m\u001b[0mself\u001b[0m\u001b[1;33m,\u001b[0m \u001b[0maxis\u001b[0m\u001b[1;33m=\u001b[0m\u001b[0mNone\u001b[0m\u001b[1;33m)\u001b[0m\u001b[1;33m:\u001b[0m\u001b[1;33m\u001b[0m\u001b[0m\n",
      "\u001b[1;32m/home/gudni/anaconda/lib/python2.7/site-packages/scipy/sparse/coo.pyc\u001b[0m in \u001b[0;36m_check\u001b[1;34m(self)\u001b[0m\n\u001b[0;32m    257\u001b[0m \u001b[1;33m\u001b[0m\u001b[0m\n\u001b[0;32m    258\u001b[0m         \u001b[1;32mif\u001b[0m \u001b[0mnnz\u001b[0m \u001b[1;33m>\u001b[0m \u001b[1;36m0\u001b[0m\u001b[1;33m:\u001b[0m\u001b[1;33m\u001b[0m\u001b[0m\n\u001b[1;32m--> 259\u001b[1;33m             \u001b[1;32mif\u001b[0m \u001b[0mself\u001b[0m\u001b[1;33m.\u001b[0m\u001b[0mrow\u001b[0m\u001b[1;33m.\u001b[0m\u001b[0mmax\u001b[0m\u001b[1;33m(\u001b[0m\u001b[1;33m)\u001b[0m \u001b[1;33m>=\u001b[0m \u001b[0mself\u001b[0m\u001b[1;33m.\u001b[0m\u001b[0mshape\u001b[0m\u001b[1;33m[\u001b[0m\u001b[1;36m0\u001b[0m\u001b[1;33m]\u001b[0m\u001b[1;33m:\u001b[0m\u001b[1;33m\u001b[0m\u001b[0m\n\u001b[0m\u001b[0;32m    260\u001b[0m                 \u001b[1;32mraise\u001b[0m \u001b[0mValueError\u001b[0m\u001b[1;33m(\u001b[0m\u001b[1;34m'row index exceeds matrix dimensions'\u001b[0m\u001b[1;33m)\u001b[0m\u001b[1;33m\u001b[0m\u001b[0m\n\u001b[0;32m    261\u001b[0m             \u001b[1;32mif\u001b[0m \u001b[0mself\u001b[0m\u001b[1;33m.\u001b[0m\u001b[0mcol\u001b[0m\u001b[1;33m.\u001b[0m\u001b[0mmax\u001b[0m\u001b[1;33m(\u001b[0m\u001b[1;33m)\u001b[0m \u001b[1;33m>=\u001b[0m \u001b[0mself\u001b[0m\u001b[1;33m.\u001b[0m\u001b[0mshape\u001b[0m\u001b[1;33m[\u001b[0m\u001b[1;36m1\u001b[0m\u001b[1;33m]\u001b[0m\u001b[1;33m:\u001b[0m\u001b[1;33m\u001b[0m\u001b[0m\n",
      "\u001b[1;31mKeyboardInterrupt\u001b[0m: "
     ]
    }
   ],
   "source": [
    "if True:\n",
    "    for dat in mt1DdataZyxList:\n",
    "        runInversionModel(dat,problem,m1d,'zyx')\n",
    "\n",
    "    for dat in mt1DdataZxyList:\n",
    "        runInversionModel(dat,problem,m1d,'zxy')\n",
    "    for dat in mt1DdataZdetList:\n",
    "        runInversionModel(dat,problem,m1d,'zdet')   \n"
   ]
  },
  {
   "cell_type": "code",
   "execution_count": null,
   "metadata": {
    "collapsed": false
   },
   "outputs": [],
   "source": []
  },
  {
   "cell_type": "code",
   "execution_count": 32,
   "metadata": {
    "collapsed": false
   },
   "outputs": [],
   "source": [
    "# import multiprocessing, os, numpy as np\n",
    "# from glob import glob\n",
    "# import itertools as it\n",
    "# import subprocess\n",
    "\n",
    "\n",
    "# def runInv_star(args):\n",
    "#     return runInversionModel(*args)\n",
    "\n",
    "\n",
    "# if __name__ == '__main__':\n",
    "#     pool = multiprocessing.Pool(processes=6)\n",
    "#     pool.map(runInversionZxy,it.izip(mt1DdataZxyList,it.repeat( (problem,m1d,'zxy') )))\n",
    "#     pool.join()"
   ]
  },
  {
   "cell_type": "code",
   "execution_count": 34,
   "metadata": {
    "collapsed": false
   },
   "outputs": [],
   "source": [
    "seogizxy1Dmods = np.vstack(([np.load(f) for f in glob('xyzmod_zxy*.npy')]))\n",
    "seogizyx1Dmods = np.vstack(([np.load(f) for f in glob('xyzmod_zyx*.npy')]))\n",
    "seogizdet1Dmods = np.vstack(([np.load(f) for f in glob('xyzmod_zdet*.npy')]))"
   ]
  },
  {
   "cell_type": "code",
   "execution_count": null,
   "metadata": {
    "collapsed": true
   },
   "outputs": [],
   "source": []
  },
  {
   "cell_type": "code",
   "execution_count": 35,
   "metadata": {
    "collapsed": false,
    "scrolled": true
   },
   "outputs": [],
   "source": [
    "airInd = modelTD ==1e-8\n",
    "# Interpolate the 1D models\n",
    "from scipy.interpolate import griddata\n",
    "mod3d_zxy1dMod = griddata(seogizxy1Dmods[:,0:3],seogizxy1Dmods[:,3],mesh3d.gridCC,'linear')\n",
    "mod3d_zxy1dMod[airInd] = np.log(1e-8)\n",
    "mod3d_zyx1dMod = griddata(seogizyx1Dmods[:,0:3],seogizyx1Dmods[:,3],mesh3d.gridCC,'linear')\n",
    "mod3d_zyx1dMod[airInd] = np.log(1e-8)\n",
    "mod3d_zdet1dMod = griddata(seogizdet1Dmods[:,0:3],seogizdet1Dmods[:,3],mesh3d.gridCC,'linear')\n",
    "mod3d_zdet1dMod[airInd] = np.log(1e-8)"
   ]
  },
  {
   "cell_type": "code",
   "execution_count": 36,
   "metadata": {
    "collapsed": false
   },
   "outputs": [],
   "source": [
    "simpeg.Utils.meshutils.writeVTRFile('model3D_zxy1Dinv_paddedMesh.vtr',mesh3d,{'S/m':np.exp(mod3d_zxy1dMod)})\n",
    "simpeg.Utils.meshutils.writeVTRFile('model3D_zyx1Dinv_paddedMesh.vtr',mesh3d,{'S/m':np.exp(mod3d_zyx1dMod)})\n",
    "simpeg.Utils.meshutils.writeVTRFile('model3D_zdet1Dinv_paddedMesh.vtr',mesh3d,{'S/m':np.exp(mod3d_zdet1dMod)})"
   ]
  },
  {
   "cell_type": "code",
   "execution_count": 52,
   "metadata": {
    "collapsed": false
   },
   "outputs": [],
   "source": [
    "%matplotlib qt\n",
    "m_0 = np.log(problem.sigmaPrimary[problem.mapping.sigmaMap.maps[-1].indActive])\n",
    "simpegmt.Utils.dataUtils.plotMT1DModelData(problem,[m_0,mopt])\n",
    "plt.suptitle('Target misfit-smooth False')\n",
    "plt.show()\n"
   ]
  },
  {
   "cell_type": "code",
   "execution_count": 50,
   "metadata": {
    "collapsed": false
   },
   "outputs": [
    {
     "data": {
      "text/plain": [
       "[(794.79531859664246, 56.319860569098076),\n",
       " (674.66872912184408, 57.635385492661392),\n",
       " (559.52741397235366, 58.423832448812171),\n",
       " (459.43398962262597, 58.410853192444343),\n",
       " (380.28287396790699, 57.529223784875711),\n",
       " (322.8521167724395, 56.001248998922648),\n",
       " (283.43537890603488, 54.287024515800717),\n",
       " (255.71182522194459, 52.81526241219477),\n",
       " (233.73967183794295, 51.557597236493933),\n",
       " (216.97743323521141, 50.281238562685871),\n",
       " (204.41678397612844, 49.05493425669367),\n",
       " (196.11922783991341, 47.732975834266547),\n",
       " (192.81620390650565, 46.626437679858043),\n",
       " (191.83932042041988, 45.994944912824344),\n",
       " (191.13999703648773, 45.673623213889364),\n",
       " (190.40201746939533, 45.487392219519187),\n",
       " (189.72482164986508, 45.362566052988335)]"
      ]
     },
     "execution_count": 50,
     "metadata": {},
     "output_type": "execute_result"
    }
   ],
   "source": [
    "simpegmt.Utils.dataUtils.getAppRes(problem.dataPair(problem.survey,problem.survey.dpred(mopt)))"
   ]
  },
  {
   "cell_type": "code",
   "execution_count": 53,
   "metadata": {
    "collapsed": false
   },
   "outputs": [
    {
     "name": "stdout",
     "output_type": "stream",
     "text": [
      "model3D_zdet1Dinv_paddedMesh.vtr  xyzmod_zxy_300_500.npy\r\n",
      "model3D_zxy1Dinv_paddedMesh.vtr   xyzmod_zxy_-300_-700.npy\r\n",
      "model3D_zyx1Dinv_paddedMesh.vtr   xyzmod_zxy_-300_700.npy\r\n",
      "modelTDpaddedMesh.vtr             xyzmod_zxy_300_-700.npy\r\n",
      "modelTDuniMesh.vtr                xyzmod_zxy_300_700.npy\r\n",
      "MT3DforData1Dinv.                 xyzmod_zxy_-500_-100.npy\r\n",
      "MT3DforData1Dinv.ipynb            xyzmod_zxy_-500_100.npy\r\n",
      "MT3DforData1Dinv.py               xyzmod_zxy_500_-100.npy\r\n",
      "seogiModel_dobs.npy               xyzmod_zxy_500_100.npy\r\n",
      "seogiModel_MTdata.npy             xyzmod_zxy_-500_-300.npy\r\n",
      "simpegTDmodel.con                 xyzmod_zxy_-500_300.npy\r\n",
      "xyzmod_zdet_-100_-100.npy         xyzmod_zxy_500_-300.npy\r\n",
      "xyzmod_zdet_-100_100.npy          xyzmod_zxy_500_300.npy\r\n",
      "xyzmod_zdet_100_-100.npy          xyzmod_zxy_-500_-500.npy\r\n",
      "xyzmod_zdet_100_100.npy           xyzmod_zxy_-500_500.npy\r\n",
      "xyzmod_zdet_-100_-300.npy         xyzmod_zxy_500_-500.npy\r\n",
      "xyzmod_zdet_-100_300.npy          xyzmod_zxy_500_500.npy\r\n",
      "xyzmod_zdet_100_-300.npy          xyzmod_zxy_-500_-700.npy\r\n",
      "xyzmod_zdet_100_300.npy           xyzmod_zxy_-500_700.npy\r\n",
      "xyzmod_zdet_-100_-500.npy         xyzmod_zxy_500_-700.npy\r\n",
      "xyzmod_zdet_-100_500.npy          xyzmod_zxy_500_700.npy\r\n",
      "xyzmod_zdet_100_-500.npy          xyzmod_zxy_-700_-100.npy\r\n",
      "xyzmod_zdet_100_500.npy           xyzmod_zxy_-700_100.npy\r\n",
      "xyzmod_zdet_-100_-700.npy         xyzmod_zxy_700_-100.npy\r\n",
      "xyzmod_zdet_-100_700.npy          xyzmod_zxy_700_100.npy\r\n",
      "xyzmod_zdet_100_-700.npy          xyzmod_zxy_-700_-300.npy\r\n",
      "xyzmod_zdet_100_700.npy           xyzmod_zxy_-700_300.npy\r\n",
      "xyzmod_zdet_-300_-100.npy         xyzmod_zxy_700_-300.npy\r\n",
      "xyzmod_zdet_-300_100.npy          xyzmod_zxy_700_300.npy\r\n",
      "xyzmod_zdet_300_-100.npy          xyzmod_zxy_-700_-500.npy\r\n",
      "xyzmod_zdet_300_100.npy           xyzmod_zxy_-700_500.npy\r\n",
      "xyzmod_zdet_-300_-300.npy         xyzmod_zxy_700_-500.npy\r\n",
      "xyzmod_zdet_-300_300.npy          xyzmod_zxy_700_500.npy\r\n",
      "xyzmod_zdet_300_-300.npy          xyzmod_zxy_-700_-700.npy\r\n",
      "xyzmod_zdet_300_300.npy           xyzmod_zxy_-700_700.npy\r\n",
      "xyzmod_zdet_-300_-500.npy         xyzmod_zxy_700_-700.npy\r\n",
      "xyzmod_zdet_-300_500.npy          xyzmod_zxy_700_700.npy\r\n",
      "xyzmod_zdet_300_-500.npy          xyzmod_zyx_-100_-100.npy\r\n",
      "xyzmod_zdet_300_500.npy           xyzmod_zyx_-100_100.npy\r\n",
      "xyzmod_zdet_-300_-700.npy         xyzmod_zyx_100_-100.npy\r\n",
      "xyzmod_zdet_-300_700.npy          xyzmod_zyx_100_100.npy\r\n",
      "xyzmod_zdet_300_-700.npy          xyzmod_zyx_-100_-300.npy\r\n",
      "xyzmod_zdet_300_700.npy           xyzmod_zyx_-100_300.npy\r\n",
      "xyzmod_zdet_-500_-100.npy         xyzmod_zyx_100_-300.npy\r\n",
      "xyzmod_zdet_-500_100.npy          xyzmod_zyx_100_300.npy\r\n",
      "xyzmod_zdet_500_-100.npy          xyzmod_zyx_-100_-500.npy\r\n",
      "xyzmod_zdet_500_100.npy           xyzmod_zyx_-100_500.npy\r\n",
      "xyzmod_zdet_-500_-300.npy         xyzmod_zyx_100_-500.npy\r\n",
      "xyzmod_zdet_-500_300.npy          xyzmod_zyx_100_500.npy\r\n",
      "xyzmod_zdet_500_-300.npy          xyzmod_zyx_-100_-700.npy\r\n",
      "xyzmod_zdet_500_300.npy           xyzmod_zyx_-100_700.npy\r\n",
      "xyzmod_zdet_-500_-500.npy         xyzmod_zyx_100_-700.npy\r\n",
      "xyzmod_zdet_-500_500.npy          xyzmod_zyx_100_700.npy\r\n",
      "xyzmod_zdet_500_-500.npy          xyzmod_zyx_-300_-100.npy\r\n",
      "xyzmod_zdet_500_500.npy           xyzmod_zyx_-300_100.npy\r\n",
      "xyzmod_zdet_-500_-700.npy         xyzmod_zyx_300_-100.npy\r\n",
      "xyzmod_zdet_-500_700.npy          xyzmod_zyx_300_100.npy\r\n",
      "xyzmod_zdet_500_-700.npy          xyzmod_zyx_-300_-300.npy\r\n",
      "xyzmod_zdet_500_700.npy           xyzmod_zyx_-300_300.npy\r\n",
      "xyzmod_zdet_-700_-100.npy         xyzmod_zyx_300_-300.npy\r\n",
      "xyzmod_zdet_-700_100.npy          xyzmod_zyx_300_300.npy\r\n",
      "xyzmod_zdet_700_-100.npy          xyzmod_zyx_-300_-500.npy\r\n",
      "xyzmod_zdet_700_100.npy           xyzmod_zyx_-300_500.npy\r\n",
      "xyzmod_zdet_-700_-300.npy         xyzmod_zyx_300_-500.npy\r\n",
      "xyzmod_zdet_-700_300.npy          xyzmod_zyx_300_500.npy\r\n",
      "xyzmod_zdet_700_-300.npy          xyzmod_zyx_-300_-700.npy\r\n",
      "xyzmod_zdet_700_300.npy           xyzmod_zyx_-300_700.npy\r\n",
      "xyzmod_zdet_-700_-500.npy         xyzmod_zyx_300_-700.npy\r\n",
      "xyzmod_zdet_-700_500.npy          xyzmod_zyx_300_700.npy\r\n",
      "xyzmod_zdet_700_-500.npy          xyzmod_zyx_-500_-100.npy\r\n",
      "xyzmod_zdet_700_500.npy           xyzmod_zyx_-500_100.npy\r\n",
      "xyzmod_zdet_-700_-700.npy         xyzmod_zyx_500_-100.npy\r\n",
      "xyzmod_zdet_-700_700.npy          xyzmod_zyx_500_100.npy\r\n",
      "xyzmod_zdet_700_-700.npy          xyzmod_zyx_-500_-300.npy\r\n",
      "xyzmod_zdet_700_700.npy           xyzmod_zyx_-500_300.npy\r\n",
      "xyzmod_zxy_-100_-100.npy          xyzmod_zyx_500_-300.npy\r\n",
      "xyzmod_zxy_-100_100.npy           xyzmod_zyx_500_300.npy\r\n",
      "xyzmod_zxy_100_-100.npy           xyzmod_zyx_-500_-500.npy\r\n",
      "xyzmod_zxy_100_100.npy            xyzmod_zyx_-500_500.npy\r\n",
      "xyzmod_zxy_-100_-300.npy          xyzmod_zyx_500_-500.npy\r\n",
      "xyzmod_zxy_-100_300.npy           xyzmod_zyx_500_500.npy\r\n",
      "xyzmod_zxy_100_-300.npy           xyzmod_zyx_-500_-700.npy\r\n",
      "xyzmod_zxy_100_300.npy            xyzmod_zyx_-500_700.npy\r\n",
      "xyzmod_zxy_-100_-500.npy          xyzmod_zyx_500_-700.npy\r\n",
      "xyzmod_zxy_-100_500.npy           xyzmod_zyx_500_700.npy\r\n",
      "xyzmod_zxy_100_-500.npy           xyzmod_zyx_-700_-100.npy\r\n",
      "xyzmod_zxy_100_500.npy            xyzmod_zyx_-700_100.npy\r\n",
      "xyzmod_zxy_-100_-700.npy          xyzmod_zyx_700_-100.npy\r\n",
      "xyzmod_zxy_-100_700.npy           xyzmod_zyx_700_100.npy\r\n",
      "xyzmod_zxy_100_-700.npy           xyzmod_zyx_-700_-300.npy\r\n",
      "xyzmod_zxy_100_700.npy            xyzmod_zyx_-700_300.npy\r\n",
      "xyzmod_zxy_-300_-100.npy          xyzmod_zyx_700_-300.npy\r\n",
      "xyzmod_zxy_-300_100.npy           xyzmod_zyx_700_300.npy\r\n",
      "xyzmod_zxy_300_-100.npy           xyzmod_zyx_-700_-500.npy\r\n",
      "xyzmod_zxy_300_100.npy            xyzmod_zyx_-700_500.npy\r\n",
      "xyzmod_zxy_-300_-300.npy          xyzmod_zyx_700_-500.npy\r\n",
      "xyzmod_zxy_-300_300.npy           xyzmod_zyx_700_500.npy\r\n",
      "xyzmod_zxy_300_-300.npy           xyzmod_zyx_-700_-700.npy\r\n",
      "xyzmod_zxy_300_300.npy            xyzmod_zyx_-700_700.npy\r\n",
      "xyzmod_zxy_-300_-500.npy          xyzmod_zyx_700_-700.npy\r\n",
      "xyzmod_zxy_-300_500.npy           xyzmod_zyx_700_700.npy\r\n",
      "xyzmod_zxy_300_-500.npy\r\n"
     ]
    }
   ],
   "source": [
    "ls"
   ]
  },
  {
   "cell_type": "code",
   "execution_count": null,
   "metadata": {
    "collapsed": false
   },
   "outputs": [],
   "source": [
    "import multiprocessing, os, numpy as np\n",
    "from glob import glob\n",
    "import subprocess\n",
    "\n",
    "def runMT3Dfwd(path):\n",
    "    \"\"\" Worker function \"\"\"\n",
    "    orgDir = os.getcwd()\n",
    "    print 'Starting in {:s}\\n'.format(orgDir)\n",
    "    \n",
    "    os.chdir(path)\n",
    "    print '########### \\nRunning in {:s}\\n###########'.format(os.getcwd())\n",
    "    cmd = '/tera_raid/gudni/Codes/ZTEM_MT3Dinv_06082014/MT3Dfwd'\n",
    "    # os.system(cmd)\n",
    "    subprocess.call(cmd)\n",
    "    os.chdir(orgDir)\n",
    "\n",
    "\n",
    "if __name__ == '__main__':\n",
    "    pool = multiprocessing.Pool(processes=12)\n",
    "    foldList = glob('MT3Dfwd/model100w*/Freq*')\n",
    "    \n",
    "    pool.map(runMT3Dfwd,foldList)\n",
    "    pool.cself.mesh.getEdgeInnerProductlose()\n",
    "    pool.join()"
   ]
  },
  {
   "cell_type": "code",
   "execution_count": null,
   "metadata": {
    "collapsed": false
   },
   "outputs": [],
   "source": [
    "locs=rec2ndarr(uniLocs)"
   ]
  },
  {
   "cell_type": "code",
   "execution_count": null,
   "metadata": {
    "collapsed": false
   },
   "outputs": [],
   "source": [
    "%debug"
   ]
  },
  {
   "cell_type": "code",
   "execution_count": null,
   "metadata": {
    "collapsed": false
   },
   "outputs": [],
   "source": [
    "simpeg.mkvc(locs[0,:],2).T"
   ]
  },
  {
   "cell_type": "code",
   "execution_count": null,
   "metadata": {
    "collapsed": false
   },
   "outputs": [],
   "source": [
    "simpegmt.DataMT.DataMT"
   ]
  },
  {
   "cell_type": "code",
   "execution_count": null,
   "metadata": {
    "collapsed": false
   },
   "outputs": [],
   "source": [
    "%matplotlib qt\n",
    "sys.path.append('/home/gudni/Dropbox/code/python/MTview/')\n",
    "import interactivePlotFunctions as iPf\n",
    "dataRec = mt1DdataList[0].toRecArray('Complex')\n",
    "iPf.MTinteractiveMap([dataRec])"
   ]
  },
  {
   "cell_type": "code",
   "execution_count": 42,
   "metadata": {
    "collapsed": false
   },
   "outputs": [
    {
     "data": {
      "text/plain": [
       "[(979.21054686559228, 60.117584762903384),\n",
       " (742.46348350358323, 60.178574585305192),\n",
       " (575.52692078307155, 59.504482832217768),\n",
       " (448.01468147227973, 57.739339607718549),\n",
       " (380.47444523645635, 58.103945329921899),\n",
       " (329.83191047669334, 55.337196869237211),\n",
       " (289.04291928642527, 54.655448967096305),\n",
       " (266.75073534275322, 53.22914208405799),\n",
       " (233.25010687113831, 51.415310785084358),\n",
       " (235.86124553266205, 49.932520459157615),\n",
       " (204.17536410665218, 49.937485696638511),\n",
       " (216.58363015060209, 48.71243562166476),\n",
       " (213.79479472770714, 45.446839687730105),\n",
       " (194.30255638458473, 46.234641994868568),\n",
       " (198.73561291019692, 47.04819962721875),\n",
       " (206.89598365667399, 44.89666240461478),\n",
       " (213.17403683446534, 43.140057028057178)]"
      ]
     },
     "execution_count": 42,
     "metadata": {},
     "output_type": "execute_result"
    }
   ],
   "source": [
    "simpegmt.Utils.dataUtils.getAppRes(mt1DdataZdetList[0])"
   ]
  },
  {
   "cell_type": "code",
   "execution_count": null,
   "metadata": {
    "collapsed": true
   },
   "outputs": [],
   "source": [
    "    "
   ]
  }
 ],
 "metadata": {
  "kernelspec": {
   "display_name": "Python 2",
   "language": "python",
   "name": "python2"
  }
 },
 "nbformat": 4,
 "nbformat_minor": 0
}
