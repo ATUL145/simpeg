{
 "cells": [
  {
   "cell_type": "code",
   "execution_count": 1,
   "metadata": {
    "collapsed": false
   },
   "outputs": [],
   "source": [
    "import SimPEG as simpeg\n",
    "import simpegMT as simpegmt\n",
    "import numpy as np\n",
    "import matplotlib.pyplot as plt"
   ]
  },
  {
   "cell_type": "code",
   "execution_count": null,
   "metadata": {
    "collapsed": true
   },
   "outputs": [],
   "source": []
  },
  {
   "cell_type": "code",
   "execution_count": 2,
   "metadata": {
    "collapsed": false
   },
   "outputs": [],
   "source": [
    "## Setup the modelling\n",
    "# Setting up 1D mesh and conductivity models to forward model data.\n",
    "\n",
    "# Frequency\n",
    "nFreq = 31\n",
    "freqs = np.logspace(3,-3,nFreq)\n",
    "# Set mesh parameters\n",
    "ct = 10\n",
    "air = simpeg.Utils.meshTensor([(ct,25,1.3)])\n",
    "core = np.concatenate( (  np.kron(simpeg.Utils.meshTensor([(ct,5,-1.2)]),np.ones((3,))) , simpeg.Utils.meshTensor([(ct,5)]) ) )\n",
    "bot = simpeg.Utils.meshTensor([(core[0],25,-1.3)])\n",
    "x0 = -np.array([np.sum(np.concatenate((core,bot)))])\n",
    "# Make the model\n",
    "m1d = simpeg.Mesh.TensorMesh([np.concatenate((bot,core,air))], x0=x0)\n",
    "\n",
    "# Setup model varibles\n",
    "active = m1d.vectorCCx<0.\n",
    "layer1 = (m1d.vectorCCx<-200.) & (m1d.vectorCCx>=-600.)\n",
    "layer2 = (m1d.vectorCCx<-2000.) & (m1d.vectorCCx>=-4000.)\n",
    "# Set the conductivity values\n",
    "sig_half = 2e-3\n",
    "sig_air = 1e-8\n",
    "sig_layer1 = 1\n",
    "sig_layer2 = .1\n",
    "# Make the true model\n",
    "sigma_true = np.ones(m1d.nCx)*sig_air\n",
    "sigma_true[active] = sig_half\n",
    "sigma_true[layer1] = sig_layer1\n",
    "sigma_true[layer2] = sig_layer2\n",
    "# Extract the model \n",
    "m_true = np.log(sigma_true[active])\n",
    "# Make the background model\n",
    "sigma_0 = np.ones(m1d.nCx)*sig_air\n",
    "sigma_0[active] = sig_half\n",
    "m_0 = np.log(sigma_0[active])\n",
    "\n",
    "# Set the mapping\n",
    "actMap = simpeg.Maps.ActiveCells(m1d, active, np.log(1e-8), nC=m1d.nCx)\n",
    "mappingExpAct = simpeg.Maps.ExpMap(m1d) * actMap"
   ]
  },
  {
   "cell_type": "code",
   "execution_count": 3,
   "metadata": {
    "collapsed": false
   },
   "outputs": [],
   "source": [
    "## Setup the layout of the survey, set the sources and the connected receivers\n",
    "\n",
    "# Receivers \n",
    "rxList = []\n",
    "for rxType in ['z1dr','z1di']:\n",
    "    rxList.append(simpegmt.SurveyMT.RxMT(simpeg.mkvc(np.array([0.0]),2).T,rxType))\n",
    "# Source list\n",
    "srcList =[]\n",
    "for freq in freqs:\n",
    "        srcList.append(simpegmt.SurveyMT.srcMT_polxy_1Dprimary(rxList,freq))\n",
    "# Make the survey\n",
    "survey = simpegmt.SurveyMT.SurveyMT(srcList)\n",
    "survey.mtrue = m_true\n",
    "# Set the problem\n",
    "problem = simpegmt.ProblemMT1D.eForm_psField(m1d,sigmaPrimary=sigma_0,mapping=mappingExpAct)\n",
    "from pymatsolver import MumpsSolver\n",
    "problem.solver = MumpsSolver\n",
    "problem.pair(survey)"
   ]
  },
  {
   "cell_type": "code",
   "execution_count": 6,
   "metadata": {
    "collapsed": false
   },
   "outputs": [],
   "source": [
    "## Read the data\n",
    "std = 0.05 # 5% std\n",
    "# Load the files if they exist\n",
    "if os.path.isfile('MT1D_dtrue.npy') and os.path.isfile('MT1D_dobs.npy'):\n",
    "    d_true = np.load('MT1D_dtrue.npy')\n",
    "    d_obs = np.load('MT1D_dobs.npy')\n",
    "else:\n",
    "    # Forward model\n",
    "    d_true = survey.dpred(m_true)\n",
    "    np.save('MT1D_dtrue.npy',d_true)\n",
    "    d_obs = d_true + (std*abs(d_true)*np.random.randn(*d_true.shape))\n",
    "    np.save('MT1D_dobs.npy',d_obs)\n",
    "# Assign the datas to the survey object\n",
    "survey.dtrue = d_true\n",
    "survey.dobs = d_obs\n",
    "survey.std = np.abs(survey.dobs*std) + 0.01*np.linalg.norm(survey.dobs)\n",
    "# Assign the data weight\n",
    "survey.Wd = 1./survey.std"
   ]
  },
  {
   "cell_type": "code",
   "execution_count": 7,
   "metadata": {
    "collapsed": false
   },
   "outputs": [],
   "source": [
    "## Setup the inversion proceedure\n",
    "\n",
    "# Define a counter\n",
    "C =  simpeg.Utils.Counter()\n",
    "# Set the optimization\n",
    "opt = simpeg.Optimization.InexactGaussNewton(maxIter = 30)\n",
    "opt.counter = C\n",
    "opt.LSshorten = 0.5\n",
    "opt.remember('xc')\n",
    "# Data misfit\n",
    "dmis = simpeg.DataMisfit.l2_DataMisfit(survey)\n",
    "# Regularization\n",
    "# Note: We want you use a mesh the corresponds to the domain we want to solve, the active cells.\n",
    "if True:\n",
    "    regMesh = simpeg.Mesh.TensorMesh([m1d.hx[problem.mapping.sigmaMap.maps[-1].indActive]],m1d.x0)\n",
    "    reg = simpeg.Regularization.Tikhonov(regMesh)\n",
    "# else:\n",
    "#     reg = simpeg.Regularization.Tikhonov(m1d,mapping=mapAct)\n",
    "reg.alpha_s = 1e-8\n",
    "reg.alpha_x = 1.\n",
    "# Inversion problem\n",
    "invProb = simpeg.InvProblem.BaseInvProblem(dmis, reg, opt)\n",
    "invProb.counter = C\n",
    "# Beta cooling\n",
    "beta = simpeg.Directives.BetaSchedule()\n",
    "betaest = simpeg.Directives.BetaEstimate_ByEig(beta0_ratio=0.75)\n",
    "saveModel = simpeg.Directives.SaveModelEveryIteration()\n",
    "saveModel.fileName = 'Inversion_NoStoppingregMesh'\n",
    "# Create an inversion object\n",
    "inv = simpeg.Inversion.BaseInversion(invProb, directiveList=[beta,betaest,saveModel]) \n"
   ]
  },
  {
   "cell_type": "code",
   "execution_count": 8,
   "metadata": {
    "collapsed": false,
    "scrolled": false
   },
   "outputs": [
    {
     "name": "stdout",
     "output_type": "stream",
     "text": [
      "SimPEG.InvProblem will set Regularization.mref to m0.\n",
      "SimPEG.InvProblem is setting bfgsH0 to the inverse of the eval2Deriv.\n",
      "                    ***Done using same solver as the problem***\n",
      "SimPEG.l2_DataMisfit is creating default weightings for Wd.\n",
      "SimPEG.SaveModelEveryIteration will save your models as: '###-Inversion_NoStoppingregMesh.npy'\n",
      "============================ Inexact Gauss Newton ============================\n",
      "  #     beta     phi_d     phi_m       f      |proj(x-g)-x|  LS    Comment   \n",
      "-----------------------------------------------------------------------------\n",
      "   0  3.07e+06  5.84e+06  2.95e-02  5.93e+06    1.45e+06      0              \n",
      "   1  3.07e+06  6.43e+05  2.81e-02  7.29e+05    1.64e+05      0              \n",
      "   2  3.07e+06  6.97e+04  2.75e-02  1.54e+05    1.99e+04      0   Skip BFGS  \n",
      "   3  3.84e+05  1.01e+04  2.79e-02  2.08e+04    2.95e+03      0   Skip BFGS  \n",
      "   4  3.84e+05  5.52e+03  2.97e-02  1.69e+04    3.93e+02      0   Skip BFGS  \n",
      "   5  3.84e+05  5.44e+03  2.93e-02  1.67e+04    7.12e+01      0   Skip BFGS  \n",
      "------------------------------------------------------------------\n",
      "0 :    ft     = 1.6712e+04 <= alp*descent     = 1.6712e+04\n",
      "1 : maxIterLS =      10    <= iterLS          =     10\n",
      "------------------------- End Linesearch -------------------------\n",
      "The linesearch got broken. Boo.\n"
     ]
    }
   ],
   "source": [
    "# Run the inversion, given the background model as a start.\n",
    "mopt = inv.run(m_0)"
   ]
  },
  {
   "cell_type": "code",
   "execution_count": null,
   "metadata": {
    "collapsed": false
   },
   "outputs": [],
   "source": [
    "modList = []\n",
    "modFiles = glob('*Inversion_NoStopping.npy')\n",
    "modFiles.sort()\n",
    "for f in modFiles:\n",
    "    modList.append(np.load(f))"
   ]
  },
  {
   "cell_type": "code",
   "execution_count": 9,
   "metadata": {
    "collapsed": false
   },
   "outputs": [
    {
     "name": "stderr",
     "output_type": "stream",
     "text": [
      "/home/gudni/anaconda/lib/python2.7/site-packages/numpy/ma/core.py:2834: FutureWarning: Numpy has detected that you (may be) writing to an array returned\n",
      "by numpy.diagonal or by selecting multiple fields in a record\n",
      "array. This code will likely break in a future numpy release --\n",
      "see numpy.diagonal or arrays.indexing reference docs for details.\n",
      "The quick fix is to make an explicit copy (e.g., do\n",
      "arr.diagonal().copy() or arr[['f0','f1']].copy()).\n",
      "  if (obj.__array_interface__[\"data\"][0]\n",
      "/home/gudni/anaconda/lib/python2.7/site-packages/numpy/ma/core.py:2835: FutureWarning: Numpy has detected that you (may be) writing to an array returned\n",
      "by numpy.diagonal or by selecting multiple fields in a record\n",
      "array. This code will likely break in a future numpy release --\n",
      "see numpy.diagonal or arrays.indexing reference docs for details.\n",
      "The quick fix is to make an explicit copy (e.g., do\n",
      "arr.diagonal().copy() or arr[['f0','f1']].copy()).\n",
      "  != self.__array_interface__[\"data\"][0]):\n"
     ]
    }
   ],
   "source": [
    "simpegmt.Utils.dataUtils.plotMT1DModelData(problem,[m_0,mopt])\n",
    "plt.show()\n"
   ]
  },
  {
   "cell_type": "code",
   "execution_count": null,
   "metadata": {
    "collapsed": false
   },
   "outputs": [],
   "source": [
    "%matplotlib qt\n",
    "simpegmt.Utils.dataUtils.plotMT1DModelData(problem,modList)\n",
    "plt.show()"
   ]
  },
  {
   "cell_type": "code",
   "execution_count": null,
   "metadata": {
    "collapsed": false
   },
   "outputs": [],
   "source": [
    "%matplotlib qt\n",
    "simpegmt.Utils.dataUtils.plotMT1DModelData(problem,modList[-3:-1])\n",
    "plt.show()"
   ]
  },
  {
   "cell_type": "code",
   "execution_count": 10,
   "metadata": {
    "collapsed": false
   },
   "outputs": [
    {
     "data": {
      "text/plain": [
       "array([-6.2146081, -6.2146081, -6.2146081, -6.2146081, -6.2146081,\n",
       "       -6.2146081, -6.2146081, -6.2146081, -6.2146081, -6.2146081,\n",
       "       -6.2146081, -6.2146081, -6.2146081, -6.2146081, -6.2146081,\n",
       "       -6.2146081, -6.2146081, -6.2146081, -6.2146081, -6.2146081,\n",
       "       -6.2146081, -6.2146081, -6.2146081, -6.2146081, -6.2146081,\n",
       "       -6.2146081, -6.2146081, -6.2146081, -6.2146081, -6.2146081,\n",
       "       -6.2146081, -6.2146081, -6.2146081, -6.2146081, -6.2146081,\n",
       "       -6.2146081, -6.2146081, -6.2146081, -6.2146081, -6.2146081,\n",
       "       -6.2146081, -6.2146081, -6.2146081, -6.2146081, -6.2146081])"
      ]
     },
     "execution_count": 10,
     "metadata": {},
     "output_type": "execute_result"
    }
   ],
   "source": [
    "reg.mref"
   ]
  },
  {
   "cell_type": "code",
   "execution_count": 11,
   "metadata": {
    "collapsed": false
   },
   "outputs": [
    {
     "data": {
      "text/plain": [
       "array([-6.2146081, -6.2146081, -6.2146081, -6.2146081, -6.2146081,\n",
       "       -6.2146081, -6.2146081, -6.2146081, -6.2146081, -6.2146081,\n",
       "       -6.2146081, -6.2146081, -6.2146081, -6.2146081, -6.2146081,\n",
       "       -6.2146081, -6.2146081, -6.2146081, -6.2146081, -6.2146081,\n",
       "       -6.2146081, -6.2146081, -6.2146081, -6.2146081, -6.2146081,\n",
       "       -6.2146081, -6.2146081, -6.2146081, -6.2146081, -6.2146081,\n",
       "       -6.2146081, -6.2146081, -6.2146081, -6.2146081, -6.2146081,\n",
       "       -6.2146081, -6.2146081, -6.2146081, -6.2146081, -6.2146081,\n",
       "       -6.2146081, -6.2146081, -6.2146081, -6.2146081, -6.2146081])"
      ]
     },
     "execution_count": 11,
     "metadata": {},
     "output_type": "execute_result"
    }
   ],
   "source": [
    "m_0"
   ]
  },
  {
   "cell_type": "code",
   "execution_count": 12,
   "metadata": {
    "collapsed": false
   },
   "outputs": [
    {
     "data": {
      "text/plain": [
       "array([ -7.62973638e+04,  -5.87387576e+04,  -4.52321375e+04,\n",
       "        -3.48424297e+04,  -2.68503468e+04,  -2.07025907e+04,\n",
       "        -1.59735476e+04,  -1.23358221e+04,  -9.53757167e+03,\n",
       "        -7.38507138e+03,  -5.72930192e+03,  -4.45563311e+03,\n",
       "        -3.47588787e+03,  -2.72223768e+03,  -2.14250677e+03,\n",
       "        -1.69655992e+03,  -1.35352387e+03,  -1.08965000e+03,\n",
       "        -8.86670089e+02,  -7.30531699e+02,  -6.10425246e+02,\n",
       "        -5.18035666e+02,  -4.46966758e+02,  -3.92298368e+02,\n",
       "        -3.50245760e+02,  -3.17897600e+02,  -2.93014400e+02,\n",
       "        -2.68131200e+02,  -2.43248000e+02,  -2.22512000e+02,\n",
       "        -2.01776000e+02,  -1.81040000e+02,  -1.63760000e+02,\n",
       "        -1.46480000e+02,  -1.29200000e+02,  -1.14800000e+02,\n",
       "        -1.00400000e+02,  -8.60000000e+01,  -7.40000000e+01,\n",
       "        -6.20000000e+01,  -5.00000000e+01,  -4.00000000e+01,\n",
       "        -3.00000000e+01,  -2.00000000e+01,  -1.00000000e+01,\n",
       "        -5.82076609e-11])"
      ]
     },
     "execution_count": 12,
     "metadata": {},
     "output_type": "execute_result"
    }
   ],
   "source": [
    "regMesh.gridN"
   ]
  },
  {
   "cell_type": "code",
   "execution_count": 14,
   "metadata": {
    "collapsed": false
   },
   "outputs": [
    {
     "data": {
      "text/plain": [
       "array([ -7.62973638e+04,  -5.87387576e+04,  -4.52321375e+04,\n",
       "        -3.48424297e+04,  -2.68503468e+04,  -2.07025907e+04,\n",
       "        -1.59735476e+04,  -1.23358221e+04,  -9.53757167e+03,\n",
       "        -7.38507138e+03,  -5.72930192e+03,  -4.45563311e+03,\n",
       "        -3.47588787e+03,  -2.72223768e+03,  -2.14250677e+03,\n",
       "        -1.69655992e+03,  -1.35352387e+03,  -1.08965000e+03,\n",
       "        -8.86670089e+02,  -7.30531699e+02,  -6.10425246e+02,\n",
       "        -5.18035666e+02,  -4.46966758e+02,  -3.92298368e+02,\n",
       "        -3.50245760e+02,  -3.17897600e+02,  -2.93014400e+02,\n",
       "        -2.68131200e+02,  -2.43248000e+02,  -2.22512000e+02,\n",
       "        -2.01776000e+02,  -1.81040000e+02,  -1.63760000e+02,\n",
       "        -1.46480000e+02,  -1.29200000e+02,  -1.14800000e+02,\n",
       "        -1.00400000e+02,  -8.60000000e+01,  -7.40000000e+01,\n",
       "        -6.20000000e+01,  -5.00000000e+01,  -4.00000000e+01,\n",
       "        -3.00000000e+01,  -2.00000000e+01,  -1.00000000e+01])"
      ]
     },
     "execution_count": 14,
     "metadata": {},
     "output_type": "execute_result"
    }
   ],
   "source": [
    "m1d.gridN[active]"
   ]
  },
  {
   "cell_type": "code",
   "execution_count": null,
   "metadata": {
    "collapsed": true
   },
   "outputs": [],
   "source": []
  }
 ],
 "metadata": {
  "kernelspec": {
   "display_name": "Python 2",
   "language": "python",
   "name": "python2"
  },
  "language_info": {
   "codemirror_mode": {
    "name": "ipython",
    "version": 2
   },
   "file_extension": ".py",
   "mimetype": "text/x-python",
   "name": "python",
   "nbconvert_exporter": "python",
   "pygments_lexer": "ipython2",
   "version": "2.7.10"
  }
 },
 "nbformat": 4,
 "nbformat_minor": 0
}
