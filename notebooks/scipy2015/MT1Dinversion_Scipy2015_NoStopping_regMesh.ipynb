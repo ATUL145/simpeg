{
 "cells": [
  {
   "cell_type": "code",
   "execution_count": 1,
   "metadata": {
    "collapsed": false
   },
   "outputs": [],
   "source": [
    "import SimPEG as simpeg\n",
    "import simpegMT as simpegmt\n",
    "import numpy as np\n",
    "import matplotlib.pyplot as plt"
   ]
  },
  {
   "cell_type": "code",
   "execution_count": null,
   "metadata": {
    "collapsed": true
   },
   "outputs": [],
   "source": []
  },
  {
   "cell_type": "code",
   "execution_count": 2,
   "metadata": {
    "collapsed": false
   },
   "outputs": [],
   "source": [
    "## Setup the modelling\n",
    "# Setting up 1D mesh and conductivity models to forward model data.\n",
    "\n",
    "# Frequency\n",
    "nFreq = 31\n",
    "freqs = np.logspace(3,-3,nFreq)\n",
    "# Set mesh parameters\n",
    "ct = 10\n",
    "air = simpeg.Utils.meshTensor([(ct,25,1.3)])\n",
    "core = np.concatenate( (  np.kron(simpeg.Utils.meshTensor([(ct,5,-1.2)]),np.ones((3,))) , simpeg.Utils.meshTensor([(ct,5)]) ) )\n",
    "bot = simpeg.Utils.meshTensor([(core[0],25,-1.3)])\n",
    "x0 = -np.array([np.sum(np.concatenate((core,bot)))])\n",
    "# Make the model\n",
    "m1d = simpeg.Mesh.TensorMesh([np.concatenate((bot,core,air))], x0=x0)\n",
    "\n",
    "# Setup model varibles\n",
    "active = m1d.vectorCCx<0.\n",
    "layer1 = (m1d.vectorCCx<-200.) & (m1d.vectorCCx>=-600.)\n",
    "layer2 = (m1d.vectorCCx<-2000.) & (m1d.vectorCCx>=-4000.)\n",
    "# Set the conductivity values\n",
    "sig_half = 2e-3\n",
    "sig_air = 1e-8\n",
    "sig_layer1 = .2\n",
    "sig_layer2 = .2\n",
    "# Make the true model\n",
    "sigma_true = np.ones(m1d.nCx)*sig_air\n",
    "sigma_true[active] = sig_half\n",
    "sigma_true[layer1] = sig_layer1\n",
    "sigma_true[layer2] = sig_layer2\n",
    "# Extract the model \n",
    "m_true = np.log(sigma_true[active])\n",
    "# Make the background model\n",
    "sigma_0 = np.ones(m1d.nCx)*sig_air\n",
    "sigma_0[active] = sig_half\n",
    "m_0 = np.log(sigma_0[active])\n",
    "\n",
    "# Set the mapping\n",
    "actMap = simpeg.Maps.ActiveCells(m1d, active, np.log(1e-8), nC=m1d.nCx)\n",
    "mappingExpAct = simpeg.Maps.ExpMap(m1d) * actMap"
   ]
  },
  {
   "cell_type": "code",
   "execution_count": 3,
   "metadata": {
    "collapsed": false
   },
   "outputs": [],
   "source": [
    "## Setup the layout of the survey, set the sources and the connected receivers\n",
    "\n",
    "# Receivers \n",
    "rxList = []\n",
    "for rxType in ['z1dr','z1di']:\n",
    "    rxList.append(simpegmt.SurveyMT.RxMT(simpeg.mkvc(np.array([0.0]),2).T,rxType))\n",
    "# Source list\n",
    "srcList =[]\n",
    "for freq in freqs:\n",
    "        srcList.append(simpegmt.SurveyMT.srcMT_polxy_1Dprimary(rxList,freq))\n",
    "# Make the survey\n",
    "survey = simpegmt.SurveyMT.SurveyMT(srcList)\n",
    "survey.mtrue = m_true\n",
    "# Set the problem\n",
    "problem = simpegmt.ProblemMT1D.eForm_psField(m1d,sigmaPrimary=sigma_0,mapping=mappingExpAct)\n",
    "from pymatsolver import MumpsSolver\n",
    "problem.solver = MumpsSolver\n",
    "problem.pair(survey)"
   ]
  },
  {
   "cell_type": "code",
   "execution_count": 4,
   "metadata": {
    "collapsed": false
   },
   "outputs": [],
   "source": [
    "## Read the data\n",
    "std = 0.05 # 5% std\n",
    "# Load the files if they exist\n",
    "if os.path.isfile('MT1D_dtrue.npy') and os.path.isfile('MT1D_dobs.npy'):\n",
    "    d_true = np.load('MT1D_dtrue.npy')\n",
    "    d_obs = np.load('MT1D_dobs.npy')\n",
    "else:\n",
    "    # Forward model\n",
    "    d_true = survey.dpred(m_true)\n",
    "    np.save('MT1D_dtrue.npy',d_true)\n",
    "    d_obs = d_true + (std*abs(d_true)*np.random.randn(*d_true.shape))\n",
    "    np.save('MT1D_dobs.npy',d_obs)\n",
    "# Assign the datas to the survey object\n",
    "survey.dtrue = d_true\n",
    "survey.dobs = d_obs\n",
    "survey.std = np.abs(survey.dobs*std) + 0.01*np.linalg.norm(survey.dobs)\n",
    "# Assign the data weight\n",
    "survey.Wd = 1./survey.std"
   ]
  },
  {
   "cell_type": "code",
   "execution_count": 5,
   "metadata": {
    "collapsed": false
   },
   "outputs": [],
   "source": [
    "## Setup the inversion proceedure\n",
    "\n",
    "# Define a counter\n",
    "C =  simpeg.Utils.Counter()\n",
    "# Set the optimization\n",
    "opt = simpeg.Optimization.InexactGaussNewton(maxIter = 30)\n",
    "opt.counter = C\n",
    "opt.LSshorten = 0.5\n",
    "opt.remember('xc')\n",
    "# Data misfit\n",
    "dmis = simpeg.DataMisfit.l2_DataMisfit(survey)\n",
    "# Regularization\n",
    "# Note: We want you use a mesh the corresponds to the domain we want to solve, the active cells.\n",
    "if True:\n",
    "    regMesh = simpeg.Mesh.TensorMesh([m1d.hx[problem.mapping.sigmaMap.maps[-1].indActive]],m1d.x0)\n",
    "    reg = simpeg.Regularization.Tikhonov(regMesh)\n",
    "# else:\n",
    "#     reg = simpeg.Regularization.Tikhonov(m1d,mapping=mapAct)\n",
    "reg.smoothModel = False\n",
    "reg.alpha_s = 1e-8\n",
    "reg.alpha_x = 1.\n",
    "# Inversion problem\n",
    "invProb = simpeg.InvProblem.BaseInvProblem(dmis, reg, opt)\n",
    "invProb.counter = C\n",
    "# Beta cooling\n",
    "beta = simpeg.Directives.BetaSchedule()\n",
    "betaest = simpeg.Directives.BetaEstimate_ByEig(beta0_ratio=0.75)\n",
    "saveModel = simpeg.Directives.SaveModelEveryIteration()\n",
    "saveModel.fileName = 'Inversion_NoStoppingregMesh_smoothFalse'\n",
    "# Create an inversion object\n",
    "inv = simpeg.Inversion.BaseInversion(invProb, directiveList=[beta,betaest,saveModel]) \n"
   ]
  },
  {
   "cell_type": "code",
   "execution_count": 6,
   "metadata": {
    "collapsed": false,
    "scrolled": true
   },
   "outputs": [
    {
     "name": "stdout",
     "output_type": "stream",
     "text": [
      "SimPEG.InvProblem will set Regularization.mref to m0.\n",
      "SimPEG.InvProblem is setting bfgsH0 to the inverse of the eval2Deriv.\n",
      "                    ***Done using same solver as the problem***\n",
      "SimPEG.l2_DataMisfit is creating default weightings for Wd.\n",
      "SimPEG.SaveModelEveryIteration will save your models as: '###-Inversion_NoStoppingregMesh_smoothFalse.npy'\n",
      "============================ Inexact Gauss Newton ============================\n",
      "  #     beta     phi_d     phi_m       f      |proj(x-g)-x|  LS    Comment   \n",
      "-----------------------------------------------------------------------------\n",
      "   0  7.58e+05  5.84e+06  0.00e+00  5.84e+06    1.45e+06      0              \n",
      "   1  7.58e+05  6.42e+05  2.33e-04  6.43e+05    1.64e+05      0              \n",
      "   2  7.58e+05  6.95e+04  7.43e-04  7.00e+04    2.00e+04      0   Skip BFGS  \n",
      "   3  9.47e+04  9.80e+03  1.31e-03  9.92e+03    2.87e+03      0   Skip BFGS  \n",
      "   4  9.47e+04  4.94e+03  5.58e-03  5.47e+03    3.72e+02      0   Skip BFGS  \n",
      "   5  9.47e+04  4.62e+03  7.58e-03  5.33e+03    3.58e+01      0   Skip BFGS  \n",
      "   6  1.18e+04  4.61e+03  7.61e-03  4.70e+03    5.85e+02      0   Skip BFGS  \n",
      "   7  1.18e+04  3.57e+03  3.44e-02  3.97e+03    3.49e+02      0              \n",
      "   8  1.18e+04  3.27e+03  3.71e-02  3.71e+03    3.65e+02      0              \n",
      "   9  1.48e+03  3.19e+03  3.67e-02  3.24e+03    5.87e+02      0              \n",
      "  10  1.48e+03  3.11e+03  5.52e-02  3.19e+03    5.02e+02      0              \n",
      "  11  1.48e+03  3.10e+03  5.75e-02  3.18e+03    5.14e+02      2              \n",
      "  12  1.85e+02  3.09e+03  5.75e-02  3.10e+03    5.39e+02      3              \n",
      "  13  1.85e+02  3.06e+03  7.96e-02  3.07e+03    4.75e+02      0              \n",
      "  14  1.85e+02  3.06e+03  8.25e-02  3.07e+03    4.80e+02      3              \n",
      "  15  2.31e+01  3.05e+03  8.50e-02  3.05e+03    4.82e+02      4              \n",
      "  16  2.31e+01  3.04e+03  1.39e-01  3.04e+03    4.80e+02      2              \n",
      "  17  2.31e+01  3.01e+03  1.59e-01  3.01e+03    4.72e+02      2              \n",
      "  18  2.89e+00  3.01e+03  1.26e-01  3.01e+03    4.87e+02      1              \n",
      "  19  2.89e+00  2.45e+03  1.96e-01  2.45e+03    5.42e+02      1              \n",
      "  20  2.89e+00  2.11e+03  4.55e-01  2.12e+03    8.59e+02      0   Skip BFGS  \n",
      "  21  3.61e-01  1.95e+03  5.59e-01  1.95e+03    4.88e+02      0              \n",
      "  22  3.61e-01  1.72e+03  5.09e-01  1.72e+03    3.32e+02      0              \n",
      "  23  3.61e-01  1.56e+03  6.15e-01  1.56e+03    2.82e+02      0   Skip BFGS  \n",
      "  24  4.52e-02  1.49e+03  7.06e-01  1.49e+03    2.61e+02      1              \n",
      "  25  4.52e-02  1.45e+03  8.86e-01  1.45e+03    2.72e+02      3   Skip BFGS  \n",
      "  26  4.52e-02  1.41e+03  7.88e-01  1.41e+03    3.08e+02      0              \n",
      "  27  5.64e-03  1.41e+03  7.02e-01  1.41e+03    2.64e+02      0              \n",
      "  28  5.64e-03  1.27e+03  7.59e-01  1.27e+03    3.48e+02      0              \n",
      "  29  5.64e-03  9.93e+02  1.47e+00  9.93e+02    4.30e+02      1              \n",
      "  30  7.05e-04  8.33e+02  3.08e+00  8.33e+02    5.44e+02      1   Skip BFGS  \n",
      "------------------------- STOP! -------------------------\n",
      "1 : |fc-fOld| = 1.5990e+02 <= tolF*(1+|f0|) = 5.8433e+05\n",
      "0 : |xc-x_last| = 3.4554e+01 <= tolX*(1+|x0|) = 4.2689e+00\n",
      "0 : |proj(x-g)-x|    = 5.4392e+02 <= tolG          = 1.0000e-01\n",
      "0 : |proj(x-g)-x|    = 5.4392e+02 <= 1e3*eps       = 1.0000e-02\n",
      "1 : maxIter   =      30    <= iter          =     30\n",
      "------------------------- DONE! -------------------------\n"
     ]
    }
   ],
   "source": [
    "# Run the inversion, given the background model as a start.\n",
    "mopt = inv.run(m_0)"
   ]
  },
  {
   "cell_type": "code",
   "execution_count": 7,
   "metadata": {
    "collapsed": false
   },
   "outputs": [],
   "source": [
    "modList = []\n",
    "modFiles = glob('*Inversion_NoStopping.npy')\n",
    "modFiles.sort()\n",
    "for f in modFiles:\n",
    "    modList.append(np.load(f))"
   ]
  },
  {
   "cell_type": "code",
   "execution_count": 8,
   "metadata": {
    "collapsed": false
   },
   "outputs": [
    {
     "name": "stderr",
     "output_type": "stream",
     "text": [
      "/home/gudni/anaconda/lib/python2.7/site-packages/numpy/ma/core.py:2834: FutureWarning: Numpy has detected that you (may be) writing to an array returned\n",
      "by numpy.diagonal or by selecting multiple fields in a record\n",
      "array. This code will likely break in a future numpy release --\n",
      "see numpy.diagonal or arrays.indexing reference docs for details.\n",
      "The quick fix is to make an explicit copy (e.g., do\n",
      "arr.diagonal().copy() or arr[['f0','f1']].copy()).\n",
      "  if (obj.__array_interface__[\"data\"][0]\n",
      "/home/gudni/anaconda/lib/python2.7/site-packages/numpy/ma/core.py:2835: FutureWarning: Numpy has detected that you (may be) writing to an array returned\n",
      "by numpy.diagonal or by selecting multiple fields in a record\n",
      "array. This code will likely break in a future numpy release --\n",
      "see numpy.diagonal or arrays.indexing reference docs for details.\n",
      "The quick fix is to make an explicit copy (e.g., do\n",
      "arr.diagonal().copy() or arr[['f0','f1']].copy()).\n",
      "  != self.__array_interface__[\"data\"][0]):\n"
     ]
    }
   ],
   "source": [
    "%matplotlib inline\n",
    "fig = simpegmt.Utils.dataUtils.plotMT1DModelData(problem,[m_0,mopt])\n",
    "fig.supplot\n",
    "plt.show()"
   ]
  },
  {
   "cell_type": "code",
   "execution_count": 9,
   "metadata": {
    "collapsed": false
   },
   "outputs": [],
   "source": [
    "%matplotlib qt\n",
    "simpegmt.Utils.dataUtils.plotMT1DModelData(problem,modList)\n",
    "plt.show()"
   ]
  },
  {
   "cell_type": "code",
   "execution_count": 10,
   "metadata": {
    "collapsed": false
   },
   "outputs": [],
   "source": [
    "%matplotlib qt\n",
    "simpegmt.Utils.dataUtils.plotMT1DModelData(problem,modList[-3:-1])\n",
    "plt.show()"
   ]
  },
  {
   "cell_type": "code",
   "execution_count": 11,
   "metadata": {
    "collapsed": false
   },
   "outputs": [
    {
     "data": {
      "text/plain": [
       "78.694562868192662"
      ]
     },
     "execution_count": 11,
     "metadata": {},
     "output_type": "execute_result"
    }
   ],
   "source": [
    "np.linalg.norm(mopt - reg.mref)\n"
   ]
  },
  {
   "cell_type": "code",
   "execution_count": 12,
   "metadata": {
    "collapsed": false
   },
   "outputs": [
    {
     "data": {
      "text/plain": [
       "array([-6.2146081, -6.2146081, -6.2146081, -6.2146081, -6.2146081,\n",
       "       -6.2146081, -6.2146081, -6.2146081, -6.2146081, -6.2146081,\n",
       "       -6.2146081, -6.2146081, -6.2146081, -6.2146081, -6.2146081,\n",
       "       -6.2146081, -6.2146081, -6.2146081, -6.2146081, -6.2146081,\n",
       "       -6.2146081, -6.2146081, -6.2146081, -6.2146081, -6.2146081,\n",
       "       -6.2146081, -6.2146081, -6.2146081, -6.2146081, -6.2146081,\n",
       "       -6.2146081, -6.2146081, -6.2146081, -6.2146081, -6.2146081,\n",
       "       -6.2146081, -6.2146081, -6.2146081, -6.2146081, -6.2146081,\n",
       "       -6.2146081, -6.2146081, -6.2146081, -6.2146081, -6.2146081])"
      ]
     },
     "execution_count": 12,
     "metadata": {},
     "output_type": "execute_result"
    }
   ],
   "source": [
    "reg.mref"
   ]
  },
  {
   "cell_type": "code",
   "execution_count": 13,
   "metadata": {
    "collapsed": false
   },
   "outputs": [
    {
     "data": {
      "text/plain": [
       "array([ -7.62973638e+04,  -5.87387576e+04,  -4.52321375e+04,\n",
       "        -3.48424297e+04,  -2.68503468e+04,  -2.07025907e+04,\n",
       "        -1.59735476e+04,  -1.23358221e+04,  -9.53757167e+03,\n",
       "        -7.38507138e+03,  -5.72930192e+03,  -4.45563311e+03,\n",
       "        -3.47588787e+03,  -2.72223768e+03,  -2.14250677e+03,\n",
       "        -1.69655992e+03,  -1.35352387e+03,  -1.08965000e+03,\n",
       "        -8.86670089e+02,  -7.30531699e+02,  -6.10425246e+02,\n",
       "        -5.18035666e+02,  -4.46966758e+02,  -3.92298368e+02,\n",
       "        -3.50245760e+02,  -3.17897600e+02,  -2.93014400e+02,\n",
       "        -2.68131200e+02,  -2.43248000e+02,  -2.22512000e+02,\n",
       "        -2.01776000e+02,  -1.81040000e+02,  -1.63760000e+02,\n",
       "        -1.46480000e+02,  -1.29200000e+02,  -1.14800000e+02,\n",
       "        -1.00400000e+02,  -8.60000000e+01,  -7.40000000e+01,\n",
       "        -6.20000000e+01,  -5.00000000e+01,  -4.00000000e+01,\n",
       "        -3.00000000e+01,  -2.00000000e+01,  -1.00000000e+01,\n",
       "        -5.82076609e-11])"
      ]
     },
     "execution_count": 13,
     "metadata": {},
     "output_type": "execute_result"
    }
   ],
   "source": [
    "regMesh.gridN"
   ]
  },
  {
   "cell_type": "code",
   "execution_count": 14,
   "metadata": {
    "collapsed": false
   },
   "outputs": [
    {
     "data": {
      "text/plain": [
       "array([ -7.62973638e+04,  -5.87387576e+04,  -4.52321375e+04,\n",
       "        -3.48424297e+04,  -2.68503468e+04,  -2.07025907e+04,\n",
       "        -1.59735476e+04,  -1.23358221e+04,  -9.53757167e+03,\n",
       "        -7.38507138e+03,  -5.72930192e+03,  -4.45563311e+03,\n",
       "        -3.47588787e+03,  -2.72223768e+03,  -2.14250677e+03,\n",
       "        -1.69655992e+03,  -1.35352387e+03,  -1.08965000e+03,\n",
       "        -8.86670089e+02,  -7.30531699e+02,  -6.10425246e+02,\n",
       "        -5.18035666e+02,  -4.46966758e+02,  -3.92298368e+02,\n",
       "        -3.50245760e+02,  -3.17897600e+02,  -2.93014400e+02,\n",
       "        -2.68131200e+02,  -2.43248000e+02,  -2.22512000e+02,\n",
       "        -2.01776000e+02,  -1.81040000e+02,  -1.63760000e+02,\n",
       "        -1.46480000e+02,  -1.29200000e+02,  -1.14800000e+02,\n",
       "        -1.00400000e+02,  -8.60000000e+01,  -7.40000000e+01,\n",
       "        -6.20000000e+01,  -5.00000000e+01,  -4.00000000e+01,\n",
       "        -3.00000000e+01,  -2.00000000e+01,  -1.00000000e+01])"
      ]
     },
     "execution_count": 14,
     "metadata": {},
     "output_type": "execute_result"
    }
   ],
   "source": [
    "m1d.gridN[active]"
   ]
  },
  {
   "cell_type": "code",
   "execution_count": 15,
   "metadata": {
    "collapsed": false
   },
   "outputs": [],
   "source": [
    "self = reg\n",
    "r1 = self.W * ( self.mapping * (m_0) )\n",
    "r2 = self.Ws * ( self.mapping * (self.mref) )"
   ]
  },
  {
   "cell_type": "code",
   "execution_count": 16,
   "metadata": {
    "collapsed": false
   },
   "outputs": [
    {
     "data": {
      "text/plain": [
       "array([-6.2146081, -6.2146081, -6.2146081, -6.2146081, -6.2146081,\n",
       "       -6.2146081, -6.2146081, -6.2146081, -6.2146081, -6.2146081,\n",
       "       -6.2146081, -6.2146081, -6.2146081, -6.2146081, -6.2146081,\n",
       "       -6.2146081, -6.2146081, -6.2146081, -6.2146081, -6.2146081,\n",
       "       -6.2146081, -6.2146081, -6.2146081, -6.2146081, -6.2146081,\n",
       "       -6.2146081, -6.2146081, -6.2146081, -6.2146081, -6.2146081,\n",
       "       -6.2146081, -6.2146081, -6.2146081, -6.2146081, -6.2146081,\n",
       "       -6.2146081, -6.2146081, -6.2146081, -6.2146081, -6.2146081,\n",
       "       -6.2146081, -6.2146081, -6.2146081, -6.2146081, -6.2146081])"
      ]
     },
     "execution_count": 16,
     "metadata": {},
     "output_type": "execute_result"
    }
   ],
   "source": [
    "( self.mapping * (m_0) )"
   ]
  },
  {
   "cell_type": "code",
   "execution_count": 17,
   "metadata": {
    "collapsed": false
   },
   "outputs": [
    {
     "data": {
      "text/plain": [
       "<45x45 sparse matrix of type '<type 'numpy.float64'>'\n",
       "\twith 45 stored elements in Compressed Sparse Row format>"
      ]
     },
     "execution_count": 17,
     "metadata": {},
     "output_type": "execute_result"
    }
   ],
   "source": [
    "self.Ws"
   ]
  },
  {
   "cell_type": "code",
   "execution_count": 18,
   "metadata": {
    "collapsed": false
   },
   "outputs": [
    {
     "data": {
      "text/plain": [
       "<SimPEG.Maps.IdentityMap at 0x7f7c7b890390>"
      ]
     },
     "execution_count": 18,
     "metadata": {},
     "output_type": "execute_result"
    }
   ],
   "source": [
    "self.mapping"
   ]
  },
  {
   "cell_type": "code",
   "execution_count": 19,
   "metadata": {
    "collapsed": false
   },
   "outputs": [
    {
     "data": {
      "text/plain": [
       "-1.7347234759768071e-18"
      ]
     },
     "execution_count": 19,
     "metadata": {},
     "output_type": "execute_result"
    }
   ],
   "source": [
    "0.5*(r1.dot(r1)-r2.dot(r2))"
   ]
  },
  {
   "cell_type": "code",
   "execution_count": 20,
   "metadata": {
    "collapsed": false
   },
   "outputs": [
    {
     "data": {
      "text/plain": [
       "0.029467074824486239"
      ]
     },
     "execution_count": 20,
     "metadata": {},
     "output_type": "execute_result"
    }
   ],
   "source": [
    "r1.dot(r1)"
   ]
  },
  {
   "cell_type": "code",
   "execution_count": 21,
   "metadata": {
    "collapsed": false
   },
   "outputs": [
    {
     "data": {
      "text/plain": [
       "0.029467074824486243"
      ]
     },
     "execution_count": 21,
     "metadata": {},
     "output_type": "execute_result"
    }
   ],
   "source": [
    "r2.dot(r2)"
   ]
  },
  {
   "cell_type": "code",
   "execution_count": null,
   "metadata": {
    "collapsed": true
   },
   "outputs": [],
   "source": []
  }
 ],
 "metadata": {
  "kernelspec": {
   "display_name": "Python 2",
   "language": "python",
   "name": "python2"
  },
  "language_info": {
   "codemirror_mode": {
    "name": "ipython",
    "version": 2
   },
   "file_extension": ".py",
   "mimetype": "text/x-python",
   "name": "python",
   "nbconvert_exporter": "python",
   "pygments_lexer": "ipython2",
   "version": "2.7.10"
  }
 },
 "nbformat": 4,
 "nbformat_minor": 0
}
