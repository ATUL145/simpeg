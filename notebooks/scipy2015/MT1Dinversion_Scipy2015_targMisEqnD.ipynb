{
 "cells": [
  {
   "cell_type": "code",
   "execution_count": 1,
   "metadata": {
    "collapsed": false
   },
   "outputs": [],
   "source": [
    "import SimPEG as simpeg\n",
    "import simpegMT as simpegmt\n",
    "import numpy as np, os\n",
    "import matplotlib.pyplot as plt\n",
    "%matplotlib inline"
   ]
  },
  {
   "cell_type": "code",
   "execution_count": 2,
   "metadata": {
    "collapsed": false
   },
   "outputs": [],
   "source": [
    "## Setup the modelling\n",
    "# Setting up 1D mesh and conductivity models to forward model data.\n",
    "\n",
    "# Frequency\n",
    "nFreq = 31\n",
    "freqs = np.logspace(3,-3,nFreq)\n",
    "# Set mesh parameters\n",
    "ct = 20\n",
    "air = simpeg.Utils.meshTensor([(ct,16,1.4)])\n",
    "core = np.concatenate( (  np.kron(simpeg.Utils.meshTensor([(ct,10,-1.3)]),np.ones((5,))) , simpeg.Utils.meshTensor([(ct,5)]) ) )\n",
    "bot = simpeg.Utils.meshTensor([(core[0],10,-1.4)])\n",
    "x0 = -np.array([np.sum(np.concatenate((core,bot)))])\n",
    "# Make the model\n",
    "m1d = simpeg.Mesh.TensorMesh([np.concatenate((bot,core,air))], x0=x0)\n",
    "\n",
    "# Setup model varibles\n",
    "active = m1d.vectorCCx<0.\n",
    "layer1 = (m1d.vectorCCx<-500.) & (m1d.vectorCCx>=-800.)\n",
    "layer2 = (m1d.vectorCCx<-3500.) & (m1d.vectorCCx>=-5000.)\n",
    "# Set the conductivity values\n",
    "sig_half = 2e-3\n",
    "sig_air = 1e-8\n",
    "sig_layer1 = .2\n",
    "sig_layer2 = .2\n",
    "# Make the true model\n",
    "sigma_true = np.ones(m1d.nCx)*sig_air\n",
    "sigma_true[active] = sig_half\n",
    "sigma_true[layer1] = sig_layer1\n",
    "sigma_true[layer2] = sig_layer2\n",
    "# Extract the model \n",
    "m_true = np.log(sigma_true[active])\n",
    "# Make the background model\n",
    "sigma_0 = np.ones(m1d.nCx)*sig_air\n",
    "sigma_0[active] = sig_half\n",
    "m_0 = np.log(sigma_0[active])\n",
    "\n",
    "# Set the mapping\n",
    "actMap = simpeg.Maps.ActiveCells(m1d, active, np.log(1e-8), nC=m1d.nCx)\n",
    "mappingExpAct = simpeg.Maps.ExpMap(m1d) * actMap"
   ]
  },
  {
   "cell_type": "code",
   "execution_count": 3,
   "metadata": {
    "collapsed": false
   },
   "outputs": [],
   "source": [
    "## Setup the layout of the survey, set the sources and the connected receivers\n",
    "\n",
    "# Receivers \n",
    "rxList = []\n",
    "for rxType in ['z1dr','z1di']:\n",
    "    rxList.append(simpegmt.SurveyMT.RxMT(simpeg.mkvc(np.array([0.0]),2).T,rxType))\n",
    "# Source list\n",
    "srcList =[]\n",
    "for freq in freqs:\n",
    "        srcList.append(simpegmt.SurveyMT.srcMT_polxy_1Dprimary(rxList,freq))\n",
    "# Make the survey\n",
    "survey = simpegmt.SurveyMT.SurveyMT(srcList)\n",
    "survey.mtrue = m_true\n",
    "# Set the problem\n",
    "problem = simpegmt.ProblemMT1D.eForm_psField(m1d,sigmaPrimary=sigma_0,mapping=mappingExpAct)\n",
    "from pymatsolver import MumpsSolver\n",
    "problem.solver = MumpsSolver\n",
    "problem.pair(survey)"
   ]
  },
  {
   "cell_type": "code",
   "execution_count": 4,
   "metadata": {
    "collapsed": false
   },
   "outputs": [],
   "source": [
    "## Forward model observed data \n",
    "# Project the data\n",
    "std = 0.05 # 5% std\n",
    "if os.path.isfile('MT1D_dtrue.npy') and os.path.isfile('MT1D_dobs.npy'):\n",
    "    d_true = np.load('MT1D_dtrue.npy')\n",
    "    d_obs = np.load('MT1D_dobs.npy')\n",
    "else:\n",
    "    d_true = survey.dpred(m_true)\n",
    "    np.save('MT1D_dtrue.npy',d_true)\n",
    "    d_obs = d_true + std*abs(d_true)*np.random.randn(*d_true.shape)\n",
    "    np.save('MT1D_dobs.npy',d_obs)\n",
    "# Assign the dobs\n",
    "survey.dtrue = d_true\n",
    "survey.dobs = d_obs\n",
    "survey.std = np.abs(survey.dobs*std) + 0.01*np.linalg.norm(survey.dobs) #survey.dobs*0 + std\n",
    "# Assign the data weight\n",
    "survey.Wd = 1/survey.std #(abs(survey.dobs)*survey.std)"
   ]
  },
  {
   "cell_type": "code",
   "execution_count": 13,
   "metadata": {
    "collapsed": false
   },
   "outputs": [],
   "source": [
    "## Setup the inversion proceedure\n",
    "\n",
    "# Define a counter\n",
    "C =  simpeg.Utils.Counter()\n",
    "# Set the optimization\n",
    "opt = simpeg.Optimization.InexactGaussNewton(maxIter = 2)\n",
    "opt.counter = C\n",
    "opt.LSshorten = 0.5\n",
    "opt.remember('xc')\n",
    "# Data misfit\n",
    "dmis = simpeg.DataMisfit.l2_DataMisfit(survey)\n",
    "# Regularization\n",
    "# Either have to use \n",
    "if True:\n",
    "    regMesh = simpeg.Mesh.TensorMesh([m1d.hx[problem.mapping.sigmaMap.maps[-1].indActive]],m1d.x0)\n",
    "    reg = simpeg.Regularization.Tikhonov(regMesh)\n",
    "else:\n",
    "    reg = simpeg.Regularization.Tikhonov(m1d,mapping=mappingExpAct)\n",
    "reg.smoothModel = True\n",
    "reg.alpha_s = 1e-7\n",
    "reg.alpha_x = 1.\n",
    "# Inversion problem\n",
    "invProb = simpeg.InvProblem.BaseInvProblem(dmis, reg, opt)\n",
    "invProb.counter = C\n",
    "# Beta cooling\n",
    "beta = simpeg.Directives.BetaSchedule()\n",
    "betaest = simpeg.Directives.BetaEstimate_ByEig(beta0_ratio=0.75)\n",
    "targmis = simpeg.Directives.TargetMisfit()\n",
    "targmis.target = survey.nD\n",
    "saveModel = simpeg.Directives.SaveModelEveryIteration()\n",
    "saveModel.fileName = 'Inversion_TargMisEqnD_smoothTrue'\n",
    "# Create an inversion object\n",
    "inv = simpeg.Inversion.BaseInversion(invProb, directiveList=[beta,betaest,targmis]) \n"
   ]
  },
  {
   "cell_type": "code",
   "execution_count": 14,
   "metadata": {
    "collapsed": false
   },
   "outputs": [
    {
     "name": "stdout",
     "output_type": "stream",
     "text": [
      "SimPEG.InvProblem will set Regularization.mref to m0.\n",
      "SimPEG.InvProblem is setting bfgsH0 to the inverse of the eval2Deriv.\n",
      "                    ***Done using same solver as the problem***\n",
      "SimPEG.l2_DataMisfit is creating default weightings for Wd.\n",
      "============================ Inexact Gauss Newton ============================\n",
      "  #     beta     phi_d     phi_m       f      |proj(x-g)-x|  LS    Comment   \n",
      "-----------------------------------------------------------------------------\n",
      "   0  2.13e+05  2.18e+05  0.00e+00  2.18e+05    4.01e+04      0              \n",
      "   1  2.13e+05  2.50e+04  2.21e-03  2.54e+04    5.65e+03      0              \n",
      "   2  2.13e+05  3.36e+03  4.80e-03  4.38e+03    9.88e+02      0   Skip BFGS  \n",
      "------------------------- STOP! -------------------------\n",
      "1 : |fc-fOld| = 2.1054e+04 <= tolF*(1+|f0|) = 2.1833e+04\n",
      "0 : |xc-x_last| = 9.1698e+00 <= tolX*(1+|x0|) = 5.1104e+00\n",
      "0 : |proj(x-g)-x|    = 9.8763e+02 <= tolG          = 1.0000e-01\n",
      "0 : |proj(x-g)-x|    = 9.8763e+02 <= 1e3*eps       = 1.0000e-02\n",
      "1 : maxIter   =       2    <= iter          =      2\n",
      "------------------------- DONE! -------------------------\n",
      " "
     ]
    }
   ],
   "source": [
    "##### \n",
    "# Run the inversion, given the background model as a start.\n",
    "import cProfile\n",
    "%prun mopt = inv.run(m_0)"
   ]
  },
  {
   "cell_type": "code",
   "execution_count": 7,
   "metadata": {
    "collapsed": false
   },
   "outputs": [
    {
     "ename": "NameError",
     "evalue": "name 'mopt' is not defined",
     "output_type": "error",
     "traceback": [
      "\u001b[1;31m---------------------------------------------------------------------------\u001b[0m",
      "\u001b[1;31mNameError\u001b[0m                                 Traceback (most recent call last)",
      "\u001b[1;32m<ipython-input-7-915cfd00243c>\u001b[0m in \u001b[0;36m<module>\u001b[1;34m()\u001b[0m\n\u001b[0;32m      1\u001b[0m \u001b[0mget_ipython\u001b[0m\u001b[1;33m(\u001b[0m\u001b[1;33m)\u001b[0m\u001b[1;33m.\u001b[0m\u001b[0mmagic\u001b[0m\u001b[1;33m(\u001b[0m\u001b[1;34mu'matplotlib inline'\u001b[0m\u001b[1;33m)\u001b[0m\u001b[1;33m\u001b[0m\u001b[0m\n\u001b[1;32m----> 2\u001b[1;33m \u001b[0mfig\u001b[0m \u001b[1;33m=\u001b[0m \u001b[0msimpegmt\u001b[0m\u001b[1;33m.\u001b[0m\u001b[0mUtils\u001b[0m\u001b[1;33m.\u001b[0m\u001b[0mdataUtils\u001b[0m\u001b[1;33m.\u001b[0m\u001b[0mplotMT1DModelData\u001b[0m\u001b[1;33m(\u001b[0m\u001b[0mproblem\u001b[0m\u001b[1;33m,\u001b[0m\u001b[1;33m[\u001b[0m\u001b[0mm_0\u001b[0m\u001b[1;33m,\u001b[0m\u001b[0mmopt\u001b[0m\u001b[1;33m]\u001b[0m\u001b[1;33m)\u001b[0m\u001b[1;33m\u001b[0m\u001b[0m\n\u001b[0m\u001b[0;32m      3\u001b[0m \u001b[0mfig\u001b[0m\u001b[1;33m.\u001b[0m\u001b[0msuptitle\u001b[0m\u001b[1;33m(\u001b[0m\u001b[1;34m'Target - smooth true'\u001b[0m\u001b[1;33m)\u001b[0m\u001b[1;33m\u001b[0m\u001b[0m\n\u001b[0;32m      4\u001b[0m \u001b[0mplt\u001b[0m\u001b[1;33m.\u001b[0m\u001b[0mshow\u001b[0m\u001b[1;33m(\u001b[0m\u001b[1;33m)\u001b[0m\u001b[1;33m\u001b[0m\u001b[0m\n",
      "\u001b[1;31mNameError\u001b[0m: name 'mopt' is not defined"
     ]
    }
   ],
   "source": [
    "%matplotlib inline\n",
    "fig = simpegmt.Utils.dataUtils.plotMT1DModelData(problem,[m_0,mopt])\n",
    "fig.suptitle('Target - smooth true')\n",
    "plt.show()\n"
   ]
  },
  {
   "cell_type": "code",
   "execution_count": null,
   "metadata": {
    "collapsed": false
   },
   "outputs": [],
   "source": [
    "reg.alpha_xx = 0.001\n",
    "saveModel.fileName = 'Inversion_TargMisEqnD_smoothTrue_Wxx'"
   ]
  },
  {
   "cell_type": "code",
   "execution_count": null,
   "metadata": {
    "collapsed": false
   },
   "outputs": [],
   "source": [
    "%%timeit\n",
    "moptWxx = inv.run(m_0)"
   ]
  },
  {
   "cell_type": "code",
   "execution_count": null,
   "metadata": {
    "collapsed": true
   },
   "outputs": [],
   "source": [
    "moptWxx = Out[11]"
   ]
  },
  {
   "cell_type": "code",
   "execution_count": null,
   "metadata": {
    "collapsed": false
   },
   "outputs": [],
   "source": [
    "%matplotlib inline\n",
    "fig = simpegmt.Utils.dataUtils.plotMT1DModelData(problem,[m_0,moptWxx])\n",
    "fig.suptitle('Target - smooth true-Wxx as 0.001')\n",
    "plt.show()"
   ]
  },
  {
   "cell_type": "code",
   "execution_count": null,
   "metadata": {
    "collapsed": false
   },
   "outputs": [],
   "source": [
    "1/np.exp(moptWxx)"
   ]
  },
  {
   "cell_type": "code",
   "execution_count": null,
   "metadata": {
    "collapsed": true
   },
   "outputs": [],
   "source": []
  }
 ],
 "metadata": {
  "kernelspec": {
   "display_name": "Python 2",
   "language": "python",
   "name": "python2"
  }
 },
 "nbformat": 4,
 "nbformat_minor": 0
}
