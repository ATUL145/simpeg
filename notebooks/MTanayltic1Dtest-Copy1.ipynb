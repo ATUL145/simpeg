{
 "cells": [
  {
   "cell_type": "code",
   "execution_count": 1,
   "metadata": {
    "collapsed": false
   },
   "outputs": [
    {
     "name": "stdout",
     "output_type": "stream",
     "text": [
      "Populating the interactive namespace from numpy and matplotlib\n"
     ]
    }
   ],
   "source": [
    "%pylab inline"
   ]
  },
  {
   "cell_type": "code",
   "execution_count": 2,
   "metadata": {
    "collapsed": false
   },
   "outputs": [],
   "source": [
    "import SimPEG as simpeg\n",
    "import simpegMT as simpegmt\n",
    "from scipy.constants import mu_0\n",
    "\n",
    "def omega(freq):\n",
    "    \"\"\"Change frequency to angular frequency, omega\"\"\"\n",
    "    return 2.*np.pi*freq"
   ]
  },
  {
   "cell_type": "code",
   "execution_count": 115,
   "metadata": {
    "collapsed": false
   },
   "outputs": [],
   "source": [
    "#Define the mesh\n",
    "z = 100.\n",
    "hz = [(z,5,-1.5),(z,10),(z,5,1.5)]\n",
    "M = simpeg.Mesh.TensorMesh([hz],'C')\n",
    "# sig = np.zeros(M.nC) + 1e-8\n",
    "conds = [1,1e-2]\n",
    "elev = 300\n",
    "sig = np.zeros(M.nC) + conds[1]\n",
    "sig[np.logical_and(M.gridCC>-200,M.gridCC<0)] = conds[0]\n",
    "sig[M.gridCC>elev] = 1e-8\n",
    "sig[M.gridCC<-500] = 1e-1\n",
    "sig[M.gridCC<-900] = conds[1]"
   ]
  },
  {
   "cell_type": "code",
   "execution_count": 116,
   "metadata": {
    "collapsed": false
   },
   "outputs": [
    {
     "data": {
      "text/plain": [
       "array([-2478.125, -1718.75 , -1212.5  ,  -875.   ,  -650.   ,  -500.   ,\n",
       "        -400.   ,  -300.   ,  -200.   ,  -100.   ,     0.   ,   100.   ,\n",
       "         200.   ,   300.   ,   400.   ,   500.   ,   650.   ,   875.   ,\n",
       "        1212.5  ,  1718.75 ,  2478.125])"
      ]
     },
     "execution_count": 116,
     "metadata": {},
     "output_type": "execute_result"
    }
   ],
   "source": [
    "M.vectorNx"
   ]
  },
  {
   "cell_type": "code",
   "execution_count": 141,
   "metadata": {
    "collapsed": true
   },
   "outputs": [],
   "source": [
    "\n",
    "# Calculate the analytic fields\n",
    "freqs = np.logspace(4,-4,33)\n",
    "Zana = []\n",
    "for freq in freqs:\n",
    "    Ed, Eu, Hd, Hu = simpegmt.Utils.getEHfields(M,sig,freq,np.array([elev]))\n",
    "    Zana.append((Ed + Eu)/(Hd + Hu))\n",
    "ZanaArr = np.concatenate(Zana)"
   ]
  },
  {
   "cell_type": "code",
   "execution_count": 169,
   "metadata": {
    "collapsed": false
   },
   "outputs": [],
   "source": [
    "# Calculate the synthetic solution\n",
    "Zsyn = []    \n",
    "Qex = M.getInterpolationMat(np.array([elev]),'Ex')\n",
    "Qfx = M.getInterpolationMat(np.array([elev]),'Fx')\n",
    "for freq in freqs:\n",
    "    e = simpegmt.Utils.get1DEfields(M,sig,freq,sourceAmp=None)\n",
    "    h = -(M.nodalGrad*e)/(1j*omega(freq)*mu_0)\n",
    "    Zsyn.append((Qfx*e).conj()/(Qex*h).conj())\n",
    "ZsynArr = np.concatenate(Zsyn)"
   ]
  },
  {
   "cell_type": "code",
   "execution_count": 170,
   "metadata": {
    "collapsed": false
   },
   "outputs": [
    {
     "data": {
      "text/plain": [
       "(array([12]),)"
      ]
     },
     "execution_count": 170,
     "metadata": {},
     "output_type": "execute_result"
    }
   ],
   "source": [
    "np.where(freqs==10)"
   ]
  },
  {
   "cell_type": "code",
   "execution_count": 183,
   "metadata": {
    "collapsed": false
   },
   "outputs": [
    {
     "name": "stdout",
     "output_type": "stream",
     "text": [
      "(0.000197894493906+0.000181285727378j)\n",
      "[ 1.00551946+0.00563967j] [ 2776.87342066-2515.31936068j]\n"
     ]
    }
   ],
   "source": [
    "print ZsynArr[-1]\n",
    "print (Qfx*e).conj(), (Qex*h).conj()"
   ]
  },
  {
   "cell_type": "code",
   "execution_count": 171,
   "metadata": {
    "collapsed": false
   },
   "outputs": [],
   "source": [
    "def appResPhs(freq,z):\n",
    "    app_res = ((1./(8e-7*np.pi**2))/freq)*np.abs(z)**2\n",
    "    app_phs = np.arctan2(z.imag,z.real)*(180/np.pi)\n",
    "    return app_res, app_phs\n",
    "appAna_r, appAna_p = appResPhs(freqs,ZanaArr)"
   ]
  },
  {
   "cell_type": "code",
   "execution_count": 172,
   "metadata": {
    "collapsed": false
   },
   "outputs": [
    {
     "name": "stdout",
     "output_type": "stream",
     "text": [
      "[  99.9982606   100.03796243   99.63440411   99.33759941  106.29388449\n",
      "  120.23667968  122.60558712  101.23963102   70.5016044    45.28589223\n",
      "   28.43953028   17.6198611    10.84432222    6.83742416    4.62137881\n",
      "    3.61487549    3.53761463    4.30735297    5.99370277    8.77556001\n",
      "   12.87536967   18.46051811   25.52731592   33.81862185   42.83565417\n",
      "   51.95659295   60.60094607   68.35309357   75.00153541   80.50894752\n",
      "   84.9530758    88.47009307   91.21391269]\n",
      "[ 44.9980325   45.00483104  45.04645859  44.4151918   43.72907936\n",
      "  46.72033941  54.60169587  63.94626768  71.19189243  75.42083811\n",
      "  77.37907592  77.73640994  76.058035    71.73541117  64.19535734\n",
      "  53.36978096  41.16658711  30.81763511  24.08982259  20.77904552\n",
      "  19.99288987  20.90312313  22.8822938   25.46014498  28.27778379\n",
      "  31.06840674  33.65137133  35.92447275  37.84909319  39.43106457\n",
      "  40.70229309  41.70642543  42.48936455]\n"
     ]
    }
   ],
   "source": [
    "print appAna_r\n",
    "print appAna_p"
   ]
  },
  {
   "cell_type": "code",
   "execution_count": 173,
   "metadata": {
    "collapsed": false
   },
   "outputs": [],
   "source": [
    "appSyn_r, appSyn_p = appResPhs(freqs,ZsynArr)"
   ]
  },
  {
   "cell_type": "code",
   "execution_count": 174,
   "metadata": {
    "collapsed": false
   },
   "outputs": [
    {
     "name": "stdout",
     "output_type": "stream",
     "text": [
      "[ 148.47846913  175.57907495  170.44187937  154.82139762  151.64437874\n",
      "  157.04097616  142.11024881  103.42128503   66.07607566   41.13098488\n",
      "   26.10536117   16.64437152   10.50362449    6.72485409    4.58294174\n",
      "    3.60236081    3.53787296    4.31623649    6.00810219    8.793518\n",
      "   12.8970497    18.48663881   25.55782824   33.85235462   42.87059902\n",
      "   51.99052864   60.6320452    68.38024378   75.02434148   80.52754625\n",
      "   84.96791113   88.48173456   91.22293906]\n",
      "[ 24.90447028  35.50740917  43.45028334  46.88513715  48.17221695\n",
      "  52.65990261  61.40691455  69.96355574  75.14671736  77.09349558\n",
      "  77.37322373  76.95784679  75.19022669  71.03384758  63.68398281\n",
      "  53.00055411  40.91266512  30.67116253  24.02349762  20.75523371\n",
      "  19.98819197  20.90730695  22.89080611  25.4705669   28.28863141\n",
      "  31.07873966  33.66064252  35.93243359  37.85570553  39.43641995\n",
      "  40.70654829  41.709758    42.49194635]\n"
     ]
    }
   ],
   "source": [
    "print appSyn_r\n",
    "print appSyn_p"
   ]
  },
  {
   "cell_type": "code",
   "execution_count": 175,
   "metadata": {
    "collapsed": false
   },
   "outputs": [
    {
     "data": {
      "image/png": "[encoded data removed]",
      "text/plain": [
       "<matplotlib.figure.Figure at 0x7fc5b9632550>"
      ]
     },
     "metadata": {},
     "output_type": "display_data"
    }
   ],
   "source": [
    "loglog(freqs,np.abs(ZanaArr),freqs,np.abs(ZsynArr))\n",
    "gca().invert_xaxis()"
   ]
  },
  {
   "cell_type": "code",
   "execution_count": 176,
   "metadata": {
    "collapsed": false
   },
   "outputs": [
    {
     "data": {
      "image/png": "[encoded data removed]",
      "text/plain": [
       "<matplotlib.figure.Figure at 0x7fc5b8713f90>"
      ]
     },
     "metadata": {},
     "output_type": "display_data"
    }
   ],
   "source": [
    "loglog(freqs,appAna_r,'bo--',freqs,appSyn_r,'gx:')\n",
    "gca().invert_xaxis()"
   ]
  },
  {
   "cell_type": "code",
   "execution_count": 177,
   "metadata": {
    "collapsed": false
   },
   "outputs": [
    {
     "data": {
      "image/png": "[encoded data removed]",
      "text/plain": [
       "<matplotlib.figure.Figure at 0x7fc5b8c06050>"
      ]
     },
     "metadata": {},
     "output_type": "display_data"
    }
   ],
   "source": [
    "semilogx(freqs,appAna_p,'bo--',freqs,appSyn_p,'gx:')\n",
    "gca().invert_xaxis()"
   ]
  },
  {
   "cell_type": "code",
   "execution_count": null,
   "metadata": {
    "collapsed": true
   },
   "outputs": [],
   "source": []
  },
  {
   "cell_type": "code",
   "execution_count": null,
   "metadata": {
    "collapsed": true
   },
   "outputs": [],
   "source": []
  },
  {
   "cell_type": "code",
   "execution_count": null,
   "metadata": {
    "collapsed": true
   },
   "outputs": [],
   "source": []
  }
 ],
 "metadata": {
  "kernelspec": {
   "display_name": "Python 2",
   "language": "python",
   "name": "python2"
  },
  "language_info": {
   "codemirror_mode": {
    "name": "ipython",
    "version": 2
   },
   "file_extension": ".py",
   "mimetype": "text/x-python",
   "name": "python",
   "nbconvert_exporter": "python",
   "pygments_lexer": "ipython2",
   "version": "2.7.9"
  }
 },
 "nbformat": 4,
 "nbformat_minor": 0
}
