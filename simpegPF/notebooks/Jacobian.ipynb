{
 "metadata": {
  "name": ""
 },
 "nbformat": 3,
 "nbformat_minor": 0,
 "worksheets": [
  {
   "cells": [
    {
     "cell_type": "code",
     "collapsed": false,
     "input": [
      "from SimPEG import Mesh, Problem, Utils, np, sp, Tests\n",
      "from simpegPF.Magnetics import BaseMag, MagneticsDiffSecondary\n",
      "from scipy.constants import mu_0\n",
      "from simpegPF.MagAnalytics import spheremodel, CongruousMagBC\n",
      "%pylab inline"
     ],
     "language": "python",
     "metadata": {},
     "outputs": [
      {
       "output_type": "stream",
       "stream": "stdout",
       "text": [
        "Populating the interactive namespace from numpy and matplotlib\n"
       ]
      }
     ],
     "prompt_number": 3
    },
    {
     "cell_type": "code",
     "collapsed": false,
     "input": [
      "hxind = ((5,25,1.3),(21, 25.),(5,25,1.3))\n",
      "hyind = ((5,25,1.3),(21, 25.),(5,25,1.3))\n",
      "hzind = ((5,25,1.3),(20, 25.),(5,25,1.3))\n",
      "hx, hy, hz = Utils.meshTensors(hxind, hyind, hzind)\n",
      "M3 = Mesh.TensorMesh([hx, hy, hz], [-sum(hx)/2,-sum(hy)/2,-sum(hz)/2])"
     ],
     "language": "python",
     "metadata": {},
     "outputs": [],
     "prompt_number": 4
    },
    {
     "cell_type": "code",
     "collapsed": false,
     "input": [
      "import matplotlib.pyplot as plt\n",
      "hxind = ((5,25,1.3),(41, 12.5),(5,25,1.3))\n",
      "hyind = ((5,25,1.3),(41, 12.5),(5,25,1.3))\n",
      "hzind = ((5,25,1.3),(40, 12.5),(5,25,1.3))\n",
      "hx, hy, hz = Utils.meshTensors(hxind, hyind, hzind)\n",
      "mesh = Mesh.TensorMesh([hx, hy, hz], [-hx.sum()/2,-hy.sum()/2,-hz.sum()/2])\n",
      "\n",
      "chibkg = 0.001\n",
      "chiblk = 0.1\n",
      "chi = np.ones(mesh.nC)*chibkg\n",
      "sph_ind = spheremodel(mesh, 0., 0., 0., 100)\n",
      "chi[sph_ind] = chiblk\n",
      "model = BaseMag.BaseMagModel(mesh)\n",
      "mu = (1.+chi)*mu_0\n",
      "\n",
      "data = BaseMag.BaseMagData()\n",
      "data.setBackgroundField(x=1., y=1., z=0.)\n",
      "xr = np.linspace(-300, 300, 41)\n",
      "yr = np.linspace(-300, 300, 41)\n",
      "X, Y = np.meshgrid(xr, yr)\n",
      "Z = np.ones((xr.size, yr.size))*150\n",
      "rxLoc = np.c_[Utils.mkvc(X), Utils.mkvc(Y), Utils.mkvc(Z)]\n",
      "data.rxLoc = rxLoc\n",
      "\n",
      "prob = MagneticsDiffSecondary(mesh, model)\n",
      "\n",
      "prob.pair(data)\n"
     ],
     "language": "python",
     "metadata": {},
     "outputs": [],
     "prompt_number": 5
    },
    {
     "cell_type": "code",
     "collapsed": false,
     "input": [
      "phi, B = prob.fields(chi)\n",
      "# mesh.plotSlice(B, 'F', view='vec', showIt=True)\n",
      "dpred = data.dpred(chi, u=B)"
     ],
     "language": "python",
     "metadata": {},
     "outputs": [],
     "prompt_number": 4
    },
    {
     "cell_type": "code",
     "collapsed": false,
     "input": [
      "test = {'B': B, 'u': phi}"
     ],
     "language": "python",
     "metadata": {},
     "outputs": [],
     "prompt_number": 5
    },
    {
     "cell_type": "code",
     "collapsed": false,
     "input": [
      "print test['B']"
     ],
     "language": "python",
     "metadata": {},
     "outputs": [
      {
       "output_type": "stream",
       "stream": "stdout",
       "text": [
        "[ 0.001       0.00032989  0.00039923 ...,  0.          0.          0.        ]\n"
       ]
      }
     ],
     "prompt_number": 7
    },
    {
     "cell_type": "markdown",
     "metadata": {},
     "source": [
      "## ?? they are different ?"
     ]
    },
    {
     "cell_type": "code",
     "collapsed": false,
     "input": [
      "MfMui = mesh.getFaceInnerProduct(mu).diagonal()\n",
      "MfMui_test = mesh.getFaceMass(mu).diagonal()\n",
      "print np.linalg.norm(MfMui - MfMui_test)"
     ],
     "language": "python",
     "metadata": {},
     "outputs": [
      {
       "output_type": "stream",
       "stream": "stdout",
       "text": [
        "6.99232804893\n"
       ]
      }
     ],
     "prompt_number": 6
    },
    {
     "cell_type": "code",
     "collapsed": false,
     "input": [
      "plot(MfMui/MfMui_test)"
     ],
     "language": "python",
     "metadata": {},
     "outputs": [
      {
       "metadata": {},
       "output_type": "pyout",
       "prompt_number": 7,
       "text": [
        "[<matplotlib.lines.Line2D at 0x301f910>]"
       ]
      },
      {
       "metadata": {},
       "output_type": "display_data",
       "png": "[encoded data removed]",
       "text": [
        "<matplotlib.figure.Figure at 0x2d7f0d0>"
       ]
      }
     ],
     "prompt_number": 7
    },
    {
     "cell_type": "code",
     "collapsed": false,
     "input": [
      "def MfmuIfun(mu):\n",
      "    \n",
      "#     MfMui = mesh.getFaceMass(1./mu)\n",
      "    \n",
      "    MfMui = mesh.getFaceInnerProduct(1./mu)*1/3\n",
      "    # There are scaling issue for Face inner product!! and bit slower than getFaceMass\n",
      "    \n",
      "    MfMuI = 1/MfMui.diagonal()\n",
      "#     dMfMuI = Utils.sdiag(MfMuI**2)*mesh.aveF2CC.T*Utils.sdiag(mesh.vol*1./mu**2)\n",
      "    dMfMuI = Utils.sdiag(MfMuI**2)*mesh.aveF2CC.T*Utils.sdiag(mesh.vol*1./mu**2)\n",
      "    \n",
      "    return MfMuI, dMfMuI"
     ],
     "language": "python",
     "metadata": {},
     "outputs": [],
     "prompt_number": 8
    },
    {
     "cell_type": "code",
     "collapsed": false,
     "input": [
      "d_mu = 0.8*mu\n",
      "# I am not sure why it does not give us second order accuracy\n",
      "Tests.checkDerivative(MfmuIfun, mu, dx=d_mu, num=5, plotIt=False)"
     ],
     "language": "python",
     "metadata": {},
     "outputs": [
      {
       "output_type": "stream",
       "stream": "stdout",
       "text": [
        "==================== checkDerivative ====================\n",
        "iter\th\t\t|J0-Jt|\t\t|J0+h*dJ'*dx-Jt|\tOrder\n",
        "---------------------------------------------------------\n",
        "0\t1.00e-01\t7.240e-08\t\t1.904e-22\t\tnan"
       ]
      },
      {
       "output_type": "stream",
       "stream": "stdout",
       "text": [
        "\n",
        "1\t1.00e-02\t7.240e-09\t\t1.009e-22\t\t0.276"
       ]
      },
      {
       "output_type": "stream",
       "stream": "stdout",
       "text": [
        "\n",
        "2\t1.00e-03\t7.240e-10\t\t2.166e-22\t\t-0.332"
       ]
      },
      {
       "output_type": "stream",
       "stream": "stdout",
       "text": [
        "\n",
        "3\t1.00e-04\t7.240e-11\t\t9.316e-23\t\t0.366"
       ]
      },
      {
       "output_type": "stream",
       "stream": "stdout",
       "text": [
        "\n",
        "4\t1.00e-05\t7.240e-12\t\t2.209e-22\t\t-0.375"
       ]
      },
      {
       "output_type": "stream",
       "stream": "stdout",
       "text": [
        "\n",
        "========================= PASS! =========================\n",
        "You are awesome.\n",
        "\n"
       ]
      },
      {
       "metadata": {},
       "output_type": "pyout",
       "prompt_number": 9,
       "text": [
        "True"
       ]
      }
     ],
     "prompt_number": 9
    },
    {
     "cell_type": "code",
     "collapsed": false,
     "input": [
      "def derBbc(chi):\n",
      "    Bbc, const = CongruousMagBC(mesh, np.array([1., 0., 0.]), chi)\n",
      "    bc = Utils.sdiag(prob.mesh.vol)*prob.mesh.faceDiv*prob._Pout.T*Bbc    \n",
      "    dBbc = lambda x: Utils.sdiag(prob.mesh.vol)*prob.mesh.faceDiv*prob._Pout.T*const*Bbc*(np.inner(prob.mesh.vol, x))\n",
      "    return bc, dBbc"
     ],
     "language": "python",
     "metadata": {},
     "outputs": [],
     "prompt_number": 8
    },
    {
     "cell_type": "code",
     "collapsed": false,
     "input": [
      "d_chi = 0.8*chi\n",
      "# I am not sure why it does not give us second order accuracy\n",
      "Tests.checkDerivative(derBbc, chi, dx=d_chi, num=5, plotIt=False)"
     ],
     "language": "python",
     "metadata": {},
     "outputs": [
      {
       "output_type": "stream",
       "stream": "stdout",
       "text": [
        "==================== checkDerivative ====================\n",
        "iter\th\t\t|J0-Jt|\t\t|J0+h*dJ'*dx-Jt|\tOrder\n",
        "---------------------------------------------------------\n",
        "0\t1.00e-01\t2.212e+00\t\t8.604e-05\t\tnan"
       ]
      },
      {
       "output_type": "stream",
       "stream": "stdout",
       "text": [
        "\n",
        "1\t1.00e-02\t2.212e-01\t\t8.604e-07\t\t2.000"
       ]
      },
      {
       "output_type": "stream",
       "stream": "stdout",
       "text": [
        "\n",
        "2\t1.00e-03\t2.212e-02\t\t8.574e-09\t\t2.001"
       ]
      },
      {
       "output_type": "stream",
       "stream": "stdout",
       "text": [
        "\n",
        "3\t1.00e-04\t2.212e-03\t\t9.857e-11\t\t1.939"
       ]
      },
      {
       "output_type": "stream",
       "stream": "stdout",
       "text": [
        "\n",
        "4\t1.00e-05\t2.212e-04\t\t1.424e-11\t\t0.840"
       ]
      },
      {
       "output_type": "stream",
       "stream": "stdout",
       "text": [
        "\n",
        "========================= PASS! =========================\n",
        "Awesome, Seogi, just awesome.\n",
        "\n"
       ]
      },
      {
       "metadata": {},
       "output_type": "pyout",
       "prompt_number": 9,
       "text": [
        "True"
       ]
      }
     ],
     "prompt_number": 9
    },
    {
     "cell_type": "code",
     "collapsed": false,
     "input": [
      "##################\n",
      "# Test J\n",
      "##################\n",
      "\n",
      "d_chi = 0.8*chi #np.random.rand(mesh.nCz)\n",
      "d_sph_ind = spheremodel(mesh, 0., 0., -100., 50)\n",
      "d_chi[d_sph_ind] = 0.02\n",
      "\n",
      "from SimPEG.Tests import checkDerivative\n",
      "\n",
      "derChk = lambda m: [prob.data.dpred(m), lambda mx: -prob.Jvec(chi, mx)]\n",
      "print '\\n'\n",
      "passed = checkDerivative(derChk, chi, plotIt=False, dx=d_chi, num=2)\n",
      "\n",
      "\n",
      "# plt.pcolor(X, Y, dpred.reshape(X.shape, order='F'))\n",
      "\n",
      "# plt.show()"
     ],
     "language": "python",
     "metadata": {},
     "outputs": []
    }
   ],
   "metadata": {}
  }
 ]
}