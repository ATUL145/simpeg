{
 "metadata": {
  "name": ""
 },
 "nbformat": 3,
 "nbformat_minor": 0,
 "worksheets": [
  {
   "cells": [
    {
     "cell_type": "code",
     "collapsed": false,
     "input": [
      "from SimPEG import Mesh, Problem, Utils, np, sp, Tests\n",
      "from simpegPF.Magnetics import BaseMag, MagneticsDiffSecondary\n",
      "from scipy.constants import mu_0\n",
      "from simpegPF.MagAnalytics import spheremodel, CongruousMagBC\n",
      "%pylab inline"
     ],
     "language": "python",
     "metadata": {},
     "outputs": [
      {
       "output_type": "stream",
       "stream": "stdout",
       "text": [
        "Populating the interactive namespace from numpy and matplotlib\n"
       ]
      }
     ],
     "prompt_number": 15
    },
    {
     "cell_type": "code",
     "collapsed": false,
     "input": [],
     "language": "python",
     "metadata": {},
     "outputs": [],
     "prompt_number": 16
    },
    {
     "cell_type": "code",
     "collapsed": false,
     "input": [
      "import matplotlib.pyplot as plt\n",
      "# hxind = ((5,25,1.3),(41, 12.5),(5,25,1.3))\n",
      "# hyind = ((5,25,1.3),(41, 12.5),(5,25,1.3))\n",
      "# hzind = ((5,25,1.3),(40, 12.5),(5,25,1.3))\n",
      "\n",
      "hxind = ((5,25,1.3),(21, 25.),(5,25,1.3))\n",
      "hyind = ((5,25,1.3),(21, 25.),(5,25,1.3))\n",
      "hzind = ((5,25,1.3),(20, 25.),(5,25,1.3))\n",
      "\n",
      "hx, hy, hz = Utils.meshTensors(hxind, hyind, hzind)\n",
      "mesh = Mesh.TensorMesh([hx, hy, hz], [-hx.sum()/2,-hy.sum()/2,-hz.sum()/2])\n",
      "\n",
      "chibkg = 0.001\n",
      "chiblk = 0.1\n",
      "chi = np.ones(mesh.nC)*chibkg\n",
      "sph_ind = spheremodel(mesh, 0., 0., 0., 100)\n",
      "chi[sph_ind] = chiblk\n",
      "model = BaseMag.BaseMagModel(mesh)\n",
      "mu = (1.+chi)*mu_0\n",
      "\n",
      "data = BaseMag.BaseMagData()\n",
      "data.setBackgroundField(x=1., y=1., z=0.)\n",
      "xr = np.linspace(-300, 300, 41)\n",
      "yr = np.linspace(-300, 300, 41)\n",
      "X, Y = np.meshgrid(xr, yr)\n",
      "Z = np.ones((xr.size, yr.size))*150\n",
      "rxLoc = np.c_[Utils.mkvc(X), Utils.mkvc(Y), Utils.mkvc(Z)]\n",
      "data.rxLoc = rxLoc\n",
      "\n",
      "prob = MagneticsDiffSecondary(mesh, model)\n",
      "\n",
      "prob.pair(data)\n"
     ],
     "language": "python",
     "metadata": {},
     "outputs": [],
     "prompt_number": 50
    },
    {
     "cell_type": "code",
     "collapsed": false,
     "input": [
      "fields = prob.fields(chi)\n",
      "u = fields['u']\n",
      "B = fields['B']\n",
      "# mesh.plotSlice(B, 'F', view='vec', showIt=True)\n",
      "dpred = data.dpred(chi, fields)"
     ],
     "language": "python",
     "metadata": {},
     "outputs": [],
     "prompt_number": 51
    },
    {
     "cell_type": "markdown",
     "metadata": {},
     "source": [
      "## ?? they are different ?"
     ]
    },
    {
     "cell_type": "code",
     "collapsed": false,
     "input": [
      "MfMui = mesh.getFaceInnerProduct(mu).diagonal()\n",
      "MfMui_test = mesh.getFaceMass(mu).diagonal()\n",
      "print np.linalg.norm(MfMui - MfMui_test)"
     ],
     "language": "python",
     "metadata": {},
     "outputs": [
      {
       "output_type": "stream",
       "stream": "stdout",
       "text": [
        "9.55511263546\n"
       ]
      }
     ],
     "prompt_number": 52
    },
    {
     "cell_type": "code",
     "collapsed": false,
     "input": [
      "plot(MfMui/MfMui_test)"
     ],
     "language": "python",
     "metadata": {},
     "outputs": [
      {
       "metadata": {},
       "output_type": "pyout",
       "prompt_number": 53,
       "text": [
        "[<matplotlib.lines.Line2D at 0x3363350>]"
       ]
      },
      {
       "metadata": {},
       "output_type": "display_data",
       "png": "[encoded data removed]",
       "text": [
        "<matplotlib.figure.Figure at 0x1fa10d0>"
       ]
      }
     ],
     "prompt_number": 53
    },
    {
     "cell_type": "code",
     "collapsed": false,
     "input": [
      "def MfmuIfun(mu):\n",
      "    \n",
      "#     MfMui = mesh.getFaceMass(1./mu)\n",
      "    \n",
      "    MfMui = mesh.getFaceInnerProduct(1./mu)*1/3\n",
      "    # There are scaling issue for Face inner product!! and bit slower than getFaceMass\n",
      "    \n",
      "    MfMuI = 1/MfMui.diagonal()\n",
      "#     dMfMuI = Utils.sdiag(MfMuI**2)*mesh.aveF2CC.T*Utils.sdiag(mesh.vol*1./mu**2)\n",
      "    dMfMuI = Utils.sdiag(MfMuI**2)*mesh.aveF2CC.T*Utils.sdiag(mesh.vol*1./mu**2)\n",
      "    \n",
      "    return MfMuI, dMfMuI"
     ],
     "language": "python",
     "metadata": {},
     "outputs": [],
     "prompt_number": 54
    },
    {
     "cell_type": "code",
     "collapsed": false,
     "input": [
      "d_mu = 0.8*mu\n",
      "# I am not sure why it does not give us second order accuracy\n",
      "Tests.checkDerivative(MfmuIfun, mu, dx=d_mu, num=5, plotIt=False)"
     ],
     "language": "python",
     "metadata": {},
     "outputs": [
      {
       "output_type": "stream",
       "stream": "stdout",
       "text": [
        "==================== checkDerivative ====================\n",
        "iter\th\t\t|J0-Jt|\t\t|J0+h*dJ'*dx-Jt|\tOrder\n",
        "---------------------------------------------------------\n",
        "0\t1.00e-01\t4.299e-09\t\t1.152e-23\t\tnan"
       ]
      },
      {
       "output_type": "stream",
       "stream": "stdout",
       "text": [
        "\n",
        "1\t1.00e-02\t4.299e-10\t\t7.723e-24\t\t0.174"
       ]
      },
      {
       "output_type": "stream",
       "stream": "stdout",
       "text": [
        "\n",
        "2\t1.00e-03\t4.299e-11\t\t1.170e-23\t\t-0.180"
       ]
      },
      {
       "output_type": "stream",
       "stream": "stdout",
       "text": [
        "\n",
        "3\t1.00e-04\t4.299e-12\t\t8.749e-24\t\t0.126"
       ]
      },
      {
       "output_type": "stream",
       "stream": "stdout",
       "text": [
        "\n",
        "4\t1.00e-05\t4.299e-13\t\t1.107e-23\t\t-0.102"
       ]
      },
      {
       "output_type": "stream",
       "stream": "stdout",
       "text": [
        "\n",
        "========================= PASS! =========================\n",
        "Once upon a time, a happy little test passed.\n",
        "\n"
       ]
      },
      {
       "metadata": {},
       "output_type": "pyout",
       "prompt_number": 55,
       "text": [
        "True"
       ]
      }
     ],
     "prompt_number": 55
    },
    {
     "cell_type": "code",
     "collapsed": false,
     "input": [
      "def derBbc(chi):\n",
      "    Bbc, const = CongruousMagBC(mesh, np.array([1., 1., 0.]), chi)\n",
      "    bc = Utils.sdiag(prob.mesh.vol)*prob.mesh.faceDiv*prob._Pout.T*Bbc  \n",
      "    print const, np.linalg.norm(Bbc)\n",
      "    dBbc = lambda x: (Utils.sdiag(prob.mesh.vol)*(prob.mesh.faceDiv*prob._Pout.T*const*Bbc))*(np.inner(prob.mesh.vol, x)) \n",
      "    return bc, dBbc"
     ],
     "language": "python",
     "metadata": {},
     "outputs": [],
     "prompt_number": 56
    },
    {
     "cell_type": "code",
     "collapsed": false,
     "input": [
      "a, b = derBbc(chi)\n",
      "print np.linalg.norm(a), np.linalg.norm(b(chi))\n",
      "print np.linalg.norm(chi)\n",
      "print np.array([1., 1., 0.])\n",
      "print mesh"
     ],
     "language": "python",
     "metadata": {},
     "outputs": [
      {
       "output_type": "stream",
       "stream": "stdout",
       "text": [
        "7.65830184557e-07 0.0659506783728\n",
        "55.718105908 55.6914561973\n",
        "1.6089045963\n",
        "[ 1.  1.  0.]\n",
        "  ---- 3-D TensorMesh ----  \n",
        "   x0: -488.58\n",
        "   y0: -488.58\n",
        "   z0: -476.08\n",
        "  nCx: 31\n",
        "  nCy: 31\n",
        "  nCz: 30\n",
        "   hx: 71.40, 54.93, 42.25, 32.50, 23*25.00, 32.50, 42.25, 54.93, 71.40\n",
        "   hy: 71.40, 54.93, 42.25, 32.50, 23*25.00, 32.50, 42.25, 54.93, 71.40\n",
        "   hz: 71.40, 54.93, 42.25, 32.50, 22*25.00, 32.50, 42.25, 54.93, 71.40\n"
       ]
      }
     ],
     "prompt_number": 57
    },
    {
     "cell_type": "code",
     "collapsed": false,
     "input": [
      "d_chi = 0.8*chi\n",
      "# I am not sure why it does not give us second order accuracy\n",
      "Tests.checkDerivative(derBbc, chi, dx=d_chi, num=5, plotIt=False)"
     ],
     "language": "python",
     "metadata": {},
     "outputs": [
      {
       "output_type": "stream",
       "stream": "stdout",
       "text": [
        "==================== checkDerivative ====================\n",
        "iter\th\t\t|J0-Jt|\t\t|J0+h*dJ'*dx-Jt|\tOrder\n",
        "---------------------------------------------------------\n",
        "7.65830184557e-07"
       ]
      },
      {
       "output_type": "stream",
       "stream": "stdout",
       "text": [
        " 0.0659506783728\n",
        "7.0907489096e-07"
       ]
      },
      {
       "output_type": "stream",
       "stream": "stdout",
       "text": [
        " 0.0712240073538\n",
        "0\t1.00e-01\t4.455e+00\t\t1.705e-04\t\tnan\n",
        "7.59749260143e-07"
       ]
      },
      {
       "output_type": "stream",
       "stream": "stdout",
       "text": [
        " 0.0664780294308\n",
        "1\t1.00e-02\t4.455e-01\t\t1.705e-06\t\t2.000\n",
        "7.65217717349e-07"
       ]
      },
      {
       "output_type": "stream",
       "stream": "stdout",
       "text": [
        " 0.0660034136602\n",
        "2\t1.00e-03\t4.455e-02\t\t1.706e-08\t\t2.000\n",
        "7.65768893742e-07"
       ]
      },
      {
       "output_type": "stream",
       "stream": "stdout",
       "text": [
        " 0.0659559519034\n",
        "3\t1.00e-04\t4.455e-03\t\t1.749e-10\t\t1.989\n",
        "7.65824055034e-07"
       ]
      },
      {
       "output_type": "stream",
       "stream": "stdout",
       "text": [
        " 0.0659512057259\n",
        "4\t1.00e-05\t4.455e-04\t\t2.506e-12\t\t1.844\n",
        "========================= PASS! =========================\n",
        "The test be workin!\n",
        "\n"
       ]
      },
      {
       "metadata": {},
       "output_type": "pyout",
       "prompt_number": 58,
       "text": [
        "True"
       ]
      }
     ],
     "prompt_number": 58
    },
    {
     "cell_type": "code",
     "collapsed": false,
     "input": [],
     "language": "python",
     "metadata": {},
     "outputs": []
    }
   ],
   "metadata": {}
  }
 ]
}